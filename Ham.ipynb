{
 "cells": [
  {
   "cell_type": "code",
   "execution_count": 1,
   "metadata": {
    "collapsed": false
   },
   "outputs": [],
   "source": [
    "import numpy as np\n",
    "import scipy as sp\n",
    "import matplotlib.pyplot as plt\n",
    "%matplotlib inline"
   ]
  },
  {
   "cell_type": "code",
   "execution_count": 2,
   "metadata": {
    "collapsed": false,
    "scrolled": true
   },
   "outputs": [
    {
     "name": "stdout",
     "output_type": "stream",
     "text": [
      "[[  6.22394925e-28   1.45849188e-29]\n",
      " [  1.45849188e-29  -6.22394925e-28]]\n",
      "<class 'numpy.ndarray'>\n"
     ]
    }
   ],
   "source": [
    "hbar=1.054e-34\n",
    "k=6.283/1064e-9\n",
    "k2=k**2\n",
    "hbar2=hbar**2\n",
    "m=40*1.66e-27\n",
    "Er=(hbar2*k2)/(2*m)\n",
    "s=5\n",
    "Omega=s*Er\n",
    "\n",
    "H = hbar*k*np.array([[1,0],[0,-1]])+Omega*np.array([[0,1],[1,0]])\n",
    "print(H)\n",
    "print(type(H))"
   ]
  },
  {
   "cell_type": "code",
   "execution_count": 3,
   "metadata": {
    "collapsed": false
   },
   "outputs": [
    {
     "name": "stdout",
     "output_type": "stream",
     "text": [
      "[  6.22565790e-28  -6.22565790e-28]\n",
      "[[ 0.99993138 -0.01171436]\n",
      " [ 0.01171436  0.99993138]]\n"
     ]
    }
   ],
   "source": [
    "ev=np.linalg.eig(H)\n",
    "print(ev[0])\n",
    "print(ev[1])\n",
    "e_val = ev[0]\n",
    "e_vec = ev[1]\n",
    "\n"
   ]
  },
  {
   "cell_type": "code",
   "execution_count": 4,
   "metadata": {
    "collapsed": false
   },
   "outputs": [
    {
     "data": {
      "text/plain": [
       "<matplotlib.colorbar.Colorbar at 0x10f640da0>"
      ]
     },
     "execution_count": 4,
     "metadata": {},
     "output_type": "execute_result"
    },
    {
     "data": {
      "image/png": "[encoded data removed]",
      "text/plain": [
       "<matplotlib.figure.Figure at 0x10d020e10>"
      ]
     },
     "metadata": {},
     "output_type": "display_data"
    }
   ],
   "source": [
    "plt.imshow(H, interpolation='nearest', cmap='gray')\n",
    "plt.colorbar()"
   ]
  },
  {
   "cell_type": "code",
   "execution_count": 17,
   "metadata": {
    "collapsed": false
   },
   "outputs": [
    {
     "name": "stdout",
     "output_type": "stream",
     "text": [
      "[[  1.86718477e-19   1.45849188e-29]\n",
      " [  1.45849188e-29  -1.86718477e-19]]\n"
     ]
    }
   ],
   "source": [
    "hbar=1.054e-34\n",
    "k=6.283/1064e-9\n",
    "k2=k**2\n",
    "hbar2=hbar**2\n",
    "m=40*1.66e-27\n",
    "Er=(hbar2*k2)/(2*m)\n",
    "s=1\n",
    "Omega=s*Er\n",
    "def ham(hbar,k,s,Er):\n",
    "    H = hbar*k*3e8*np.matrix([[1,0],[0,-1]])+s*Er*np.matrix([[0,1],[1,0]])\n",
    "    return H\n",
    "\n",
    "print(ham(hbar,k,5, Er))"
   ]
  },
  {
   "cell_type": "code",
   "execution_count": 18,
   "metadata": {
    "collapsed": false
   },
   "outputs": [
    {
     "name": "stdout",
     "output_type": "stream",
     "text": [
      "[  1.86718477e-19  -1.86718477e-19]\n"
     ]
    },
    {
     "ename": "NameError",
     "evalue": "name 'Ei' is not defined",
     "output_type": "error",
     "traceback": [
      "\u001b[0;31m---------------------------------------------------------------------------\u001b[0m",
      "\u001b[0;31mNameError\u001b[0m                                 Traceback (most recent call last)",
      "\u001b[0;32m<ipython-input-18-242e32284e39>\u001b[0m in \u001b[0;36m<module>\u001b[0;34m()\u001b[0m\n\u001b[1;32m      2\u001b[0m \u001b[0mEigenvals\u001b[0m\u001b[0;34m,\u001b[0m\u001b[0meigenvects\u001b[0m \u001b[0;34m=\u001b[0m \u001b[0mnp\u001b[0m\u001b[0;34m.\u001b[0m\u001b[0mlinalg\u001b[0m\u001b[0;34m.\u001b[0m\u001b[0meig\u001b[0m\u001b[0;34m(\u001b[0m\u001b[0mham\u001b[0m\u001b[0;34m(\u001b[0m\u001b[0mhbar\u001b[0m\u001b[0;34m,\u001b[0m\u001b[0mk\u001b[0m\u001b[0;34m,\u001b[0m\u001b[0ms\u001b[0m\u001b[0;34m,\u001b[0m\u001b[0mEr\u001b[0m\u001b[0;34m)\u001b[0m\u001b[0;34m)\u001b[0m\u001b[0;34m\u001b[0m\u001b[0m\n\u001b[1;32m      3\u001b[0m \u001b[0mprint\u001b[0m\u001b[0;34m(\u001b[0m\u001b[0mEigenvals\u001b[0m\u001b[0;34m)\u001b[0m\u001b[0;34m\u001b[0m\u001b[0m\n\u001b[0;32m----> 4\u001b[0;31m \u001b[0mprint\u001b[0m\u001b[0;34m(\u001b[0m\u001b[0mEi\u001b[0m\u001b[0;34m)\u001b[0m\u001b[0;34m\u001b[0m\u001b[0m\n\u001b[0m\u001b[1;32m      5\u001b[0m \u001b[0;34m\u001b[0m\u001b[0m\n\u001b[1;32m      6\u001b[0m \u001b[0mx\u001b[0m \u001b[0;34m=\u001b[0m \u001b[0mnp\u001b[0m\u001b[0;34m.\u001b[0m\u001b[0marange\u001b[0m\u001b[0;34m(\u001b[0m\u001b[0;36m0\u001b[0m\u001b[0;34m,\u001b[0m \u001b[0;36m5\u001b[0m\u001b[0;34m,\u001b[0m \u001b[0;36m0.1\u001b[0m\u001b[0;34m)\u001b[0m\u001b[0;34m;\u001b[0m\u001b[0;34m\u001b[0m\u001b[0m\n",
      "\u001b[0;31mNameError\u001b[0m: name 'Ei' is not defined"
     ]
    }
   ],
   "source": [
    "\n",
    "Eigenvals,eigenvects = np.linalg.eig(ham(hbar,k,s,Er))\n",
    "print(Eigenvals)\n",
    "print(Ei)\n",
    "\n",
    "x = np.arange(0, 5, 0.1);\n",
    "y = np.sin(x)\n",
    "plt.plot(x, y)"
   ]
  },
  {
   "cell_type": "code",
   "execution_count": 19,
   "metadata": {
    "collapsed": false
   },
   "outputs": [
    {
     "name": "stdout",
     "output_type": "stream",
     "text": [
      "[  1.86718477e-19  -1.86718477e-19]\n",
      "[  1.86718477e-19  -1.86718477e-19]\n",
      "[  3.46340486e-19  -3.46340486e-19]\n"
     ]
    }
   ],
   "source": [
    "print(np.linalg.eig(ham(hbar,k,1,Er))[0])\n",
    "print(np.linalg.eig(ham(hbar,k,100,Er))[0])\n",
    "print(np.linalg.eig(ham(hbar,k,1e11,Er))[0])"
   ]
  },
  {
   "cell_type": "code",
   "execution_count": 16,
   "metadata": {
    "collapsed": false
   },
   "outputs": [
    {
     "data": {
      "text/plain": [
       "1.8671847744360903e-19"
      ]
     },
     "execution_count": 16,
     "metadata": {},
     "output_type": "execute_result"
    }
   ],
   "source": [
    "hbar*3e8*k"
   ]
  },
  {
   "cell_type": "code",
   "execution_count": null,
   "metadata": {
    "collapsed": true
   },
   "outputs": [],
   "source": []
  }
 ],
 "metadata": {
  "anaconda-cloud": {},
  "kernelspec": {
   "display_name": "Python [default]",
   "language": "python",
   "name": "python3"
  },
  "language_info": {
   "codemirror_mode": {
    "name": "ipython",
    "version": 3
   },
   "file_extension": ".py",
   "mimetype": "text/x-python",
   "name": "python",
   "nbconvert_exporter": "python",
   "pygments_lexer": "ipython3",
   "version": "3.5.2"
  }
 },
 "nbformat": 4,
 "nbformat_minor": 1
}
