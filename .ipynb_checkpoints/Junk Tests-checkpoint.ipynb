{
 "cells": [
  {
   "cell_type": "code",
   "execution_count": 2,
   "metadata": {},
   "outputs": [],
   "source": [
    "### Beginning of jupyter notebook\n",
    "# Housekeeping\n",
    "import os.path, sys\n",
    "# Matplotlib backend interactive\n",
    "#import matplotlib\n",
    "#matplotlib.use('nbagg')\n",
    "# Matplotlib backend static\n",
    "%matplotlib inline\n",
    "# Imports\n",
    "import numpy as np\n",
    "import pandas as pd\n",
    "import matplotlib.pyplot as plt\n",
    "import therpy as tp"
   ]
  },
  {
   "cell_type": "markdown",
   "metadata": {},
   "source": [
    "## Numpy sqrt nan and inf"
   ]
  },
  {
   "cell_type": "code",
   "execution_count": 3,
   "metadata": {},
   "outputs": [
    {
     "name": "stdout",
     "output_type": "stream",
     "text": [
      "Inside 0.649519052838329\n",
      "Border 0.0\n",
      "Outside (-5.195740233920974e-25-2.8284292459063577e-09j)\n",
      "Outside Real -5.195740233920974e-25\n"
     ]
    }
   ],
   "source": [
    "def Thomas_Fermi_harmonic(r, r0, rmax, amp):\n",
    "    return amp * (1-((r-r0)/rmax)**2)**(3/2)\n",
    "\n",
    "inside = Thomas_Fermi_harmonic(0.5, 0, 1, 1)\n",
    "border = Thomas_Fermi_harmonic(1, 0, 1, 1)\n",
    "outside = Thomas_Fermi_harmonic(1.000001, 0, 1, 1)\n",
    "\n",
    "print('Inside {}'.format(inside))\n",
    "print('Border {}'.format(border))\n",
    "print('Outside {}'.format(outside))\n",
    "print('Outside Real {}'.format( np.real(outside) ))"
   ]
  },
  {
   "cell_type": "code",
   "execution_count": 7,
   "metadata": {},
   "outputs": [],
   "source": []
  },
  {
   "cell_type": "code",
   "execution_count": 16,
   "metadata": {},
   "outputs": [
    {
     "data": {
      "text/plain": [
       "19770.151336247658"
      ]
     },
     "execution_count": 16,
     "metadata": {},
     "output_type": "execute_result"
    }
   ],
   "source": [
    "cst = tp.cst()\n",
    "cst.trapw * cst.mass / cst.hbar * 1.39e-6"
   ]
  },
  {
   "cell_type": "code",
   "execution_count": 12,
   "metadata": {},
   "outputs": [
    {
     "data": {
      "text/plain": [
       "8483090981.665755"
      ]
     },
     "execution_count": 12,
     "metadata": {},
     "output_type": "execute_result"
    }
   ],
   "source": [
    "cst.twopi * cst.hbar / (cst.trapw * cst.mass * (6.7347e-13)) * (1.39e-6)/(cst.sigma0/2)"
   ]
  },
  {
   "cell_type": "code",
   "execution_count": 11,
   "metadata": {},
   "outputs": [
    {
     "data": {
      "text/plain": [
       "'e'"
      ]
     },
     "execution_count": 11,
     "metadata": {},
     "output_type": "execute_result"
    }
   ],
   "source": [
    "x = [True, True, True, True, False]\n",
    "y = ['a','b','c','d','e']\n",
    "x = np.array(x)\n",
    "y = np.array(y)\n",
    "np.all(np.logical_not(x))\n",
    "y[np.logical_not(x)][0]"
   ]
  },
  {
   "cell_type": "code",
   "execution_count": 14,
   "metadata": {},
   "outputs": [
    {
     "data": {
      "text/plain": [
       "str"
      ]
     },
     "execution_count": 14,
     "metadata": {},
     "output_type": "execute_result"
    }
   ],
   "source": [
    "type('awdfasd' + 'adf')"
   ]
  },
  {
   "cell_type": "markdown",
   "metadata": {
    "collapsed": true
   },
   "source": [
    "# Scipy Image Rotation and norm"
   ]
  },
  {
   "cell_type": "code",
   "execution_count": 32,
   "metadata": {},
   "outputs": [],
   "source": [
    "from scipy.misc import imrotate"
   ]
  },
  {
   "cell_type": "code",
   "execution_count": 39,
   "metadata": {},
   "outputs": [
    {
     "data": {
      "image/png": "[encoded data removed]",
      "text/plain": [
       "<matplotlib.figure.Figure at 0x12018e6a0>"
      ]
     },
     "metadata": {},
     "output_type": "display_data"
    },
    {
     "data": {
      "text/plain": [
       "<matplotlib.colorbar.Colorbar at 0x11fd97ef0>"
      ]
     },
     "execution_count": 39,
     "metadata": {},
     "output_type": "execute_result"
    },
    {
     "data": {
      "image/png": "[encoded data removed]",
      "text/plain": [
       "<matplotlib.figure.Figure at 0x12021a5f8>"
      ]
     },
     "metadata": {},
     "output_type": "display_data"
    }
   ],
   "source": [
    "x = np.arange(15)\n",
    "x, y = np.meshgrid(x, x)\n",
    "z = np.int64(np.sin(x) * np.cos(y) * 100)\n",
    "plt.imshow(z)\n",
    "plt.colorbar()\n",
    "plt.show()\n",
    "\n",
    "z_r = imrotate(z, 0.0)\n",
    "plt.imshow(z_r)\n",
    "plt.colorbar()"
   ]
  },
  {
   "cell_type": "code",
   "execution_count": 41,
   "metadata": {},
   "outputs": [],
   "source": [
    "from skimage.transform import rotate"
   ]
  },
  {
   "cell_type": "code",
   "execution_count": 47,
   "metadata": {},
   "outputs": [
    {
     "data": {
      "image/png": "[encoded data removed]",
      "text/plain": [
       "<matplotlib.figure.Figure at 0x12144a5c0>"
      ]
     },
     "metadata": {},
     "output_type": "display_data"
    },
    {
     "data": {
      "text/plain": [
       "<matplotlib.colorbar.Colorbar at 0x1212a05c0>"
      ]
     },
     "execution_count": 47,
     "metadata": {},
     "output_type": "execute_result"
    },
    {
     "data": {
      "image/png": "[encoded data removed]",
      "text/plain": [
       "<matplotlib.figure.Figure at 0x120489d68>"
      ]
     },
     "metadata": {},
     "output_type": "display_data"
    }
   ],
   "source": [
    "x = np.arange(15)\n",
    "x, y = np.meshgrid(x, x)\n",
    "z = np.sin(x) * np.cos(y) +1\n",
    "plt.imshow(z)\n",
    "plt.colorbar()\n",
    "plt.show()\n",
    "\n",
    "z_r = rotate(z, 45.0)\n",
    "plt.imshow(z_r)\n",
    "plt.colorbar()"
   ]
  },
  {
   "cell_type": "code",
   "execution_count": null,
   "metadata": {
    "collapsed": true
   },
   "outputs": [],
   "source": [
    "skimage.transform.rotate"
   ]
  }
 ],
 "metadata": {
  "anaconda-cloud": {},
  "kernelspec": {
   "display_name": "Python 3",
   "language": "python",
   "name": "python3"
  },
  "language_info": {
   "codemirror_mode": {
    "name": "ipython",
    "version": 3
   },
   "file_extension": ".py",
   "mimetype": "text/x-python",
   "name": "python",
   "nbconvert_exporter": "python",
   "pygments_lexer": "ipython3",
   "version": "3.6.1"
  },
  "toc": {
   "nav_menu": {},
   "number_sections": true,
   "sideBar": true,
   "skip_h1_title": false,
   "toc_cell": false,
   "toc_position": {},
   "toc_section_display": "block",
   "toc_window_display": false
  }
 },
 "nbformat": 4,
 "nbformat_minor": 1
}
