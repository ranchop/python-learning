{
 "cells": [
  {
   "cell_type": "code",
   "execution_count": null,
   "metadata": {},
   "outputs": [],
   "source": [
    "from matplotlib import rc, rcParams\n",
    "\n",
    "# Setup Matplotlib for PRA style figures\n",
    "\n",
    "rcParams['axes.labelsize'] = 8\n",
    "rcParams['xtick.labelsize'] = 8\n",
    "rcParams['ytick.labelsize'] = 8\n",
    "rcParams['legend.fontsize'] = 8\n",
    "\n",
    "rcParams['pdf.fonttype'] = 42 # True type fonts\n",
    "rcParams['font.family'] = 'serif'\n",
    "rcParams['font.serif'] = ['Computer Modern Roman']\n",
    "rcParams['text.usetex'] = True\n",
    "rcParams['text.latex.preamble'] = [r'\\usepackage{amsmath}']\n",
    "\n",
    "rcParams['axes.linewidth'] = 0.75\n",
    "rcParams['lines.linewidth'] = 0.75\n",
    "\n",
    "rcParams['xtick.major.size'] = 3      # major tick size in points\n",
    "rcParams['xtick.minor.size'] = 2      # minor tick size in points\n",
    "rcParams['xtick.major.width'] = 0.75       # major tick width in points\n",
    "rcParams['xtick.minor.width'] = 0.75      # minor tick width in points\n",
    "\n",
    "rcParams['ytick.major.size'] = 3      # major tick size in points\n",
    "rcParams['ytick.minor.size'] = 2      # minor tick size in points\n",
    "rcParams['ytick.major.width'] = 0.75       # major tick width in points\n",
    "rcParams['ytick.minor.width'] = 0.75      # minor tick width in points"
   ]
  }
 ],
 "metadata": {
  "kernelspec": {
   "display_name": "Python 3",
   "language": "python",
   "name": "python3"
  },
  "language_info": {
   "codemirror_mode": {
    "name": "ipython",
    "version": 3
   },
   "file_extension": ".py",
   "mimetype": "text/x-python",
   "name": "python",
   "nbconvert_exporter": "python",
   "pygments_lexer": "ipython3",
   "version": "3.6.6"
  },
  "toc": {
   "base_numbering": 1,
   "nav_menu": {},
   "number_sections": true,
   "sideBar": true,
   "skip_h1_title": false,
   "title_cell": "Table of Contents",
   "title_sidebar": "Contents",
   "toc_cell": false,
   "toc_position": {},
   "toc_section_display": true,
   "toc_window_display": false
  }
 },
 "nbformat": 4,
 "nbformat_minor": 2
}
