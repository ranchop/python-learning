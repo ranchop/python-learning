{
 "cells": [
  {
   "cell_type": "code",
   "execution_count": 2,
   "metadata": {
    "collapsed": false
   },
   "outputs": [],
   "source": [
    "### Beginning of jupyter notebook\n",
    "# Housekeeping\n",
    "import os.path, sys\n",
    "sys.path.append(os.path.join(os.path.expanduser('~'), 'Documents', 'My Programs', 'Python Library'))\n",
    "# Matplotlib backend interactive\n",
    "#import matplotlib\n",
    "#matplotlib.use('nbagg')\n",
    "# Matplotlib backend static\n",
    "%matplotlib inline\n",
    "# Imports\n",
    "import numpy as np\n",
    "import pandas as pd\n",
    "import matplotlib.pyplot as plt\n",
    "import therpy as tp"
   ]
  },
  {
   "cell_type": "markdown",
   "metadata": {},
   "source": [
    "## Numpy sqrt nan and inf"
   ]
  },
  {
   "cell_type": "code",
   "execution_count": 3,
   "metadata": {
    "collapsed": false
   },
   "outputs": [
    {
     "name": "stdout",
     "output_type": "stream",
     "text": [
      "Inside 0.649519052838329\n",
      "Border 0.0\n",
      "Outside (-5.195740233920974e-25-2.8284292459063577e-09j)\n",
      "Outside Real -5.195740233920974e-25\n"
     ]
    }
   ],
   "source": [
    "def Thomas_Fermi_harmonic(r, r0, rmax, amp):\n",
    "    return amp * (1-((r-r0)/rmax)**2)**(3/2)\n",
    "\n",
    "inside = Thomas_Fermi_harmonic(0.5, 0, 1, 1)\n",
    "border = Thomas_Fermi_harmonic(1, 0, 1, 1)\n",
    "outside = Thomas_Fermi_harmonic(1.000001, 0, 1, 1)\n",
    "\n",
    "print('Inside {}'.format(inside))\n",
    "print('Border {}'.format(border))\n",
    "print('Outside {}'.format(outside))\n",
    "print('Outside Real {}'.format( np.real(outside) ))"
   ]
  },
  {
   "cell_type": "code",
   "execution_count": 7,
   "metadata": {
    "collapsed": false
   },
   "outputs": [],
   "source": []
  },
  {
   "cell_type": "code",
   "execution_count": 16,
   "metadata": {
    "collapsed": false
   },
   "outputs": [
    {
     "data": {
      "text/plain": [
       "19770.151336247658"
      ]
     },
     "execution_count": 16,
     "metadata": {},
     "output_type": "execute_result"
    }
   ],
   "source": [
    "cst = tp.cst()\n",
    "cst.trapw * cst.mass / cst.hbar * 1.39e-6"
   ]
  },
  {
   "cell_type": "code",
   "execution_count": 12,
   "metadata": {
    "collapsed": false
   },
   "outputs": [
    {
     "data": {
      "text/plain": [
       "8483090981.665755"
      ]
     },
     "execution_count": 12,
     "metadata": {},
     "output_type": "execute_result"
    }
   ],
   "source": [
    "cst.twopi * cst.hbar / (cst.trapw * cst.mass * (6.7347e-13)) * (1.39e-6)/(cst.sigma0/2)"
   ]
  },
  {
   "cell_type": "code",
   "execution_count": 11,
   "metadata": {
    "collapsed": false
   },
   "outputs": [
    {
     "data": {
      "text/plain": [
       "'e'"
      ]
     },
     "execution_count": 11,
     "metadata": {},
     "output_type": "execute_result"
    }
   ],
   "source": [
    "x = [True, True, True, True, False]\n",
    "y = ['a','b','c','d','e']\n",
    "x = np.array(x)\n",
    "y = np.array(y)\n",
    "np.all(np.logical_not(x))\n",
    "y[np.logical_not(x)][0]"
   ]
  },
  {
   "cell_type": "code",
   "execution_count": 14,
   "metadata": {
    "collapsed": false
   },
   "outputs": [
    {
     "data": {
      "text/plain": [
       "str"
      ]
     },
     "execution_count": 14,
     "metadata": {},
     "output_type": "execute_result"
    }
   ],
   "source": [
    "type('awdfasd' + 'adf')"
   ]
  },
  {
   "cell_type": "code",
   "execution_count": null,
   "metadata": {
    "collapsed": true
   },
   "outputs": [],
   "source": []
  }
 ],
 "metadata": {
  "anaconda-cloud": {},
  "kernelspec": {
   "display_name": "Python [default]",
   "language": "python",
   "name": "python3"
  },
  "language_info": {
   "codemirror_mode": {
    "name": "ipython",
    "version": 3
   },
   "file_extension": ".py",
   "mimetype": "text/x-python",
   "name": "python",
   "nbconvert_exporter": "python",
   "pygments_lexer": "ipython3",
   "version": "3.5.2"
  }
 },
 "nbformat": 4,
 "nbformat_minor": 0
}
