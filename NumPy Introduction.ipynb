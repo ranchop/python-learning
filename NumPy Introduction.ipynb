{
 "cells": [
  {
   "cell_type": "markdown",
   "metadata": {},
   "source": [
    "# NumPy introduction"
   ]
  },
  {
   "cell_type": "code",
   "execution_count": 1,
   "metadata": {
    "collapsed": true
   },
   "outputs": [],
   "source": [
    "import numpy as np\n",
    "import matplotlib.pyplot as plt\n",
    "\n",
    "%matplotlib inline"
   ]
  },
  {
   "cell_type": "code",
   "execution_count": 2,
   "metadata": {
    "collapsed": true
   },
   "outputs": [],
   "source": [
    "# Creating array, different types\n",
    "a = np.array([1, 2, 3, 4, 10]) # from python list, interprete dtype\n",
    "b = np.array([1,2,3,4,5],dtype=np.float64)\n",
    "c = np.array([[1,2],[3,4],[5,6]])"
   ]
  },
  {
   "cell_type": "code",
   "execution_count": 3,
   "metadata": {
    "collapsed": false
   },
   "outputs": [
    {
     "name": "stdout",
     "output_type": "stream",
     "text": [
      "int64\n",
      "float64\n",
      "[ 1  2  3  4 10]\n",
      "1 (5,) 5\n",
      "[[1 2]\n",
      " [3 4]\n",
      " [5 6]]\n",
      "2 (3, 2) 6\n"
     ]
    }
   ],
   "source": [
    "# dtype and shape\n",
    "print(a.dtype)\n",
    "print(b.dtype)\n",
    "print(a)\n",
    "print(a.ndim, a.shape, a.size)\n",
    "print(c)\n",
    "print(c.ndim, c.shape, c.size)"
   ]
  },
  {
   "cell_type": "code",
   "execution_count": 4,
   "metadata": {
    "collapsed": false
   },
   "outputs": [
    {
     "name": "stdout",
     "output_type": "stream",
     "text": [
      "[ 0.  0.  0.  0.  0.]\n",
      "[[0 0 0 0]\n",
      " [0 0 0 0]]\n",
      "[  0.    2.5   5.    7.5  10. ]\n",
      "[0 2 4 6 8]\n",
      "[[-0.35792342  1.87984034]\n",
      " [ 1.6206623   0.86733131]]\n"
     ]
    }
   ],
   "source": [
    "# Other ways of creating np arrays\n",
    "print(np.zeros(5,'d')) # 'd' is shortcut for float64\n",
    "print(np.zeros((2,4),dtype=np.int8))\n",
    "print(np.linspace(0,10,5,dtype=np.float64))\n",
    "print(np.arange(0,10,2,dtype=np.int8))\n",
    "print(np.random.standard_normal((2,2)))"
   ]
  },
  {
   "cell_type": "code",
   "execution_count": 5,
   "metadata": {
    "collapsed": false
   },
   "outputs": [
    {
     "name": "stdout",
     "output_type": "stream",
     "text": [
      "[[-0.82252608 -1.13298628  0.67696504]\n",
      " [-1.58958276 -0.36141661  0.15319632]\n",
      " [ 0.72605978 -0.24953653 -0.82433844]\n",
      " [-0.3684505  -1.11797027 -0.12760399]]\n"
     ]
    }
   ],
   "source": [
    "# Combining arrays\n",
    "a = np.random.standard_normal((2,3))\n",
    "b = np.random.standard_normal((2,3))\n",
    "\n",
    "print(np.vstack([a,b])) # there is also hstack"
   ]
  },
  {
   "cell_type": "code",
   "execution_count": 6,
   "metadata": {
    "collapsed": false
   },
   "outputs": [
    {
     "name": "stdout",
     "output_type": "stream",
     "text": [
      "[[-1.4109164  -0.4647074 ]\n",
      " [ 0.5688405   0.46760205]\n",
      " [ 0.46314554 -1.84393381]]\n"
     ]
    }
   ],
   "source": [
    "# Manipulation\n",
    "a = np.random.standard_normal((2,3))\n",
    "a = a.transpose() # Need to store it back\n",
    "print(a)"
   ]
  },
  {
   "cell_type": "code",
   "execution_count": 7,
   "metadata": {
    "collapsed": true
   },
   "outputs": [],
   "source": [
    "# Saving and loading file\n",
    "a = np.random.standard_normal(100)\n",
    "np.save('example-npsaving.npy',a)"
   ]
  },
  {
   "cell_type": "code",
   "execution_count": 8,
   "metadata": {
    "collapsed": false
   },
   "outputs": [
    {
     "data": {
      "text/plain": [
       "(100,)"
      ]
     },
     "execution_count": 8,
     "metadata": {},
     "output_type": "execute_result"
    }
   ],
   "source": [
    "# Loading\n",
    "al = np.load('example-npsaving.npy')\n",
    "al.shape"
   ]
  },
  {
   "cell_type": "markdown",
   "metadata": {},
   "source": [
    "# Operations and Math"
   ]
  },
  {
   "cell_type": "code",
   "execution_count": 9,
   "metadata": {
    "collapsed": false
   },
   "outputs": [
    {
     "data": {
      "text/plain": [
       "[<matplotlib.lines.Line2D at 0x10a0e1710>]"
      ]
     },
     "execution_count": 9,
     "metadata": {},
     "output_type": "execute_result"
    },
    {
     "data": {
      "image/png": "[encoded data removed]",
      "text/plain": [
       "<matplotlib.figure.Figure at 0x10a0e16a0>"
      ]
     },
     "metadata": {},
     "output_type": "display_data"
    }
   ],
   "source": [
    "x = np.linspace(0,10,100)\n",
    "y1 = np.sin(x)\n",
    "y2 = np.cos(x)\n",
    "plt.plot(x,y1,'b-')\n",
    "plt.plot(x,y2,'r-')"
   ]
  },
  {
   "cell_type": "code",
   "execution_count": 10,
   "metadata": {
    "collapsed": false
   },
   "outputs": [
    {
     "data": {
      "text/plain": [
       "<matplotlib.legend.Legend at 0x10f1429b0>"
      ]
     },
     "execution_count": 10,
     "metadata": {},
     "output_type": "execute_result"
    },
    {
     "data": {
      "image/png": "[encoded data removed]",
      "text/plain": [
       "<matplotlib.figure.Figure at 0x10a1ac208>"
      ]
     },
     "metadata": {},
     "output_type": "display_data"
    }
   ],
   "source": [
    "y3 = y1**2 - y2**2\n",
    "y4 = y1*y2\n",
    "plt.plot(x,y3)\n",
    "plt.plot(x,y4)\n",
    "plt.legend(['Sin^2-Cos^2','Sin*Cos'])"
   ]
  },
  {
   "cell_type": "code",
   "execution_count": 11,
   "metadata": {
    "collapsed": false
   },
   "outputs": [
    {
     "data": {
      "text/plain": [
       "1.6882473430775709"
      ]
     },
     "execution_count": 11,
     "metadata": {},
     "output_type": "execute_result"
    }
   ],
   "source": [
    "np.dot(y1,y2)"
   ]
  },
  {
   "cell_type": "markdown",
   "metadata": {},
   "source": [
    "# 2D Arrays"
   ]
  },
  {
   "cell_type": "code",
   "execution_count": 12,
   "metadata": {
    "collapsed": false
   },
   "outputs": [
    {
     "name": "stdout",
     "output_type": "stream",
     "text": [
      "[[ 0.2184158   0.28186907]\n",
      " [ 0.32849258  0.17034225]\n",
      " [ 0.47336709  0.0511493 ]]\n",
      "0.473367094638\n"
     ]
    }
   ],
   "source": [
    "vv = np.random.random((3,2))\n",
    "print(vv)\n",
    "print(vv[2,0])"
   ]
  },
  {
   "cell_type": "code",
   "execution_count": 13,
   "metadata": {
    "collapsed": false
   },
   "outputs": [
    {
     "name": "stdout",
     "output_type": "stream",
     "text": [
      "[[1, 2], [3, 4]]\n",
      "3\n"
     ]
    }
   ],
   "source": [
    "# Python analog, lists of lists\n",
    "ll = [[1,2],[3,4]]\n",
    "print(ll)\n",
    "print(ll[1][0])"
   ]
  },
  {
   "cell_type": "code",
   "execution_count": 14,
   "metadata": {
    "collapsed": false
   },
   "outputs": [
    {
     "name": "stdout",
     "output_type": "stream",
     "text": [
      "[[ 0.2184158   0.28186907]\n",
      " [ 0.32849258  0.17034225]]\n"
     ]
    }
   ],
   "source": [
    "print(vv[:2,:])"
   ]
  },
  {
   "cell_type": "markdown",
   "metadata": {},
   "source": [
    "### Meshgrid"
   ]
  },
  {
   "cell_type": "code",
   "execution_count": 40,
   "metadata": {
    "collapsed": false
   },
   "outputs": [
    {
     "data": {
      "text/plain": [
       "(512, 256)"
      ]
     },
     "execution_count": 40,
     "metadata": {},
     "output_type": "execute_result"
    }
   ],
   "source": [
    "data = np.zeros((512,256))\n",
    "x = np.arange(0,data.shape[1])\n",
    "y = np.arange(0,data.shape[0])\n",
    "cropi = np.zeros_like(data)\n",
    "[XX,YY] = np.meshgrid(x,y)\n"
   ]
  },
  {
   "cell_type": "markdown",
   "metadata": {},
   "source": [
    "# Behaviors"
   ]
  },
  {
   "cell_type": "code",
   "execution_count": 15,
   "metadata": {
    "collapsed": false
   },
   "outputs": [
    {
     "name": "stdout",
     "output_type": "stream",
     "text": [
      "[[ 0.33061312  0.59773705]\n",
      " [ 0.84955992  0.04744619]\n",
      " [ 0.64404038  0.92927382]\n",
      " [ 0.95890501  0.43464458]\n",
      " [ 0.22352026  0.55313912]]\n",
      "[[ 0.33061312]\n",
      " [ 0.64404038]\n",
      " [ 0.22352026]]\n"
     ]
    }
   ],
   "source": [
    "v = np.random.random((5,2))\n",
    "print(v)\n",
    "v2 = v[::2,:1]\n",
    "print(v2)"
   ]
  },
  {
   "cell_type": "code",
   "execution_count": 16,
   "metadata": {
    "collapsed": false
   },
   "outputs": [
    {
     "name": "stdout",
     "output_type": "stream",
     "text": [
      "[[ 0.        ]\n",
      " [ 0.64404038]\n",
      " [ 0.22352026]]\n",
      "We DIDNOT create a new copy of array!\n",
      "[[ 0.          0.59773705]\n",
      " [ 0.84955992  0.04744619]\n",
      " [ 0.64404038  0.92927382]\n",
      " [ 0.95890501  0.43464458]\n",
      " [ 0.22352026  0.55313912]]\n"
     ]
    }
   ],
   "source": [
    "v2[0] = 0\n",
    "print(v2)\n",
    "print('We DIDNOT create a new copy of array!')\n",
    "print(v)"
   ]
  },
  {
   "cell_type": "code",
   "execution_count": 17,
   "metadata": {
    "collapsed": false
   },
   "outputs": [
    {
     "name": "stdout",
     "output_type": "stream",
     "text": [
      "[[ 0.        ]\n",
      " [ 0.        ]\n",
      " [ 0.22352026]]\n",
      "Now we make a copy\n",
      "[[ 0.          0.59773705]\n",
      " [ 0.84955992  0.04744619]\n",
      " [ 0.64404038  0.92927382]\n",
      " [ 0.95890501  0.43464458]\n",
      " [ 0.22352026  0.55313912]]\n"
     ]
    }
   ],
   "source": [
    "v3 = v[::2,:1].copy()\n",
    "v3[1]=0\n",
    "print(v3)\n",
    "print('Now we make a copy')\n",
    "print(v)"
   ]
  },
  {
   "cell_type": "code",
   "execution_count": 18,
   "metadata": {
    "collapsed": false
   },
   "outputs": [
    {
     "name": "stdout",
     "output_type": "stream",
     "text": [
      "[ 0.59773705  0.84955992  0.64404038  0.92927382  0.95890501  0.55313912]\n"
     ]
    }
   ],
   "source": [
    "print(v[v>0.5])"
   ]
  },
  {
   "cell_type": "code",
   "execution_count": 19,
   "metadata": {
    "collapsed": false
   },
   "outputs": [
    {
     "name": "stdout",
     "output_type": "stream",
     "text": [
      "[ 0.29330217  0.47917494]\n",
      "[False  True False  True  True]\n",
      "[ 0.29330217  1.67654133  0.47917494  1.74868598  1.93163891]\n"
     ]
    }
   ],
   "source": [
    "v = np.random.random((5))\n",
    "print(v[[0,2]])\n",
    "bool_index = v>0.5\n",
    "print(bool_index)\n",
    "v[bool_index] = v[bool_index] + 1\n",
    "print(v)"
   ]
  },
  {
   "cell_type": "markdown",
   "metadata": {},
   "source": [
    "# Record and Datetime"
   ]
  },
  {
   "cell_type": "code",
   "execution_count": 20,
   "metadata": {
    "collapsed": true
   },
   "outputs": [],
   "source": [
    "# Record can have different kinds of dtype\n"
   ]
  },
  {
   "cell_type": "code",
   "execution_count": 21,
   "metadata": {
    "collapsed": false
   },
   "outputs": [
    {
     "name": "stdout",
     "output_type": "stream",
     "text": [
      "2016-03-21T13:34:12.900-0400\n"
     ]
    }
   ],
   "source": [
    "# Datetime objects\n",
    "t1 = np.datetime64('2016-03-21 13:34:12.9')\n",
    "print(t1)"
   ]
  },
  {
   "cell_type": "code",
   "execution_count": 22,
   "metadata": {
    "collapsed": false
   },
   "outputs": [
    {
     "name": "stdout",
     "output_type": "stream",
     "text": [
      "132192600900 milliseconds\n",
      "132192600900.0\n"
     ]
    }
   ],
   "source": [
    "# Datetime objects\n",
    "dt = t1 - np.datetime64('2012-01-12 12:24:12')\n",
    "print(dt)\n",
    "print(dt.astype(float))"
   ]
  },
  {
   "cell_type": "markdown",
   "metadata": {
    "collapsed": true
   },
   "source": [
    "# Reshape Array"
   ]
  },
  {
   "cell_type": "code",
   "execution_count": 23,
   "metadata": {
    "collapsed": false
   },
   "outputs": [
    {
     "name": "stdout",
     "output_type": "stream",
     "text": [
      "[  1.   2.   3.   4.   5.   6.   7.   8.   9.  10.]\n",
      "The 'C' way (default)\n",
      "[[  1.   2.]\n",
      " [  3.   4.]\n",
      " [  5.   6.]\n",
      " [  7.   8.]\n",
      " [  9.  10.]]\n",
      "The 'F' way\n",
      "[[  1.   6.]\n",
      " [  2.   7.]\n",
      " [  3.   8.]\n",
      " [  4.   9.]\n",
      " [  5.  10.]]\n"
     ]
    }
   ],
   "source": [
    "# Define some data\n",
    "x = np.linspace(1,10,10)\n",
    "print(x)\n",
    "\n",
    "# Reshape array - default way ('C' way)\n",
    "x_re = np.reshape(x,(5,2))\n",
    "x_re = np.reshape(x,(5,2),order='C')\n",
    "print('The \\'C\\' way (default)')\n",
    "print(x_re)\n",
    "\n",
    "x_re = np.reshape(x,(5,2),order='F')\n",
    "print('The \\'F\\' way')\n",
    "print(x_re)"
   ]
  },
  {
   "cell_type": "code",
   "execution_count": 24,
   "metadata": {
    "collapsed": false
   },
   "outputs": [
    {
     "data": {
      "text/plain": [
       "[<matplotlib.lines.Line2D at 0x10f3bba90>]"
      ]
     },
     "execution_count": 24,
     "metadata": {},
     "output_type": "execute_result"
    },
    {
     "data": {
      "image/png": "[encoded data removed]",
      "text/plain": [
       "<matplotlib.figure.Figure at 0x10ec75940>"
      ]
     },
     "metadata": {},
     "output_type": "display_data"
    }
   ],
   "source": [
    "# Sub-sampling average with Reshape and mean\n",
    "def subsampleavg_single(x,binLength=2):\n",
    "    # Deal with exception\n",
    "    if binLength < 1: return None\n",
    "    elif binLength == 1: return x\n",
    "    elif binLength >= len(x): return np.array([np.mean(x)])\n",
    "    \n",
    "    # Prepare variables\n",
    "    allowableLength = int(len(x)/binLength) * binLength\n",
    "    binArrayLength = int(len(x)/binLength)\n",
    "    \n",
    "    # Bin the array and take mean\n",
    "    x_bin = np.reshape(x[:allowableLength],(binArrayLength,binLength))\n",
    "    x_bin = np.mean(x_bin,axis=1)\n",
    "    \n",
    "    # If there are leftover elements, append it to the end\n",
    "    if allowableLength != len(x): \n",
    "        x_bin = np.append(x_bin, np.mean(x[allowableLength:]))\n",
    "    \n",
    "    # return the results\n",
    "    return x_bin\n",
    "\n",
    "def subsampleavg(*args,**kwargs):\n",
    "    pass\n",
    "\n",
    "# Define some data\n",
    "x = np.linspace(0,10,400)\n",
    "plt.plot(x,np.sin(x),'k-')\n",
    "y = np.sin(x) + np.random.normal(loc = 0, scale = 0.3, size=x.shape)\n",
    "plt.plot(x,y,'b.')\n",
    "\n",
    "# Binning Length and end value\n",
    "binLength = 20\n",
    "x_bin = subsampleavg_single(x,binLength=binLength)\n",
    "y_bin = subsampleavg_single(y,binLength=binLength)\n",
    "plt.plot(x_bin,y_bin,'ro')"
   ]
  },
  {
   "cell_type": "markdown",
   "metadata": {},
   "source": [
    "# Binning Arrays"
   ]
  },
  {
   "cell_type": "code",
   "execution_count": 25,
   "metadata": {
    "collapsed": false
   },
   "outputs": [],
   "source": [
    "# Define function for binning\n",
    "def binbyx_array(*args,**kwargs):\n",
    "    # Process inputs\n",
    "    binsarray = kwargs.get('binsarray',None)\n",
    "    binned = [None] * len(args)\n",
    "    for i,dataarray in enumerate(binned): binned[i] = np.zeros(binsarray.shape)\n",
    "\n",
    "    # Prepare variables\n",
    "    delta = ( binsarray[1] - binsarray[0] )/2\n",
    "    x = args[0]\n",
    "    \n",
    "    # Bin the arrays\n",
    "    for i,bincenter in enumerate(binsarray):\n",
    "        # Get the indices for i^th bin\n",
    "        inds = np.logical_and( x >= (bincenter-delta) , x < (bincenter+delta) )\n",
    "        \n",
    "        # Bin all dataarrays for the i^th bin\n",
    "        for j,dataarray in enumerate(args):\n",
    "            members = dataarray[inds]\n",
    "            if len(members) is 0: binned[j][i] = np.nan\n",
    "            else: binned[j][i] = np.mean(members)\n",
    "    \n",
    "    # return the data\n",
    "    return binned\n",
    "        "
   ]
  },
  {
   "cell_type": "code",
   "execution_count": 26,
   "metadata": {
    "collapsed": false,
    "scrolled": true
   },
   "outputs": [
    {
     "data": {
      "text/plain": [
       "[<matplotlib.lines.Line2D at 0x10f598390>]"
      ]
     },
     "execution_count": 26,
     "metadata": {},
     "output_type": "execute_result"
    },
    {
     "data": {
      "image/png": "[encoded data removed]",
      "text/plain": [
       "<matplotlib.figure.Figure at 0x10f335320>"
      ]
     },
     "metadata": {},
     "output_type": "display_data"
    }
   ],
   "source": [
    "# Define some data and bins\n",
    "x = np.linspace(0,3,150)\n",
    "x = x**2\n",
    "y = np.sin(x)\n",
    "plt.plot(x,y,'-')\n",
    "y += np.random.normal(scale=0.2,size=x.shape)\n",
    "plt.plot(x,y,'.')\n",
    "\n",
    "bins = np.linspace(0,9,30)\n",
    "plt.plot(bins,np.zeros(len(bins)),'.')\n",
    "\n",
    "# Binning the data with constant spacing for bins\n",
    "binsx,binsy = binbyx_array(x,y,binsarray=bins)\n",
    "plt.plot(binsx,binsy,'ko')"
   ]
  },
  {
   "cell_type": "code",
   "execution_count": null,
   "metadata": {
    "collapsed": false
   },
   "outputs": [],
   "source": []
  },
  {
   "cell_type": "code",
   "execution_count": null,
   "metadata": {
    "collapsed": true
   },
   "outputs": [],
   "source": []
  },
  {
   "cell_type": "code",
   "execution_count": null,
   "metadata": {
    "collapsed": true
   },
   "outputs": [],
   "source": []
  }
 ],
 "metadata": {
  "kernelspec": {
   "display_name": "Python 3",
   "language": "python",
   "name": "python3"
  },
  "language_info": {
   "codemirror_mode": {
    "name": "ipython",
    "version": 3
   },
   "file_extension": ".py",
   "mimetype": "text/x-python",
   "name": "python",
   "nbconvert_exporter": "python",
   "pygments_lexer": "ipython3",
   "version": "3.5.1"
  }
 },
 "nbformat": 4,
 "nbformat_minor": 0
}
