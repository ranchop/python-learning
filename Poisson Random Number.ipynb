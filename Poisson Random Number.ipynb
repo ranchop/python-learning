{
 "cells": [
  {
   "cell_type": "code",
   "execution_count": 1,
   "metadata": {
    "collapsed": true
   },
   "outputs": [],
   "source": [
    "import numpy as np\n",
    "import matplotlib.pyplot as plt\n",
    "%matplotlib inline"
   ]
  },
  {
   "cell_type": "markdown",
   "metadata": {},
   "source": [
    "# Poisson Random Numbers"
   ]
  },
  {
   "cell_type": "code",
   "execution_count": 2,
   "metadata": {
    "collapsed": false
   },
   "outputs": [
    {
     "data": {
      "image/png": "[encoded data removed]",
      "text/plain": [
       "<matplotlib.figure.Figure at 0x10d55bf60>"
      ]
     },
     "metadata": {},
     "output_type": "display_data"
    }
   ],
   "source": [
    "points = [np.random.poisson(40,10000)]\n",
    "points.append(np.random.poisson(100,10000))\n",
    "points.append(np.random.poisson(190,10000))\n",
    "histrange = [20,230]\n",
    "histrange.append(histrange[1]-histrange[0])\n",
    "for pt in points: plt.hist(pt,bins=histrange[2],range=histrange[:2]);"
   ]
  },
  {
   "cell_type": "code",
   "execution_count": 6,
   "metadata": {
    "collapsed": false
   },
   "outputs": [
    {
     "data": {
      "text/plain": [
       "array([[ 88, 550],\n",
       "       [103, 498],\n",
       "       [ 96, 477],\n",
       "       [ 80, 447],\n",
       "       [ 89, 486]])"
      ]
     },
     "execution_count": 6,
     "metadata": {},
     "output_type": "execute_result"
    }
   ],
   "source": [
    "np.random.poisson(lam=(100., 500.), size=(5, 2))"
   ]
  },
  {
   "cell_type": "code",
   "execution_count": 3,
   "metadata": {
    "collapsed": false
   },
   "outputs": [],
   "source": [
    "def absimage_shotnoise(od, count=100):\n",
    "    Ii = np.ones_like(od)\n",
    "    If = np.ones_like(od)\n",
    "    data_noisy = np.random.poisson(od)"
   ]
  },
  {
   "cell_type": "code",
   "execution_count": 5,
   "metadata": {
    "collapsed": false
   },
   "outputs": [
    {
     "data": {
      "text/plain": [
       "array([[101, 109, 118, 100, 103,  89, 102, 104,  98, 106],\n",
       "       [115,  93, 107, 105, 111, 101,  90,  80, 101,  93],\n",
       "       [ 98, 101, 116,  91, 111,  91, 102,  82,  87, 116],\n",
       "       [107,  92,  92,  90, 114,  83, 101, 102,  93,  89],\n",
       "       [103, 101, 101, 113,  93, 103,  96,  99,  93, 109],\n",
       "       [109, 110, 101,  96, 101, 101,  89, 119, 101,  99],\n",
       "       [ 84, 110,  99,  94, 105,  86, 103,  98,  89,  94],\n",
       "       [117,  99, 107, 101,  93, 123,  95,  96, 106, 113],\n",
       "       [ 93,  94, 108, 124,  89, 106, 117, 103,  99, 100],\n",
       "       [114,  91, 100, 104, 103,  95, 106, 104,  93,  84]])"
      ]
     },
     "execution_count": 5,
     "metadata": {},
     "output_type": "execute_result"
    }
   ],
   "source": [
    "np.random.poisson(np.ones((10,10))*100.0)"
   ]
  },
  {
   "cell_type": "code",
   "execution_count": 20,
   "metadata": {
    "collapsed": false
   },
   "outputs": [
    {
     "data": {
      "text/plain": [
       "0"
      ]
     },
     "execution_count": 20,
     "metadata": {},
     "output_type": "execute_result"
    }
   ],
   "source": [
    "np.random.poisson(1.5)"
   ]
  },
  {
   "cell_type": "code",
   "execution_count": null,
   "metadata": {
    "collapsed": true
   },
   "outputs": [],
   "source": []
  }
 ],
 "metadata": {
  "kernelspec": {
   "display_name": "Python 3",
   "language": "python",
   "name": "python3"
  },
  "language_info": {
   "codemirror_mode": {
    "name": "ipython",
    "version": 3
   },
   "file_extension": ".py",
   "mimetype": "text/x-python",
   "name": "python",
   "nbconvert_exporter": "python",
   "pygments_lexer": "ipython3",
   "version": "3.5.1"
  }
 },
 "nbformat": 4,
 "nbformat_minor": 0
}
