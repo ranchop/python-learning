{
 "cells": [
  {
   "cell_type": "code",
   "execution_count": 2,
   "metadata": {
    "collapsed": true
   },
   "outputs": [],
   "source": [
    "import threading as thrd\n",
    "from queue import Queue\n",
    "import time\n",
    "import therpy as tp\n",
    "import matplotlib.pyplot as plt"
   ]
  },
  {
   "cell_type": "markdown",
   "metadata": {},
   "source": [
    "- We want to allocate 50 threads for a particular program.\n",
    "- This program had 5000 tasks that need to be completed.\n",
    "- We want to have a queue of these 5000 tasks, and have the 50 threads work on these 5000 tasks until all tasks are completed."
   ]
  },
  {
   "cell_type": "code",
   "execution_count": 3,
   "metadata": {
    "collapsed": true
   },
   "outputs": [],
   "source": [
    "lock = thrd.Lock()"
   ]
  },
  {
   "cell_type": "code",
   "execution_count": 4,
   "metadata": {
    "collapsed": true
   },
   "outputs": [],
   "source": [
    "def the_task(input1):\n",
    "    # The work that needs to be done on the inputs\n",
    "    time.sleep(1) # say it takes 1 second\n",
    "    \n",
    "    # Store the resutls into variable\n",
    "    with lock:\n",
    "        print(thrd.current_thread().name, input1)"
   ]
  },
  {
   "cell_type": "code",
   "execution_count": 5,
   "metadata": {
    "collapsed": false
   },
   "outputs": [],
   "source": [
    "def queue_of_tasks_for_threads():\n",
    "    # a thread needs to work on next thread until queue is empty\n",
    "    while True:\n",
    "        work_on = work_queue.get()\n",
    "        the_task(work_on)\n",
    "        work_queue.task_done()"
   ]
  },
  {
   "cell_type": "code",
   "execution_count": 6,
   "metadata": {
    "collapsed": false
   },
   "outputs": [
    {
     "name": "stdout",
     "output_type": "stream",
     "text": [
      "Thread-5 1\n",
      "Thread-6 2\n",
      "Thread-7 3\n",
      "Thread-8 4\n",
      "Thread-10 6\n",
      "Thread-9 5\n",
      "Thread-11 7\n",
      "Thread-12 8\n",
      "Thread-13 9\n",
      "Thread-4 0\n",
      "time taken 1.01\n"
     ]
    }
   ],
   "source": [
    "start = time.time()\n",
    "\n",
    "work_queue = Queue()\n",
    "for task_num in range(10):\n",
    "    work_queue.put(task_num)\n",
    "\n",
    "threads= []\n",
    "for x in range(100):\n",
    "    t = thrd.Thread(target=queue_of_tasks_for_threads)\n",
    "    threads.append(t)\n",
    "    t.daemon = True\n",
    "    t.start()\n",
    "    \n",
    "# wait for queue to be empty\n",
    "work_queue.join()\n",
    "\n",
    "print(\"time taken {:.3}\".format(time.time()-start))"
   ]
  },
  {
   "cell_type": "code",
   "execution_count": 10,
   "metadata": {
    "collapsed": false
   },
   "outputs": [
    {
     "ename": "AttributeError",
     "evalue": "'Thread' object has no attribute '_Thread__stop'",
     "output_type": "error",
     "traceback": [
      "\u001b[0;31m---------------------------------------------------------------------------\u001b[0m",
      "\u001b[0;31mAttributeError\u001b[0m                            Traceback (most recent call last)",
      "\u001b[0;32m<ipython-input-10-c1352467f47e>\u001b[0m in \u001b[0;36m<module>\u001b[0;34m()\u001b[0m\n\u001b[0;32m----> 1\u001b[0;31m \u001b[0mthreads\u001b[0m\u001b[0;34m[\u001b[0m\u001b[0;36m3\u001b[0m\u001b[0;34m]\u001b[0m\u001b[0;34m.\u001b[0m\u001b[0m_Thread__stop\u001b[0m\u001b[0;34m(\u001b[0m\u001b[0;34m)\u001b[0m\u001b[0;34m\u001b[0m\u001b[0m\n\u001b[0m\u001b[1;32m      2\u001b[0m \u001b[0mthreads\u001b[0m\u001b[0;34m[\u001b[0m\u001b[0;36m3\u001b[0m\u001b[0;34m]\u001b[0m\u001b[0;34m.\u001b[0m\u001b[0mis_alive\u001b[0m\u001b[0;34m(\u001b[0m\u001b[0;34m)\u001b[0m\u001b[0;34m\u001b[0m\u001b[0m\n",
      "\u001b[0;31mAttributeError\u001b[0m: 'Thread' object has no attribute '_Thread__stop'"
     ]
    }
   ],
   "source": [
    "threads[3]._Thread__stop()\n",
    "threads[3].is_alive()"
   ]
  },
  {
   "cell_type": "code",
   "execution_count": 8,
   "metadata": {
    "collapsed": false
   },
   "outputs": [
    {
     "name": "stdout",
     "output_type": "stream",
     "text": [
      "Thread-14 100\n",
      "Thread-15 101\n",
      "Thread-19 105\n",
      "Thread-17 103\n",
      "Thread-18 104\n",
      "Thread-21 107\n",
      "Thread-22 108\n",
      "Thread-23 109\n",
      "Thread-24 110\n",
      "Thread-25 111\n",
      "Thread-26 112\n",
      "Thread-27 113\n",
      "Thread-28 114\n",
      "Thread-29 115\n",
      "Thread-30 116\n",
      "Thread-31 117\n",
      "Thread-32 118\n",
      "Thread-33 119\n",
      "Thread-20 106\n",
      "Thread-16 102\n"
     ]
    }
   ],
   "source": [
    "for task_num in range(100,120):\n",
    "    work_queue.put(task_num)"
   ]
  },
  {
   "cell_type": "code",
   "execution_count": null,
   "metadata": {
    "collapsed": true
   },
   "outputs": [],
   "source": []
  },
  {
   "cell_type": "code",
   "execution_count": null,
   "metadata": {
    "collapsed": true
   },
   "outputs": [],
   "source": []
  }
 ],
 "metadata": {
  "kernelspec": {
   "display_name": "Python 3",
   "language": "python",
   "name": "python3"
  },
  "language_info": {
   "codemirror_mode": {
    "name": "ipython",
    "version": 3
   },
   "file_extension": ".py",
   "mimetype": "text/x-python",
   "name": "python",
   "nbconvert_exporter": "python",
   "pygments_lexer": "ipython3",
   "version": "3.5.1"
  }
 },
 "nbformat": 4,
 "nbformat_minor": 0
}
