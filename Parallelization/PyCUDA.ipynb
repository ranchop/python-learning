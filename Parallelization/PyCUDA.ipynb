{
 "cells": [
  {
   "cell_type": "code",
   "execution_count": 1,
   "metadata": {
    "collapsed": false
   },
   "outputs": [],
   "source": [
    "import accelerate\n",
    "import numpy as np\n",
    "# import numba.cuda\n",
    "# from numbapro import vectorize, cuda\n",
    "# import math\n",
    "from timeit import default_timer as timer"
   ]
  },
  {
   "cell_type": "code",
   "execution_count": 4,
   "metadata": {
    "collapsed": false
   },
   "outputs": [
    {
     "ename": "AttributeError",
     "evalue": "module 'accelerate' has no attribute 'profiler'",
     "output_type": "error",
     "traceback": [
      "\u001b[0;31m---------------------------------------------------------------------------\u001b[0m",
      "\u001b[0;31mAttributeError\u001b[0m                            Traceback (most recent call last)",
      "\u001b[0;32m<ipython-input-4-cfb5865b4a2b>\u001b[0m in \u001b[0;36m<module>\u001b[0;34m()\u001b[0m\n\u001b[0;32m----> 1\u001b[0;31m \u001b[0maccelerate\u001b[0m\u001b[0;34m.\u001b[0m\u001b[0mprofiler\u001b[0m\u001b[0;34m\u001b[0m\u001b[0m\n\u001b[0m",
      "\u001b[0;31mAttributeError\u001b[0m: module 'accelerate' has no attribute 'profiler'"
     ]
    }
   ],
   "source": [
    "accelerate.profiler"
   ]
  },
  {
   "cell_type": "markdown",
   "metadata": {},
   "source": [
    "# GPU Information"
   ]
  },
  {
   "cell_type": "code",
   "execution_count": null,
   "metadata": {
    "collapsed": false
   },
   "outputs": [],
   "source": [
    "my_gpu = numba.cuda.get_current_device()\n",
    "print(my_gpu.name)"
   ]
  },
  {
   "cell_type": "markdown",
   "metadata": {
    "collapsed": true
   },
   "source": [
    "# Examples"
   ]
  },
  {
   "cell_type": "code",
   "execution_count": null,
   "metadata": {
    "collapsed": false
   },
   "outputs": [],
   "source": [
    "def VectorAdd(a, b, c):\n",
    "    for i in range(a.size):\n",
    "        c[i] = a[i] + b[i]\n",
    "\n",
    "@vectorize(['float32(float32, float32)'], target='parallel')\n",
    "def VectorAdd_Vectorize(a, b):\n",
    "    c = a**1.234123 + b**0.234213\n",
    "    for i in range(10):\n",
    "        c -= math.sin(c) + math.cos(c) * math.log(c) - math.exp(c)\n",
    "    return c\n",
    "\n",
    "@vectorize(['float32(float32, float32)'], target='gpu')\n",
    "def VectorAdd_Vectorize_GPU(a, b):\n",
    "    c = a**1.234123 + b**0.234213\n",
    "    for i in range(10):\n",
    "        c -= math.sin(c) + math.cos(c) * math.log(c) - math.exp(c)\n",
    "    return c"
   ]
  },
  {
   "cell_type": "code",
   "execution_count": null,
   "metadata": {
    "collapsed": false
   },
   "outputs": [],
   "source": [
    "N = int(1e7)\n",
    "A = np.ones(N, dtype=np.float32)\n",
    "B = np.ones(N, dtype=np.float32)\n",
    "C = np.zeros(N, dtype=np.float32)\n",
    "\n",
    "start = timer()\n",
    "VectorAdd(A, B, C)\n",
    "VectorAdd_time = timer() - start\n",
    "print(\"VectorAdd took {} seconds\".format(VectorAdd_time))"
   ]
  },
  {
   "cell_type": "code",
   "execution_count": null,
   "metadata": {
    "collapsed": false
   },
   "outputs": [],
   "source": [
    "N = int(32e6)\n",
    "A = np.array(np.random.uniform(N), dtype=np.float32)\n",
    "B = np.ones(N, dtype=np.float32)\n",
    "C = np.zeros(N, dtype=np.float32)"
   ]
  },
  {
   "cell_type": "code",
   "execution_count": null,
   "metadata": {
    "collapsed": false
   },
   "outputs": [],
   "source": [
    "%timeit C = VectorAdd_Vectorize(A, B)"
   ]
  },
  {
   "cell_type": "code",
   "execution_count": null,
   "metadata": {
    "collapsed": false
   },
   "outputs": [],
   "source": [
    "%timeit C = VectorAdd_Vectorize_GPU(A, B)"
   ]
  },
  {
   "cell_type": "code",
   "execution_count": null,
   "metadata": {
    "collapsed": true
   },
   "outputs": [],
   "source": []
  }
 ],
 "metadata": {
  "anaconda-cloud": {},
  "kernelspec": {
   "display_name": "Python [Root]",
   "language": "python",
   "name": "Python [Root]"
  },
  "language_info": {
   "codemirror_mode": {
    "name": "ipython",
    "version": 3
   },
   "file_extension": ".py",
   "mimetype": "text/x-python",
   "name": "python",
   "nbconvert_exporter": "python",
   "pygments_lexer": "ipython3",
   "version": "3.5.2"
  }
 },
 "nbformat": 4,
 "nbformat_minor": 0
}
