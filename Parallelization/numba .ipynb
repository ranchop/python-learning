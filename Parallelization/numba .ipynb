{
 "cells": [
  {
   "cell_type": "code",
   "execution_count": 79,
   "metadata": {
    "collapsed": true
   },
   "outputs": [],
   "source": [
    "import numpy as np\n",
    "import therpy as tp\n",
    "import timeit\n",
    "import numba\n",
    "from numba import float64\n",
    "import matplotlib.pyplot as plt\n",
    "%matplotlib inline"
   ]
  },
  {
   "cell_type": "markdown",
   "metadata": {},
   "source": [
    "# Various Scenarios for Speed Improvement"
   ]
  },
  {
   "cell_type": "markdown",
   "metadata": {},
   "source": [
    "### Complex Sqrt ==> 20x speed up"
   ]
  },
  {
   "cell_type": "code",
   "execution_count": 105,
   "metadata": {
    "collapsed": false
   },
   "outputs": [],
   "source": [
    "@numba.vectorize(nopython=True)\n",
    "def sqrt_numba(x):\n",
    "    return 0j + np.sqrt(x) if x >= 0 else 1j + np.sqrt(-x)\n",
    "\n",
    "@np.vectorize\n",
    "def sqrt_numpy(x):\n",
    "    return 0j + np.sqrt(x) if x >= 0 else 1j + np.sqrt(-x)"
   ]
  },
  {
   "cell_type": "code",
   "execution_count": 42,
   "metadata": {
    "collapsed": false
   },
   "outputs": [],
   "source": [
    "x = np.random.uniform(-1,1,1000000)\n",
    "y1 = sqrt_numba(x)\n",
    "x = np.random.uniform(-1,1,1000000)\n",
    "y2 = sqrt_numpy(x)"
   ]
  },
  {
   "cell_type": "code",
   "execution_count": 43,
   "metadata": {
    "collapsed": false
   },
   "outputs": [
    {
     "name": "stdout",
     "output_type": "stream",
     "text": [
      "100 loops, best of 3: 5.05 ms per loop\n",
      "1 loop, best of 3: 911 ms per loop\n"
     ]
    }
   ],
   "source": [
    "x = np.random.uniform(-1,1,1000000)\n",
    "%timeit sqrt_numba(x)\n",
    "x = np.random.uniform(-1,1,1000000)\n",
    "%timeit sqrt_numpy(x)"
   ]
  },
  {
   "cell_type": "markdown",
   "metadata": {},
   "source": [
    "### 2D Interpolations ==> No Difference"
   ]
  },
  {
   "cell_type": "code",
   "execution_count": 44,
   "metadata": {
    "collapsed": true
   },
   "outputs": [],
   "source": [
    "from scipy.interpolate import LinearNDInterpolator"
   ]
  },
  {
   "cell_type": "code",
   "execution_count": 64,
   "metadata": {
    "collapsed": true
   },
   "outputs": [],
   "source": [
    "x, y = np.linspace(-10,10,101), np.linspace(-10,10,101)\n",
    "x, y = np.meshgrid(x, y)\n",
    "s = 8\n",
    "z = np.exp(- (x)**2/(2*s**2) - (y)**2/(2*s**2))"
   ]
  },
  {
   "cell_type": "code",
   "execution_count": 65,
   "metadata": {
    "collapsed": false
   },
   "outputs": [
    {
     "data": {
      "text/plain": [
       "<matplotlib.image.AxesImage at 0x11e924860>"
      ]
     },
     "execution_count": 65,
     "metadata": {},
     "output_type": "execute_result"
    },
    {
     "data": {
      "image/png": "[encoded data removed]",
      "text/plain": [
       "<matplotlib.figure.Figure at 0x123a452b0>"
      ]
     },
     "metadata": {},
     "output_type": "display_data"
    }
   ],
   "source": [
    "plt.imshow(z, interpolation='nearest',cmap='gray')"
   ]
  },
  {
   "cell_type": "code",
   "execution_count": 69,
   "metadata": {
    "collapsed": true
   },
   "outputs": [],
   "source": [
    "interp = LinearNDInterpolator((x.flatten(), y.flatten()), z.flatten())"
   ]
  },
  {
   "cell_type": "code",
   "execution_count": 88,
   "metadata": {
    "collapsed": false
   },
   "outputs": [],
   "source": [
    "@numba.vectorize([float64(float64, float64)])\n",
    "def evaluate_numba(x, y):\n",
    "    return interp(x, y)\n",
    "\n",
    "@np.vectorize\n",
    "def evaluate_numpy(x, y):\n",
    "    return interp(x, y)"
   ]
  },
  {
   "cell_type": "code",
   "execution_count": 102,
   "metadata": {
    "collapsed": false
   },
   "outputs": [],
   "source": [
    "x, y = np.random.uniform(-10,10,201), np.random.uniform(-10,10,201)\n",
    "x, y = np.meshgrid(x, y)\n",
    "z1 = evaluate_numba(x,y)\n",
    "z2 = evaluate_numpy(x,y)"
   ]
  },
  {
   "cell_type": "code",
   "execution_count": 103,
   "metadata": {
    "collapsed": false
   },
   "outputs": [
    {
     "name": "stdout",
     "output_type": "stream",
     "text": [
      "1 loop, best of 3: 1.1 s per loop\n",
      "1 loop, best of 3: 1.2 s per loop\n"
     ]
    }
   ],
   "source": [
    "%timeit evaluate_numba(x,y)\n",
    "%timeit evaluate_numpy(x,y)"
   ]
  },
  {
   "cell_type": "code",
   "execution_count": null,
   "metadata": {
    "collapsed": true
   },
   "outputs": [],
   "source": []
  }
 ],
 "metadata": {
  "anaconda-cloud": {},
  "kernelspec": {
   "display_name": "Python [Root]",
   "language": "python",
   "name": "Python [Root]"
  },
  "language_info": {
   "codemirror_mode": {
    "name": "ipython",
    "version": 3
   },
   "file_extension": ".py",
   "mimetype": "text/x-python",
   "name": "python",
   "nbconvert_exporter": "python",
   "pygments_lexer": "ipython3",
   "version": "3.5.2"
  }
 },
 "nbformat": 4,
 "nbformat_minor": 0
}
