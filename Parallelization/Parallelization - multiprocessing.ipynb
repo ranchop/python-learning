{
 "cells": [
  {
   "cell_type": "code",
   "execution_count": null,
   "metadata": {
    "collapsed": true
   },
   "outputs": [],
   "source": [
    "import multiprocessing\n",
    "import time\n",
    "import queue"
   ]
  },
  {
   "cell_type": "markdown",
   "metadata": {},
   "source": [
    "# Function execution in parallel"
   ]
  },
  {
   "cell_type": "code",
   "execution_count": null,
   "metadata": {
    "collapsed": false
   },
   "outputs": [],
   "source": [
    "def f(x):\n",
    "    for i in range(2000000):\n",
    "        y = x ** 0.12312124124123\n",
    "        y = x ** 0.263407123\n",
    "    return x*x\n",
    "\n",
    "# Serial Benchmark\n",
    "start = time.time()\n",
    "for i in range(10):\n",
    "    res = f(i)\n",
    "exec_time = (time.time() - start)/10\n",
    "print(\"Serial: {:.2} seconds per execution\".format(exec_time))"
   ]
  },
  {
   "cell_type": "code",
   "execution_count": null,
   "metadata": {
    "collapsed": false
   },
   "outputs": [],
   "source": [
    "Np = 1\n",
    "Nrp = 10\n",
    "# Parallel Benchmark\n",
    "start = time.time()\n",
    "with multiprocessing.Pool(Np) as p:\n",
    "    res = p.map(f, range(Np*Nrp))\n",
    "exec_time = (time.time() - start)/(Np*Nrp)\n",
    "print(\"Parallel: {:.2} seconds per execution\".format(exec_time))"
   ]
  },
  {
   "cell_type": "code",
   "execution_count": null,
   "metadata": {
    "collapsed": false
   },
   "outputs": [],
   "source": [
    "# Uses 95% on each process\n",
    "Np = 4\n",
    "Nrp = 40\n",
    "# Parallel Benchmark\n",
    "start = time.time()\n",
    "with multiprocessing.Pool(Np) as p:\n",
    "    res = p.map(f, range(Np*Nrp))\n",
    "exec_time = (time.time() - start)/(Np*Nrp)\n",
    "print(\"Parallel: {:.2} seconds per execution\".format(exec_time))"
   ]
  },
  {
   "cell_type": "code",
   "execution_count": null,
   "metadata": {
    "collapsed": false
   },
   "outputs": [],
   "source": [
    "# Uses 98% on each process -- 98% Total CPU\n",
    "Np = 8\n",
    "Nrp = 50\n",
    "# Parallel Benchmark\n",
    "start = time.time()\n",
    "with multiprocessing.Pool(Np) as p:\n",
    "    res = p.map(f, range(Np*Nrp))\n",
    "exec_time = (time.time() - start)/(Np*Nrp)\n",
    "print(\"Parallel: {:.2} seconds per execution\".format(exec_time))"
   ]
  },
  {
   "cell_type": "code",
   "execution_count": null,
   "metadata": {
    "collapsed": false
   },
   "outputs": [],
   "source": [
    "# Uses 100% on each process -- 100% Total CPU\n",
    "Np = 11\n",
    "Nrp = 50\n",
    "# Parallel Benchmark\n",
    "start = time.time()\n",
    "with multiprocessing.Pool(Np) as p:\n",
    "    res = p.map(f, range(Np*Nrp))\n",
    "exec_time = (time.time() - start)/(Np*Nrp)\n",
    "print(\"Parallel: {:.2} seconds per execution\".format(exec_time))"
   ]
  },
  {
   "cell_type": "code",
   "execution_count": null,
   "metadata": {
    "collapsed": false
   },
   "outputs": [],
   "source": [
    "# Uses 50% on each process -- 99% Total CPU\n",
    "Np = 16\n",
    "Nrp = 20\n",
    "# Parallel Benchmark\n",
    "start = time.time()\n",
    "with multiprocessing.Pool(Np) as p:\n",
    "    res = p.map(f, range(Np*Nrp))\n",
    "exec_time = (time.time() - start)/(Np*Nrp)\n",
    "print(\"Parallel: {:.2} seconds per execution\".format(exec_time))"
   ]
  },
  {
   "cell_type": "code",
   "execution_count": null,
   "metadata": {
    "collapsed": false
   },
   "outputs": [],
   "source": [
    "# Uses 39.5% on each process -- 99.5% Total CPU\n",
    "Np = 20\n",
    "Nrp = 20\n",
    "# Parallel Benchmark\n",
    "start = time.time()\n",
    "with multiprocessing.Pool(Np) as p:\n",
    "    res = p.map(f, range(Np*Nrp))\n",
    "exec_time = (time.time() - start)/(Np*Nrp)\n",
    "print(\"Parallel: {:.2} seconds per execution\".format(exec_time))"
   ]
  },
  {
   "cell_type": "code",
   "execution_count": null,
   "metadata": {
    "collapsed": true
   },
   "outputs": [],
   "source": []
  }
 ],
 "metadata": {
  "anaconda-cloud": {},
  "kernelspec": {
   "display_name": "Python [Root]",
   "language": "python",
   "name": "Python [Root]"
  },
  "language_info": {
   "codemirror_mode": {
    "name": "ipython",
    "version": 3
   },
   "file_extension": ".py",
   "mimetype": "text/x-python",
   "name": "python",
   "nbconvert_exporter": "python",
   "pygments_lexer": "ipython3",
   "version": "3.5.2"
  }
 },
 "nbformat": 4,
 "nbformat_minor": 0
}
