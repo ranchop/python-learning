{
 "cells": [
  {
   "cell_type": "markdown",
   "metadata": {
    "collapsed": true
   },
   "source": [
    "# Functions - Definitions and uses"
   ]
  },
  {
   "cell_type": "code",
   "execution_count": 3,
   "metadata": {
    "collapsed": false
   },
   "outputs": [
    {
     "name": "stdout",
     "output_type": "stream",
     "text": [
      "1 2 3 4\n",
      "4 22 33 44\n"
     ]
    }
   ],
   "source": [
    "# definition\n",
    "def test1(one, two = 22, three = 33, four = None):\n",
    "    if four is None:\n",
    "        four = 44\n",
    "    print(one,two,three,four)\n",
    "\n",
    "# uses\n",
    "test1(1,2,3, 4)\n",
    "test1(4)"
   ]
  },
  {
   "cell_type": "code",
   "execution_count": 10,
   "metadata": {
    "collapsed": false
   },
   "outputs": [
    {
     "name": "stdout",
     "output_type": "stream",
     "text": [
      "1 22\n",
      "1 2\n",
      "3 4 5 "
     ]
    }
   ],
   "source": [
    "# Arbritrary number of arguments as a python list\n",
    "# Must be after required parameters\n",
    "def test2(one, two=22, *args):\n",
    "    print(one,two)\n",
    "    for n in args: print(n,end=' ')\n",
    "\n",
    "# uses\n",
    "test2(1)\n",
    "test2(1,2,3,4,5)"
   ]
  },
  {
   "cell_type": "code",
   "execution_count": 16,
   "metadata": {
    "collapsed": false
   },
   "outputs": [
    {
     "name": "stdout",
     "output_type": "stream",
     "text": [
      "1 2 (5, 'a')\n",
      "five 1\n"
     ]
    }
   ],
   "source": [
    "# Name value pairs, imputs as dictionary\n",
    "# Named first, then tuple then keyword\n",
    "def test3(one, two, *args, **kwargs):\n",
    "    print(one, two, args)\n",
    "    for k in kwargs: print(k,kwargs[k])\n",
    "    \n",
    "# calls\n",
    "test3(1,2,5,'a',five=1)"
   ]
  },
  {
   "cell_type": "code",
   "execution_count": 19,
   "metadata": {
    "collapsed": false
   },
   "outputs": [
    {
     "name": "stdout",
     "output_type": "stream",
     "text": [
      "(1, 2)\n",
      "50 Parth\n",
      "()\n",
      "80 Hi\n",
      "()\n",
      "70 Parth\n"
     ]
    }
   ],
   "source": [
    "# Using kwargs with default settings\n",
    "def test4(*args,**kwargs):\n",
    "    print(args)\n",
    "    bins = kwargs.get('bins',50)\n",
    "    name = kwargs.get('name','Parth')\n",
    "    print(bins,name)\n",
    "\n",
    "# Uses\n",
    "test4(1,2)\n",
    "test4(bins=80,name='Hi')\n",
    "bins = 70;\n",
    "test4(bins=bins)"
   ]
  },
  {
   "cell_type": "code",
   "execution_count": null,
   "metadata": {
    "collapsed": true
   },
   "outputs": [],
   "source": []
  }
 ],
 "metadata": {
  "kernelspec": {
   "display_name": "Python 3",
   "language": "python",
   "name": "python3"
  },
  "language_info": {
   "codemirror_mode": {
    "name": "ipython",
    "version": 3
   },
   "file_extension": ".py",
   "mimetype": "text/x-python",
   "name": "python",
   "nbconvert_exporter": "python",
   "pygments_lexer": "ipython3",
   "version": "3.5.1"
  }
 },
 "nbformat": 4,
 "nbformat_minor": 0
}
