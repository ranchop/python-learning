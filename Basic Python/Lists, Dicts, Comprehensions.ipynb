{
 "cells": [
  {
   "cell_type": "markdown",
   "metadata": {},
   "source": [
    "# Lists"
   ]
  },
  {
   "cell_type": "code",
   "execution_count": 32,
   "metadata": {
    "collapsed": false,
    "scrolled": true
   },
   "outputs": [
    {
     "data": {
      "text/plain": [
       "['59', 70, '23', 24, 'hi']"
      ]
     },
     "execution_count": 32,
     "metadata": {},
     "output_type": "execute_result"
    }
   ],
   "source": [
    "# Making a list via [], could contain any kinds of values\n",
    "ages = ['59',70,'23',24,'hi']\n",
    "ages"
   ]
  },
  {
   "cell_type": "code",
   "execution_count": 33,
   "metadata": {
    "collapsed": false
   },
   "outputs": [
    {
     "name": "stdout",
     "output_type": "stream",
     "text": [
      "59\n",
      "hi\n",
      "['59', 70]\n",
      "['23', 24]\n",
      "['59', 70, '23']\n"
     ]
    }
   ],
   "source": [
    "# Accessing data via brackets and index\n",
    "print(ages[0])\n",
    "print(ages[-1])\n",
    "print(ages[0:2])\n",
    "print(ages[-3:-1])\n",
    "print(ages[:3])"
   ]
  },
  {
   "cell_type": "code",
   "execution_count": 34,
   "metadata": {
    "collapsed": false
   },
   "outputs": [
    {
     "name": "stdout",
     "output_type": "stream",
     "text": [
      "['59', 70, '23', 24, 'hi', 'appending']\n"
     ]
    }
   ],
   "source": [
    "# Adding one item to list\n",
    "ages.append('appending')\n",
    "print(ages)"
   ]
  },
  {
   "cell_type": "code",
   "execution_count": 35,
   "metadata": {
    "collapsed": false
   },
   "outputs": [
    {
     "name": "stdout",
     "output_type": "stream",
     "text": [
      "['59', 70, '23', 24, 'hi', 'appending', 34, 34, 34]\n",
      "['59', 70, '23', 24, 'hi', 'appending', 34, 34, 34, 34, 34, 34]\n"
     ]
    }
   ],
   "source": [
    "# Extending a list with list\n",
    "ages2 = [34,34,34]\n",
    "ages.extend(ages2)\n",
    "print(ages)\n",
    "ages = ages + ages2\n",
    "print(ages)"
   ]
  },
  {
   "cell_type": "code",
   "execution_count": 36,
   "metadata": {
    "collapsed": false
   },
   "outputs": [
    {
     "name": "stdout",
     "output_type": "stream",
     "text": [
      "['59', 'ONE', 70, '23', 24, 'hi', 'appending', 34, 34, 34, 34, 34, 34]\n",
      "['59', 'ONE', '23', 24, 'hi', 'appending', 34, 34, 34, 34, 34, 34]\n",
      "['59', 'ONE', '23', 24, 'hi', 'appending', 34, 34, 34, 34, 34]\n",
      "['59', 'ONE', 'TWO', 'THREE', 'hi', 'appending', 34, 34, 34, 34, 34]\n"
     ]
    }
   ],
   "source": [
    "# Inserting and deleting and editing\n",
    "ages.insert(1,'ONE')\n",
    "print(ages)\n",
    "del ages[2]\n",
    "print(ages)\n",
    "ages.remove(34)\n",
    "print(ages)\n",
    "ages[2:4] = ['TWO','THREE']\n",
    "print(ages)"
   ]
  },
  {
   "cell_type": "code",
   "execution_count": 40,
   "metadata": {
    "collapsed": false
   },
   "outputs": [
    {
     "name": "stdout",
     "output_type": "stream",
     "text": [
      "[0, 15, 12412, 1, 124]\n",
      "[0, 1, 15, 124, 12412]\n"
     ]
    }
   ],
   "source": [
    "# Sorting lists\n",
    "ages = [0,15,12412,1,124]\n",
    "print(ages)\n",
    "ages.sort()\n",
    "print(ages)"
   ]
  },
  {
   "cell_type": "code",
   "execution_count": 42,
   "metadata": {
    "collapsed": false
   },
   "outputs": [
    {
     "name": "stdout",
     "output_type": "stream",
     "text": [
      "Element 0\n",
      "Element 1\n",
      "Element 15\n",
      "Element 124\n",
      "Element 12412\n",
      "Element 0 : 0\n",
      "Element 1 : 1\n",
      "Element 2 : 15\n",
      "Element 3 : 124\n",
      "Element 4 : 12412\n"
     ]
    }
   ],
   "source": [
    "# Looping\n",
    "for value in ages:\n",
    "    print('Element',value)\n",
    "for index,value in enumerate(ages):\n",
    "    print('Element',index,':',value)"
   ]
  },
  {
   "cell_type": "markdown",
   "metadata": {},
   "source": [
    "# Dict"
   ]
  },
  {
   "cell_type": "code",
   "execution_count": 56,
   "metadata": {
    "collapsed": false
   },
   "outputs": [
    {
     "name": "stdout",
     "output_type": "stream",
     "text": [
      "{1: 'Newton', 2: 'Einstein', '3': 'Landau'}\n",
      "Einstein\n",
      "Landau\n"
     ]
    }
   ],
   "source": [
    "# Create via {key:value, key:value}, access via []\n",
    "physi = {1:'Newton',2:'Einstein','3':'Landau'}\n",
    "print(physi)\n",
    "print(physi[2])\n",
    "print(physi['3'])"
   ]
  },
  {
   "cell_type": "code",
   "execution_count": 57,
   "metadata": {
    "collapsed": false
   },
   "outputs": [
    {
     "name": "stdout",
     "output_type": "stream",
     "text": [
      "False\n",
      "True\n"
     ]
    }
   ],
   "source": [
    "# Check if key exists\n",
    "print(3 in physi)\n",
    "print('3' in physi)"
   ]
  },
  {
   "cell_type": "code",
   "execution_count": 58,
   "metadata": {
    "collapsed": false
   },
   "outputs": [
    {
     "name": "stdout",
     "output_type": "stream",
     "text": [
      "{1: 'Newton', 2: 'Einstein', '3': 'Fermi', 4: 'Landau'}\n"
     ]
    }
   ],
   "source": [
    "# Combining dicts using update method\n",
    "physi2 = {'3':'Fermi',4:'Landau'}\n",
    "physi.update(physi2)\n",
    "print(physi)"
   ]
  },
  {
   "cell_type": "code",
   "execution_count": 59,
   "metadata": {
    "collapsed": false
   },
   "outputs": [
    {
     "name": "stdout",
     "output_type": "stream",
     "text": [
      "{1: 'Newton', 2: 'Einstein', 4: 'Landau'}\n"
     ]
    }
   ],
   "source": [
    "# Deleting\n",
    "del physi['3']\n",
    "print(physi)"
   ]
  },
  {
   "cell_type": "code",
   "execution_count": 61,
   "metadata": {
    "collapsed": false
   },
   "outputs": [
    {
     "name": "stdout",
     "output_type": "stream",
     "text": [
      "1\n",
      "2\n",
      "4\n",
      "1 Newton\n",
      "2 Einstein\n",
      "4 Landau\n"
     ]
    }
   ],
   "source": [
    "# Looping over dicts, using methods .keys(), .values(), .items()\n",
    "for key in physi:\n",
    "    print(key)\n",
    "for key,val in physi.items():\n",
    "    print(key,val)"
   ]
  },
  {
   "cell_type": "markdown",
   "metadata": {},
   "source": [
    "# Comprehensions"
   ]
  },
  {
   "cell_type": "code",
   "execution_count": 62,
   "metadata": {
    "collapsed": false
   },
   "outputs": [
    {
     "name": "stdout",
     "output_type": "stream",
     "text": [
      "[0, 4, 16, 36, 64]\n"
     ]
    }
   ],
   "source": [
    "# Shortcut loops\n",
    "squares = [i**2 for i in range(10) if i % 2 == 0]\n",
    "print(squares)"
   ]
  },
  {
   "cell_type": "code",
   "execution_count": 64,
   "metadata": {
    "collapsed": false
   },
   "outputs": [
    {
     "name": "stdout",
     "output_type": "stream",
     "text": [
      "{0: 0, 8: 64, 2: 4, 4: 16, 6: 36}\n"
     ]
    }
   ],
   "source": [
    "squares_dict = {i:i**2 for i in range(10) if i % 2 == 0}\n",
    "print(squares_dict)"
   ]
  },
  {
   "cell_type": "code",
   "execution_count": 65,
   "metadata": {
    "collapsed": false
   },
   "outputs": [
    {
     "name": "stdout",
     "output_type": "stream",
     "text": [
      "{0: 0, 64: 8, 4: 2, 16: 4, 36: 6}\n"
     ]
    }
   ],
   "source": [
    "# Transposing\n",
    "sqrt_dict = {squares_dict[keys]:keys for keys in squares_dict.keys()}\n",
    "print(sqrt_dict)"
   ]
  },
  {
   "cell_type": "code",
   "execution_count": 66,
   "metadata": {
    "collapsed": false
   },
   "outputs": [
    {
     "name": "stdout",
     "output_type": "stream",
     "text": [
      "285\n",
      "285\n"
     ]
    }
   ],
   "source": [
    "# Using this with other methods, for faster computation\n",
    "print(sum([i**2 for i in range(10)]))\n",
    "print(sum(i**2 for i in range(10)))"
   ]
  },
  {
   "cell_type": "code",
   "execution_count": null,
   "metadata": {
    "collapsed": true
   },
   "outputs": [],
   "source": []
  }
 ],
 "metadata": {
  "kernelspec": {
   "display_name": "Python 3",
   "language": "python",
   "name": "python3"
  },
  "language_info": {
   "codemirror_mode": {
    "name": "ipython",
    "version": 3
   },
   "file_extension": ".py",
   "mimetype": "text/x-python",
   "name": "python",
   "nbconvert_exporter": "python",
   "pygments_lexer": "ipython3",
   "version": "3.5.1"
  }
 },
 "nbformat": 4,
 "nbformat_minor": 0
}
