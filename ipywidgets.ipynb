{
 "cells": [
  {
   "cell_type": "code",
   "execution_count": 1,
   "id": "938c2120-103b-44af-8414-89aca306d411",
   "metadata": {},
   "outputs": [],
   "source": [
    "import ipywidgets as widgets\n",
    "import numpy as np\n",
    "from IPython.display import display"
   ]
  },
  {
   "cell_type": "code",
   "execution_count": 2,
   "id": "660f7de1-538b-41f6-8095-25a193ed1b21",
   "metadata": {},
   "outputs": [],
   "source": [
    "text = widgets.IntText()\n",
    "btn = widgets.Button(description='Rnd Num')"
   ]
  },
  {
   "cell_type": "code",
   "execution_count": 3,
   "id": "d4a5fdb8-4ab3-454d-a02d-2fb934433a0c",
   "metadata": {},
   "outputs": [
    {
     "data": {
      "application/vnd.jupyter.widget-view+json": {
       "model_id": "d17cf57411394a0da6a8071ddea79d1d",
       "version_major": 2,
       "version_minor": 0
      },
      "text/plain": [
       "Button(description='Rnd Num', style=ButtonStyle())"
      ]
     },
     "metadata": {},
     "output_type": "display_data"
    },
    {
     "data": {
      "application/vnd.jupyter.widget-view+json": {
       "model_id": "7e939cb7f338419692fa5b43aeaa3d96",
       "version_major": 2,
       "version_minor": 0
      },
      "text/plain": [
       "IntText(value=0)"
      ]
     },
     "metadata": {},
     "output_type": "display_data"
    }
   ],
   "source": [
    "display(btn, text)"
   ]
  },
  {
   "cell_type": "code",
   "execution_count": 4,
   "id": "142413fb-81d8-4962-ab3a-01844faa817a",
   "metadata": {},
   "outputs": [],
   "source": [
    "text.value=4"
   ]
  },
  {
   "cell_type": "code",
   "execution_count": null,
   "id": "e4d25b1c-8168-4c9a-bfb0-73833ab4245e",
   "metadata": {},
   "outputs": [],
   "source": []
  }
 ],
 "metadata": {
  "kernelspec": {
   "display_name": "Python 3 (ipykernel)",
   "language": "python",
   "name": "python3"
  },
  "language_info": {
   "codemirror_mode": {
    "name": "ipython",
    "version": 3
   },
   "file_extension": ".py",
   "mimetype": "text/x-python",
   "name": "python",
   "nbconvert_exporter": "python",
   "pygments_lexer": "ipython3",
   "version": "3.9.7"
  }
 },
 "nbformat": 4,
 "nbformat_minor": 5
}
