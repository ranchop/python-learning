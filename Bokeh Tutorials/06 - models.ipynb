{
 "cells": [
  {
   "cell_type": "markdown",
   "metadata": {},
   "source": [
    "<table style=\"float:left; border:none\">\n",
    "   <tr style=\"border:none\">\n",
    "       <td style=\"border:none\">\n",
    "           <a href=\"http://bokeh.pydata.org/\">     \n",
    "           <img \n",
    "               src=\"assets/images/bokeh-transparent.png\" \n",
    "               style=\"width:70px\"\n",
    "           >\n",
    "           </a>    \n",
    "       </td>\n",
    "       <td style=\"border:none\">\n",
    "           <h1>Bokeh Tutorial &mdash; <tt style=\"display:inline\">bokeh.models</tt> interface</h1>\n",
    "       </td>\n",
    "   </tr>\n",
    "</table>"
   ]
  },
  {
   "cell_type": "markdown",
   "metadata": {
    "collapsed": true
   },
   "source": [
    "## Models\n",
    "\n",
    "NYTimes interactive chart [Usain Bolt vs. 116 years of Olympic sprinters](http://www.nytimes.com/interactive/2012/08/05/sports/olympics/the-100-meter-dash-one-race-every-medalist-ever.html)"
   ]
  },
  {
   "cell_type": "markdown",
   "metadata": {},
   "source": [
    "The first thing we need is to get the data. The data for this chart is located in the ``bokeh.sampledata`` module as a Pandas DataFrame. You can see the first ten rows below:?"
   ]
  },
  {
   "cell_type": "code",
   "execution_count": 1,
   "metadata": {
    "collapsed": false
   },
   "outputs": [
    {
     "data": {
      "text/html": [
       "<div>\n",
       "<table border=\"1\" class=\"dataframe\">\n",
       "  <thead>\n",
       "    <tr style=\"text-align: right;\">\n",
       "      <th></th>\n",
       "      <th>Name</th>\n",
       "      <th>Country</th>\n",
       "      <th>Medal</th>\n",
       "      <th>Time</th>\n",
       "      <th>Year</th>\n",
       "    </tr>\n",
       "  </thead>\n",
       "  <tbody>\n",
       "    <tr>\n",
       "      <th>0</th>\n",
       "      <td>Usain Bolt</td>\n",
       "      <td>JAM</td>\n",
       "      <td>GOLD</td>\n",
       "      <td>9.63</td>\n",
       "      <td>2012</td>\n",
       "    </tr>\n",
       "    <tr>\n",
       "      <th>1</th>\n",
       "      <td>Yohan Blake</td>\n",
       "      <td>JAM</td>\n",
       "      <td>SILVER</td>\n",
       "      <td>9.75</td>\n",
       "      <td>2012</td>\n",
       "    </tr>\n",
       "    <tr>\n",
       "      <th>2</th>\n",
       "      <td>Justin Gatlin</td>\n",
       "      <td>USA</td>\n",
       "      <td>BRONZE</td>\n",
       "      <td>9.79</td>\n",
       "      <td>2012</td>\n",
       "    </tr>\n",
       "    <tr>\n",
       "      <th>3</th>\n",
       "      <td>Usain Bolt</td>\n",
       "      <td>JAM</td>\n",
       "      <td>GOLD</td>\n",
       "      <td>9.69</td>\n",
       "      <td>2008</td>\n",
       "    </tr>\n",
       "    <tr>\n",
       "      <th>4</th>\n",
       "      <td>Richard Thompson</td>\n",
       "      <td>TRI</td>\n",
       "      <td>SILVER</td>\n",
       "      <td>9.89</td>\n",
       "      <td>2008</td>\n",
       "    </tr>\n",
       "    <tr>\n",
       "      <th>5</th>\n",
       "      <td>Walter Dix</td>\n",
       "      <td>USA</td>\n",
       "      <td>BRONZE</td>\n",
       "      <td>9.91</td>\n",
       "      <td>2008</td>\n",
       "    </tr>\n",
       "    <tr>\n",
       "      <th>6</th>\n",
       "      <td>Justin Gatlin</td>\n",
       "      <td>USA</td>\n",
       "      <td>GOLD</td>\n",
       "      <td>9.85</td>\n",
       "      <td>2004</td>\n",
       "    </tr>\n",
       "    <tr>\n",
       "      <th>7</th>\n",
       "      <td>Francis Obikwelu</td>\n",
       "      <td>POR</td>\n",
       "      <td>SILVER</td>\n",
       "      <td>9.86</td>\n",
       "      <td>2004</td>\n",
       "    </tr>\n",
       "    <tr>\n",
       "      <th>8</th>\n",
       "      <td>Maurice Greene</td>\n",
       "      <td>USA</td>\n",
       "      <td>BRONZE</td>\n",
       "      <td>9.87</td>\n",
       "      <td>2004</td>\n",
       "    </tr>\n",
       "    <tr>\n",
       "      <th>9</th>\n",
       "      <td>Maurice Greene</td>\n",
       "      <td>USA</td>\n",
       "      <td>GOLD</td>\n",
       "      <td>9.87</td>\n",
       "      <td>2000</td>\n",
       "    </tr>\n",
       "  </tbody>\n",
       "</table>\n",
       "</div>"
      ],
      "text/plain": [
       "               Name Country   Medal  Time  Year\n",
       "0        Usain Bolt     JAM    GOLD  9.63  2012\n",
       "1       Yohan Blake     JAM  SILVER  9.75  2012\n",
       "2     Justin Gatlin     USA  BRONZE  9.79  2012\n",
       "3        Usain Bolt     JAM    GOLD  9.69  2008\n",
       "4  Richard Thompson     TRI  SILVER  9.89  2008\n",
       "5        Walter Dix     USA  BRONZE  9.91  2008\n",
       "6     Justin Gatlin     USA    GOLD  9.85  2004\n",
       "7  Francis Obikwelu     POR  SILVER  9.86  2004\n",
       "8    Maurice Greene     USA  BRONZE  9.87  2004\n",
       "9    Maurice Greene     USA    GOLD  9.87  2000"
      ]
     },
     "execution_count": 1,
     "metadata": {},
     "output_type": "execute_result"
    }
   ],
   "source": [
    "from bokeh.sampledata.sprint import sprint\n",
    "sprint[:10]"
   ]
  },
  {
   "cell_type": "markdown",
   "metadata": {},
   "source": [
    "Next we import some of the Bokeh models that need to be assembled to make a plot. At a minimum, we need to start with ``Plot``, the glyphs (``Circle`` and ``Text``) we want to display, as well as ``ColumnDataSource`` to hold the data and range obejcts to set the plot bounds. "
   ]
  },
  {
   "cell_type": "code",
   "execution_count": 2,
   "metadata": {
    "collapsed": false
   },
   "outputs": [],
   "source": [
    "from bokeh.io import output_notebook, show\n",
    "from bokeh.models.glyphs import Circle, Text\n",
    "from bokeh.models import ColumnDataSource, Range1d, DataRange1d, Plot"
   ]
  },
  {
   "cell_type": "code",
   "execution_count": 3,
   "metadata": {
    "collapsed": false
   },
   "outputs": [
    {
     "data": {
      "text/html": [
       "\n",
       "    <div class=\"bk-banner\">\n",
       "        <a href=\"http://bokeh.pydata.org\" target=\"_blank\" class=\"bk-logo bk-logo-small bk-logo-notebook\"></a>\n",
       "        <span id=\"fa57e825-3b23-4404-84c8-2dfb47074aed\">Loading BokehJS ...</span>\n",
       "    </div>"
      ]
     },
     "metadata": {},
     "output_type": "display_data"
    },
    {
     "data": {
      "application/javascript": [
       "\n",
       "(function(global) {\n",
       "  function now() {\n",
       "    return new Date();\n",
       "  }\n",
       "\n",
       "  if (typeof (window._bokeh_onload_callbacks) === \"undefined\") {\n",
       "    window._bokeh_onload_callbacks = [];\n",
       "  }\n",
       "\n",
       "  function run_callbacks() {\n",
       "    window._bokeh_onload_callbacks.forEach(function(callback) { callback() });\n",
       "    delete window._bokeh_onload_callbacks\n",
       "    console.info(\"Bokeh: all callbacks have finished\");\n",
       "  }\n",
       "\n",
       "  function load_libs(js_urls, callback) {\n",
       "    window._bokeh_onload_callbacks.push(callback);\n",
       "    if (window._bokeh_is_loading > 0) {\n",
       "      console.log(\"Bokeh: BokehJS is being loaded, scheduling callback at\", now());\n",
       "      return null;\n",
       "    }\n",
       "    if (js_urls == null || js_urls.length === 0) {\n",
       "      run_callbacks();\n",
       "      return null;\n",
       "    }\n",
       "    console.log(\"Bokeh: BokehJS not loaded, scheduling load and callback at\", now());\n",
       "    window._bokeh_is_loading = js_urls.length;\n",
       "    for (var i = 0; i < js_urls.length; i++) {\n",
       "      var url = js_urls[i];\n",
       "      var s = document.createElement('script');\n",
       "      s.src = url;\n",
       "      s.async = false;\n",
       "      s.onreadystatechange = s.onload = function() {\n",
       "        window._bokeh_is_loading--;\n",
       "        if (window._bokeh_is_loading === 0) {\n",
       "          console.log(\"Bokeh: all BokehJS libraries loaded\");\n",
       "          run_callbacks()\n",
       "        }\n",
       "      };\n",
       "      s.onerror = function() {\n",
       "        console.warn(\"failed to load library \" + url);\n",
       "      };\n",
       "      console.log(\"Bokeh: injecting script tag for BokehJS library: \", url);\n",
       "      document.getElementsByTagName(\"head\")[0].appendChild(s);\n",
       "    }\n",
       "  };\n",
       "\n",
       "  var js_urls = ['https://cdn.pydata.org/bokeh/release/bokeh-0.11.1.min.js', 'https://cdn.pydata.org/bokeh/release/bokeh-widgets-0.11.1.min.js', 'https://cdn.pydata.org/bokeh/release/bokeh-compiler-0.11.1.min.js'];\n",
       "\n",
       "  var inline_js = [\n",
       "    function(Bokeh) {\n",
       "      Bokeh.set_log_level(\"info\");\n",
       "    },\n",
       "    \n",
       "    function(Bokeh) {\n",
       "      Bokeh.$(\"#fa57e825-3b23-4404-84c8-2dfb47074aed\").text(\"BokehJS successfully loaded\");\n",
       "    },\n",
       "    function(Bokeh) {\n",
       "      console.log(\"Bokeh: injecting CSS: https://cdn.pydata.org/bokeh/release/bokeh-0.11.1.min.css\");\n",
       "      Bokeh.embed.inject_css(\"https://cdn.pydata.org/bokeh/release/bokeh-0.11.1.min.css\");\n",
       "      console.log(\"Bokeh: injecting CSS: https://cdn.pydata.org/bokeh/release/bokeh-widgets-0.11.1.min.css\");\n",
       "      Bokeh.embed.inject_css(\"https://cdn.pydata.org/bokeh/release/bokeh-widgets-0.11.1.min.css\");\n",
       "    }\n",
       "  ];\n",
       "\n",
       "  function run_inline_js() {\n",
       "    for (var i = 0; i < inline_js.length; i++) {\n",
       "      inline_js[i](window.Bokeh);\n",
       "    }\n",
       "  }\n",
       "\n",
       "  if (window._bokeh_is_loading === 0) {\n",
       "    console.log(\"Bokeh: BokehJS loaded, going straight to plotting\");\n",
       "    run_inline_js();\n",
       "  } else {\n",
       "    load_libs(js_urls, function() {\n",
       "      console.log(\"Bokeh: BokehJS plotting callback run at\", now());\n",
       "      run_inline_js();\n",
       "    });\n",
       "  }\n",
       "}(this));"
      ]
     },
     "metadata": {},
     "output_type": "display_data"
    }
   ],
   "source": [
    "output_notebook()"
   ]
  },
  {
   "cell_type": "markdown",
   "metadata": {},
   "source": [
    "## Setting up Data"
   ]
  },
  {
   "cell_type": "code",
   "execution_count": 4,
   "metadata": {
    "collapsed": true
   },
   "outputs": [],
   "source": [
    "abbrev_to_country = {\n",
    "    \"USA\": \"United States\",\n",
    "    \"GBR\": \"Britain\",\n",
    "    \"JAM\": \"Jamaica\",\n",
    "    \"CAN\": \"Canada\",\n",
    "    \"TRI\": \"Trinidad and Tobago\",\n",
    "    \"AUS\": \"Australia\",\n",
    "    \"GER\": \"Germany\",\n",
    "    \"CUB\": \"Cuba\",\n",
    "    \"NAM\": \"Namibia\",\n",
    "    \"URS\": \"Soviet Union\",\n",
    "    \"BAR\": \"Barbados\",\n",
    "    \"BUL\": \"Bulgaria\",\n",
    "    \"HUN\": \"Hungary\",\n",
    "    \"NED\": \"Netherlands\",\n",
    "    \"NZL\": \"New Zealand\",\n",
    "    \"PAN\": \"Panama\",\n",
    "    \"POR\": \"Portugal\",\n",
    "    \"RSA\": \"South Africa\",\n",
    "    \"EUA\": \"United Team of Germany\",\n",
    "}\n",
    "\n",
    "gold_fill   = \"#efcf6d\"\n",
    "gold_line   = \"#c8a850\"\n",
    "silver_fill = \"#cccccc\"\n",
    "silver_line = \"#b0b0b1\"\n",
    "bronze_fill = \"#c59e8a\"\n",
    "bronze_line = \"#98715d\"\n",
    "\n",
    "fill_color = { \"gold\": gold_fill, \"silver\": silver_fill, \"bronze\": bronze_fill }\n",
    "line_color = { \"gold\": gold_line, \"silver\": silver_line, \"bronze\": bronze_line }\n",
    "\n",
    "def selected_name(name, medal, year):\n",
    "    return name if medal == \"gold\" and year in [1988, 1968, 1936, 1896] else None\n",
    "\n",
    "t0 = sprint.Time[0]\n",
    "\n",
    "sprint[\"Abbrev\"]       = sprint.Country\n",
    "sprint[\"Country\"]      = sprint.Abbrev.map(lambda abbr: abbrev_to_country[abbr])\n",
    "sprint[\"Medal\"]        = sprint.Medal.map(lambda medal: medal.lower())\n",
    "sprint[\"Speed\"]        = 100.0/sprint.Time\n",
    "sprint[\"MetersBack\"]   = 100.0*(1.0 - t0/sprint.Time)\n",
    "sprint[\"MedalFill\"]    = sprint.Medal.map(lambda medal: fill_color[medal])\n",
    "sprint[\"MedalLine\"]    = sprint.Medal.map(lambda medal: line_color[medal])\n",
    "sprint[\"SelectedName\"] = sprint[[\"Name\", \"Medal\", \"Year\"]].apply(tuple, axis=1).map(lambda args: selected_name(*args))\n",
    "\n",
    "source = ColumnDataSource(sprint)"
   ]
  },
  {
   "cell_type": "markdown",
   "metadata": {},
   "source": [
    "## Basic Plot with Glyphs"
   ]
  },
  {
   "cell_type": "code",
   "execution_count": 5,
   "metadata": {
    "collapsed": false
   },
   "outputs": [],
   "source": [
    "plot_options = dict(plot_width=800, plot_height=480, toolbar_location=None, \n",
    "                    outline_line_color=None, title = \"Usain Bolt vs. 116 years of Olympic sprinters\")"
   ]
  },
  {
   "cell_type": "code",
   "execution_count": 6,
   "metadata": {
    "collapsed": false
   },
   "outputs": [],
   "source": [
    "radius = dict(value=5, units=\"screen\")\n",
    "medal_glyph = Circle(x=\"MetersBack\", y=\"Year\", radius=radius, fill_color=\"MedalFill\", \n",
    "                     line_color=\"MedalLine\", fill_alpha=0.5)\n",
    "\n",
    "athlete_glyph = Text(x=\"MetersBack\", y=\"Year\", x_offset=10, text=\"SelectedName\",\n",
    "    text_align=\"left\", text_baseline=\"middle\", text_font_size=\"9pt\")\n",
    "\n",
    "no_olympics_glyph = Text(x=7.5, y=1942, text=[\"No Olympics in 1940 or 1944\"],\n",
    "    text_align=\"center\", text_baseline=\"middle\",\n",
    "    text_font_size=\"9pt\", text_font_style=\"italic\", text_color=\"silver\")\n"
   ]
  },
  {
   "cell_type": "code",
   "execution_count": 9,
   "metadata": {
    "collapsed": false
   },
   "outputs": [
    {
     "data": {
      "text/plain": [
       "<bokeh.models.renderers.GlyphRenderer at 0x10ced79b0>"
      ]
     },
     "execution_count": 9,
     "metadata": {},
     "output_type": "execute_result"
    }
   ],
   "source": [
    "xdr = Range1d(start=sprint.MetersBack.max()+2, end=0)  # +2 is for padding\n",
    "ydr = DataRange1d(range_padding=0.05)  \n",
    "\n",
    "plot = Plot(x_range=xdr, y_range=ydr, **plot_options)\n",
    "plot.add_glyph(source, medal_glyph)\n",
    "plot.add_glyph(source, athlete_glyph)\n",
    "plot.add_glyph(no_olympics_glyph)"
   ]
  },
  {
   "cell_type": "code",
   "execution_count": 10,
   "metadata": {
    "collapsed": false
   },
   "outputs": [
    {
     "data": {
      "text/html": [
       "\n",
       "\n",
       "    <div class=\"plotdiv\" id=\"0c15f7f3-aaf3-486a-84b6-215999a82536\"></div>\n",
       "<script type=\"text/javascript\">\n",
       "  \n",
       "  (function(global) {\n",
       "    function now() {\n",
       "      return new Date();\n",
       "    }\n",
       "  \n",
       "    if (typeof (window._bokeh_onload_callbacks) === \"undefined\") {\n",
       "      window._bokeh_onload_callbacks = [];\n",
       "    }\n",
       "  \n",
       "    function run_callbacks() {\n",
       "      window._bokeh_onload_callbacks.forEach(function(callback) { callback() });\n",
       "      delete window._bokeh_onload_callbacks\n",
       "      console.info(\"Bokeh: all callbacks have finished\");\n",
       "    }\n",
       "  \n",
       "    function load_libs(js_urls, callback) {\n",
       "      window._bokeh_onload_callbacks.push(callback);\n",
       "      if (window._bokeh_is_loading > 0) {\n",
       "        console.log(\"Bokeh: BokehJS is being loaded, scheduling callback at\", now());\n",
       "        return null;\n",
       "      }\n",
       "      if (js_urls == null || js_urls.length === 0) {\n",
       "        run_callbacks();\n",
       "        return null;\n",
       "      }\n",
       "      console.log(\"Bokeh: BokehJS not loaded, scheduling load and callback at\", now());\n",
       "      window._bokeh_is_loading = js_urls.length;\n",
       "      for (var i = 0; i < js_urls.length; i++) {\n",
       "        var url = js_urls[i];\n",
       "        var s = document.createElement('script');\n",
       "        s.src = url;\n",
       "        s.async = false;\n",
       "        s.onreadystatechange = s.onload = function() {\n",
       "          window._bokeh_is_loading--;\n",
       "          if (window._bokeh_is_loading === 0) {\n",
       "            console.log(\"Bokeh: all BokehJS libraries loaded\");\n",
       "            run_callbacks()\n",
       "          }\n",
       "        };\n",
       "        s.onerror = function() {\n",
       "          console.warn(\"failed to load library \" + url);\n",
       "        };\n",
       "        console.log(\"Bokeh: injecting script tag for BokehJS library: \", url);\n",
       "        document.getElementsByTagName(\"head\")[0].appendChild(s);\n",
       "      }\n",
       "    };var element = document.getElementById(\"0c15f7f3-aaf3-486a-84b6-215999a82536\");\n",
       "    if (element == null) {\n",
       "      console.log(\"Bokeh: ERROR: autoload.js configured with elementid '0c15f7f3-aaf3-486a-84b6-215999a82536' but no matching script tag was found. \")\n",
       "      return false;\n",
       "    }\n",
       "  \n",
       "    var js_urls = [];\n",
       "  \n",
       "    var inline_js = [\n",
       "      function(Bokeh) {\n",
       "        Bokeh.$(function() {\n",
       "            var docs_json = {\"5d6894fc-9ebb-4766-8175-ead5a44ad60a\":{\"roots\":{\"references\":[{\"attributes\":{\"outline_line_color\":{\"value\":null},\"plot_height\":480,\"plot_width\":800,\"renderers\":[{\"id\":\"48ac5291-343d-441e-a9dd-84b58e90498a\",\"type\":\"GlyphRenderer\"},{\"id\":\"f420a5ea-2747-4178-bf65-f5a1c3e9b8a8\",\"type\":\"GlyphRenderer\"},{\"id\":\"7c31d67d-fbc8-4591-b2f1-c9461cac4e9c\",\"type\":\"GlyphRenderer\"}],\"title\":\"Usain Bolt vs. 116 years of Olympic sprinters\",\"tool_events\":{\"id\":\"a7631620-3a02-47cf-a3a2-60c9b9964e1a\",\"type\":\"ToolEvents\"},\"toolbar_location\":null,\"x_range\":{\"id\":\"7e4cd8c1-e293-44ba-8545-25381c21c056\",\"type\":\"Range1d\"},\"y_range\":{\"id\":\"3a7f0576-5d54-4ae2-adcd-3ecff3acfc52\",\"type\":\"DataRange1d\"}},\"id\":\"3ec9c19e-2748-44f0-add8-51eb6e54920d\",\"type\":\"Plot\"},{\"attributes\":{},\"id\":\"a7631620-3a02-47cf-a3a2-60c9b9964e1a\",\"type\":\"ToolEvents\"},{\"attributes\":{\"text\":{\"field\":\"SelectedName\"},\"text_baseline\":\"middle\",\"text_font_size\":{\"value\":\"9pt\"},\"x\":{\"field\":\"MetersBack\"},\"x_offset\":{\"value\":10},\"y\":{\"field\":\"Year\"}},\"id\":\"70f506ea-d5cb-433d-9d72-efb7ad7855da\",\"type\":\"Text\"},{\"attributes\":{\"fill_alpha\":{\"value\":0.5},\"fill_color\":{\"field\":\"MedalFill\"},\"line_color\":{\"field\":\"MedalLine\"},\"radius\":{\"units\":\"screen\",\"value\":5},\"x\":{\"field\":\"MetersBack\"},\"y\":{\"field\":\"Year\"}},\"id\":\"cc7dbf8d-9296-4aa4-a451-492e77edaeee\",\"type\":\"Circle\"},{\"attributes\":{\"data_source\":{\"id\":\"67f42b76-ebd2-4b48-b93a-c4930dd4a573\",\"type\":\"ColumnDataSource\"},\"glyph\":{\"id\":\"cc7dbf8d-9296-4aa4-a451-492e77edaeee\",\"type\":\"Circle\"},\"hover_glyph\":null,\"nonselection_glyph\":null,\"selection_glyph\":null},\"id\":\"48ac5291-343d-441e-a9dd-84b58e90498a\",\"type\":\"GlyphRenderer\"},{\"attributes\":{\"callback\":null,\"column_names\":[\"index\",\"MedalLine\",\"Speed\",\"Abbrev\",\"Time\",\"Name\",\"MedalFill\",\"Year\",\"MetersBack\",\"Medal\",\"Country\",\"SelectedName\"],\"data\":{\"Abbrev\":[\"JAM\",\"JAM\",\"USA\",\"JAM\",\"TRI\",\"USA\",\"USA\",\"POR\",\"USA\",\"USA\",\"TRI\",\"BAR\",\"CAN\",\"NAM\",\"TRI\",\"GBR\",\"NAM\",\"USA\",\"USA\",\"GBR\",\"USA\",\"USA\",\"USA\",\"CAN\",\"GBR\",\"CUB\",\"BUL\",\"TRI\",\"JAM\",\"URS\",\"URS\",\"USA\",\"JAM\",\"USA\",\"JAM\",\"USA\",\"USA\",\"CUB\",\"CAN\",\"EUA\",\"USA\",\"GBR\",\"USA\",\"USA\",\"AUS\",\"USA\",\"JAM\",\"GBR\",\"USA\",\"USA\",\"PAN\",\"USA\",\"USA\",\"NED\",\"USA\",\"USA\",\"GER\",\"CAN\",\"GBR\",\"GER\",\"GBR\",\"USA\",\"NZL\",\"USA\",\"USA\",\"GBR\",\"USA\",\"USA\",\"USA\",\"RSA\",\"USA\",\"CAN\",\"USA\",\"USA\",\"AUS\",\"USA\",\"USA\",\"USA\",\"USA\",\"USA\",\"AUS\",\"USA\",\"GER\",\"HUN\",\"USA\"],\"Country\":[\"Jamaica\",\"Jamaica\",\"United States\",\"Jamaica\",\"Trinidad and Tobago\",\"United States\",\"United States\",\"Portugal\",\"United States\",\"United States\",\"Trinidad and Tobago\",\"Barbados\",\"Canada\",\"Namibia\",\"Trinidad and Tobago\",\"Britain\",\"Namibia\",\"United States\",\"United States\",\"Britain\",\"United States\",\"United States\",\"United States\",\"Canada\",\"Britain\",\"Cuba\",\"Bulgaria\",\"Trinidad and Tobago\",\"Jamaica\",\"Soviet Union\",\"Soviet Union\",\"United States\",\"Jamaica\",\"United States\",\"Jamaica\",\"United States\",\"United States\",\"Cuba\",\"Canada\",\"United Team of Germany\",\"United States\",\"Britain\",\"United States\",\"United States\",\"Australia\",\"United States\",\"Jamaica\",\"Britain\",\"United States\",\"United States\",\"Panama\",\"United States\",\"United States\",\"Netherlands\",\"United States\",\"United States\",\"Germany\",\"Canada\",\"Britain\",\"Germany\",\"Britain\",\"United States\",\"New Zealand\",\"United States\",\"United States\",\"Britain\",\"United States\",\"United States\",\"United States\",\"South Africa\",\"United States\",\"Canada\",\"United States\",\"United States\",\"Australia\",\"United States\",\"United States\",\"United States\",\"United States\",\"United States\",\"Australia\",\"United States\",\"Germany\",\"Hungary\",\"United States\"],\"Medal\":[\"gold\",\"silver\",\"bronze\",\"gold\",\"silver\",\"bronze\",\"gold\",\"silver\",\"bronze\",\"gold\",\"silver\",\"bronze\",\"gold\",\"silver\",\"bronze\",\"gold\",\"silver\",\"bronze\",\"gold\",\"silver\",\"bronze\",\"gold\",\"silver\",\"bronze\",\"gold\",\"silver\",\"bronze\",\"gold\",\"silver\",\"bronze\",\"gold\",\"silver\",\"bronze\",\"gold\",\"silver\",\"bronze\",\"gold\",\"silver\",\"bronze\",\"gold\",\"silver\",\"bronze\",\"gold\",\"silver\",\"bronze\",\"gold\",\"silver\",\"bronze\",\"gold\",\"silver\",\"bronze\",\"gold\",\"silver\",\"bronze\",\"gold\",\"silver\",\"bronze\",\"gold\",\"silver\",\"bronze\",\"gold\",\"silver\",\"bronze\",\"gold\",\"silver\",\"bronze\",\"gold\",\"silver\",\"bronze\",\"gold\",\"silver\",\"bronze\",\"gold\",\"silver\",\"bronze\",\"gold\",\"silver\",\"bronze\",\"gold\",\"silver\",\"bronze\",\"gold\",\"silver\",\"bronze\",\"bronze\"],\"MedalFill\":[\"#efcf6d\",\"#cccccc\",\"#c59e8a\",\"#efcf6d\",\"#cccccc\",\"#c59e8a\",\"#efcf6d\",\"#cccccc\",\"#c59e8a\",\"#efcf6d\",\"#cccccc\",\"#c59e8a\",\"#efcf6d\",\"#cccccc\",\"#c59e8a\",\"#efcf6d\",\"#cccccc\",\"#c59e8a\",\"#efcf6d\",\"#cccccc\",\"#c59e8a\",\"#efcf6d\",\"#cccccc\",\"#c59e8a\",\"#efcf6d\",\"#cccccc\",\"#c59e8a\",\"#efcf6d\",\"#cccccc\",\"#c59e8a\",\"#efcf6d\",\"#cccccc\",\"#c59e8a\",\"#efcf6d\",\"#cccccc\",\"#c59e8a\",\"#efcf6d\",\"#cccccc\",\"#c59e8a\",\"#efcf6d\",\"#cccccc\",\"#c59e8a\",\"#efcf6d\",\"#cccccc\",\"#c59e8a\",\"#efcf6d\",\"#cccccc\",\"#c59e8a\",\"#efcf6d\",\"#cccccc\",\"#c59e8a\",\"#efcf6d\",\"#cccccc\",\"#c59e8a\",\"#efcf6d\",\"#cccccc\",\"#c59e8a\",\"#efcf6d\",\"#cccccc\",\"#c59e8a\",\"#efcf6d\",\"#cccccc\",\"#c59e8a\",\"#efcf6d\",\"#cccccc\",\"#c59e8a\",\"#efcf6d\",\"#cccccc\",\"#c59e8a\",\"#efcf6d\",\"#cccccc\",\"#c59e8a\",\"#efcf6d\",\"#cccccc\",\"#c59e8a\",\"#efcf6d\",\"#cccccc\",\"#c59e8a\",\"#efcf6d\",\"#cccccc\",\"#c59e8a\",\"#efcf6d\",\"#cccccc\",\"#c59e8a\",\"#c59e8a\"],\"MedalLine\":[\"#c8a850\",\"#b0b0b1\",\"#98715d\",\"#c8a850\",\"#b0b0b1\",\"#98715d\",\"#c8a850\",\"#b0b0b1\",\"#98715d\",\"#c8a850\",\"#b0b0b1\",\"#98715d\",\"#c8a850\",\"#b0b0b1\",\"#98715d\",\"#c8a850\",\"#b0b0b1\",\"#98715d\",\"#c8a850\",\"#b0b0b1\",\"#98715d\",\"#c8a850\",\"#b0b0b1\",\"#98715d\",\"#c8a850\",\"#b0b0b1\",\"#98715d\",\"#c8a850\",\"#b0b0b1\",\"#98715d\",\"#c8a850\",\"#b0b0b1\",\"#98715d\",\"#c8a850\",\"#b0b0b1\",\"#98715d\",\"#c8a850\",\"#b0b0b1\",\"#98715d\",\"#c8a850\",\"#b0b0b1\",\"#98715d\",\"#c8a850\",\"#b0b0b1\",\"#98715d\",\"#c8a850\",\"#b0b0b1\",\"#98715d\",\"#c8a850\",\"#b0b0b1\",\"#98715d\",\"#c8a850\",\"#b0b0b1\",\"#98715d\",\"#c8a850\",\"#b0b0b1\",\"#98715d\",\"#c8a850\",\"#b0b0b1\",\"#98715d\",\"#c8a850\",\"#b0b0b1\",\"#98715d\",\"#c8a850\",\"#b0b0b1\",\"#98715d\",\"#c8a850\",\"#b0b0b1\",\"#98715d\",\"#c8a850\",\"#b0b0b1\",\"#98715d\",\"#c8a850\",\"#b0b0b1\",\"#98715d\",\"#c8a850\",\"#b0b0b1\",\"#98715d\",\"#c8a850\",\"#b0b0b1\",\"#98715d\",\"#c8a850\",\"#b0b0b1\",\"#98715d\",\"#98715d\"],\"MetersBack\":[0.0,1.2307692307692242,1.6343207354443168,0.6191950464396134,2.628918099089983,2.825428859737633,2.2335025380710527,2.33265720081135,2.4316109422492294,2.4316109422492294,3.6036036036036,4.083665338645403,2.1341463414634054,2.628918099089983,2.7272727272727226,3.3132530120481896,3.8922155688622673,4.083665338645403,2.923387096774188,3.4102306920762215,3.6036036036036,3.6036036036036,5.49558390578998,5.772994129158516,6.048780487804873,6.048780487804873,7.314725697786328,4.274353876739556,4.46428571428571,5.02958579881656,5.02958579881656,5.957031249999989,6.776379477250716,3.2160804020100353,4.083665338645403,4.369414101290959,3.699999999999992,5.588235294117638,5.588235294117638,5.588235294117638,5.588235294117638,6.504854368932033,8.285714285714274,8.285714285714274,9.150943396226408,7.40384615384615,7.40384615384615,7.40384615384615,6.504854368932033,7.40384615384615,7.40384615384615,6.504854368932033,7.40384615384615,8.285714285714274,6.504854368932033,6.504854368932033,7.40384615384615,10.833333333333329,11.651376146788984,11.651376146788984,9.150943396226408,10.833333333333329,11.651376146788984,10.833333333333329,11.651376146788984,11.651376146788984,10.833333333333329,11.651376146788984,11.651376146788984,10.833333333333329,12.454545454545451,12.454545454545451,14.017857142857126,14.778761061946899,14.778761061946899,12.454545454545451,14.017857142857126,14.017857142857126,12.454545454545451,13.24324324324323,14.017857142857126,19.74999999999999,21.065573770491795,23.571428571428566,23.571428571428566],\"Name\":[\"Usain Bolt\",\"Yohan Blake\",\"Justin Gatlin\",\"Usain Bolt\",\"Richard Thompson\",\"Walter Dix\",\"Justin Gatlin\",\"Francis Obikwelu\",\"Maurice Greene\",\"Maurice Greene\",\"Ato Boldon\",\"Obadele Thompson\",\"Donovan Bailey\",\"Frankie Fredericks\",\"Ato Boldon\",\"Linford Christie\",\"Frankie Fredericks\",\"Dennis Mitchell\",\"Carl Lewis\",\"Linford Christie\",\"Calvin Smith\",\"Carl Lewis\",\"Sam Graddy\",\"Ben Johnson\",\"Allan Wells\",\"Silvio Leonard Tartabull\",\"Petar Petrov\",\"Hasely Crawford\",\"Donald Quarrie\",\"Valery Borzov\",\"Valery Borzov\",\"Robert Taylor\",\"Lennox Miller\",\"Jim Hines\",\"Lennox Miller\",\"Charles Greene\",\"Bob Hayes\",\"Enrique Figuerola Camue\",\"Harry Jerome\",\"Armin Hary\",\"David Sime\",\"Peter Radford\",\"Bobby Joe Morrow\",\"W. Thane Baker\",\"Hector Hogan\",\"Lindy Remigino\",\"Herbert McKenley\",\"E. McDonald Bailey\",\"W. Harrison Dillard\",\"H. Norwood \\\"Barney\\\" Ewell\",\"Lloyd LaBeach\",\"Jesse Owens\",\"Ralph Metcalfe\",\"Martinus Osendarp\",\"T. \\\"Eddie\\\" Tolan\",\"Ralph Metcalfe\",\"Arthur Jonath\",\"Percy Williams\",\"John \\\"Jack\\\" London\",\"Georg Lammers\",\"Harold Abrahams\",\"Jackson Scholz\",\"Arthur Porritt\",\"Charles Paddock\",\"Morris Kirksey\",\"Harry Edward\",\"Ralph Craig\",\"Alvah Meyer\",\"Donald Lippincott\",\"Reginald Walker\",\"James Rector\",\"Robert Kerr\",\"Charles \\\"Archie\\\" Hahn\",\"Fay Moulton\",\"Nigel Barker\",\"Charles \\\"Archie\\\" Hahn\",\"Nathaniel Cartmell\",\"Bill Hogenson\",\"Frank Jarvis\",\"J. Walter Tewksbury\",\"Stanley Rowley\",\"Thomas Burke\",\"Fritz Hofmann\",\"Alojz Sokol\",\"Francis Lane\"],\"SelectedName\":[null,null,null,null,null,null,null,null,null,null,null,null,null,null,null,null,null,null,\"Carl Lewis\",null,null,null,null,null,null,null,null,null,null,null,null,null,null,\"Jim Hines\",null,null,null,null,null,null,null,null,null,null,null,null,null,null,null,null,null,\"Jesse Owens\",null,null,null,null,null,null,null,null,null,null,null,null,null,null,null,null,null,null,null,null,null,null,null,null,null,null,null,null,null,\"Thomas Burke\",null,null,null],\"Speed\":[10.384215991692626,10.256410256410257,10.21450459652707,10.319917440660475,10.111223458038422,10.090817356205852,10.152284263959391,10.141987829614605,10.131712259371835,10.131712259371835,10.01001001001001,9.9601593625498,10.16260162601626,10.111223458038422,10.1010101010101,10.04016064257028,9.980039920159681,9.9601593625498,10.080645161290322,10.030090270812437,10.01001001001001,10.01001001001001,9.813542688910697,9.784735812133071,9.75609756097561,9.75609756097561,9.624639076034649,9.940357852882704,9.920634920634921,9.861932938856015,9.861932938856015,9.765625,9.68054211035818,10.050251256281408,9.9601593625498,9.930486593843098,10.0,9.803921568627452,9.803921568627452,9.803921568627452,9.803921568627452,9.70873786407767,9.523809523809524,9.523809523809524,9.433962264150944,9.615384615384615,9.615384615384615,9.615384615384615,9.70873786407767,9.615384615384615,9.615384615384615,9.70873786407767,9.615384615384615,9.523809523809524,9.70873786407767,9.70873786407767,9.615384615384615,9.25925925925926,9.174311926605505,9.174311926605505,9.433962264150944,9.25925925925926,9.174311926605505,9.25925925925926,9.174311926605505,9.174311926605505,9.25925925925926,9.174311926605505,9.174311926605505,9.25925925925926,9.090909090909092,9.090909090909092,8.928571428571429,8.849557522123893,8.849557522123893,9.090909090909092,8.928571428571429,8.928571428571429,9.090909090909092,9.00900900900901,8.928571428571429,8.333333333333334,8.196721311475411,7.936507936507937,7.936507936507937],\"Time\":[9.63,9.75,9.79,9.69,9.89,9.91,9.85,9.86,9.87,9.87,9.99,10.04,9.84,9.89,9.9,9.96,10.02,10.04,9.92,9.97,9.99,9.99,10.19,10.22,10.25,10.25,10.39,10.06,10.08,10.14,10.14,10.24,10.33,9.95,10.04,10.07,10.0,10.2,10.2,10.2,10.2,10.3,10.5,10.5,10.6,10.4,10.4,10.4,10.3,10.4,10.4,10.3,10.4,10.5,10.3,10.3,10.4,10.8,10.9,10.9,10.6,10.8,10.9,10.8,10.9,10.9,10.8,10.9,10.9,10.8,11.0,11.0,11.2,11.3,11.3,11.0,11.2,11.2,11.0,11.1,11.2,12.0,12.2,12.6,12.6],\"Year\":[2012,2012,2012,2008,2008,2008,2004,2004,2004,2000,2000,2000,1996,1996,1996,1992,1992,1992,1988,1988,1988,1984,1984,1984,1980,1980,1980,1976,1976,1976,1972,1972,1972,1968,1968,1968,1964,1964,1964,1960,1960,1960,1956,1956,1956,1952,1952,1952,1948,1948,1948,1936,1936,1936,1932,1932,1932,1928,1928,1928,1924,1924,1924,1920,1920,1920,1912,1912,1912,1908,1908,1908,1906,1906,1906,1904,1904,1904,1900,1900,1900,1896,1896,1896,1896],\"index\":[0,1,2,3,4,5,6,7,8,9,10,11,12,13,14,15,16,17,18,19,20,21,22,23,24,25,26,27,28,29,30,31,32,33,34,35,36,37,38,39,40,41,42,43,44,45,46,47,48,49,50,51,52,53,54,55,56,57,58,59,60,61,62,63,64,65,66,67,68,69,70,71,72,73,74,75,76,77,78,79,80,81,82,83,84]}},\"id\":\"67f42b76-ebd2-4b48-b93a-c4930dd4a573\",\"type\":\"ColumnDataSource\"},{\"attributes\":{\"callback\":null,\"range_padding\":0.05},\"id\":\"3a7f0576-5d54-4ae2-adcd-3ecff3acfc52\",\"type\":\"DataRange1d\"},{\"attributes\":{\"data_source\":{\"id\":\"67f42b76-ebd2-4b48-b93a-c4930dd4a573\",\"type\":\"ColumnDataSource\"},\"glyph\":{\"id\":\"70f506ea-d5cb-433d-9d72-efb7ad7855da\",\"type\":\"Text\"},\"hover_glyph\":null,\"nonselection_glyph\":null,\"selection_glyph\":null},\"id\":\"f420a5ea-2747-4178-bf65-f5a1c3e9b8a8\",\"type\":\"GlyphRenderer\"},{\"attributes\":{\"callback\":null,\"end\":0,\"start\":25.571428571428566},\"id\":\"7e4cd8c1-e293-44ba-8545-25381c21c056\",\"type\":\"Range1d\"},{\"attributes\":{\"text\":{\"value\":\"No Olympics in 1940 or 1944\"},\"text_align\":\"center\",\"text_baseline\":\"middle\",\"text_color\":{\"value\":\"silver\"},\"text_font_size\":{\"value\":\"9pt\"},\"text_font_style\":\"italic\",\"x\":{\"value\":7.5},\"y\":{\"value\":1942}},\"id\":\"cd9fec35-bb27-4b26-a19f-8a81986238dd\",\"type\":\"Text\"},{\"attributes\":{\"data_source\":{\"id\":\"a3a31fcb-6931-4d39-b598-971a3715bbea\",\"type\":\"ColumnDataSource\"},\"glyph\":{\"id\":\"cd9fec35-bb27-4b26-a19f-8a81986238dd\",\"type\":\"Text\"},\"hover_glyph\":null,\"nonselection_glyph\":null,\"selection_glyph\":null},\"id\":\"7c31d67d-fbc8-4591-b2f1-c9461cac4e9c\",\"type\":\"GlyphRenderer\"},{\"attributes\":{\"callback\":null},\"id\":\"a3a31fcb-6931-4d39-b598-971a3715bbea\",\"type\":\"ColumnDataSource\"}],\"root_ids\":[\"3ec9c19e-2748-44f0-add8-51eb6e54920d\"]},\"title\":\"Bokeh Application\",\"version\":\"0.11.1\"}};\n",
       "            var render_items = [{\"docid\":\"5d6894fc-9ebb-4766-8175-ead5a44ad60a\",\"elementid\":\"0c15f7f3-aaf3-486a-84b6-215999a82536\",\"modelid\":\"3ec9c19e-2748-44f0-add8-51eb6e54920d\",\"notebook_comms_target\":\"efbd6da1-7a30-4cb9-bd97-5eccfa13c335\"}];\n",
       "            \n",
       "            Bokeh.embed.embed_items(docs_json, render_items);\n",
       "        });\n",
       "      },\n",
       "      function(Bokeh) {\n",
       "      }\n",
       "    ];\n",
       "  \n",
       "    function run_inline_js() {\n",
       "      for (var i = 0; i < inline_js.length; i++) {\n",
       "        inline_js[i](window.Bokeh);\n",
       "      }\n",
       "    }\n",
       "  \n",
       "    if (window._bokeh_is_loading === 0) {\n",
       "      console.log(\"Bokeh: BokehJS loaded, going straight to plotting\");\n",
       "      run_inline_js();\n",
       "    } else {\n",
       "      load_libs(js_urls, function() {\n",
       "        console.log(\"Bokeh: BokehJS plotting callback run at\", now());\n",
       "        run_inline_js();\n",
       "      });\n",
       "    }\n",
       "  }(this));\n",
       "</script>"
      ]
     },
     "metadata": {},
     "output_type": "display_data"
    },
    {
     "data": {
      "text/html": [
       "<p><code>&lt;Bokeh Notebook handle for <strong>In[10]</strong>&gt;</code></p>"
      ],
      "text/plain": [
       "<bokeh.io._CommsHandle at 0x10ced6dd8>"
      ]
     },
     "execution_count": 10,
     "metadata": {},
     "output_type": "execute_result"
    }
   ],
   "source": [
    "show(plot)"
   ]
  },
  {
   "cell_type": "markdown",
   "metadata": {},
   "source": [
    "## Adding Axes and Grids"
   ]
  },
  {
   "cell_type": "code",
   "execution_count": 11,
   "metadata": {
    "collapsed": false
   },
   "outputs": [],
   "source": [
    "from bokeh.models import Grid, LinearAxis, SingleIntervalTicker"
   ]
  },
  {
   "cell_type": "code",
   "execution_count": 12,
   "metadata": {
    "collapsed": false
   },
   "outputs": [
    {
     "data": {
      "text/plain": [
       "<bokeh.models.renderers.GlyphRenderer at 0x10cec52e8>"
      ]
     },
     "execution_count": 12,
     "metadata": {},
     "output_type": "execute_result"
    }
   ],
   "source": [
    "xdr = Range1d(start=sprint.MetersBack.max()+2, end=0)  # +2 is for padding\n",
    "ydr = DataRange1d(range_padding=0.05)  \n",
    "\n",
    "plot = Plot(x_range=xdr, y_range=ydr, **plot_options)\n",
    "plot.add_glyph(source, medal_glyph)\n",
    "plot.add_glyph(source, athlete_glyph)\n",
    "plot.add_glyph(no_olympics_glyph)"
   ]
  },
  {
   "cell_type": "code",
   "execution_count": 13,
   "metadata": {
    "collapsed": true
   },
   "outputs": [],
   "source": [
    "xticker = SingleIntervalTicker(interval=5, num_minor_ticks=0)\n",
    "xaxis = LinearAxis(ticker=xticker, axis_line_color=None, major_tick_line_color=None,\n",
    "                   axis_label=\"Meters behind 2012 Bolt\", axis_label_text_font_size=\"10pt\", \n",
    "                   axis_label_text_font_style=\"bold\")\n",
    "plot.add_layout(xaxis, \"below\")\n",
    "\n",
    "xgrid = Grid(dimension=0, ticker=xaxis.ticker, grid_line_dash=\"dashed\")\n",
    "plot.add_layout(xgrid)\n",
    "\n",
    "yticker = SingleIntervalTicker(interval=12, num_minor_ticks=0)\n",
    "yaxis = LinearAxis(ticker=yticker, major_tick_in=-5, major_tick_out=10)\n",
    "plot.add_layout(yaxis, \"right\")"
   ]
  },
  {
   "cell_type": "code",
   "execution_count": 14,
   "metadata": {
    "collapsed": false
   },
   "outputs": [
    {
     "data": {
      "text/html": [
       "\n",
       "\n",
       "    <div class=\"plotdiv\" id=\"762b9348-a11d-48fa-9c42-d8723ead70fc\"></div>\n",
       "<script type=\"text/javascript\">\n",
       "  \n",
       "  (function(global) {\n",
       "    function now() {\n",
       "      return new Date();\n",
       "    }\n",
       "  \n",
       "    if (typeof (window._bokeh_onload_callbacks) === \"undefined\") {\n",
       "      window._bokeh_onload_callbacks = [];\n",
       "    }\n",
       "  \n",
       "    function run_callbacks() {\n",
       "      window._bokeh_onload_callbacks.forEach(function(callback) { callback() });\n",
       "      delete window._bokeh_onload_callbacks\n",
       "      console.info(\"Bokeh: all callbacks have finished\");\n",
       "    }\n",
       "  \n",
       "    function load_libs(js_urls, callback) {\n",
       "      window._bokeh_onload_callbacks.push(callback);\n",
       "      if (window._bokeh_is_loading > 0) {\n",
       "        console.log(\"Bokeh: BokehJS is being loaded, scheduling callback at\", now());\n",
       "        return null;\n",
       "      }\n",
       "      if (js_urls == null || js_urls.length === 0) {\n",
       "        run_callbacks();\n",
       "        return null;\n",
       "      }\n",
       "      console.log(\"Bokeh: BokehJS not loaded, scheduling load and callback at\", now());\n",
       "      window._bokeh_is_loading = js_urls.length;\n",
       "      for (var i = 0; i < js_urls.length; i++) {\n",
       "        var url = js_urls[i];\n",
       "        var s = document.createElement('script');\n",
       "        s.src = url;\n",
       "        s.async = false;\n",
       "        s.onreadystatechange = s.onload = function() {\n",
       "          window._bokeh_is_loading--;\n",
       "          if (window._bokeh_is_loading === 0) {\n",
       "            console.log(\"Bokeh: all BokehJS libraries loaded\");\n",
       "            run_callbacks()\n",
       "          }\n",
       "        };\n",
       "        s.onerror = function() {\n",
       "          console.warn(\"failed to load library \" + url);\n",
       "        };\n",
       "        console.log(\"Bokeh: injecting script tag for BokehJS library: \", url);\n",
       "        document.getElementsByTagName(\"head\")[0].appendChild(s);\n",
       "      }\n",
       "    };var element = document.getElementById(\"762b9348-a11d-48fa-9c42-d8723ead70fc\");\n",
       "    if (element == null) {\n",
       "      console.log(\"Bokeh: ERROR: autoload.js configured with elementid '762b9348-a11d-48fa-9c42-d8723ead70fc' but no matching script tag was found. \")\n",
       "      return false;\n",
       "    }\n",
       "  \n",
       "    var js_urls = [];\n",
       "  \n",
       "    var inline_js = [\n",
       "      function(Bokeh) {\n",
       "        Bokeh.$(function() {\n",
       "            var docs_json = {\"1165a36c-cdbd-4fb5-8af5-992d861f7295\":{\"roots\":{\"references\":[{\"attributes\":{},\"id\":\"be3a5116-be4f-450f-b13e-a2467dfbf560\",\"type\":\"BasicTickFormatter\"},{\"attributes\":{\"text\":{\"field\":\"SelectedName\"},\"text_baseline\":\"middle\",\"text_font_size\":{\"value\":\"9pt\"},\"x\":{\"field\":\"MetersBack\"},\"x_offset\":{\"value\":10},\"y\":{\"field\":\"Year\"}},\"id\":\"70f506ea-d5cb-433d-9d72-efb7ad7855da\",\"type\":\"Text\"},{\"attributes\":{\"callback\":null,\"end\":0,\"start\":25.571428571428566},\"id\":\"f0bb5b5a-33e7-4629-9d98-d9d4556afbaf\",\"type\":\"Range1d\"},{\"attributes\":{\"text\":{\"value\":\"No Olympics in 1940 or 1944\"},\"text_align\":\"center\",\"text_baseline\":\"middle\",\"text_color\":{\"value\":\"silver\"},\"text_font_size\":{\"value\":\"9pt\"},\"text_font_style\":\"italic\",\"x\":{\"value\":7.5},\"y\":{\"value\":1942}},\"id\":\"cd9fec35-bb27-4b26-a19f-8a81986238dd\",\"type\":\"Text\"},{\"attributes\":{\"data_source\":{\"id\":\"e631151d-30a0-4380-b999-ae47a88e7171\",\"type\":\"ColumnDataSource\"},\"glyph\":{\"id\":\"cd9fec35-bb27-4b26-a19f-8a81986238dd\",\"type\":\"Text\"},\"hover_glyph\":null,\"nonselection_glyph\":null,\"selection_glyph\":null},\"id\":\"e1968f24-58b4-4ac0-bb41-bde4b57569c1\",\"type\":\"GlyphRenderer\"},{\"attributes\":{\"grid_line_dash\":[6],\"plot\":{\"id\":\"c2566f64-10ea-462b-b0a9-e4c018246ac0\",\"type\":\"Plot\"},\"ticker\":{\"id\":\"ba1061ce-7f15-405b-933a-2efbca39d818\",\"type\":\"SingleIntervalTicker\"}},\"id\":\"dd559d58-2e36-44ee-b1a9-369fbb85065e\",\"type\":\"Grid\"},{\"attributes\":{\"data_source\":{\"id\":\"67f42b76-ebd2-4b48-b93a-c4930dd4a573\",\"type\":\"ColumnDataSource\"},\"glyph\":{\"id\":\"cc7dbf8d-9296-4aa4-a451-492e77edaeee\",\"type\":\"Circle\"},\"hover_glyph\":null,\"nonselection_glyph\":null,\"selection_glyph\":null},\"id\":\"38bec21d-f30b-427e-8dcf-13863be63653\",\"type\":\"GlyphRenderer\"},{\"attributes\":{\"callback\":null},\"id\":\"e631151d-30a0-4380-b999-ae47a88e7171\",\"type\":\"ColumnDataSource\"},{\"attributes\":{\"fill_alpha\":{\"value\":0.5},\"fill_color\":{\"field\":\"MedalFill\"},\"line_color\":{\"field\":\"MedalLine\"},\"radius\":{\"units\":\"screen\",\"value\":5},\"x\":{\"field\":\"MetersBack\"},\"y\":{\"field\":\"Year\"}},\"id\":\"cc7dbf8d-9296-4aa4-a451-492e77edaeee\",\"type\":\"Circle\"},{\"attributes\":{},\"id\":\"a1d68947-146a-456a-b73e-153a1996648b\",\"type\":\"ToolEvents\"},{\"attributes\":{\"callback\":null,\"column_names\":[\"index\",\"MedalLine\",\"Speed\",\"Abbrev\",\"Time\",\"Name\",\"MedalFill\",\"Year\",\"MetersBack\",\"Medal\",\"Country\",\"SelectedName\"],\"data\":{\"Abbrev\":[\"JAM\",\"JAM\",\"USA\",\"JAM\",\"TRI\",\"USA\",\"USA\",\"POR\",\"USA\",\"USA\",\"TRI\",\"BAR\",\"CAN\",\"NAM\",\"TRI\",\"GBR\",\"NAM\",\"USA\",\"USA\",\"GBR\",\"USA\",\"USA\",\"USA\",\"CAN\",\"GBR\",\"CUB\",\"BUL\",\"TRI\",\"JAM\",\"URS\",\"URS\",\"USA\",\"JAM\",\"USA\",\"JAM\",\"USA\",\"USA\",\"CUB\",\"CAN\",\"EUA\",\"USA\",\"GBR\",\"USA\",\"USA\",\"AUS\",\"USA\",\"JAM\",\"GBR\",\"USA\",\"USA\",\"PAN\",\"USA\",\"USA\",\"NED\",\"USA\",\"USA\",\"GER\",\"CAN\",\"GBR\",\"GER\",\"GBR\",\"USA\",\"NZL\",\"USA\",\"USA\",\"GBR\",\"USA\",\"USA\",\"USA\",\"RSA\",\"USA\",\"CAN\",\"USA\",\"USA\",\"AUS\",\"USA\",\"USA\",\"USA\",\"USA\",\"USA\",\"AUS\",\"USA\",\"GER\",\"HUN\",\"USA\"],\"Country\":[\"Jamaica\",\"Jamaica\",\"United States\",\"Jamaica\",\"Trinidad and Tobago\",\"United States\",\"United States\",\"Portugal\",\"United States\",\"United States\",\"Trinidad and Tobago\",\"Barbados\",\"Canada\",\"Namibia\",\"Trinidad and Tobago\",\"Britain\",\"Namibia\",\"United States\",\"United States\",\"Britain\",\"United States\",\"United States\",\"United States\",\"Canada\",\"Britain\",\"Cuba\",\"Bulgaria\",\"Trinidad and Tobago\",\"Jamaica\",\"Soviet Union\",\"Soviet Union\",\"United States\",\"Jamaica\",\"United States\",\"Jamaica\",\"United States\",\"United States\",\"Cuba\",\"Canada\",\"United Team of Germany\",\"United States\",\"Britain\",\"United States\",\"United States\",\"Australia\",\"United States\",\"Jamaica\",\"Britain\",\"United States\",\"United States\",\"Panama\",\"United States\",\"United States\",\"Netherlands\",\"United States\",\"United States\",\"Germany\",\"Canada\",\"Britain\",\"Germany\",\"Britain\",\"United States\",\"New Zealand\",\"United States\",\"United States\",\"Britain\",\"United States\",\"United States\",\"United States\",\"South Africa\",\"United States\",\"Canada\",\"United States\",\"United States\",\"Australia\",\"United States\",\"United States\",\"United States\",\"United States\",\"United States\",\"Australia\",\"United States\",\"Germany\",\"Hungary\",\"United States\"],\"Medal\":[\"gold\",\"silver\",\"bronze\",\"gold\",\"silver\",\"bronze\",\"gold\",\"silver\",\"bronze\",\"gold\",\"silver\",\"bronze\",\"gold\",\"silver\",\"bronze\",\"gold\",\"silver\",\"bronze\",\"gold\",\"silver\",\"bronze\",\"gold\",\"silver\",\"bronze\",\"gold\",\"silver\",\"bronze\",\"gold\",\"silver\",\"bronze\",\"gold\",\"silver\",\"bronze\",\"gold\",\"silver\",\"bronze\",\"gold\",\"silver\",\"bronze\",\"gold\",\"silver\",\"bronze\",\"gold\",\"silver\",\"bronze\",\"gold\",\"silver\",\"bronze\",\"gold\",\"silver\",\"bronze\",\"gold\",\"silver\",\"bronze\",\"gold\",\"silver\",\"bronze\",\"gold\",\"silver\",\"bronze\",\"gold\",\"silver\",\"bronze\",\"gold\",\"silver\",\"bronze\",\"gold\",\"silver\",\"bronze\",\"gold\",\"silver\",\"bronze\",\"gold\",\"silver\",\"bronze\",\"gold\",\"silver\",\"bronze\",\"gold\",\"silver\",\"bronze\",\"gold\",\"silver\",\"bronze\",\"bronze\"],\"MedalFill\":[\"#efcf6d\",\"#cccccc\",\"#c59e8a\",\"#efcf6d\",\"#cccccc\",\"#c59e8a\",\"#efcf6d\",\"#cccccc\",\"#c59e8a\",\"#efcf6d\",\"#cccccc\",\"#c59e8a\",\"#efcf6d\",\"#cccccc\",\"#c59e8a\",\"#efcf6d\",\"#cccccc\",\"#c59e8a\",\"#efcf6d\",\"#cccccc\",\"#c59e8a\",\"#efcf6d\",\"#cccccc\",\"#c59e8a\",\"#efcf6d\",\"#cccccc\",\"#c59e8a\",\"#efcf6d\",\"#cccccc\",\"#c59e8a\",\"#efcf6d\",\"#cccccc\",\"#c59e8a\",\"#efcf6d\",\"#cccccc\",\"#c59e8a\",\"#efcf6d\",\"#cccccc\",\"#c59e8a\",\"#efcf6d\",\"#cccccc\",\"#c59e8a\",\"#efcf6d\",\"#cccccc\",\"#c59e8a\",\"#efcf6d\",\"#cccccc\",\"#c59e8a\",\"#efcf6d\",\"#cccccc\",\"#c59e8a\",\"#efcf6d\",\"#cccccc\",\"#c59e8a\",\"#efcf6d\",\"#cccccc\",\"#c59e8a\",\"#efcf6d\",\"#cccccc\",\"#c59e8a\",\"#efcf6d\",\"#cccccc\",\"#c59e8a\",\"#efcf6d\",\"#cccccc\",\"#c59e8a\",\"#efcf6d\",\"#cccccc\",\"#c59e8a\",\"#efcf6d\",\"#cccccc\",\"#c59e8a\",\"#efcf6d\",\"#cccccc\",\"#c59e8a\",\"#efcf6d\",\"#cccccc\",\"#c59e8a\",\"#efcf6d\",\"#cccccc\",\"#c59e8a\",\"#efcf6d\",\"#cccccc\",\"#c59e8a\",\"#c59e8a\"],\"MedalLine\":[\"#c8a850\",\"#b0b0b1\",\"#98715d\",\"#c8a850\",\"#b0b0b1\",\"#98715d\",\"#c8a850\",\"#b0b0b1\",\"#98715d\",\"#c8a850\",\"#b0b0b1\",\"#98715d\",\"#c8a850\",\"#b0b0b1\",\"#98715d\",\"#c8a850\",\"#b0b0b1\",\"#98715d\",\"#c8a850\",\"#b0b0b1\",\"#98715d\",\"#c8a850\",\"#b0b0b1\",\"#98715d\",\"#c8a850\",\"#b0b0b1\",\"#98715d\",\"#c8a850\",\"#b0b0b1\",\"#98715d\",\"#c8a850\",\"#b0b0b1\",\"#98715d\",\"#c8a850\",\"#b0b0b1\",\"#98715d\",\"#c8a850\",\"#b0b0b1\",\"#98715d\",\"#c8a850\",\"#b0b0b1\",\"#98715d\",\"#c8a850\",\"#b0b0b1\",\"#98715d\",\"#c8a850\",\"#b0b0b1\",\"#98715d\",\"#c8a850\",\"#b0b0b1\",\"#98715d\",\"#c8a850\",\"#b0b0b1\",\"#98715d\",\"#c8a850\",\"#b0b0b1\",\"#98715d\",\"#c8a850\",\"#b0b0b1\",\"#98715d\",\"#c8a850\",\"#b0b0b1\",\"#98715d\",\"#c8a850\",\"#b0b0b1\",\"#98715d\",\"#c8a850\",\"#b0b0b1\",\"#98715d\",\"#c8a850\",\"#b0b0b1\",\"#98715d\",\"#c8a850\",\"#b0b0b1\",\"#98715d\",\"#c8a850\",\"#b0b0b1\",\"#98715d\",\"#c8a850\",\"#b0b0b1\",\"#98715d\",\"#c8a850\",\"#b0b0b1\",\"#98715d\",\"#98715d\"],\"MetersBack\":[0.0,1.2307692307692242,1.6343207354443168,0.6191950464396134,2.628918099089983,2.825428859737633,2.2335025380710527,2.33265720081135,2.4316109422492294,2.4316109422492294,3.6036036036036,4.083665338645403,2.1341463414634054,2.628918099089983,2.7272727272727226,3.3132530120481896,3.8922155688622673,4.083665338645403,2.923387096774188,3.4102306920762215,3.6036036036036,3.6036036036036,5.49558390578998,5.772994129158516,6.048780487804873,6.048780487804873,7.314725697786328,4.274353876739556,4.46428571428571,5.02958579881656,5.02958579881656,5.957031249999989,6.776379477250716,3.2160804020100353,4.083665338645403,4.369414101290959,3.699999999999992,5.588235294117638,5.588235294117638,5.588235294117638,5.588235294117638,6.504854368932033,8.285714285714274,8.285714285714274,9.150943396226408,7.40384615384615,7.40384615384615,7.40384615384615,6.504854368932033,7.40384615384615,7.40384615384615,6.504854368932033,7.40384615384615,8.285714285714274,6.504854368932033,6.504854368932033,7.40384615384615,10.833333333333329,11.651376146788984,11.651376146788984,9.150943396226408,10.833333333333329,11.651376146788984,10.833333333333329,11.651376146788984,11.651376146788984,10.833333333333329,11.651376146788984,11.651376146788984,10.833333333333329,12.454545454545451,12.454545454545451,14.017857142857126,14.778761061946899,14.778761061946899,12.454545454545451,14.017857142857126,14.017857142857126,12.454545454545451,13.24324324324323,14.017857142857126,19.74999999999999,21.065573770491795,23.571428571428566,23.571428571428566],\"Name\":[\"Usain Bolt\",\"Yohan Blake\",\"Justin Gatlin\",\"Usain Bolt\",\"Richard Thompson\",\"Walter Dix\",\"Justin Gatlin\",\"Francis Obikwelu\",\"Maurice Greene\",\"Maurice Greene\",\"Ato Boldon\",\"Obadele Thompson\",\"Donovan Bailey\",\"Frankie Fredericks\",\"Ato Boldon\",\"Linford Christie\",\"Frankie Fredericks\",\"Dennis Mitchell\",\"Carl Lewis\",\"Linford Christie\",\"Calvin Smith\",\"Carl Lewis\",\"Sam Graddy\",\"Ben Johnson\",\"Allan Wells\",\"Silvio Leonard Tartabull\",\"Petar Petrov\",\"Hasely Crawford\",\"Donald Quarrie\",\"Valery Borzov\",\"Valery Borzov\",\"Robert Taylor\",\"Lennox Miller\",\"Jim Hines\",\"Lennox Miller\",\"Charles Greene\",\"Bob Hayes\",\"Enrique Figuerola Camue\",\"Harry Jerome\",\"Armin Hary\",\"David Sime\",\"Peter Radford\",\"Bobby Joe Morrow\",\"W. Thane Baker\",\"Hector Hogan\",\"Lindy Remigino\",\"Herbert McKenley\",\"E. McDonald Bailey\",\"W. Harrison Dillard\",\"H. Norwood \\\"Barney\\\" Ewell\",\"Lloyd LaBeach\",\"Jesse Owens\",\"Ralph Metcalfe\",\"Martinus Osendarp\",\"T. \\\"Eddie\\\" Tolan\",\"Ralph Metcalfe\",\"Arthur Jonath\",\"Percy Williams\",\"John \\\"Jack\\\" London\",\"Georg Lammers\",\"Harold Abrahams\",\"Jackson Scholz\",\"Arthur Porritt\",\"Charles Paddock\",\"Morris Kirksey\",\"Harry Edward\",\"Ralph Craig\",\"Alvah Meyer\",\"Donald Lippincott\",\"Reginald Walker\",\"James Rector\",\"Robert Kerr\",\"Charles \\\"Archie\\\" Hahn\",\"Fay Moulton\",\"Nigel Barker\",\"Charles \\\"Archie\\\" Hahn\",\"Nathaniel Cartmell\",\"Bill Hogenson\",\"Frank Jarvis\",\"J. Walter Tewksbury\",\"Stanley Rowley\",\"Thomas Burke\",\"Fritz Hofmann\",\"Alojz Sokol\",\"Francis Lane\"],\"SelectedName\":[null,null,null,null,null,null,null,null,null,null,null,null,null,null,null,null,null,null,\"Carl Lewis\",null,null,null,null,null,null,null,null,null,null,null,null,null,null,\"Jim Hines\",null,null,null,null,null,null,null,null,null,null,null,null,null,null,null,null,null,\"Jesse Owens\",null,null,null,null,null,null,null,null,null,null,null,null,null,null,null,null,null,null,null,null,null,null,null,null,null,null,null,null,null,\"Thomas Burke\",null,null,null],\"Speed\":[10.384215991692626,10.256410256410257,10.21450459652707,10.319917440660475,10.111223458038422,10.090817356205852,10.152284263959391,10.141987829614605,10.131712259371835,10.131712259371835,10.01001001001001,9.9601593625498,10.16260162601626,10.111223458038422,10.1010101010101,10.04016064257028,9.980039920159681,9.9601593625498,10.080645161290322,10.030090270812437,10.01001001001001,10.01001001001001,9.813542688910697,9.784735812133071,9.75609756097561,9.75609756097561,9.624639076034649,9.940357852882704,9.920634920634921,9.861932938856015,9.861932938856015,9.765625,9.68054211035818,10.050251256281408,9.9601593625498,9.930486593843098,10.0,9.803921568627452,9.803921568627452,9.803921568627452,9.803921568627452,9.70873786407767,9.523809523809524,9.523809523809524,9.433962264150944,9.615384615384615,9.615384615384615,9.615384615384615,9.70873786407767,9.615384615384615,9.615384615384615,9.70873786407767,9.615384615384615,9.523809523809524,9.70873786407767,9.70873786407767,9.615384615384615,9.25925925925926,9.174311926605505,9.174311926605505,9.433962264150944,9.25925925925926,9.174311926605505,9.25925925925926,9.174311926605505,9.174311926605505,9.25925925925926,9.174311926605505,9.174311926605505,9.25925925925926,9.090909090909092,9.090909090909092,8.928571428571429,8.849557522123893,8.849557522123893,9.090909090909092,8.928571428571429,8.928571428571429,9.090909090909092,9.00900900900901,8.928571428571429,8.333333333333334,8.196721311475411,7.936507936507937,7.936507936507937],\"Time\":[9.63,9.75,9.79,9.69,9.89,9.91,9.85,9.86,9.87,9.87,9.99,10.04,9.84,9.89,9.9,9.96,10.02,10.04,9.92,9.97,9.99,9.99,10.19,10.22,10.25,10.25,10.39,10.06,10.08,10.14,10.14,10.24,10.33,9.95,10.04,10.07,10.0,10.2,10.2,10.2,10.2,10.3,10.5,10.5,10.6,10.4,10.4,10.4,10.3,10.4,10.4,10.3,10.4,10.5,10.3,10.3,10.4,10.8,10.9,10.9,10.6,10.8,10.9,10.8,10.9,10.9,10.8,10.9,10.9,10.8,11.0,11.0,11.2,11.3,11.3,11.0,11.2,11.2,11.0,11.1,11.2,12.0,12.2,12.6,12.6],\"Year\":[2012,2012,2012,2008,2008,2008,2004,2004,2004,2000,2000,2000,1996,1996,1996,1992,1992,1992,1988,1988,1988,1984,1984,1984,1980,1980,1980,1976,1976,1976,1972,1972,1972,1968,1968,1968,1964,1964,1964,1960,1960,1960,1956,1956,1956,1952,1952,1952,1948,1948,1948,1936,1936,1936,1932,1932,1932,1928,1928,1928,1924,1924,1924,1920,1920,1920,1912,1912,1912,1908,1908,1908,1906,1906,1906,1904,1904,1904,1900,1900,1900,1896,1896,1896,1896],\"index\":[0,1,2,3,4,5,6,7,8,9,10,11,12,13,14,15,16,17,18,19,20,21,22,23,24,25,26,27,28,29,30,31,32,33,34,35,36,37,38,39,40,41,42,43,44,45,46,47,48,49,50,51,52,53,54,55,56,57,58,59,60,61,62,63,64,65,66,67,68,69,70,71,72,73,74,75,76,77,78,79,80,81,82,83,84]}},\"id\":\"67f42b76-ebd2-4b48-b93a-c4930dd4a573\",\"type\":\"ColumnDataSource\"},{\"attributes\":{\"interval\":5,\"num_minor_ticks\":0},\"id\":\"ba1061ce-7f15-405b-933a-2efbca39d818\",\"type\":\"SingleIntervalTicker\"},{\"attributes\":{\"interval\":12,\"num_minor_ticks\":0},\"id\":\"13c0930d-17ec-4685-a44f-5c6d9b5ff0c6\",\"type\":\"SingleIntervalTicker\"},{\"attributes\":{\"callback\":null,\"range_padding\":0.05},\"id\":\"51b6253a-3151-486e-abf1-750876e192e5\",\"type\":\"DataRange1d\"},{\"attributes\":{},\"id\":\"cbeab392-4a38-4d6c-9aa3-880876314617\",\"type\":\"BasicTickFormatter\"},{\"attributes\":{\"axis_label\":\"Meters behind 2012 Bolt\",\"axis_label_text_font_size\":{\"value\":\"10pt\"},\"axis_label_text_font_style\":\"bold\",\"axis_line_color\":{\"value\":null},\"formatter\":{\"id\":\"be3a5116-be4f-450f-b13e-a2467dfbf560\",\"type\":\"BasicTickFormatter\"},\"major_tick_line_color\":{\"value\":null},\"plot\":{\"id\":\"c2566f64-10ea-462b-b0a9-e4c018246ac0\",\"type\":\"Plot\"},\"ticker\":{\"id\":\"ba1061ce-7f15-405b-933a-2efbca39d818\",\"type\":\"SingleIntervalTicker\"}},\"id\":\"d0ef314f-b77d-4c7f-a5b0-62738fe36546\",\"type\":\"LinearAxis\"},{\"attributes\":{\"formatter\":{\"id\":\"cbeab392-4a38-4d6c-9aa3-880876314617\",\"type\":\"BasicTickFormatter\"},\"major_tick_in\":-5,\"major_tick_out\":10,\"plot\":{\"id\":\"c2566f64-10ea-462b-b0a9-e4c018246ac0\",\"type\":\"Plot\"},\"ticker\":{\"id\":\"13c0930d-17ec-4685-a44f-5c6d9b5ff0c6\",\"type\":\"SingleIntervalTicker\"}},\"id\":\"73f51741-6106-4b89-85af-f9e78239efd2\",\"type\":\"LinearAxis\"},{\"attributes\":{\"below\":[{\"id\":\"d0ef314f-b77d-4c7f-a5b0-62738fe36546\",\"type\":\"LinearAxis\"}],\"outline_line_color\":{\"value\":null},\"plot_height\":480,\"plot_width\":800,\"renderers\":[{\"id\":\"38bec21d-f30b-427e-8dcf-13863be63653\",\"type\":\"GlyphRenderer\"},{\"id\":\"eff19236-e0c6-4855-ae17-e8f3758d2808\",\"type\":\"GlyphRenderer\"},{\"id\":\"e1968f24-58b4-4ac0-bb41-bde4b57569c1\",\"type\":\"GlyphRenderer\"},{\"id\":\"d0ef314f-b77d-4c7f-a5b0-62738fe36546\",\"type\":\"LinearAxis\"},{\"id\":\"dd559d58-2e36-44ee-b1a9-369fbb85065e\",\"type\":\"Grid\"},{\"id\":\"73f51741-6106-4b89-85af-f9e78239efd2\",\"type\":\"LinearAxis\"}],\"right\":[{\"id\":\"73f51741-6106-4b89-85af-f9e78239efd2\",\"type\":\"LinearAxis\"}],\"title\":\"Usain Bolt vs. 116 years of Olympic sprinters\",\"tool_events\":{\"id\":\"a1d68947-146a-456a-b73e-153a1996648b\",\"type\":\"ToolEvents\"},\"toolbar_location\":null,\"x_range\":{\"id\":\"f0bb5b5a-33e7-4629-9d98-d9d4556afbaf\",\"type\":\"Range1d\"},\"y_range\":{\"id\":\"51b6253a-3151-486e-abf1-750876e192e5\",\"type\":\"DataRange1d\"}},\"id\":\"c2566f64-10ea-462b-b0a9-e4c018246ac0\",\"type\":\"Plot\"},{\"attributes\":{\"data_source\":{\"id\":\"67f42b76-ebd2-4b48-b93a-c4930dd4a573\",\"type\":\"ColumnDataSource\"},\"glyph\":{\"id\":\"70f506ea-d5cb-433d-9d72-efb7ad7855da\",\"type\":\"Text\"},\"hover_glyph\":null,\"nonselection_glyph\":null,\"selection_glyph\":null},\"id\":\"eff19236-e0c6-4855-ae17-e8f3758d2808\",\"type\":\"GlyphRenderer\"}],\"root_ids\":[\"c2566f64-10ea-462b-b0a9-e4c018246ac0\"]},\"title\":\"Bokeh Application\",\"version\":\"0.11.1\"}};\n",
       "            var render_items = [{\"docid\":\"1165a36c-cdbd-4fb5-8af5-992d861f7295\",\"elementid\":\"762b9348-a11d-48fa-9c42-d8723ead70fc\",\"modelid\":\"c2566f64-10ea-462b-b0a9-e4c018246ac0\",\"notebook_comms_target\":\"468bb3be-f5ed-4c22-b74f-e12f21dc78fd\"}];\n",
       "            \n",
       "            Bokeh.embed.embed_items(docs_json, render_items);\n",
       "        });\n",
       "      },\n",
       "      function(Bokeh) {\n",
       "      }\n",
       "    ];\n",
       "  \n",
       "    function run_inline_js() {\n",
       "      for (var i = 0; i < inline_js.length; i++) {\n",
       "        inline_js[i](window.Bokeh);\n",
       "      }\n",
       "    }\n",
       "  \n",
       "    if (window._bokeh_is_loading === 0) {\n",
       "      console.log(\"Bokeh: BokehJS loaded, going straight to plotting\");\n",
       "      run_inline_js();\n",
       "    } else {\n",
       "      load_libs(js_urls, function() {\n",
       "        console.log(\"Bokeh: BokehJS plotting callback run at\", now());\n",
       "        run_inline_js();\n",
       "      });\n",
       "    }\n",
       "  }(this));\n",
       "</script>"
      ]
     },
     "metadata": {},
     "output_type": "display_data"
    },
    {
     "data": {
      "text/html": [
       "<p><code>&lt;Bokeh Notebook handle for <strong>In[14]</strong>&gt;</code></p>"
      ],
      "text/plain": [
       "<bokeh.io._CommsHandle at 0x10ceacc88>"
      ]
     },
     "execution_count": 14,
     "metadata": {},
     "output_type": "execute_result"
    }
   ],
   "source": [
    "show(plot)"
   ]
  },
  {
   "cell_type": "markdown",
   "metadata": {},
   "source": [
    "## Adding a Hover Tool"
   ]
  },
  {
   "cell_type": "code",
   "execution_count": 15,
   "metadata": {
    "collapsed": false
   },
   "outputs": [],
   "source": [
    "from bokeh.models import HoverTool"
   ]
  },
  {
   "cell_type": "code",
   "execution_count": 16,
   "metadata": {
    "collapsed": false
   },
   "outputs": [],
   "source": [
    "tooltips = \"\"\"\n",
    "<div>\n",
    "    <span style=\"font-size: 15px;\">@Name</span>&nbsp;\n",
    "    <span style=\"font-size: 10px; color: #666;\">(@Abbrev)</span>\n",
    "</div>\n",
    "<div>\n",
    "    <span style=\"font-size: 17px; font-weight: bold;\">@Time{0.00}</span>&nbsp;\n",
    "    <span style=\"font-size: 10px; color: #666;\">@Year</span>\n",
    "</div>\n",
    "<div style=\"font-size: 11px; color: #666;\">@{MetersBack}{0.00} meters behind</div>\n",
    "\"\"\""
   ]
  },
  {
   "cell_type": "code",
   "execution_count": 17,
   "metadata": {
    "collapsed": true
   },
   "outputs": [],
   "source": [
    "xdr = Range1d(start=sprint.MetersBack.max()+2, end=0)  # +2 is for padding\n",
    "ydr = DataRange1d(range_padding=0.05)  \n",
    "\n",
    "plot = Plot(x_range=xdr, y_range=ydr, **plot_options)\n",
    "medal = plot.add_glyph(source, medal_glyph)  # we need this renderer to configure the hover tool\n",
    "plot.add_glyph(source, athlete_glyph)\n",
    "plot.add_glyph(no_olympics_glyph)\n",
    "\n",
    "xticker = SingleIntervalTicker(interval=5, num_minor_ticks=0)\n",
    "xaxis = LinearAxis(ticker=xticker, axis_line_color=None, major_tick_line_color=None,\n",
    "                   axis_label=\"Meters behind 2012 Bolt\", axis_label_text_font_size=\"10pt\", \n",
    "                   axis_label_text_font_style=\"bold\")\n",
    "plot.add_layout(xaxis, \"below\")\n",
    "\n",
    "xgrid = Grid(dimension=0, ticker=xaxis.ticker, grid_line_dash=\"dashed\")\n",
    "plot.add_layout(xgrid)\n",
    "\n",
    "yticker = SingleIntervalTicker(interval=12, num_minor_ticks=0)\n",
    "yaxis = LinearAxis(ticker=yticker, major_tick_in=-5, major_tick_out=10)\n",
    "plot.add_layout(yaxis, \"right\")"
   ]
  },
  {
   "cell_type": "code",
   "execution_count": 18,
   "metadata": {
    "collapsed": true
   },
   "outputs": [],
   "source": [
    "hover = HoverTool(tooltips=tooltips, renderers=[medal])\n",
    "plot.add_tools(hover)"
   ]
  },
  {
   "cell_type": "code",
   "execution_count": 19,
   "metadata": {
    "collapsed": false
   },
   "outputs": [
    {
     "data": {
      "text/html": [
       "\n",
       "\n",
       "    <div class=\"plotdiv\" id=\"6445a485-c8d0-4426-9ac0-528d92a59348\"></div>\n",
       "<script type=\"text/javascript\">\n",
       "  \n",
       "  (function(global) {\n",
       "    function now() {\n",
       "      return new Date();\n",
       "    }\n",
       "  \n",
       "    if (typeof (window._bokeh_onload_callbacks) === \"undefined\") {\n",
       "      window._bokeh_onload_callbacks = [];\n",
       "    }\n",
       "  \n",
       "    function run_callbacks() {\n",
       "      window._bokeh_onload_callbacks.forEach(function(callback) { callback() });\n",
       "      delete window._bokeh_onload_callbacks\n",
       "      console.info(\"Bokeh: all callbacks have finished\");\n",
       "    }\n",
       "  \n",
       "    function load_libs(js_urls, callback) {\n",
       "      window._bokeh_onload_callbacks.push(callback);\n",
       "      if (window._bokeh_is_loading > 0) {\n",
       "        console.log(\"Bokeh: BokehJS is being loaded, scheduling callback at\", now());\n",
       "        return null;\n",
       "      }\n",
       "      if (js_urls == null || js_urls.length === 0) {\n",
       "        run_callbacks();\n",
       "        return null;\n",
       "      }\n",
       "      console.log(\"Bokeh: BokehJS not loaded, scheduling load and callback at\", now());\n",
       "      window._bokeh_is_loading = js_urls.length;\n",
       "      for (var i = 0; i < js_urls.length; i++) {\n",
       "        var url = js_urls[i];\n",
       "        var s = document.createElement('script');\n",
       "        s.src = url;\n",
       "        s.async = false;\n",
       "        s.onreadystatechange = s.onload = function() {\n",
       "          window._bokeh_is_loading--;\n",
       "          if (window._bokeh_is_loading === 0) {\n",
       "            console.log(\"Bokeh: all BokehJS libraries loaded\");\n",
       "            run_callbacks()\n",
       "          }\n",
       "        };\n",
       "        s.onerror = function() {\n",
       "          console.warn(\"failed to load library \" + url);\n",
       "        };\n",
       "        console.log(\"Bokeh: injecting script tag for BokehJS library: \", url);\n",
       "        document.getElementsByTagName(\"head\")[0].appendChild(s);\n",
       "      }\n",
       "    };var element = document.getElementById(\"6445a485-c8d0-4426-9ac0-528d92a59348\");\n",
       "    if (element == null) {\n",
       "      console.log(\"Bokeh: ERROR: autoload.js configured with elementid '6445a485-c8d0-4426-9ac0-528d92a59348' but no matching script tag was found. \")\n",
       "      return false;\n",
       "    }\n",
       "  \n",
       "    var js_urls = [];\n",
       "  \n",
       "    var inline_js = [\n",
       "      function(Bokeh) {\n",
       "        Bokeh.$(function() {\n",
       "            var docs_json = {\"7c1058df-a1c8-4a15-a852-faff14ee6e29\":{\"roots\":{\"references\":[{\"attributes\":{\"interval\":12,\"num_minor_ticks\":0},\"id\":\"358caf03-3082-4234-ac68-4b5c39714684\",\"type\":\"SingleIntervalTicker\"},{\"attributes\":{\"below\":[{\"id\":\"e10de92b-5c80-495b-8cb5-ec58b1a40bce\",\"type\":\"LinearAxis\"}],\"outline_line_color\":{\"value\":null},\"plot_height\":480,\"plot_width\":800,\"renderers\":[{\"id\":\"ed1c8561-4c61-4ecf-b57e-08fc8edf0931\",\"type\":\"GlyphRenderer\"},{\"id\":\"f9ae513a-3b8e-4245-ab54-ec4ca4d7ff53\",\"type\":\"GlyphRenderer\"},{\"id\":\"5db1929b-6d4a-48ee-8ed0-0550ab203f88\",\"type\":\"GlyphRenderer\"},{\"id\":\"e10de92b-5c80-495b-8cb5-ec58b1a40bce\",\"type\":\"LinearAxis\"},{\"id\":\"1e59d153-e527-439d-ad77-541122844a48\",\"type\":\"Grid\"},{\"id\":\"77fada25-f36e-4b07-81d6-9351eaac05da\",\"type\":\"LinearAxis\"}],\"right\":[{\"id\":\"77fada25-f36e-4b07-81d6-9351eaac05da\",\"type\":\"LinearAxis\"}],\"title\":\"Usain Bolt vs. 116 years of Olympic sprinters\",\"tool_events\":{\"id\":\"da94f262-08d5-48f0-b875-705310de676e\",\"type\":\"ToolEvents\"},\"toolbar_location\":null,\"tools\":[{\"id\":\"401a92c2-5204-4db8-a906-f89caf9c0315\",\"type\":\"HoverTool\"}],\"x_range\":{\"id\":\"edda168e-c890-4661-824e-06153eb67625\",\"type\":\"Range1d\"},\"y_range\":{\"id\":\"8c5a1bc9-7178-4730-85f0-b9f425c20dd5\",\"type\":\"DataRange1d\"}},\"id\":\"edf0284d-11b7-4068-9ab8-b9f2e56493a7\",\"type\":\"Plot\"},{\"attributes\":{\"callback\":null},\"id\":\"0dc67232-e230-451b-a396-d3904eb9bc9b\",\"type\":\"ColumnDataSource\"},{\"attributes\":{\"data_source\":{\"id\":\"0dc67232-e230-451b-a396-d3904eb9bc9b\",\"type\":\"ColumnDataSource\"},\"glyph\":{\"id\":\"cd9fec35-bb27-4b26-a19f-8a81986238dd\",\"type\":\"Text\"},\"hover_glyph\":null,\"nonselection_glyph\":null,\"selection_glyph\":null},\"id\":\"5db1929b-6d4a-48ee-8ed0-0550ab203f88\",\"type\":\"GlyphRenderer\"},{\"attributes\":{\"text\":{\"field\":\"SelectedName\"},\"text_baseline\":\"middle\",\"text_font_size\":{\"value\":\"9pt\"},\"x\":{\"field\":\"MetersBack\"},\"x_offset\":{\"value\":10},\"y\":{\"field\":\"Year\"}},\"id\":\"70f506ea-d5cb-433d-9d72-efb7ad7855da\",\"type\":\"Text\"},{\"attributes\":{\"text\":{\"value\":\"No Olympics in 1940 or 1944\"},\"text_align\":\"center\",\"text_baseline\":\"middle\",\"text_color\":{\"value\":\"silver\"},\"text_font_size\":{\"value\":\"9pt\"},\"text_font_style\":\"italic\",\"x\":{\"value\":7.5},\"y\":{\"value\":1942}},\"id\":\"cd9fec35-bb27-4b26-a19f-8a81986238dd\",\"type\":\"Text\"},{\"attributes\":{},\"id\":\"da94f262-08d5-48f0-b875-705310de676e\",\"type\":\"ToolEvents\"},{\"attributes\":{\"grid_line_dash\":[6],\"plot\":{\"id\":\"edf0284d-11b7-4068-9ab8-b9f2e56493a7\",\"type\":\"Plot\"},\"ticker\":{\"id\":\"2555dd3d-cb1a-4c8d-8338-9ba72a381743\",\"type\":\"SingleIntervalTicker\"}},\"id\":\"1e59d153-e527-439d-ad77-541122844a48\",\"type\":\"Grid\"},{\"attributes\":{\"data_source\":{\"id\":\"67f42b76-ebd2-4b48-b93a-c4930dd4a573\",\"type\":\"ColumnDataSource\"},\"glyph\":{\"id\":\"cc7dbf8d-9296-4aa4-a451-492e77edaeee\",\"type\":\"Circle\"},\"hover_glyph\":null,\"nonselection_glyph\":null,\"selection_glyph\":null},\"id\":\"ed1c8561-4c61-4ecf-b57e-08fc8edf0931\",\"type\":\"GlyphRenderer\"},{\"attributes\":{\"fill_alpha\":{\"value\":0.5},\"fill_color\":{\"field\":\"MedalFill\"},\"line_color\":{\"field\":\"MedalLine\"},\"radius\":{\"units\":\"screen\",\"value\":5},\"x\":{\"field\":\"MetersBack\"},\"y\":{\"field\":\"Year\"}},\"id\":\"cc7dbf8d-9296-4aa4-a451-492e77edaeee\",\"type\":\"Circle\"},{\"attributes\":{\"interval\":5,\"num_minor_ticks\":0},\"id\":\"2555dd3d-cb1a-4c8d-8338-9ba72a381743\",\"type\":\"SingleIntervalTicker\"},{\"attributes\":{\"data_source\":{\"id\":\"67f42b76-ebd2-4b48-b93a-c4930dd4a573\",\"type\":\"ColumnDataSource\"},\"glyph\":{\"id\":\"70f506ea-d5cb-433d-9d72-efb7ad7855da\",\"type\":\"Text\"},\"hover_glyph\":null,\"nonselection_glyph\":null,\"selection_glyph\":null},\"id\":\"f9ae513a-3b8e-4245-ab54-ec4ca4d7ff53\",\"type\":\"GlyphRenderer\"},{\"attributes\":{\"axis_label\":\"Meters behind 2012 Bolt\",\"axis_label_text_font_size\":{\"value\":\"10pt\"},\"axis_label_text_font_style\":\"bold\",\"axis_line_color\":{\"value\":null},\"formatter\":{\"id\":\"6b337e9c-6791-42e2-8868-679b616f35d3\",\"type\":\"BasicTickFormatter\"},\"major_tick_line_color\":{\"value\":null},\"plot\":{\"id\":\"edf0284d-11b7-4068-9ab8-b9f2e56493a7\",\"type\":\"Plot\"},\"ticker\":{\"id\":\"2555dd3d-cb1a-4c8d-8338-9ba72a381743\",\"type\":\"SingleIntervalTicker\"}},\"id\":\"e10de92b-5c80-495b-8cb5-ec58b1a40bce\",\"type\":\"LinearAxis\"},{\"attributes\":{\"callback\":null,\"column_names\":[\"index\",\"MedalLine\",\"Speed\",\"Abbrev\",\"Time\",\"Name\",\"MedalFill\",\"Year\",\"MetersBack\",\"Medal\",\"Country\",\"SelectedName\"],\"data\":{\"Abbrev\":[\"JAM\",\"JAM\",\"USA\",\"JAM\",\"TRI\",\"USA\",\"USA\",\"POR\",\"USA\",\"USA\",\"TRI\",\"BAR\",\"CAN\",\"NAM\",\"TRI\",\"GBR\",\"NAM\",\"USA\",\"USA\",\"GBR\",\"USA\",\"USA\",\"USA\",\"CAN\",\"GBR\",\"CUB\",\"BUL\",\"TRI\",\"JAM\",\"URS\",\"URS\",\"USA\",\"JAM\",\"USA\",\"JAM\",\"USA\",\"USA\",\"CUB\",\"CAN\",\"EUA\",\"USA\",\"GBR\",\"USA\",\"USA\",\"AUS\",\"USA\",\"JAM\",\"GBR\",\"USA\",\"USA\",\"PAN\",\"USA\",\"USA\",\"NED\",\"USA\",\"USA\",\"GER\",\"CAN\",\"GBR\",\"GER\",\"GBR\",\"USA\",\"NZL\",\"USA\",\"USA\",\"GBR\",\"USA\",\"USA\",\"USA\",\"RSA\",\"USA\",\"CAN\",\"USA\",\"USA\",\"AUS\",\"USA\",\"USA\",\"USA\",\"USA\",\"USA\",\"AUS\",\"USA\",\"GER\",\"HUN\",\"USA\"],\"Country\":[\"Jamaica\",\"Jamaica\",\"United States\",\"Jamaica\",\"Trinidad and Tobago\",\"United States\",\"United States\",\"Portugal\",\"United States\",\"United States\",\"Trinidad and Tobago\",\"Barbados\",\"Canada\",\"Namibia\",\"Trinidad and Tobago\",\"Britain\",\"Namibia\",\"United States\",\"United States\",\"Britain\",\"United States\",\"United States\",\"United States\",\"Canada\",\"Britain\",\"Cuba\",\"Bulgaria\",\"Trinidad and Tobago\",\"Jamaica\",\"Soviet Union\",\"Soviet Union\",\"United States\",\"Jamaica\",\"United States\",\"Jamaica\",\"United States\",\"United States\",\"Cuba\",\"Canada\",\"United Team of Germany\",\"United States\",\"Britain\",\"United States\",\"United States\",\"Australia\",\"United States\",\"Jamaica\",\"Britain\",\"United States\",\"United States\",\"Panama\",\"United States\",\"United States\",\"Netherlands\",\"United States\",\"United States\",\"Germany\",\"Canada\",\"Britain\",\"Germany\",\"Britain\",\"United States\",\"New Zealand\",\"United States\",\"United States\",\"Britain\",\"United States\",\"United States\",\"United States\",\"South Africa\",\"United States\",\"Canada\",\"United States\",\"United States\",\"Australia\",\"United States\",\"United States\",\"United States\",\"United States\",\"United States\",\"Australia\",\"United States\",\"Germany\",\"Hungary\",\"United States\"],\"Medal\":[\"gold\",\"silver\",\"bronze\",\"gold\",\"silver\",\"bronze\",\"gold\",\"silver\",\"bronze\",\"gold\",\"silver\",\"bronze\",\"gold\",\"silver\",\"bronze\",\"gold\",\"silver\",\"bronze\",\"gold\",\"silver\",\"bronze\",\"gold\",\"silver\",\"bronze\",\"gold\",\"silver\",\"bronze\",\"gold\",\"silver\",\"bronze\",\"gold\",\"silver\",\"bronze\",\"gold\",\"silver\",\"bronze\",\"gold\",\"silver\",\"bronze\",\"gold\",\"silver\",\"bronze\",\"gold\",\"silver\",\"bronze\",\"gold\",\"silver\",\"bronze\",\"gold\",\"silver\",\"bronze\",\"gold\",\"silver\",\"bronze\",\"gold\",\"silver\",\"bronze\",\"gold\",\"silver\",\"bronze\",\"gold\",\"silver\",\"bronze\",\"gold\",\"silver\",\"bronze\",\"gold\",\"silver\",\"bronze\",\"gold\",\"silver\",\"bronze\",\"gold\",\"silver\",\"bronze\",\"gold\",\"silver\",\"bronze\",\"gold\",\"silver\",\"bronze\",\"gold\",\"silver\",\"bronze\",\"bronze\"],\"MedalFill\":[\"#efcf6d\",\"#cccccc\",\"#c59e8a\",\"#efcf6d\",\"#cccccc\",\"#c59e8a\",\"#efcf6d\",\"#cccccc\",\"#c59e8a\",\"#efcf6d\",\"#cccccc\",\"#c59e8a\",\"#efcf6d\",\"#cccccc\",\"#c59e8a\",\"#efcf6d\",\"#cccccc\",\"#c59e8a\",\"#efcf6d\",\"#cccccc\",\"#c59e8a\",\"#efcf6d\",\"#cccccc\",\"#c59e8a\",\"#efcf6d\",\"#cccccc\",\"#c59e8a\",\"#efcf6d\",\"#cccccc\",\"#c59e8a\",\"#efcf6d\",\"#cccccc\",\"#c59e8a\",\"#efcf6d\",\"#cccccc\",\"#c59e8a\",\"#efcf6d\",\"#cccccc\",\"#c59e8a\",\"#efcf6d\",\"#cccccc\",\"#c59e8a\",\"#efcf6d\",\"#cccccc\",\"#c59e8a\",\"#efcf6d\",\"#cccccc\",\"#c59e8a\",\"#efcf6d\",\"#cccccc\",\"#c59e8a\",\"#efcf6d\",\"#cccccc\",\"#c59e8a\",\"#efcf6d\",\"#cccccc\",\"#c59e8a\",\"#efcf6d\",\"#cccccc\",\"#c59e8a\",\"#efcf6d\",\"#cccccc\",\"#c59e8a\",\"#efcf6d\",\"#cccccc\",\"#c59e8a\",\"#efcf6d\",\"#cccccc\",\"#c59e8a\",\"#efcf6d\",\"#cccccc\",\"#c59e8a\",\"#efcf6d\",\"#cccccc\",\"#c59e8a\",\"#efcf6d\",\"#cccccc\",\"#c59e8a\",\"#efcf6d\",\"#cccccc\",\"#c59e8a\",\"#efcf6d\",\"#cccccc\",\"#c59e8a\",\"#c59e8a\"],\"MedalLine\":[\"#c8a850\",\"#b0b0b1\",\"#98715d\",\"#c8a850\",\"#b0b0b1\",\"#98715d\",\"#c8a850\",\"#b0b0b1\",\"#98715d\",\"#c8a850\",\"#b0b0b1\",\"#98715d\",\"#c8a850\",\"#b0b0b1\",\"#98715d\",\"#c8a850\",\"#b0b0b1\",\"#98715d\",\"#c8a850\",\"#b0b0b1\",\"#98715d\",\"#c8a850\",\"#b0b0b1\",\"#98715d\",\"#c8a850\",\"#b0b0b1\",\"#98715d\",\"#c8a850\",\"#b0b0b1\",\"#98715d\",\"#c8a850\",\"#b0b0b1\",\"#98715d\",\"#c8a850\",\"#b0b0b1\",\"#98715d\",\"#c8a850\",\"#b0b0b1\",\"#98715d\",\"#c8a850\",\"#b0b0b1\",\"#98715d\",\"#c8a850\",\"#b0b0b1\",\"#98715d\",\"#c8a850\",\"#b0b0b1\",\"#98715d\",\"#c8a850\",\"#b0b0b1\",\"#98715d\",\"#c8a850\",\"#b0b0b1\",\"#98715d\",\"#c8a850\",\"#b0b0b1\",\"#98715d\",\"#c8a850\",\"#b0b0b1\",\"#98715d\",\"#c8a850\",\"#b0b0b1\",\"#98715d\",\"#c8a850\",\"#b0b0b1\",\"#98715d\",\"#c8a850\",\"#b0b0b1\",\"#98715d\",\"#c8a850\",\"#b0b0b1\",\"#98715d\",\"#c8a850\",\"#b0b0b1\",\"#98715d\",\"#c8a850\",\"#b0b0b1\",\"#98715d\",\"#c8a850\",\"#b0b0b1\",\"#98715d\",\"#c8a850\",\"#b0b0b1\",\"#98715d\",\"#98715d\"],\"MetersBack\":[0.0,1.2307692307692242,1.6343207354443168,0.6191950464396134,2.628918099089983,2.825428859737633,2.2335025380710527,2.33265720081135,2.4316109422492294,2.4316109422492294,3.6036036036036,4.083665338645403,2.1341463414634054,2.628918099089983,2.7272727272727226,3.3132530120481896,3.8922155688622673,4.083665338645403,2.923387096774188,3.4102306920762215,3.6036036036036,3.6036036036036,5.49558390578998,5.772994129158516,6.048780487804873,6.048780487804873,7.314725697786328,4.274353876739556,4.46428571428571,5.02958579881656,5.02958579881656,5.957031249999989,6.776379477250716,3.2160804020100353,4.083665338645403,4.369414101290959,3.699999999999992,5.588235294117638,5.588235294117638,5.588235294117638,5.588235294117638,6.504854368932033,8.285714285714274,8.285714285714274,9.150943396226408,7.40384615384615,7.40384615384615,7.40384615384615,6.504854368932033,7.40384615384615,7.40384615384615,6.504854368932033,7.40384615384615,8.285714285714274,6.504854368932033,6.504854368932033,7.40384615384615,10.833333333333329,11.651376146788984,11.651376146788984,9.150943396226408,10.833333333333329,11.651376146788984,10.833333333333329,11.651376146788984,11.651376146788984,10.833333333333329,11.651376146788984,11.651376146788984,10.833333333333329,12.454545454545451,12.454545454545451,14.017857142857126,14.778761061946899,14.778761061946899,12.454545454545451,14.017857142857126,14.017857142857126,12.454545454545451,13.24324324324323,14.017857142857126,19.74999999999999,21.065573770491795,23.571428571428566,23.571428571428566],\"Name\":[\"Usain Bolt\",\"Yohan Blake\",\"Justin Gatlin\",\"Usain Bolt\",\"Richard Thompson\",\"Walter Dix\",\"Justin Gatlin\",\"Francis Obikwelu\",\"Maurice Greene\",\"Maurice Greene\",\"Ato Boldon\",\"Obadele Thompson\",\"Donovan Bailey\",\"Frankie Fredericks\",\"Ato Boldon\",\"Linford Christie\",\"Frankie Fredericks\",\"Dennis Mitchell\",\"Carl Lewis\",\"Linford Christie\",\"Calvin Smith\",\"Carl Lewis\",\"Sam Graddy\",\"Ben Johnson\",\"Allan Wells\",\"Silvio Leonard Tartabull\",\"Petar Petrov\",\"Hasely Crawford\",\"Donald Quarrie\",\"Valery Borzov\",\"Valery Borzov\",\"Robert Taylor\",\"Lennox Miller\",\"Jim Hines\",\"Lennox Miller\",\"Charles Greene\",\"Bob Hayes\",\"Enrique Figuerola Camue\",\"Harry Jerome\",\"Armin Hary\",\"David Sime\",\"Peter Radford\",\"Bobby Joe Morrow\",\"W. Thane Baker\",\"Hector Hogan\",\"Lindy Remigino\",\"Herbert McKenley\",\"E. McDonald Bailey\",\"W. Harrison Dillard\",\"H. Norwood \\\"Barney\\\" Ewell\",\"Lloyd LaBeach\",\"Jesse Owens\",\"Ralph Metcalfe\",\"Martinus Osendarp\",\"T. \\\"Eddie\\\" Tolan\",\"Ralph Metcalfe\",\"Arthur Jonath\",\"Percy Williams\",\"John \\\"Jack\\\" London\",\"Georg Lammers\",\"Harold Abrahams\",\"Jackson Scholz\",\"Arthur Porritt\",\"Charles Paddock\",\"Morris Kirksey\",\"Harry Edward\",\"Ralph Craig\",\"Alvah Meyer\",\"Donald Lippincott\",\"Reginald Walker\",\"James Rector\",\"Robert Kerr\",\"Charles \\\"Archie\\\" Hahn\",\"Fay Moulton\",\"Nigel Barker\",\"Charles \\\"Archie\\\" Hahn\",\"Nathaniel Cartmell\",\"Bill Hogenson\",\"Frank Jarvis\",\"J. Walter Tewksbury\",\"Stanley Rowley\",\"Thomas Burke\",\"Fritz Hofmann\",\"Alojz Sokol\",\"Francis Lane\"],\"SelectedName\":[null,null,null,null,null,null,null,null,null,null,null,null,null,null,null,null,null,null,\"Carl Lewis\",null,null,null,null,null,null,null,null,null,null,null,null,null,null,\"Jim Hines\",null,null,null,null,null,null,null,null,null,null,null,null,null,null,null,null,null,\"Jesse Owens\",null,null,null,null,null,null,null,null,null,null,null,null,null,null,null,null,null,null,null,null,null,null,null,null,null,null,null,null,null,\"Thomas Burke\",null,null,null],\"Speed\":[10.384215991692626,10.256410256410257,10.21450459652707,10.319917440660475,10.111223458038422,10.090817356205852,10.152284263959391,10.141987829614605,10.131712259371835,10.131712259371835,10.01001001001001,9.9601593625498,10.16260162601626,10.111223458038422,10.1010101010101,10.04016064257028,9.980039920159681,9.9601593625498,10.080645161290322,10.030090270812437,10.01001001001001,10.01001001001001,9.813542688910697,9.784735812133071,9.75609756097561,9.75609756097561,9.624639076034649,9.940357852882704,9.920634920634921,9.861932938856015,9.861932938856015,9.765625,9.68054211035818,10.050251256281408,9.9601593625498,9.930486593843098,10.0,9.803921568627452,9.803921568627452,9.803921568627452,9.803921568627452,9.70873786407767,9.523809523809524,9.523809523809524,9.433962264150944,9.615384615384615,9.615384615384615,9.615384615384615,9.70873786407767,9.615384615384615,9.615384615384615,9.70873786407767,9.615384615384615,9.523809523809524,9.70873786407767,9.70873786407767,9.615384615384615,9.25925925925926,9.174311926605505,9.174311926605505,9.433962264150944,9.25925925925926,9.174311926605505,9.25925925925926,9.174311926605505,9.174311926605505,9.25925925925926,9.174311926605505,9.174311926605505,9.25925925925926,9.090909090909092,9.090909090909092,8.928571428571429,8.849557522123893,8.849557522123893,9.090909090909092,8.928571428571429,8.928571428571429,9.090909090909092,9.00900900900901,8.928571428571429,8.333333333333334,8.196721311475411,7.936507936507937,7.936507936507937],\"Time\":[9.63,9.75,9.79,9.69,9.89,9.91,9.85,9.86,9.87,9.87,9.99,10.04,9.84,9.89,9.9,9.96,10.02,10.04,9.92,9.97,9.99,9.99,10.19,10.22,10.25,10.25,10.39,10.06,10.08,10.14,10.14,10.24,10.33,9.95,10.04,10.07,10.0,10.2,10.2,10.2,10.2,10.3,10.5,10.5,10.6,10.4,10.4,10.4,10.3,10.4,10.4,10.3,10.4,10.5,10.3,10.3,10.4,10.8,10.9,10.9,10.6,10.8,10.9,10.8,10.9,10.9,10.8,10.9,10.9,10.8,11.0,11.0,11.2,11.3,11.3,11.0,11.2,11.2,11.0,11.1,11.2,12.0,12.2,12.6,12.6],\"Year\":[2012,2012,2012,2008,2008,2008,2004,2004,2004,2000,2000,2000,1996,1996,1996,1992,1992,1992,1988,1988,1988,1984,1984,1984,1980,1980,1980,1976,1976,1976,1972,1972,1972,1968,1968,1968,1964,1964,1964,1960,1960,1960,1956,1956,1956,1952,1952,1952,1948,1948,1948,1936,1936,1936,1932,1932,1932,1928,1928,1928,1924,1924,1924,1920,1920,1920,1912,1912,1912,1908,1908,1908,1906,1906,1906,1904,1904,1904,1900,1900,1900,1896,1896,1896,1896],\"index\":[0,1,2,3,4,5,6,7,8,9,10,11,12,13,14,15,16,17,18,19,20,21,22,23,24,25,26,27,28,29,30,31,32,33,34,35,36,37,38,39,40,41,42,43,44,45,46,47,48,49,50,51,52,53,54,55,56,57,58,59,60,61,62,63,64,65,66,67,68,69,70,71,72,73,74,75,76,77,78,79,80,81,82,83,84]}},\"id\":\"67f42b76-ebd2-4b48-b93a-c4930dd4a573\",\"type\":\"ColumnDataSource\"},{\"attributes\":{},\"id\":\"6b337e9c-6791-42e2-8868-679b616f35d3\",\"type\":\"BasicTickFormatter\"},{\"attributes\":{},\"id\":\"1c11f694-888d-47be-a343-6ee41b776576\",\"type\":\"BasicTickFormatter\"},{\"attributes\":{\"formatter\":{\"id\":\"1c11f694-888d-47be-a343-6ee41b776576\",\"type\":\"BasicTickFormatter\"},\"major_tick_in\":-5,\"major_tick_out\":10,\"plot\":{\"id\":\"edf0284d-11b7-4068-9ab8-b9f2e56493a7\",\"type\":\"Plot\"},\"ticker\":{\"id\":\"358caf03-3082-4234-ac68-4b5c39714684\",\"type\":\"SingleIntervalTicker\"}},\"id\":\"77fada25-f36e-4b07-81d6-9351eaac05da\",\"type\":\"LinearAxis\"},{\"attributes\":{\"callback\":null,\"plot\":{\"id\":\"edf0284d-11b7-4068-9ab8-b9f2e56493a7\",\"type\":\"Plot\"},\"renderers\":[{\"id\":\"ed1c8561-4c61-4ecf-b57e-08fc8edf0931\",\"type\":\"GlyphRenderer\"}],\"tooltips\":\"\\n<div>\\n    <span style=\\\"font-size: 15px;\\\">@Name</span>&nbsp;\\n    <span style=\\\"font-size: 10px; color: #666;\\\">(@Abbrev)</span>\\n</div>\\n<div>\\n    <span style=\\\"font-size: 17px; font-weight: bold;\\\">@Time{0.00}</span>&nbsp;\\n    <span style=\\\"font-size: 10px; color: #666;\\\">@Year</span>\\n</div>\\n<div style=\\\"font-size: 11px; color: #666;\\\">@{MetersBack}{0.00} meters behind</div>\\n\"},\"id\":\"401a92c2-5204-4db8-a906-f89caf9c0315\",\"type\":\"HoverTool\"},{\"attributes\":{\"callback\":null,\"range_padding\":0.05},\"id\":\"8c5a1bc9-7178-4730-85f0-b9f425c20dd5\",\"type\":\"DataRange1d\"},{\"attributes\":{\"callback\":null,\"end\":0,\"start\":25.571428571428566},\"id\":\"edda168e-c890-4661-824e-06153eb67625\",\"type\":\"Range1d\"}],\"root_ids\":[\"edf0284d-11b7-4068-9ab8-b9f2e56493a7\"]},\"title\":\"Bokeh Application\",\"version\":\"0.11.1\"}};\n",
       "            var render_items = [{\"docid\":\"7c1058df-a1c8-4a15-a852-faff14ee6e29\",\"elementid\":\"6445a485-c8d0-4426-9ac0-528d92a59348\",\"modelid\":\"edf0284d-11b7-4068-9ab8-b9f2e56493a7\",\"notebook_comms_target\":\"99192e86-9986-40f2-9f38-f56b46802990\"}];\n",
       "            \n",
       "            Bokeh.embed.embed_items(docs_json, render_items);\n",
       "        });\n",
       "      },\n",
       "      function(Bokeh) {\n",
       "      }\n",
       "    ];\n",
       "  \n",
       "    function run_inline_js() {\n",
       "      for (var i = 0; i < inline_js.length; i++) {\n",
       "        inline_js[i](window.Bokeh);\n",
       "      }\n",
       "    }\n",
       "  \n",
       "    if (window._bokeh_is_loading === 0) {\n",
       "      console.log(\"Bokeh: BokehJS loaded, going straight to plotting\");\n",
       "      run_inline_js();\n",
       "    } else {\n",
       "      load_libs(js_urls, function() {\n",
       "        console.log(\"Bokeh: BokehJS plotting callback run at\", now());\n",
       "        run_inline_js();\n",
       "      });\n",
       "    }\n",
       "  }(this));\n",
       "</script>"
      ]
     },
     "metadata": {},
     "output_type": "display_data"
    },
    {
     "data": {
      "text/html": [
       "<p><code>&lt;Bokeh Notebook handle for <strong>In[19]</strong>&gt;</code></p>"
      ],
      "text/plain": [
       "<bokeh.io._CommsHandle at 0x10ced44a8>"
      ]
     },
     "execution_count": 19,
     "metadata": {},
     "output_type": "execute_result"
    }
   ],
   "source": [
    "show(plot)"
   ]
  },
  {
   "cell_type": "markdown",
   "metadata": {},
   "source": [
    "## Three methods that are your friend"
   ]
  },
  {
   "cell_type": "markdown",
   "metadata": {},
   "source": [
    "`Plot`, `Chart`, and `Figure` all have three methods:\n",
    "\n",
    "* `p.add_glyph`\n",
    "* `p.add_tools`\n",
    "* `p.add_layout`"
   ]
  },
  {
   "cell_type": "markdown",
   "metadata": {},
   "source": [
    "# Exercizes"
   ]
  },
  {
   "cell_type": "code",
   "execution_count": 20,
   "metadata": {
    "collapsed": false
   },
   "outputs": [
    {
     "data": {
      "text/html": [
       "<div>\n",
       "<table border=\"1\" class=\"dataframe\">\n",
       "  <thead>\n",
       "    <tr style=\"text-align: right;\">\n",
       "      <th></th>\n",
       "      <th>fertility</th>\n",
       "      <th>life</th>\n",
       "      <th>population</th>\n",
       "      <th>region_color</th>\n",
       "    </tr>\n",
       "  </thead>\n",
       "  <tbody>\n",
       "    <tr>\n",
       "      <th>Afghanistan</th>\n",
       "      <td>7.671</td>\n",
       "      <td>33.639</td>\n",
       "      <td>9.129985</td>\n",
       "      <td>#fc8d59</td>\n",
       "    </tr>\n",
       "    <tr>\n",
       "      <th>Albania</th>\n",
       "      <td>5.711</td>\n",
       "      <td>65.475</td>\n",
       "      <td>3.802632</td>\n",
       "      <td>#e6f598</td>\n",
       "    </tr>\n",
       "    <tr>\n",
       "      <th>Algeria</th>\n",
       "      <td>7.653</td>\n",
       "      <td>47.953</td>\n",
       "      <td>9.630513</td>\n",
       "      <td>#fee08b</td>\n",
       "    </tr>\n",
       "    <tr>\n",
       "      <th>American Samoa</th>\n",
       "      <td>NaN</td>\n",
       "      <td>NaN</td>\n",
       "      <td>3.000000</td>\n",
       "      <td>#99d594</td>\n",
       "    </tr>\n",
       "    <tr>\n",
       "      <th>Andorra</th>\n",
       "      <td>NaN</td>\n",
       "      <td>NaN</td>\n",
       "      <td>3.000000</td>\n",
       "      <td>#e6f598</td>\n",
       "    </tr>\n",
       "  </tbody>\n",
       "</table>\n",
       "</div>"
      ],
      "text/plain": [
       "                fertility    life  population region_color\n",
       "Afghanistan         7.671  33.639    9.129985      #fc8d59\n",
       "Albania             5.711  65.475    3.802632      #e6f598\n",
       "Algeria             7.653  47.953    9.630513      #fee08b\n",
       "American Samoa        NaN     NaN    3.000000      #99d594\n",
       "Andorra               NaN     NaN    3.000000      #e6f598"
      ]
     },
     "execution_count": 20,
     "metadata": {},
     "output_type": "execute_result"
    }
   ],
   "source": [
    "from utils import get_gapminder_1964_data\n",
    "\n",
    "def get_plot():\n",
    "    return Plot(\n",
    "        x_range=Range1d(1, 9), y_range=Range1d(20, 100),\n",
    "        title=\"\", plot_width=800, plot_height=400,\n",
    "        outline_line_color=None, toolbar_location=None,\n",
    "    )\n",
    "\n",
    "df = get_gapminder_1964_data()\n",
    "df.head()"
   ]
  },
  {
   "cell_type": "code",
   "execution_count": 21,
   "metadata": {
    "collapsed": false
   },
   "outputs": [],
   "source": [
    "# EXERCISE: Add Circles to the plot from the data in `df`. \n",
    "# With `fertility` for the x coordinates, `life` for the y coordinates.\n",
    "\n",
    "plot = get_plot()\n",
    "\n",
    "\n"
   ]
  },
  {
   "cell_type": "code",
   "execution_count": 22,
   "metadata": {
    "collapsed": false
   },
   "outputs": [],
   "source": [
    "# EXERCISE: Color the circles by region_color & change the size of the color by population\n",
    "\n",
    "\n"
   ]
  },
  {
   "cell_type": "code",
   "execution_count": 23,
   "metadata": {
    "collapsed": false
   },
   "outputs": [],
   "source": [
    "# EXERCISE: Add axes and grid lines\n",
    "\n"
   ]
  },
  {
   "cell_type": "code",
   "execution_count": 24,
   "metadata": {
    "collapsed": true
   },
   "outputs": [],
   "source": [
    "# EXERCISE: Manually add a legend using Circle & Text. The color key is as follows \n",
    "\n",
    "region_name_and_color = [\n",
    "    ('America', '#3288bd'),\n",
    "    ('East Asia & Pacific', '#99d594'),\n",
    "    ('Europe & Central Asia', '#e6f598'),\n",
    "    ('Middle East & North Africa', '#fee08b'),\n",
    "    ('South Asia', '#fc8d59'),\n",
    "    ('Sub-Saharan Africa', '#d53e4f')\n",
    "]"
   ]
  },
  {
   "cell_type": "code",
   "execution_count": null,
   "metadata": {
    "collapsed": true
   },
   "outputs": [],
   "source": []
  }
 ],
 "metadata": {
  "kernelspec": {
   "display_name": "Python 3",
   "language": "python",
   "name": "python3"
  },
  "language_info": {
   "codemirror_mode": {
    "name": "ipython",
    "version": 3
   },
   "file_extension": ".py",
   "mimetype": "text/x-python",
   "name": "python",
   "nbconvert_exporter": "python",
   "pygments_lexer": "ipython3",
   "version": "3.5.1"
  }
 },
 "nbformat": 4,
 "nbformat_minor": 0
}
