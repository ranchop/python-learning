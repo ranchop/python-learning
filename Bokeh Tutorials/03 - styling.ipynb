{
 "cells": [
  {
   "cell_type": "markdown",
   "metadata": {},
   "source": [
    "<table style=\"float:left; border:none\">\n",
    "   <tr style=\"border:none\">\n",
    "       <td style=\"border:none\">\n",
    "           <a href=\"http://bokeh.pydata.org/\">     \n",
    "           <img \n",
    "               src=\"assets/images/bokeh-transparent.png\" \n",
    "               style=\"width:70px\"\n",
    "           >\n",
    "           </a>    \n",
    "       </td>\n",
    "       <td style=\"border:none\">\n",
    "           <h1>Bokeh Tutorial &mdash; Styling and Appearance</h1>\n",
    "       </td>\n",
    "   </tr>\n",
    "</table>"
   ]
  },
  {
   "cell_type": "code",
   "execution_count": 1,
   "metadata": {
    "collapsed": false
   },
   "outputs": [],
   "source": [
    "from bokeh.io import output_notebook, show\n",
    "from bokeh.plotting import figure"
   ]
  },
  {
   "cell_type": "code",
   "execution_count": 2,
   "metadata": {
    "collapsed": false
   },
   "outputs": [
    {
     "data": {
      "text/html": [
       "\n",
       "    <div class=\"bk-banner\">\n",
       "        <a href=\"http://bokeh.pydata.org\" target=\"_blank\" class=\"bk-logo bk-logo-small bk-logo-notebook\"></a>\n",
       "        <span id=\"2b53e737-9a15-4f6e-b3b4-03a37c7b23a5\">Loading BokehJS ...</span>\n",
       "    </div>"
      ]
     },
     "metadata": {},
     "output_type": "display_data"
    },
    {
     "data": {
      "application/javascript": [
       "\n",
       "(function(global) {\n",
       "  function now() {\n",
       "    return new Date();\n",
       "  }\n",
       "\n",
       "  if (typeof (window._bokeh_onload_callbacks) === \"undefined\") {\n",
       "    window._bokeh_onload_callbacks = [];\n",
       "  }\n",
       "\n",
       "  function run_callbacks() {\n",
       "    window._bokeh_onload_callbacks.forEach(function(callback) { callback() });\n",
       "    delete window._bokeh_onload_callbacks\n",
       "    console.info(\"Bokeh: all callbacks have finished\");\n",
       "  }\n",
       "\n",
       "  function load_libs(js_urls, callback) {\n",
       "    window._bokeh_onload_callbacks.push(callback);\n",
       "    if (window._bokeh_is_loading > 0) {\n",
       "      console.log(\"Bokeh: BokehJS is being loaded, scheduling callback at\", now());\n",
       "      return null;\n",
       "    }\n",
       "    if (js_urls == null || js_urls.length === 0) {\n",
       "      run_callbacks();\n",
       "      return null;\n",
       "    }\n",
       "    console.log(\"Bokeh: BokehJS not loaded, scheduling load and callback at\", now());\n",
       "    window._bokeh_is_loading = js_urls.length;\n",
       "    for (var i = 0; i < js_urls.length; i++) {\n",
       "      var url = js_urls[i];\n",
       "      var s = document.createElement('script');\n",
       "      s.src = url;\n",
       "      s.async = false;\n",
       "      s.onreadystatechange = s.onload = function() {\n",
       "        window._bokeh_is_loading--;\n",
       "        if (window._bokeh_is_loading === 0) {\n",
       "          console.log(\"Bokeh: all BokehJS libraries loaded\");\n",
       "          run_callbacks()\n",
       "        }\n",
       "      };\n",
       "      s.onerror = function() {\n",
       "        console.warn(\"failed to load library \" + url);\n",
       "      };\n",
       "      console.log(\"Bokeh: injecting script tag for BokehJS library: \", url);\n",
       "      document.getElementsByTagName(\"head\")[0].appendChild(s);\n",
       "    }\n",
       "  };\n",
       "\n",
       "  var js_urls = ['https://cdn.pydata.org/bokeh/release/bokeh-0.11.1.min.js', 'https://cdn.pydata.org/bokeh/release/bokeh-widgets-0.11.1.min.js', 'https://cdn.pydata.org/bokeh/release/bokeh-compiler-0.11.1.min.js'];\n",
       "\n",
       "  var inline_js = [\n",
       "    function(Bokeh) {\n",
       "      Bokeh.set_log_level(\"info\");\n",
       "    },\n",
       "    \n",
       "    function(Bokeh) {\n",
       "      Bokeh.$(\"#2b53e737-9a15-4f6e-b3b4-03a37c7b23a5\").text(\"BokehJS successfully loaded\");\n",
       "    },\n",
       "    function(Bokeh) {\n",
       "      console.log(\"Bokeh: injecting CSS: https://cdn.pydata.org/bokeh/release/bokeh-0.11.1.min.css\");\n",
       "      Bokeh.embed.inject_css(\"https://cdn.pydata.org/bokeh/release/bokeh-0.11.1.min.css\");\n",
       "      console.log(\"Bokeh: injecting CSS: https://cdn.pydata.org/bokeh/release/bokeh-widgets-0.11.1.min.css\");\n",
       "      Bokeh.embed.inject_css(\"https://cdn.pydata.org/bokeh/release/bokeh-widgets-0.11.1.min.css\");\n",
       "    }\n",
       "  ];\n",
       "\n",
       "  function run_inline_js() {\n",
       "    for (var i = 0; i < inline_js.length; i++) {\n",
       "      inline_js[i](window.Bokeh);\n",
       "    }\n",
       "  }\n",
       "\n",
       "  if (window._bokeh_is_loading === 0) {\n",
       "    console.log(\"Bokeh: BokehJS loaded, going straight to plotting\");\n",
       "    run_inline_js();\n",
       "  } else {\n",
       "    load_libs(js_urls, function() {\n",
       "      console.log(\"Bokeh: BokehJS plotting callback run at\", now());\n",
       "      run_inline_js();\n",
       "    });\n",
       "  }\n",
       "}(this));"
      ]
     },
     "metadata": {},
     "output_type": "display_data"
    }
   ],
   "source": [
    "output_notebook()"
   ]
  },
  {
   "cell_type": "markdown",
   "metadata": {},
   "source": [
    "# Colors\n",
    "\n",
    "There are many places where you may need to specify colors. Bokeh can accept colors in a variety of different ways:\n",
    "\n",
    "* any of the [147 named CSS colors](http://www.w3schools.com/cssref/css_colornames.asp), e.g ``'green'``, ``'indigo'``\n",
    "* an RGB(A) hex value, e.g., ``'#FF0000'``, ``'#44444444'``\n",
    "* a 3-tuple of integers *(r,g,b)* between 0 and 255\n",
    "*  a 4-tuple of *(r,g,b,a)* where *r*, *g*, *b* are integers between 0 and 255 and *a* is a floating point value between 0 and 1\n",
    "\n"
   ]
  },
  {
   "cell_type": "markdown",
   "metadata": {
    "collapsed": true
   },
   "source": [
    "# Properties\n",
    "\n",
    "Regardless of what API (``models``, ``plotting``, or ``charts``) is used to create a Bokeh plot, styling the visual aspects of the plot can always be accomplished by setting attributes on the Bokeh model objects that comprise the resulting plot. Visual properties come in three kinds: line, fill, and text properties. For full information with code and examples see the [Styling Visual Properties](http://bokeh.pydata.org/en/latest/docs/user_guide/styling.html) section of the user guide. \n",
    "\n",
    "## Line Properties\n",
    "\n",
    "Set the visual appearance of lines. The most common are ``line_color``, ``line_alpha``, ``line_width`` and ``line_dash``.\n",
    "\n",
    "## Fill Properties\n",
    "\n",
    "Set the visual appearance of filled areas: ``fill_color`` and ``fill_alpha``.\n",
    "\n",
    "## Text Properties\n",
    "\n",
    "Set the visual appearance of lines of text. The most common are ``text_font``, ``text_font_size``, ``text_color``, and ``text_alpha``.\n",
    "\n",
    "Sometimes a prefix is used with property names, e.g. to distinguish between different line properties on the same object, or to give a more meaningful name. For example, to set the line width of the plot outline, you would say ``myplot.outline_line_width = 2``. "
   ]
  },
  {
   "cell_type": "markdown",
   "metadata": {},
   "source": [
    "# Plots\n",
    "\n",
    "Many top-level attributes of plots (outline, border, etc.) can be configured. See the [Plots](http://bokeh.pydata.org/en/latest/docs/user_guide/styling.html#plots) section of the styling guide for full information. \n",
    "\n",
    "Here is an example that tweaks the plot outline:"
   ]
  },
  {
   "cell_type": "code",
   "execution_count": 3,
   "metadata": {
    "collapsed": false,
    "scrolled": false
   },
   "outputs": [
    {
     "data": {
      "text/html": [
       "\n",
       "\n",
       "    <div class=\"plotdiv\" id=\"1877ff24-c7ee-4173-899b-d51bed0c17d6\"></div>\n",
       "<script type=\"text/javascript\">\n",
       "  \n",
       "  (function(global) {\n",
       "    function now() {\n",
       "      return new Date();\n",
       "    }\n",
       "  \n",
       "    if (typeof (window._bokeh_onload_callbacks) === \"undefined\") {\n",
       "      window._bokeh_onload_callbacks = [];\n",
       "    }\n",
       "  \n",
       "    function run_callbacks() {\n",
       "      window._bokeh_onload_callbacks.forEach(function(callback) { callback() });\n",
       "      delete window._bokeh_onload_callbacks\n",
       "      console.info(\"Bokeh: all callbacks have finished\");\n",
       "    }\n",
       "  \n",
       "    function load_libs(js_urls, callback) {\n",
       "      window._bokeh_onload_callbacks.push(callback);\n",
       "      if (window._bokeh_is_loading > 0) {\n",
       "        console.log(\"Bokeh: BokehJS is being loaded, scheduling callback at\", now());\n",
       "        return null;\n",
       "      }\n",
       "      if (js_urls == null || js_urls.length === 0) {\n",
       "        run_callbacks();\n",
       "        return null;\n",
       "      }\n",
       "      console.log(\"Bokeh: BokehJS not loaded, scheduling load and callback at\", now());\n",
       "      window._bokeh_is_loading = js_urls.length;\n",
       "      for (var i = 0; i < js_urls.length; i++) {\n",
       "        var url = js_urls[i];\n",
       "        var s = document.createElement('script');\n",
       "        s.src = url;\n",
       "        s.async = false;\n",
       "        s.onreadystatechange = s.onload = function() {\n",
       "          window._bokeh_is_loading--;\n",
       "          if (window._bokeh_is_loading === 0) {\n",
       "            console.log(\"Bokeh: all BokehJS libraries loaded\");\n",
       "            run_callbacks()\n",
       "          }\n",
       "        };\n",
       "        s.onerror = function() {\n",
       "          console.warn(\"failed to load library \" + url);\n",
       "        };\n",
       "        console.log(\"Bokeh: injecting script tag for BokehJS library: \", url);\n",
       "        document.getElementsByTagName(\"head\")[0].appendChild(s);\n",
       "      }\n",
       "    };var element = document.getElementById(\"1877ff24-c7ee-4173-899b-d51bed0c17d6\");\n",
       "    if (element == null) {\n",
       "      console.log(\"Bokeh: ERROR: autoload.js configured with elementid '1877ff24-c7ee-4173-899b-d51bed0c17d6' but no matching script tag was found. \")\n",
       "      return false;\n",
       "    }\n",
       "  \n",
       "    var js_urls = [];\n",
       "  \n",
       "    var inline_js = [\n",
       "      function(Bokeh) {\n",
       "        Bokeh.$(function() {\n",
       "            var docs_json = {\"30a653d8-0f81-4d06-a45d-c80f280556de\":{\"roots\":{\"references\":[{\"attributes\":{},\"id\":\"d980c33a-0d11-42fe-9576-f36d16319738\",\"type\":\"BasicTicker\"},{\"attributes\":{\"plot\":{\"id\":\"ba975b2d-f2f9-4e16-a386-2eefb8f93aea\",\"subtype\":\"Figure\",\"type\":\"Plot\"}},\"id\":\"0ece50ed-813c-4964-b3df-c9ba188a46b9\",\"type\":\"ResetTool\"},{\"attributes\":{},\"id\":\"523e21fe-bf48-4bc5-a03e-a5e723fbf015\",\"type\":\"ToolEvents\"},{\"attributes\":{\"overlay\":{\"id\":\"60809235-7eea-4171-b255-9f08d82eb8eb\",\"type\":\"BoxAnnotation\"},\"plot\":{\"id\":\"ba975b2d-f2f9-4e16-a386-2eefb8f93aea\",\"subtype\":\"Figure\",\"type\":\"Plot\"}},\"id\":\"620ce037-a1c8-49e2-97d4-395f54e0c878\",\"type\":\"BoxZoomTool\"},{\"attributes\":{\"plot\":{\"id\":\"ba975b2d-f2f9-4e16-a386-2eefb8f93aea\",\"subtype\":\"Figure\",\"type\":\"Plot\"}},\"id\":\"0f0d09cc-938b-46bb-8560-55cdceb20e49\",\"type\":\"PanTool\"},{\"attributes\":{\"fill_alpha\":{\"value\":0.1},\"fill_color\":{\"value\":\"#1f77b4\"},\"line_alpha\":{\"value\":0.1},\"line_color\":{\"value\":\"#1f77b4\"},\"size\":{\"units\":\"screen\",\"value\":10},\"x\":{\"field\":\"x\"},\"y\":{\"field\":\"y\"}},\"id\":\"a6b16b50-dc1c-473d-a692-527c11fac1f6\",\"type\":\"Circle\"},{\"attributes\":{\"fill_color\":{\"value\":\"#1f77b4\"},\"line_color\":{\"value\":\"#1f77b4\"},\"size\":{\"units\":\"screen\",\"value\":10},\"x\":{\"field\":\"x\"},\"y\":{\"field\":\"y\"}},\"id\":\"6728a2a6-789d-489b-9799-7cad90230613\",\"type\":\"Circle\"},{\"attributes\":{\"formatter\":{\"id\":\"a18adf31-8c5c-4455-949c-36d96d417913\",\"type\":\"BasicTickFormatter\"},\"plot\":{\"id\":\"ba975b2d-f2f9-4e16-a386-2eefb8f93aea\",\"subtype\":\"Figure\",\"type\":\"Plot\"},\"ticker\":{\"id\":\"d980c33a-0d11-42fe-9576-f36d16319738\",\"type\":\"BasicTicker\"}},\"id\":\"f32c69a5-4b62-455a-8a3a-a415282f74d5\",\"type\":\"LinearAxis\"},{\"attributes\":{\"dimension\":1,\"plot\":{\"id\":\"ba975b2d-f2f9-4e16-a386-2eefb8f93aea\",\"subtype\":\"Figure\",\"type\":\"Plot\"},\"ticker\":{\"id\":\"d980c33a-0d11-42fe-9576-f36d16319738\",\"type\":\"BasicTicker\"}},\"id\":\"3ec80ce5-7991-45e7-8817-bc031831a63f\",\"type\":\"Grid\"},{\"attributes\":{\"below\":[{\"id\":\"bf53ed23-03bd-4d58-9d4f-659b2f4fd4da\",\"type\":\"LinearAxis\"}],\"left\":[{\"id\":\"f32c69a5-4b62-455a-8a3a-a415282f74d5\",\"type\":\"LinearAxis\"}],\"outline_line_alpha\":{\"value\":0.3},\"outline_line_color\":{\"value\":\"navy\"},\"outline_line_width\":{\"value\":7},\"plot_height\":400,\"plot_width\":400,\"renderers\":[{\"id\":\"bf53ed23-03bd-4d58-9d4f-659b2f4fd4da\",\"type\":\"LinearAxis\"},{\"id\":\"c5532b6a-20de-4a32-aeaa-1a84787244e7\",\"type\":\"Grid\"},{\"id\":\"f32c69a5-4b62-455a-8a3a-a415282f74d5\",\"type\":\"LinearAxis\"},{\"id\":\"3ec80ce5-7991-45e7-8817-bc031831a63f\",\"type\":\"Grid\"},{\"id\":\"60809235-7eea-4171-b255-9f08d82eb8eb\",\"type\":\"BoxAnnotation\"},{\"id\":\"b0912e56-ddc4-409f-abce-65362917935d\",\"type\":\"GlyphRenderer\"}],\"tool_events\":{\"id\":\"523e21fe-bf48-4bc5-a03e-a5e723fbf015\",\"type\":\"ToolEvents\"},\"tools\":[{\"id\":\"0f0d09cc-938b-46bb-8560-55cdceb20e49\",\"type\":\"PanTool\"},{\"id\":\"a445f03e-3357-44b8-b519-daef81f59911\",\"type\":\"WheelZoomTool\"},{\"id\":\"620ce037-a1c8-49e2-97d4-395f54e0c878\",\"type\":\"BoxZoomTool\"},{\"id\":\"85cfbd60-13a8-4c07-a8e3-0e188831f47c\",\"type\":\"PreviewSaveTool\"},{\"id\":\"93bb3f07-cb2a-4481-b7a8-c797cde89f5a\",\"type\":\"ResizeTool\"},{\"id\":\"0ece50ed-813c-4964-b3df-c9ba188a46b9\",\"type\":\"ResetTool\"},{\"id\":\"940cd2ab-d7e2-46d0-b8dd-de1a1b26f043\",\"type\":\"HelpTool\"}],\"x_range\":{\"id\":\"a572e27f-a2c2-4bff-9db7-69fb20ace840\",\"type\":\"DataRange1d\"},\"y_range\":{\"id\":\"d773a94b-f053-4881-a612-995093f6b28e\",\"type\":\"DataRange1d\"}},\"id\":\"ba975b2d-f2f9-4e16-a386-2eefb8f93aea\",\"subtype\":\"Figure\",\"type\":\"Plot\"},{\"attributes\":{\"data_source\":{\"id\":\"056c8a28-6db3-43ff-9f92-1a79c6f69cae\",\"type\":\"ColumnDataSource\"},\"glyph\":{\"id\":\"6728a2a6-789d-489b-9799-7cad90230613\",\"type\":\"Circle\"},\"hover_glyph\":null,\"nonselection_glyph\":{\"id\":\"a6b16b50-dc1c-473d-a692-527c11fac1f6\",\"type\":\"Circle\"},\"selection_glyph\":null},\"id\":\"b0912e56-ddc4-409f-abce-65362917935d\",\"type\":\"GlyphRenderer\"},{\"attributes\":{\"callback\":null},\"id\":\"a572e27f-a2c2-4bff-9db7-69fb20ace840\",\"type\":\"DataRange1d\"},{\"attributes\":{},\"id\":\"a18adf31-8c5c-4455-949c-36d96d417913\",\"type\":\"BasicTickFormatter\"},{\"attributes\":{},\"id\":\"d243fd9d-acd2-4ada-b5af-f9c49b0a33ac\",\"type\":\"BasicTicker\"},{\"attributes\":{\"plot\":{\"id\":\"ba975b2d-f2f9-4e16-a386-2eefb8f93aea\",\"subtype\":\"Figure\",\"type\":\"Plot\"},\"ticker\":{\"id\":\"d243fd9d-acd2-4ada-b5af-f9c49b0a33ac\",\"type\":\"BasicTicker\"}},\"id\":\"c5532b6a-20de-4a32-aeaa-1a84787244e7\",\"type\":\"Grid\"},{\"attributes\":{\"callback\":null},\"id\":\"d773a94b-f053-4881-a612-995093f6b28e\",\"type\":\"DataRange1d\"},{\"attributes\":{},\"id\":\"5596b977-693d-41eb-9e2a-3b62bf90ae6e\",\"type\":\"BasicTickFormatter\"},{\"attributes\":{\"plot\":{\"id\":\"ba975b2d-f2f9-4e16-a386-2eefb8f93aea\",\"subtype\":\"Figure\",\"type\":\"Plot\"}},\"id\":\"a445f03e-3357-44b8-b519-daef81f59911\",\"type\":\"WheelZoomTool\"},{\"attributes\":{\"formatter\":{\"id\":\"5596b977-693d-41eb-9e2a-3b62bf90ae6e\",\"type\":\"BasicTickFormatter\"},\"plot\":{\"id\":\"ba975b2d-f2f9-4e16-a386-2eefb8f93aea\",\"subtype\":\"Figure\",\"type\":\"Plot\"},\"ticker\":{\"id\":\"d243fd9d-acd2-4ada-b5af-f9c49b0a33ac\",\"type\":\"BasicTicker\"}},\"id\":\"bf53ed23-03bd-4d58-9d4f-659b2f4fd4da\",\"type\":\"LinearAxis\"},{\"attributes\":{\"plot\":{\"id\":\"ba975b2d-f2f9-4e16-a386-2eefb8f93aea\",\"subtype\":\"Figure\",\"type\":\"Plot\"}},\"id\":\"85cfbd60-13a8-4c07-a8e3-0e188831f47c\",\"type\":\"PreviewSaveTool\"},{\"attributes\":{\"bottom_units\":\"screen\",\"fill_alpha\":{\"value\":0.5},\"fill_color\":{\"value\":\"lightgrey\"},\"left_units\":\"screen\",\"level\":\"overlay\",\"line_alpha\":{\"value\":1.0},\"line_color\":{\"value\":\"black\"},\"line_dash\":[4,4],\"line_width\":{\"value\":2},\"plot\":null,\"render_mode\":\"css\",\"right_units\":\"screen\",\"top_units\":\"screen\"},\"id\":\"60809235-7eea-4171-b255-9f08d82eb8eb\",\"type\":\"BoxAnnotation\"},{\"attributes\":{\"plot\":{\"id\":\"ba975b2d-f2f9-4e16-a386-2eefb8f93aea\",\"subtype\":\"Figure\",\"type\":\"Plot\"}},\"id\":\"940cd2ab-d7e2-46d0-b8dd-de1a1b26f043\",\"type\":\"HelpTool\"},{\"attributes\":{\"callback\":null,\"column_names\":[\"y\",\"x\"],\"data\":{\"x\":[1,2,3,4,5],\"y\":[2,5,8,2,7]}},\"id\":\"056c8a28-6db3-43ff-9f92-1a79c6f69cae\",\"type\":\"ColumnDataSource\"},{\"attributes\":{\"plot\":{\"id\":\"ba975b2d-f2f9-4e16-a386-2eefb8f93aea\",\"subtype\":\"Figure\",\"type\":\"Plot\"}},\"id\":\"93bb3f07-cb2a-4481-b7a8-c797cde89f5a\",\"type\":\"ResizeTool\"}],\"root_ids\":[\"ba975b2d-f2f9-4e16-a386-2eefb8f93aea\"]},\"title\":\"Bokeh Application\",\"version\":\"0.11.1\"}};\n",
       "            var render_items = [{\"docid\":\"30a653d8-0f81-4d06-a45d-c80f280556de\",\"elementid\":\"1877ff24-c7ee-4173-899b-d51bed0c17d6\",\"modelid\":\"ba975b2d-f2f9-4e16-a386-2eefb8f93aea\",\"notebook_comms_target\":\"50176eb4-e89e-408e-8165-e294d96c3494\"}];\n",
       "            \n",
       "            Bokeh.embed.embed_items(docs_json, render_items);\n",
       "        });\n",
       "      },\n",
       "      function(Bokeh) {\n",
       "      }\n",
       "    ];\n",
       "  \n",
       "    function run_inline_js() {\n",
       "      for (var i = 0; i < inline_js.length; i++) {\n",
       "        inline_js[i](window.Bokeh);\n",
       "      }\n",
       "    }\n",
       "  \n",
       "    if (window._bokeh_is_loading === 0) {\n",
       "      console.log(\"Bokeh: BokehJS loaded, going straight to plotting\");\n",
       "      run_inline_js();\n",
       "    } else {\n",
       "      load_libs(js_urls, function() {\n",
       "        console.log(\"Bokeh: BokehJS plotting callback run at\", now());\n",
       "        run_inline_js();\n",
       "      });\n",
       "    }\n",
       "  }(this));\n",
       "</script>"
      ]
     },
     "metadata": {},
     "output_type": "display_data"
    },
    {
     "data": {
      "text/html": [
       "<p><code>&lt;Bokeh Notebook handle for <strong>In[3]</strong>&gt;</code></p>"
      ],
      "text/plain": [
       "<bokeh.io._CommsHandle at 0x10cebf400>"
      ]
     },
     "execution_count": 3,
     "metadata": {},
     "output_type": "execute_result"
    }
   ],
   "source": [
    "# create a new plot with a title\n",
    "p = figure(plot_width=400, plot_height=400)\n",
    "p.outline_line_width = 7\n",
    "p.outline_line_alpha = 0.3\n",
    "p.outline_line_color = \"navy\"\n",
    "\n",
    "p.circle([1,2,3,4,5], [2,5,8,2,7], size=10)\n",
    "\n",
    "show(p)"
   ]
  },
  {
   "cell_type": "code",
   "execution_count": 4,
   "metadata": {
    "collapsed": true
   },
   "outputs": [],
   "source": [
    "# EXERCISE Create a plot of your own and customize several plot-level properties\n",
    "\n"
   ]
  },
  {
   "cell_type": "markdown",
   "metadata": {},
   "source": [
    "# Axes\n",
    "\n",
    "[Axes](http://bokeh.pydata.org/en/latest/docs/user_guide/styling.html#axes)\n",
    "\n",
    "To style axes, you first must get ahold of `Axis` objects. The simplest way is to use some convenience methods on `Plot`: [axis](http://bokeh.pydata.org/en/latest/docs/reference/plotting.html#bokeh.plotting.Figure.axis), [xaxis](http://bokeh.pydata.org/en/latest/docs/reference/plotting.html#bokeh.plotting.Figure.xaxis), and [yaxis](http://bokeh.pydata.org/en/latest/docs/reference/plotting.html#bokeh.plotting.Figure.yaxis). These methods return lists of axis objects:\n",
    "\n",
    "```\n",
    ">>> p.xaxis\n",
    "[<bokeh.models.axes.LinearAxis at 0x106fa2390>]\n",
    "```\n",
    "However, you can set properties on all the elements of the list as if it was a single object:\n",
    "```\n",
    "p.xaxis.axis_label = \"Temperature\"\n",
    "p.axis.major_label_text_color = \"orange\"\n",
    "```\n",
    "These are referred to as \"splattable\" lists, and tab completion works on them as well. \n"
   ]
  },
  {
   "cell_type": "code",
   "execution_count": 5,
   "metadata": {
    "collapsed": true
   },
   "outputs": [],
   "source": [
    "# EXERCISE Try out tab completion. Type p.xaxis.<press tab key> to see a list of attributes that can be set.\n",
    "\n"
   ]
  },
  {
   "cell_type": "markdown",
   "metadata": {},
   "source": [
    "* **axis** \n",
    " - [line properties](http://bokeh.pydata.org/en/latest/docs/user_guide/styling.html#line-properties)\n",
    "* **axis_label** \n",
    " - [text properties](http://bokeh.pydata.org/en/latest/docs/user_guide/styling.html#text-properties)\n",
    " - ``axis_label_standoff``\n",
    "* **major_label** \n",
    " - [text properties](http://bokeh.pydata.org/en/latest/docs/user_guide/styling.html#text-properties)\n",
    " - ``orientation``\n",
    "* **major_tick** \n",
    " - [line_properties](http://bokeh.pydata.org/en/latest/docs/user_guide/styling.html#line-properties)\n",
    " - ``major_tick_in`` \n",
    " - ``major_tick_out``\n",
    "* **minor_tick** \n",
    " - [line properties](http://bokeh.pydata.org/en/latest/docs/user_guide/styling.html#line-properties)\n",
    " - ``minor_tick_in``\n",
    " - ``minor_tick_out``\n",
    "\n",
    "As a simple first example, let's change the orientation of the major tick labels on both axes of a plot:"
   ]
  },
  {
   "cell_type": "code",
   "execution_count": 6,
   "metadata": {
    "collapsed": false
   },
   "outputs": [
    {
     "data": {
      "text/html": [
       "\n",
       "\n",
       "    <div class=\"plotdiv\" id=\"8060e5d9-0369-40fc-998c-eaad6abed092\"></div>\n",
       "<script type=\"text/javascript\">\n",
       "  \n",
       "  (function(global) {\n",
       "    function now() {\n",
       "      return new Date();\n",
       "    }\n",
       "  \n",
       "    if (typeof (window._bokeh_onload_callbacks) === \"undefined\") {\n",
       "      window._bokeh_onload_callbacks = [];\n",
       "    }\n",
       "  \n",
       "    function run_callbacks() {\n",
       "      window._bokeh_onload_callbacks.forEach(function(callback) { callback() });\n",
       "      delete window._bokeh_onload_callbacks\n",
       "      console.info(\"Bokeh: all callbacks have finished\");\n",
       "    }\n",
       "  \n",
       "    function load_libs(js_urls, callback) {\n",
       "      window._bokeh_onload_callbacks.push(callback);\n",
       "      if (window._bokeh_is_loading > 0) {\n",
       "        console.log(\"Bokeh: BokehJS is being loaded, scheduling callback at\", now());\n",
       "        return null;\n",
       "      }\n",
       "      if (js_urls == null || js_urls.length === 0) {\n",
       "        run_callbacks();\n",
       "        return null;\n",
       "      }\n",
       "      console.log(\"Bokeh: BokehJS not loaded, scheduling load and callback at\", now());\n",
       "      window._bokeh_is_loading = js_urls.length;\n",
       "      for (var i = 0; i < js_urls.length; i++) {\n",
       "        var url = js_urls[i];\n",
       "        var s = document.createElement('script');\n",
       "        s.src = url;\n",
       "        s.async = false;\n",
       "        s.onreadystatechange = s.onload = function() {\n",
       "          window._bokeh_is_loading--;\n",
       "          if (window._bokeh_is_loading === 0) {\n",
       "            console.log(\"Bokeh: all BokehJS libraries loaded\");\n",
       "            run_callbacks()\n",
       "          }\n",
       "        };\n",
       "        s.onerror = function() {\n",
       "          console.warn(\"failed to load library \" + url);\n",
       "        };\n",
       "        console.log(\"Bokeh: injecting script tag for BokehJS library: \", url);\n",
       "        document.getElementsByTagName(\"head\")[0].appendChild(s);\n",
       "      }\n",
       "    };var element = document.getElementById(\"8060e5d9-0369-40fc-998c-eaad6abed092\");\n",
       "    if (element == null) {\n",
       "      console.log(\"Bokeh: ERROR: autoload.js configured with elementid '8060e5d9-0369-40fc-998c-eaad6abed092' but no matching script tag was found. \")\n",
       "      return false;\n",
       "    }\n",
       "  \n",
       "    var js_urls = [];\n",
       "  \n",
       "    var inline_js = [\n",
       "      function(Bokeh) {\n",
       "        Bokeh.$(function() {\n",
       "            var docs_json = {\"cf5a1966-3947-412c-885c-5870a30b6ebd\":{\"roots\":{\"references\":[{\"attributes\":{\"callback\":null},\"id\":\"e2775ab3-07ba-45e9-bfd8-b4da7cc345e7\",\"type\":\"DataRange1d\"},{\"attributes\":{\"below\":[{\"id\":\"69369a2a-fb62-48a6-899d-e4b3f26b71d6\",\"type\":\"LinearAxis\"}],\"left\":[{\"id\":\"5b9346f6-a946-4ea5-bc7d-01e83046ba86\",\"type\":\"LinearAxis\"}],\"plot_height\":400,\"plot_width\":400,\"renderers\":[{\"id\":\"69369a2a-fb62-48a6-899d-e4b3f26b71d6\",\"type\":\"LinearAxis\"},{\"id\":\"69969dde-74a1-4b42-9c4b-0ba7d01eed61\",\"type\":\"Grid\"},{\"id\":\"5b9346f6-a946-4ea5-bc7d-01e83046ba86\",\"type\":\"LinearAxis\"},{\"id\":\"ed8cbbde-e507-4040-b62c-da624a2ab502\",\"type\":\"Grid\"},{\"id\":\"fb8cae12-8aa2-43bb-b983-10a9de939714\",\"type\":\"BoxAnnotation\"},{\"id\":\"34dbc233-c059-4079-a998-a4a7f6b4fca4\",\"type\":\"GlyphRenderer\"}],\"tool_events\":{\"id\":\"92d5baad-945b-4589-994f-4e8b700a4a91\",\"type\":\"ToolEvents\"},\"tools\":[{\"id\":\"77ec29d8-665b-4fd8-b175-64bdb46b4943\",\"type\":\"PanTool\"},{\"id\":\"65fed729-d594-43de-a002-dae4d5c1bc10\",\"type\":\"WheelZoomTool\"},{\"id\":\"bdbe9d3d-d707-42e8-a977-88778df4a20c\",\"type\":\"BoxZoomTool\"},{\"id\":\"f744bbd4-e268-492d-bd1d-736d1f634a8a\",\"type\":\"PreviewSaveTool\"},{\"id\":\"32e85a6c-23d5-4a56-a7b8-306b196ad673\",\"type\":\"ResizeTool\"},{\"id\":\"3b8d66fb-489e-4ff5-b05d-e98c2b0aadf4\",\"type\":\"ResetTool\"},{\"id\":\"d6f72b26-cce3-469a-b8f8-344c11b78d01\",\"type\":\"HelpTool\"}],\"x_range\":{\"id\":\"e2775ab3-07ba-45e9-bfd8-b4da7cc345e7\",\"type\":\"DataRange1d\"},\"y_range\":{\"id\":\"483fde99-0c24-468f-9c1a-efbf96540518\",\"type\":\"DataRange1d\"}},\"id\":\"decbaf11-281d-487b-a5f6-9731f6a7079c\",\"subtype\":\"Figure\",\"type\":\"Plot\"},{\"attributes\":{\"plot\":{\"id\":\"decbaf11-281d-487b-a5f6-9731f6a7079c\",\"subtype\":\"Figure\",\"type\":\"Plot\"}},\"id\":\"3b8d66fb-489e-4ff5-b05d-e98c2b0aadf4\",\"type\":\"ResetTool\"},{\"attributes\":{\"fill_color\":{\"value\":\"#1f77b4\"},\"line_color\":{\"value\":\"#1f77b4\"},\"line_width\":{\"value\":2},\"size\":{\"units\":\"screen\",\"value\":10},\"x\":{\"field\":\"x\"},\"y\":{\"field\":\"y\"}},\"id\":\"15d042ce-2784-423a-bb25-070098460971\",\"type\":\"X\"},{\"attributes\":{\"data_source\":{\"id\":\"9cf2909c-5697-4bbd-afa6-9217d526cad9\",\"type\":\"ColumnDataSource\"},\"glyph\":{\"id\":\"15d042ce-2784-423a-bb25-070098460971\",\"type\":\"X\"},\"hover_glyph\":null,\"nonselection_glyph\":{\"id\":\"863b9446-6c86-4b6d-a74e-c1ec31c49238\",\"type\":\"X\"},\"selection_glyph\":null},\"id\":\"34dbc233-c059-4079-a998-a4a7f6b4fca4\",\"type\":\"GlyphRenderer\"},{\"attributes\":{\"callback\":null,\"column_names\":[\"y\",\"x\"],\"data\":{\"x\":[1,2,3,4,5],\"y\":[2,5,8,2,7]}},\"id\":\"9cf2909c-5697-4bbd-afa6-9217d526cad9\",\"type\":\"ColumnDataSource\"},{\"attributes\":{},\"id\":\"523e21fe-bf48-4bc5-a03e-a5e723fbf015\",\"type\":\"ToolEvents\"},{\"attributes\":{\"plot\":{\"id\":\"decbaf11-281d-487b-a5f6-9731f6a7079c\",\"subtype\":\"Figure\",\"type\":\"Plot\"}},\"id\":\"77ec29d8-665b-4fd8-b175-64bdb46b4943\",\"type\":\"PanTool\"},{\"attributes\":{\"plot\":{\"id\":\"ba975b2d-f2f9-4e16-a386-2eefb8f93aea\",\"subtype\":\"Figure\",\"type\":\"Plot\"}},\"id\":\"0f0d09cc-938b-46bb-8560-55cdceb20e49\",\"type\":\"PanTool\"},{\"attributes\":{\"fill_alpha\":{\"value\":0.1},\"fill_color\":{\"value\":\"#1f77b4\"},\"line_alpha\":{\"value\":0.1},\"line_color\":{\"value\":\"#1f77b4\"},\"size\":{\"units\":\"screen\",\"value\":10},\"x\":{\"field\":\"x\"},\"y\":{\"field\":\"y\"}},\"id\":\"a6b16b50-dc1c-473d-a692-527c11fac1f6\",\"type\":\"Circle\"},{\"attributes\":{\"overlay\":{\"id\":\"fb8cae12-8aa2-43bb-b983-10a9de939714\",\"type\":\"BoxAnnotation\"},\"plot\":{\"id\":\"decbaf11-281d-487b-a5f6-9731f6a7079c\",\"subtype\":\"Figure\",\"type\":\"Plot\"}},\"id\":\"bdbe9d3d-d707-42e8-a977-88778df4a20c\",\"type\":\"BoxZoomTool\"},{\"attributes\":{\"dimension\":1,\"plot\":{\"id\":\"decbaf11-281d-487b-a5f6-9731f6a7079c\",\"subtype\":\"Figure\",\"type\":\"Plot\"},\"ticker\":{\"id\":\"ecb1984e-5076-44e4-a4e5-540cebdc65a6\",\"type\":\"BasicTicker\"}},\"id\":\"ed8cbbde-e507-4040-b62c-da624a2ab502\",\"type\":\"Grid\"},{\"attributes\":{\"formatter\":{\"id\":\"a18adf31-8c5c-4455-949c-36d96d417913\",\"type\":\"BasicTickFormatter\"},\"plot\":{\"id\":\"ba975b2d-f2f9-4e16-a386-2eefb8f93aea\",\"subtype\":\"Figure\",\"type\":\"Plot\"},\"ticker\":{\"id\":\"d980c33a-0d11-42fe-9576-f36d16319738\",\"type\":\"BasicTicker\"}},\"id\":\"f32c69a5-4b62-455a-8a3a-a415282f74d5\",\"type\":\"LinearAxis\"},{\"attributes\":{\"dimension\":1,\"plot\":{\"id\":\"ba975b2d-f2f9-4e16-a386-2eefb8f93aea\",\"subtype\":\"Figure\",\"type\":\"Plot\"},\"ticker\":{\"id\":\"d980c33a-0d11-42fe-9576-f36d16319738\",\"type\":\"BasicTicker\"}},\"id\":\"3ec80ce5-7991-45e7-8817-bc031831a63f\",\"type\":\"Grid\"},{\"attributes\":{},\"id\":\"6d4d6322-8d1a-4c73-bc00-5b2c04288d3d\",\"type\":\"BasicTickFormatter\"},{\"attributes\":{\"bottom_units\":\"screen\",\"fill_alpha\":{\"value\":0.5},\"fill_color\":{\"value\":\"lightgrey\"},\"left_units\":\"screen\",\"level\":\"overlay\",\"line_alpha\":{\"value\":1.0},\"line_color\":{\"value\":\"black\"},\"line_dash\":[4,4],\"line_width\":{\"value\":2},\"plot\":null,\"render_mode\":\"css\",\"right_units\":\"screen\",\"top_units\":\"screen\"},\"id\":\"fb8cae12-8aa2-43bb-b983-10a9de939714\",\"type\":\"BoxAnnotation\"},{\"attributes\":{},\"id\":\"a18adf31-8c5c-4455-949c-36d96d417913\",\"type\":\"BasicTickFormatter\"},{\"attributes\":{\"plot\":{\"id\":\"decbaf11-281d-487b-a5f6-9731f6a7079c\",\"subtype\":\"Figure\",\"type\":\"Plot\"}},\"id\":\"65fed729-d594-43de-a002-dae4d5c1bc10\",\"type\":\"WheelZoomTool\"},{\"attributes\":{\"formatter\":{\"id\":\"283a4091-35bf-43e0-983a-fc6c623578d2\",\"type\":\"BasicTickFormatter\"},\"major_label_orientation\":\"vertical\",\"plot\":{\"id\":\"decbaf11-281d-487b-a5f6-9731f6a7079c\",\"subtype\":\"Figure\",\"type\":\"Plot\"},\"ticker\":{\"id\":\"ecb1984e-5076-44e4-a4e5-540cebdc65a6\",\"type\":\"BasicTicker\"}},\"id\":\"5b9346f6-a946-4ea5-bc7d-01e83046ba86\",\"type\":\"LinearAxis\"},{\"attributes\":{},\"id\":\"98a38870-518a-4769-93a6-7d8aa2e6159e\",\"type\":\"BasicTicker\"},{\"attributes\":{\"plot\":{\"id\":\"ba975b2d-f2f9-4e16-a386-2eefb8f93aea\",\"subtype\":\"Figure\",\"type\":\"Plot\"}},\"id\":\"a445f03e-3357-44b8-b519-daef81f59911\",\"type\":\"WheelZoomTool\"},{\"attributes\":{},\"id\":\"92d5baad-945b-4589-994f-4e8b700a4a91\",\"type\":\"ToolEvents\"},{\"attributes\":{\"fill_alpha\":{\"value\":0.1},\"fill_color\":{\"value\":\"#1f77b4\"},\"line_alpha\":{\"value\":0.1},\"line_color\":{\"value\":\"#1f77b4\"},\"line_width\":{\"value\":2},\"size\":{\"units\":\"screen\",\"value\":10},\"x\":{\"field\":\"x\"},\"y\":{\"field\":\"y\"}},\"id\":\"863b9446-6c86-4b6d-a74e-c1ec31c49238\",\"type\":\"X\"},{\"attributes\":{\"callback\":null},\"id\":\"483fde99-0c24-468f-9c1a-efbf96540518\",\"type\":\"DataRange1d\"},{\"attributes\":{\"plot\":{\"id\":\"ba975b2d-f2f9-4e16-a386-2eefb8f93aea\",\"subtype\":\"Figure\",\"type\":\"Plot\"}},\"id\":\"940cd2ab-d7e2-46d0-b8dd-de1a1b26f043\",\"type\":\"HelpTool\"},{\"attributes\":{\"data_source\":{\"id\":\"056c8a28-6db3-43ff-9f92-1a79c6f69cae\",\"type\":\"ColumnDataSource\"},\"glyph\":{\"id\":\"6728a2a6-789d-489b-9799-7cad90230613\",\"type\":\"Circle\"},\"hover_glyph\":null,\"nonselection_glyph\":{\"id\":\"a6b16b50-dc1c-473d-a692-527c11fac1f6\",\"type\":\"Circle\"},\"selection_glyph\":null},\"id\":\"b0912e56-ddc4-409f-abce-65362917935d\",\"type\":\"GlyphRenderer\"},{\"attributes\":{\"plot\":{\"id\":\"ba975b2d-f2f9-4e16-a386-2eefb8f93aea\",\"subtype\":\"Figure\",\"type\":\"Plot\"}},\"id\":\"93bb3f07-cb2a-4481-b7a8-c797cde89f5a\",\"type\":\"ResizeTool\"},{\"attributes\":{},\"id\":\"d980c33a-0d11-42fe-9576-f36d16319738\",\"type\":\"BasicTicker\"},{\"attributes\":{\"formatter\":{\"id\":\"6d4d6322-8d1a-4c73-bc00-5b2c04288d3d\",\"type\":\"BasicTickFormatter\"},\"major_label_orientation\":0.7853981633974483,\"plot\":{\"id\":\"decbaf11-281d-487b-a5f6-9731f6a7079c\",\"subtype\":\"Figure\",\"type\":\"Plot\"},\"ticker\":{\"id\":\"98a38870-518a-4769-93a6-7d8aa2e6159e\",\"type\":\"BasicTicker\"}},\"id\":\"69369a2a-fb62-48a6-899d-e4b3f26b71d6\",\"type\":\"LinearAxis\"},{\"attributes\":{\"plot\":{\"id\":\"ba975b2d-f2f9-4e16-a386-2eefb8f93aea\",\"subtype\":\"Figure\",\"type\":\"Plot\"}},\"id\":\"0ece50ed-813c-4964-b3df-c9ba188a46b9\",\"type\":\"ResetTool\"},{\"attributes\":{\"callback\":null},\"id\":\"a572e27f-a2c2-4bff-9db7-69fb20ace840\",\"type\":\"DataRange1d\"},{\"attributes\":{\"overlay\":{\"id\":\"60809235-7eea-4171-b255-9f08d82eb8eb\",\"type\":\"BoxAnnotation\"},\"plot\":{\"id\":\"ba975b2d-f2f9-4e16-a386-2eefb8f93aea\",\"subtype\":\"Figure\",\"type\":\"Plot\"}},\"id\":\"620ce037-a1c8-49e2-97d4-395f54e0c878\",\"type\":\"BoxZoomTool\"},{\"attributes\":{\"fill_color\":{\"value\":\"#1f77b4\"},\"line_color\":{\"value\":\"#1f77b4\"},\"size\":{\"units\":\"screen\",\"value\":10},\"x\":{\"field\":\"x\"},\"y\":{\"field\":\"y\"}},\"id\":\"6728a2a6-789d-489b-9799-7cad90230613\",\"type\":\"Circle\"},{\"attributes\":{\"plot\":{\"id\":\"decbaf11-281d-487b-a5f6-9731f6a7079c\",\"subtype\":\"Figure\",\"type\":\"Plot\"}},\"id\":\"d6f72b26-cce3-469a-b8f8-344c11b78d01\",\"type\":\"HelpTool\"},{\"attributes\":{\"plot\":{\"id\":\"decbaf11-281d-487b-a5f6-9731f6a7079c\",\"subtype\":\"Figure\",\"type\":\"Plot\"},\"ticker\":{\"id\":\"98a38870-518a-4769-93a6-7d8aa2e6159e\",\"type\":\"BasicTicker\"}},\"id\":\"69969dde-74a1-4b42-9c4b-0ba7d01eed61\",\"type\":\"Grid\"},{\"attributes\":{\"below\":[{\"id\":\"bf53ed23-03bd-4d58-9d4f-659b2f4fd4da\",\"type\":\"LinearAxis\"}],\"left\":[{\"id\":\"f32c69a5-4b62-455a-8a3a-a415282f74d5\",\"type\":\"LinearAxis\"}],\"outline_line_alpha\":{\"value\":0.3},\"outline_line_color\":{\"value\":\"navy\"},\"outline_line_width\":{\"value\":7},\"plot_height\":400,\"plot_width\":400,\"renderers\":[{\"id\":\"bf53ed23-03bd-4d58-9d4f-659b2f4fd4da\",\"type\":\"LinearAxis\"},{\"id\":\"c5532b6a-20de-4a32-aeaa-1a84787244e7\",\"type\":\"Grid\"},{\"id\":\"f32c69a5-4b62-455a-8a3a-a415282f74d5\",\"type\":\"LinearAxis\"},{\"id\":\"3ec80ce5-7991-45e7-8817-bc031831a63f\",\"type\":\"Grid\"},{\"id\":\"60809235-7eea-4171-b255-9f08d82eb8eb\",\"type\":\"BoxAnnotation\"},{\"id\":\"b0912e56-ddc4-409f-abce-65362917935d\",\"type\":\"GlyphRenderer\"}],\"tool_events\":{\"id\":\"523e21fe-bf48-4bc5-a03e-a5e723fbf015\",\"type\":\"ToolEvents\"},\"tools\":[{\"id\":\"0f0d09cc-938b-46bb-8560-55cdceb20e49\",\"type\":\"PanTool\"},{\"id\":\"a445f03e-3357-44b8-b519-daef81f59911\",\"type\":\"WheelZoomTool\"},{\"id\":\"620ce037-a1c8-49e2-97d4-395f54e0c878\",\"type\":\"BoxZoomTool\"},{\"id\":\"85cfbd60-13a8-4c07-a8e3-0e188831f47c\",\"type\":\"PreviewSaveTool\"},{\"id\":\"93bb3f07-cb2a-4481-b7a8-c797cde89f5a\",\"type\":\"ResizeTool\"},{\"id\":\"0ece50ed-813c-4964-b3df-c9ba188a46b9\",\"type\":\"ResetTool\"},{\"id\":\"940cd2ab-d7e2-46d0-b8dd-de1a1b26f043\",\"type\":\"HelpTool\"}],\"x_range\":{\"id\":\"a572e27f-a2c2-4bff-9db7-69fb20ace840\",\"type\":\"DataRange1d\"},\"y_range\":{\"id\":\"d773a94b-f053-4881-a612-995093f6b28e\",\"type\":\"DataRange1d\"}},\"id\":\"ba975b2d-f2f9-4e16-a386-2eefb8f93aea\",\"subtype\":\"Figure\",\"type\":\"Plot\"},{\"attributes\":{\"callback\":null,\"column_names\":[\"y\",\"x\"],\"data\":{\"x\":[1,2,3,4,5],\"y\":[2,5,8,2,7]}},\"id\":\"056c8a28-6db3-43ff-9f92-1a79c6f69cae\",\"type\":\"ColumnDataSource\"},{\"attributes\":{},\"id\":\"ecb1984e-5076-44e4-a4e5-540cebdc65a6\",\"type\":\"BasicTicker\"},{\"attributes\":{\"plot\":{\"id\":\"decbaf11-281d-487b-a5f6-9731f6a7079c\",\"subtype\":\"Figure\",\"type\":\"Plot\"}},\"id\":\"f744bbd4-e268-492d-bd1d-736d1f634a8a\",\"type\":\"PreviewSaveTool\"},{\"attributes\":{},\"id\":\"d243fd9d-acd2-4ada-b5af-f9c49b0a33ac\",\"type\":\"BasicTicker\"},{\"attributes\":{\"plot\":{\"id\":\"ba975b2d-f2f9-4e16-a386-2eefb8f93aea\",\"subtype\":\"Figure\",\"type\":\"Plot\"},\"ticker\":{\"id\":\"d243fd9d-acd2-4ada-b5af-f9c49b0a33ac\",\"type\":\"BasicTicker\"}},\"id\":\"c5532b6a-20de-4a32-aeaa-1a84787244e7\",\"type\":\"Grid\"},{\"attributes\":{\"callback\":null},\"id\":\"d773a94b-f053-4881-a612-995093f6b28e\",\"type\":\"DataRange1d\"},{\"attributes\":{},\"id\":\"5596b977-693d-41eb-9e2a-3b62bf90ae6e\",\"type\":\"BasicTickFormatter\"},{\"attributes\":{\"formatter\":{\"id\":\"5596b977-693d-41eb-9e2a-3b62bf90ae6e\",\"type\":\"BasicTickFormatter\"},\"plot\":{\"id\":\"ba975b2d-f2f9-4e16-a386-2eefb8f93aea\",\"subtype\":\"Figure\",\"type\":\"Plot\"},\"ticker\":{\"id\":\"d243fd9d-acd2-4ada-b5af-f9c49b0a33ac\",\"type\":\"BasicTicker\"}},\"id\":\"bf53ed23-03bd-4d58-9d4f-659b2f4fd4da\",\"type\":\"LinearAxis\"},{\"attributes\":{\"plot\":{\"id\":\"ba975b2d-f2f9-4e16-a386-2eefb8f93aea\",\"subtype\":\"Figure\",\"type\":\"Plot\"}},\"id\":\"85cfbd60-13a8-4c07-a8e3-0e188831f47c\",\"type\":\"PreviewSaveTool\"},{\"attributes\":{\"bottom_units\":\"screen\",\"fill_alpha\":{\"value\":0.5},\"fill_color\":{\"value\":\"lightgrey\"},\"left_units\":\"screen\",\"level\":\"overlay\",\"line_alpha\":{\"value\":1.0},\"line_color\":{\"value\":\"black\"},\"line_dash\":[4,4],\"line_width\":{\"value\":2},\"plot\":null,\"render_mode\":\"css\",\"right_units\":\"screen\",\"top_units\":\"screen\"},\"id\":\"60809235-7eea-4171-b255-9f08d82eb8eb\",\"type\":\"BoxAnnotation\"},{\"attributes\":{},\"id\":\"283a4091-35bf-43e0-983a-fc6c623578d2\",\"type\":\"BasicTickFormatter\"},{\"attributes\":{\"plot\":{\"id\":\"decbaf11-281d-487b-a5f6-9731f6a7079c\",\"subtype\":\"Figure\",\"type\":\"Plot\"}},\"id\":\"32e85a6c-23d5-4a56-a7b8-306b196ad673\",\"type\":\"ResizeTool\"}],\"root_ids\":[\"ba975b2d-f2f9-4e16-a386-2eefb8f93aea\",\"decbaf11-281d-487b-a5f6-9731f6a7079c\"]},\"title\":\"Bokeh Application\",\"version\":\"0.11.1\"}};\n",
       "            var render_items = [{\"docid\":\"cf5a1966-3947-412c-885c-5870a30b6ebd\",\"elementid\":\"8060e5d9-0369-40fc-998c-eaad6abed092\",\"modelid\":\"decbaf11-281d-487b-a5f6-9731f6a7079c\",\"notebook_comms_target\":\"65927a8a-b8d7-43b0-8e27-f16bb7e0bebb\"}];\n",
       "            \n",
       "            Bokeh.embed.embed_items(docs_json, render_items);\n",
       "        });\n",
       "      },\n",
       "      function(Bokeh) {\n",
       "      }\n",
       "    ];\n",
       "  \n",
       "    function run_inline_js() {\n",
       "      for (var i = 0; i < inline_js.length; i++) {\n",
       "        inline_js[i](window.Bokeh);\n",
       "      }\n",
       "    }\n",
       "  \n",
       "    if (window._bokeh_is_loading === 0) {\n",
       "      console.log(\"Bokeh: BokehJS loaded, going straight to plotting\");\n",
       "      run_inline_js();\n",
       "    } else {\n",
       "      load_libs(js_urls, function() {\n",
       "        console.log(\"Bokeh: BokehJS plotting callback run at\", now());\n",
       "        run_inline_js();\n",
       "      });\n",
       "    }\n",
       "  }(this));\n",
       "</script>"
      ]
     },
     "metadata": {},
     "output_type": "display_data"
    },
    {
     "data": {
      "text/html": [
       "<p><code>&lt;Bokeh Notebook handle for <strong>In[6]</strong>&gt;</code></p>"
      ],
      "text/plain": [
       "<bokeh.io._CommsHandle at 0x10ced17f0>"
      ]
     },
     "execution_count": 6,
     "metadata": {},
     "output_type": "execute_result"
    }
   ],
   "source": [
    "from math import pi\n",
    "\n",
    "p = figure(plot_width=400, plot_height=400)\n",
    "p.x([1,2,3,4,5], [2,5,8,2,7], size=10, line_width=2)\n",
    "\n",
    "p.xaxis.major_label_orientation = pi/4\n",
    "p.yaxis.major_label_orientation = \"vertical\"\n",
    "\n",
    "show(p)"
   ]
  },
  {
   "cell_type": "markdown",
   "metadata": {},
   "source": [
    "The next example shows customizations on several of the different Axis properties at once:"
   ]
  },
  {
   "cell_type": "code",
   "execution_count": 7,
   "metadata": {
    "collapsed": false
   },
   "outputs": [
    {
     "data": {
      "text/html": [
       "\n",
       "\n",
       "    <div class=\"plotdiv\" id=\"b1adf250-359c-453c-9923-93cb1894fc5b\"></div>\n",
       "<script type=\"text/javascript\">\n",
       "  \n",
       "  (function(global) {\n",
       "    function now() {\n",
       "      return new Date();\n",
       "    }\n",
       "  \n",
       "    if (typeof (window._bokeh_onload_callbacks) === \"undefined\") {\n",
       "      window._bokeh_onload_callbacks = [];\n",
       "    }\n",
       "  \n",
       "    function run_callbacks() {\n",
       "      window._bokeh_onload_callbacks.forEach(function(callback) { callback() });\n",
       "      delete window._bokeh_onload_callbacks\n",
       "      console.info(\"Bokeh: all callbacks have finished\");\n",
       "    }\n",
       "  \n",
       "    function load_libs(js_urls, callback) {\n",
       "      window._bokeh_onload_callbacks.push(callback);\n",
       "      if (window._bokeh_is_loading > 0) {\n",
       "        console.log(\"Bokeh: BokehJS is being loaded, scheduling callback at\", now());\n",
       "        return null;\n",
       "      }\n",
       "      if (js_urls == null || js_urls.length === 0) {\n",
       "        run_callbacks();\n",
       "        return null;\n",
       "      }\n",
       "      console.log(\"Bokeh: BokehJS not loaded, scheduling load and callback at\", now());\n",
       "      window._bokeh_is_loading = js_urls.length;\n",
       "      for (var i = 0; i < js_urls.length; i++) {\n",
       "        var url = js_urls[i];\n",
       "        var s = document.createElement('script');\n",
       "        s.src = url;\n",
       "        s.async = false;\n",
       "        s.onreadystatechange = s.onload = function() {\n",
       "          window._bokeh_is_loading--;\n",
       "          if (window._bokeh_is_loading === 0) {\n",
       "            console.log(\"Bokeh: all BokehJS libraries loaded\");\n",
       "            run_callbacks()\n",
       "          }\n",
       "        };\n",
       "        s.onerror = function() {\n",
       "          console.warn(\"failed to load library \" + url);\n",
       "        };\n",
       "        console.log(\"Bokeh: injecting script tag for BokehJS library: \", url);\n",
       "        document.getElementsByTagName(\"head\")[0].appendChild(s);\n",
       "      }\n",
       "    };var element = document.getElementById(\"b1adf250-359c-453c-9923-93cb1894fc5b\");\n",
       "    if (element == null) {\n",
       "      console.log(\"Bokeh: ERROR: autoload.js configured with elementid 'b1adf250-359c-453c-9923-93cb1894fc5b' but no matching script tag was found. \")\n",
       "      return false;\n",
       "    }\n",
       "  \n",
       "    var js_urls = [];\n",
       "  \n",
       "    var inline_js = [\n",
       "      function(Bokeh) {\n",
       "        Bokeh.$(function() {\n",
       "            var docs_json = {\"cff307f6-b64c-4252-9665-bfd5058fdfd8\":{\"roots\":{\"references\":[{\"attributes\":{\"callback\":null},\"id\":\"e2775ab3-07ba-45e9-bfd8-b4da7cc345e7\",\"type\":\"DataRange1d\"},{\"attributes\":{\"below\":[{\"id\":\"69369a2a-fb62-48a6-899d-e4b3f26b71d6\",\"type\":\"LinearAxis\"}],\"left\":[{\"id\":\"5b9346f6-a946-4ea5-bc7d-01e83046ba86\",\"type\":\"LinearAxis\"}],\"plot_height\":400,\"plot_width\":400,\"renderers\":[{\"id\":\"69369a2a-fb62-48a6-899d-e4b3f26b71d6\",\"type\":\"LinearAxis\"},{\"id\":\"69969dde-74a1-4b42-9c4b-0ba7d01eed61\",\"type\":\"Grid\"},{\"id\":\"5b9346f6-a946-4ea5-bc7d-01e83046ba86\",\"type\":\"LinearAxis\"},{\"id\":\"ed8cbbde-e507-4040-b62c-da624a2ab502\",\"type\":\"Grid\"},{\"id\":\"fb8cae12-8aa2-43bb-b983-10a9de939714\",\"type\":\"BoxAnnotation\"},{\"id\":\"34dbc233-c059-4079-a998-a4a7f6b4fca4\",\"type\":\"GlyphRenderer\"}],\"tool_events\":{\"id\":\"92d5baad-945b-4589-994f-4e8b700a4a91\",\"type\":\"ToolEvents\"},\"tools\":[{\"id\":\"77ec29d8-665b-4fd8-b175-64bdb46b4943\",\"type\":\"PanTool\"},{\"id\":\"65fed729-d594-43de-a002-dae4d5c1bc10\",\"type\":\"WheelZoomTool\"},{\"id\":\"bdbe9d3d-d707-42e8-a977-88778df4a20c\",\"type\":\"BoxZoomTool\"},{\"id\":\"f744bbd4-e268-492d-bd1d-736d1f634a8a\",\"type\":\"PreviewSaveTool\"},{\"id\":\"32e85a6c-23d5-4a56-a7b8-306b196ad673\",\"type\":\"ResizeTool\"},{\"id\":\"3b8d66fb-489e-4ff5-b05d-e98c2b0aadf4\",\"type\":\"ResetTool\"},{\"id\":\"d6f72b26-cce3-469a-b8f8-344c11b78d01\",\"type\":\"HelpTool\"}],\"x_range\":{\"id\":\"e2775ab3-07ba-45e9-bfd8-b4da7cc345e7\",\"type\":\"DataRange1d\"},\"y_range\":{\"id\":\"483fde99-0c24-468f-9c1a-efbf96540518\",\"type\":\"DataRange1d\"}},\"id\":\"decbaf11-281d-487b-a5f6-9731f6a7079c\",\"subtype\":\"Figure\",\"type\":\"Plot\"},{\"attributes\":{\"plot\":{\"id\":\"decbaf11-281d-487b-a5f6-9731f6a7079c\",\"subtype\":\"Figure\",\"type\":\"Plot\"}},\"id\":\"3b8d66fb-489e-4ff5-b05d-e98c2b0aadf4\",\"type\":\"ResetTool\"},{\"attributes\":{\"fill_color\":{\"value\":\"#1f77b4\"},\"line_color\":{\"value\":\"#1f77b4\"},\"line_width\":{\"value\":2},\"size\":{\"units\":\"screen\",\"value\":10},\"x\":{\"field\":\"x\"},\"y\":{\"field\":\"y\"}},\"id\":\"15d042ce-2784-423a-bb25-070098460971\",\"type\":\"X\"},{\"attributes\":{\"dimension\":1,\"plot\":{\"id\":\"decbaf11-281d-487b-a5f6-9731f6a7079c\",\"subtype\":\"Figure\",\"type\":\"Plot\"},\"ticker\":{\"id\":\"ecb1984e-5076-44e4-a4e5-540cebdc65a6\",\"type\":\"BasicTicker\"}},\"id\":\"ed8cbbde-e507-4040-b62c-da624a2ab502\",\"type\":\"Grid\"},{\"attributes\":{\"callback\":null,\"column_names\":[\"y\",\"x\"],\"data\":{\"x\":[1,2,3,4,5],\"y\":[2,5,8,2,7]}},\"id\":\"9cf2909c-5697-4bbd-afa6-9217d526cad9\",\"type\":\"ColumnDataSource\"},{\"attributes\":{\"formatter\":{\"id\":\"5596b977-693d-41eb-9e2a-3b62bf90ae6e\",\"type\":\"BasicTickFormatter\"},\"plot\":{\"id\":\"ba975b2d-f2f9-4e16-a386-2eefb8f93aea\",\"subtype\":\"Figure\",\"type\":\"Plot\"},\"ticker\":{\"id\":\"d243fd9d-acd2-4ada-b5af-f9c49b0a33ac\",\"type\":\"BasicTicker\"}},\"id\":\"bf53ed23-03bd-4d58-9d4f-659b2f4fd4da\",\"type\":\"LinearAxis\"},{\"attributes\":{},\"id\":\"523e21fe-bf48-4bc5-a03e-a5e723fbf015\",\"type\":\"ToolEvents\"},{\"attributes\":{\"plot\":{\"id\":\"decbaf11-281d-487b-a5f6-9731f6a7079c\",\"subtype\":\"Figure\",\"type\":\"Plot\"}},\"id\":\"77ec29d8-665b-4fd8-b175-64bdb46b4943\",\"type\":\"PanTool\"},{\"attributes\":{\"fill_color\":{\"value\":\"olive\"},\"line_color\":{\"value\":\"olive\"},\"size\":{\"units\":\"screen\",\"value\":12},\"x\":{\"field\":\"x\"},\"y\":{\"field\":\"y\"}},\"id\":\"52bfd11c-3d1c-4a5a-aaae-bce6433532ed\",\"type\":\"Asterisk\"},{\"attributes\":{\"plot\":{\"id\":\"ba975b2d-f2f9-4e16-a386-2eefb8f93aea\",\"subtype\":\"Figure\",\"type\":\"Plot\"}},\"id\":\"0f0d09cc-938b-46bb-8560-55cdceb20e49\",\"type\":\"PanTool\"},{\"attributes\":{\"fill_alpha\":{\"value\":0.1},\"fill_color\":{\"value\":\"#1f77b4\"},\"line_alpha\":{\"value\":0.1},\"line_color\":{\"value\":\"#1f77b4\"},\"size\":{\"units\":\"screen\",\"value\":10},\"x\":{\"field\":\"x\"},\"y\":{\"field\":\"y\"}},\"id\":\"a6b16b50-dc1c-473d-a692-527c11fac1f6\",\"type\":\"Circle\"},{\"attributes\":{\"overlay\":{\"id\":\"fb8cae12-8aa2-43bb-b983-10a9de939714\",\"type\":\"BoxAnnotation\"},\"plot\":{\"id\":\"decbaf11-281d-487b-a5f6-9731f6a7079c\",\"subtype\":\"Figure\",\"type\":\"Plot\"}},\"id\":\"bdbe9d3d-d707-42e8-a977-88778df4a20c\",\"type\":\"BoxZoomTool\"},{\"attributes\":{},\"id\":\"a8e488c3-4fc8-4561-bf63-4c9f4f839cf6\",\"type\":\"BasicTickFormatter\"},{\"attributes\":{\"data_source\":{\"id\":\"9cf2909c-5697-4bbd-afa6-9217d526cad9\",\"type\":\"ColumnDataSource\"},\"glyph\":{\"id\":\"15d042ce-2784-423a-bb25-070098460971\",\"type\":\"X\"},\"hover_glyph\":null,\"nonselection_glyph\":{\"id\":\"863b9446-6c86-4b6d-a74e-c1ec31c49238\",\"type\":\"X\"},\"selection_glyph\":null},\"id\":\"34dbc233-c059-4079-a998-a4a7f6b4fca4\",\"type\":\"GlyphRenderer\"},{\"attributes\":{\"formatter\":{\"id\":\"a18adf31-8c5c-4455-949c-36d96d417913\",\"type\":\"BasicTickFormatter\"},\"plot\":{\"id\":\"ba975b2d-f2f9-4e16-a386-2eefb8f93aea\",\"subtype\":\"Figure\",\"type\":\"Plot\"},\"ticker\":{\"id\":\"d980c33a-0d11-42fe-9576-f36d16319738\",\"type\":\"BasicTicker\"}},\"id\":\"f32c69a5-4b62-455a-8a3a-a415282f74d5\",\"type\":\"LinearAxis\"},{\"attributes\":{\"dimension\":1,\"plot\":{\"id\":\"ba975b2d-f2f9-4e16-a386-2eefb8f93aea\",\"subtype\":\"Figure\",\"type\":\"Plot\"},\"ticker\":{\"id\":\"d980c33a-0d11-42fe-9576-f36d16319738\",\"type\":\"BasicTicker\"}},\"id\":\"3ec80ce5-7991-45e7-8817-bc031831a63f\",\"type\":\"Grid\"},{\"attributes\":{\"callback\":null},\"id\":\"41b9f656-b099-4d57-a13e-bd21ce9bf9a7\",\"type\":\"DataRange1d\"},{\"attributes\":{},\"id\":\"6d4d6322-8d1a-4c73-bc00-5b2c04288d3d\",\"type\":\"BasicTickFormatter\"},{\"attributes\":{\"data_source\":{\"id\":\"200e97f0-f210-4bc0-96a8-3cdbd84219a7\",\"type\":\"ColumnDataSource\"},\"glyph\":{\"id\":\"52bfd11c-3d1c-4a5a-aaae-bce6433532ed\",\"type\":\"Asterisk\"},\"hover_glyph\":null,\"nonselection_glyph\":{\"id\":\"204b4ecb-1755-4d2f-9124-05be3ebab38d\",\"type\":\"Asterisk\"},\"selection_glyph\":null},\"id\":\"8c640b9e-5b0a-418c-b0e1-c38a38c9e144\",\"type\":\"GlyphRenderer\"},{\"attributes\":{\"data_source\":{\"id\":\"056c8a28-6db3-43ff-9f92-1a79c6f69cae\",\"type\":\"ColumnDataSource\"},\"glyph\":{\"id\":\"6728a2a6-789d-489b-9799-7cad90230613\",\"type\":\"Circle\"},\"hover_glyph\":null,\"nonselection_glyph\":{\"id\":\"a6b16b50-dc1c-473d-a692-527c11fac1f6\",\"type\":\"Circle\"},\"selection_glyph\":null},\"id\":\"b0912e56-ddc4-409f-abce-65362917935d\",\"type\":\"GlyphRenderer\"},{\"attributes\":{\"plot\":{\"id\":\"c5f2a59c-8a06-43db-8610-36e8904f73b9\",\"subtype\":\"Figure\",\"type\":\"Plot\"}},\"id\":\"3c5f643d-2285-4569-a753-cc33068df398\",\"type\":\"ResizeTool\"},{\"attributes\":{},\"id\":\"a18adf31-8c5c-4455-949c-36d96d417913\",\"type\":\"BasicTickFormatter\"},{\"attributes\":{\"below\":[{\"id\":\"8f74fc62-ca0d-49c9-8b43-1700f0b26eed\",\"type\":\"LinearAxis\"}],\"left\":[{\"id\":\"30b8f4ca-0d41-4d33-8d1f-1d84d3c02364\",\"type\":\"LinearAxis\"}],\"plot_height\":400,\"plot_width\":400,\"renderers\":[{\"id\":\"8f74fc62-ca0d-49c9-8b43-1700f0b26eed\",\"type\":\"LinearAxis\"},{\"id\":\"64d7aaf4-3889-450b-ad32-ccc51cd8f30b\",\"type\":\"Grid\"},{\"id\":\"30b8f4ca-0d41-4d33-8d1f-1d84d3c02364\",\"type\":\"LinearAxis\"},{\"id\":\"656effdc-4e07-460a-b90b-4ffaed920f80\",\"type\":\"Grid\"},{\"id\":\"921c6633-688a-431c-9952-ecb538a1ab6a\",\"type\":\"BoxAnnotation\"},{\"id\":\"8c640b9e-5b0a-418c-b0e1-c38a38c9e144\",\"type\":\"GlyphRenderer\"}],\"tool_events\":{\"id\":\"8a45b4e1-7985-4090-a20c-be3d99f7c8c4\",\"type\":\"ToolEvents\"},\"tools\":[{\"id\":\"6d6197f1-3acb-4f71-a7fa-d00ab9fb6572\",\"type\":\"PanTool\"},{\"id\":\"80a75b75-bbf0-454a-8dcd-3dae6ea5bf5c\",\"type\":\"WheelZoomTool\"},{\"id\":\"06aa3c2f-e9d8-4afc-85cb-8e8a91028479\",\"type\":\"BoxZoomTool\"},{\"id\":\"f32f45bc-ec7d-4309-a288-a5650d5c8225\",\"type\":\"PreviewSaveTool\"},{\"id\":\"3c5f643d-2285-4569-a753-cc33068df398\",\"type\":\"ResizeTool\"},{\"id\":\"0723e1c9-6efe-4aa6-9cdd-aa71705a755b\",\"type\":\"ResetTool\"},{\"id\":\"de2a22f9-24fb-467d-94c7-ae8c2d938512\",\"type\":\"HelpTool\"}],\"x_range\":{\"id\":\"41b9f656-b099-4d57-a13e-bd21ce9bf9a7\",\"type\":\"DataRange1d\"},\"y_range\":{\"id\":\"34ee318d-ffac-47d4-84c0-bea29b2beacc\",\"type\":\"DataRange1d\"}},\"id\":\"c5f2a59c-8a06-43db-8610-36e8904f73b9\",\"subtype\":\"Figure\",\"type\":\"Plot\"},{\"attributes\":{\"formatter\":{\"id\":\"283a4091-35bf-43e0-983a-fc6c623578d2\",\"type\":\"BasicTickFormatter\"},\"major_label_orientation\":\"vertical\",\"plot\":{\"id\":\"decbaf11-281d-487b-a5f6-9731f6a7079c\",\"subtype\":\"Figure\",\"type\":\"Plot\"},\"ticker\":{\"id\":\"ecb1984e-5076-44e4-a4e5-540cebdc65a6\",\"type\":\"BasicTicker\"}},\"id\":\"5b9346f6-a946-4ea5-bc7d-01e83046ba86\",\"type\":\"LinearAxis\"},{\"attributes\":{},\"id\":\"98a38870-518a-4769-93a6-7d8aa2e6159e\",\"type\":\"BasicTicker\"},{\"attributes\":{\"overlay\":{\"id\":\"921c6633-688a-431c-9952-ecb538a1ab6a\",\"type\":\"BoxAnnotation\"},\"plot\":{\"id\":\"c5f2a59c-8a06-43db-8610-36e8904f73b9\",\"subtype\":\"Figure\",\"type\":\"Plot\"}},\"id\":\"06aa3c2f-e9d8-4afc-85cb-8e8a91028479\",\"type\":\"BoxZoomTool\"},{\"attributes\":{\"plot\":{\"id\":\"ba975b2d-f2f9-4e16-a386-2eefb8f93aea\",\"subtype\":\"Figure\",\"type\":\"Plot\"}},\"id\":\"a445f03e-3357-44b8-b519-daef81f59911\",\"type\":\"WheelZoomTool\"},{\"attributes\":{},\"id\":\"92d5baad-945b-4589-994f-4e8b700a4a91\",\"type\":\"ToolEvents\"},{\"attributes\":{},\"id\":\"8a45b4e1-7985-4090-a20c-be3d99f7c8c4\",\"type\":\"ToolEvents\"},{\"attributes\":{\"fill_alpha\":{\"value\":0.1},\"fill_color\":{\"value\":\"#1f77b4\"},\"line_alpha\":{\"value\":0.1},\"line_color\":{\"value\":\"#1f77b4\"},\"line_width\":{\"value\":2},\"size\":{\"units\":\"screen\",\"value\":10},\"x\":{\"field\":\"x\"},\"y\":{\"field\":\"y\"}},\"id\":\"863b9446-6c86-4b6d-a74e-c1ec31c49238\",\"type\":\"X\"},{\"attributes\":{\"callback\":null},\"id\":\"483fde99-0c24-468f-9c1a-efbf96540518\",\"type\":\"DataRange1d\"},{\"attributes\":{\"plot\":{\"id\":\"ba975b2d-f2f9-4e16-a386-2eefb8f93aea\",\"subtype\":\"Figure\",\"type\":\"Plot\"}},\"id\":\"940cd2ab-d7e2-46d0-b8dd-de1a1b26f043\",\"type\":\"HelpTool\"},{\"attributes\":{\"callback\":null,\"column_names\":[\"y\",\"x\"],\"data\":{\"x\":[1,2,3,4,5],\"y\":[2,5,8,2,7]}},\"id\":\"056c8a28-6db3-43ff-9f92-1a79c6f69cae\",\"type\":\"ColumnDataSource\"},{\"attributes\":{},\"id\":\"5596b977-693d-41eb-9e2a-3b62bf90ae6e\",\"type\":\"BasicTickFormatter\"},{\"attributes\":{},\"id\":\"d9fd46a8-5d2c-4898-a32d-cf880d34eb43\",\"type\":\"BasicTicker\"},{\"attributes\":{},\"id\":\"d980c33a-0d11-42fe-9576-f36d16319738\",\"type\":\"BasicTicker\"},{\"attributes\":{\"callback\":null,\"column_names\":[\"y\",\"x\"],\"data\":{\"x\":[1,2,3,4,5],\"y\":[2,5,8,2,7]}},\"id\":\"200e97f0-f210-4bc0-96a8-3cdbd84219a7\",\"type\":\"ColumnDataSource\"},{\"attributes\":{\"bottom_units\":\"screen\",\"fill_alpha\":{\"value\":0.5},\"fill_color\":{\"value\":\"lightgrey\"},\"left_units\":\"screen\",\"level\":\"overlay\",\"line_alpha\":{\"value\":1.0},\"line_color\":{\"value\":\"black\"},\"line_dash\":[4,4],\"line_width\":{\"value\":2},\"plot\":null,\"render_mode\":\"css\",\"right_units\":\"screen\",\"top_units\":\"screen\"},\"id\":\"fb8cae12-8aa2-43bb-b983-10a9de939714\",\"type\":\"BoxAnnotation\"},{\"attributes\":{\"formatter\":{\"id\":\"6d4d6322-8d1a-4c73-bc00-5b2c04288d3d\",\"type\":\"BasicTickFormatter\"},\"major_label_orientation\":0.7853981633974483,\"plot\":{\"id\":\"decbaf11-281d-487b-a5f6-9731f6a7079c\",\"subtype\":\"Figure\",\"type\":\"Plot\"},\"ticker\":{\"id\":\"98a38870-518a-4769-93a6-7d8aa2e6159e\",\"type\":\"BasicTicker\"}},\"id\":\"69369a2a-fb62-48a6-899d-e4b3f26b71d6\",\"type\":\"LinearAxis\"},{\"attributes\":{\"plot\":{\"id\":\"ba975b2d-f2f9-4e16-a386-2eefb8f93aea\",\"subtype\":\"Figure\",\"type\":\"Plot\"}},\"id\":\"0ece50ed-813c-4964-b3df-c9ba188a46b9\",\"type\":\"ResetTool\"},{\"attributes\":{\"plot\":{\"id\":\"c5f2a59c-8a06-43db-8610-36e8904f73b9\",\"subtype\":\"Figure\",\"type\":\"Plot\"}},\"id\":\"0723e1c9-6efe-4aa6-9cdd-aa71705a755b\",\"type\":\"ResetTool\"},{\"attributes\":{\"plot\":{\"id\":\"c5f2a59c-8a06-43db-8610-36e8904f73b9\",\"subtype\":\"Figure\",\"type\":\"Plot\"}},\"id\":\"80a75b75-bbf0-454a-8dcd-3dae6ea5bf5c\",\"type\":\"WheelZoomTool\"},{\"attributes\":{\"fill_alpha\":{\"value\":0.1},\"fill_color\":{\"value\":\"#1f77b4\"},\"line_alpha\":{\"value\":0.1},\"line_color\":{\"value\":\"#1f77b4\"},\"size\":{\"units\":\"screen\",\"value\":12},\"x\":{\"field\":\"x\"},\"y\":{\"field\":\"y\"}},\"id\":\"204b4ecb-1755-4d2f-9124-05be3ebab38d\",\"type\":\"Asterisk\"},{\"attributes\":{\"plot\":{\"id\":\"decbaf11-281d-487b-a5f6-9731f6a7079c\",\"subtype\":\"Figure\",\"type\":\"Plot\"}},\"id\":\"d6f72b26-cce3-469a-b8f8-344c11b78d01\",\"type\":\"HelpTool\"},{\"attributes\":{},\"id\":\"8c308b83-b361-4784-9239-86e8304ce722\",\"type\":\"BasicTickFormatter\"},{\"attributes\":{\"callback\":null},\"id\":\"a572e27f-a2c2-4bff-9db7-69fb20ace840\",\"type\":\"DataRange1d\"},{\"attributes\":{\"overlay\":{\"id\":\"60809235-7eea-4171-b255-9f08d82eb8eb\",\"type\":\"BoxAnnotation\"},\"plot\":{\"id\":\"ba975b2d-f2f9-4e16-a386-2eefb8f93aea\",\"subtype\":\"Figure\",\"type\":\"Plot\"}},\"id\":\"620ce037-a1c8-49e2-97d4-395f54e0c878\",\"type\":\"BoxZoomTool\"},{\"attributes\":{\"plot\":{\"id\":\"decbaf11-281d-487b-a5f6-9731f6a7079c\",\"subtype\":\"Figure\",\"type\":\"Plot\"}},\"id\":\"65fed729-d594-43de-a002-dae4d5c1bc10\",\"type\":\"WheelZoomTool\"},{\"attributes\":{\"fill_color\":{\"value\":\"#1f77b4\"},\"line_color\":{\"value\":\"#1f77b4\"},\"size\":{\"units\":\"screen\",\"value\":10},\"x\":{\"field\":\"x\"},\"y\":{\"field\":\"y\"}},\"id\":\"6728a2a6-789d-489b-9799-7cad90230613\",\"type\":\"Circle\"},{\"attributes\":{\"plot\":{\"id\":\"c5f2a59c-8a06-43db-8610-36e8904f73b9\",\"subtype\":\"Figure\",\"type\":\"Plot\"}},\"id\":\"6d6197f1-3acb-4f71-a7fa-d00ab9fb6572\",\"type\":\"PanTool\"},{\"attributes\":{\"plot\":{\"id\":\"decbaf11-281d-487b-a5f6-9731f6a7079c\",\"subtype\":\"Figure\",\"type\":\"Plot\"},\"ticker\":{\"id\":\"98a38870-518a-4769-93a6-7d8aa2e6159e\",\"type\":\"BasicTicker\"}},\"id\":\"69969dde-74a1-4b42-9c4b-0ba7d01eed61\",\"type\":\"Grid\"},{\"attributes\":{\"below\":[{\"id\":\"bf53ed23-03bd-4d58-9d4f-659b2f4fd4da\",\"type\":\"LinearAxis\"}],\"left\":[{\"id\":\"f32c69a5-4b62-455a-8a3a-a415282f74d5\",\"type\":\"LinearAxis\"}],\"outline_line_alpha\":{\"value\":0.3},\"outline_line_color\":{\"value\":\"navy\"},\"outline_line_width\":{\"value\":7},\"plot_height\":400,\"plot_width\":400,\"renderers\":[{\"id\":\"bf53ed23-03bd-4d58-9d4f-659b2f4fd4da\",\"type\":\"LinearAxis\"},{\"id\":\"c5532b6a-20de-4a32-aeaa-1a84787244e7\",\"type\":\"Grid\"},{\"id\":\"f32c69a5-4b62-455a-8a3a-a415282f74d5\",\"type\":\"LinearAxis\"},{\"id\":\"3ec80ce5-7991-45e7-8817-bc031831a63f\",\"type\":\"Grid\"},{\"id\":\"60809235-7eea-4171-b255-9f08d82eb8eb\",\"type\":\"BoxAnnotation\"},{\"id\":\"b0912e56-ddc4-409f-abce-65362917935d\",\"type\":\"GlyphRenderer\"}],\"tool_events\":{\"id\":\"523e21fe-bf48-4bc5-a03e-a5e723fbf015\",\"type\":\"ToolEvents\"},\"tools\":[{\"id\":\"0f0d09cc-938b-46bb-8560-55cdceb20e49\",\"type\":\"PanTool\"},{\"id\":\"a445f03e-3357-44b8-b519-daef81f59911\",\"type\":\"WheelZoomTool\"},{\"id\":\"620ce037-a1c8-49e2-97d4-395f54e0c878\",\"type\":\"BoxZoomTool\"},{\"id\":\"85cfbd60-13a8-4c07-a8e3-0e188831f47c\",\"type\":\"PreviewSaveTool\"},{\"id\":\"93bb3f07-cb2a-4481-b7a8-c797cde89f5a\",\"type\":\"ResizeTool\"},{\"id\":\"0ece50ed-813c-4964-b3df-c9ba188a46b9\",\"type\":\"ResetTool\"},{\"id\":\"940cd2ab-d7e2-46d0-b8dd-de1a1b26f043\",\"type\":\"HelpTool\"}],\"x_range\":{\"id\":\"a572e27f-a2c2-4bff-9db7-69fb20ace840\",\"type\":\"DataRange1d\"},\"y_range\":{\"id\":\"d773a94b-f053-4881-a612-995093f6b28e\",\"type\":\"DataRange1d\"}},\"id\":\"ba975b2d-f2f9-4e16-a386-2eefb8f93aea\",\"subtype\":\"Figure\",\"type\":\"Plot\"},{\"attributes\":{\"axis_label\":\"Temp\",\"axis_line_color\":{\"value\":\"red\"},\"axis_line_width\":{\"value\":3},\"formatter\":{\"id\":\"8c308b83-b361-4784-9239-86e8304ce722\",\"type\":\"BasicTickFormatter\"},\"minor_tick_in\":-3,\"minor_tick_out\":6,\"plot\":{\"id\":\"c5f2a59c-8a06-43db-8610-36e8904f73b9\",\"subtype\":\"Figure\",\"type\":\"Plot\"},\"ticker\":{\"id\":\"d9fd46a8-5d2c-4898-a32d-cf880d34eb43\",\"type\":\"BasicTicker\"}},\"id\":\"8f74fc62-ca0d-49c9-8b43-1700f0b26eed\",\"type\":\"LinearAxis\"},{\"attributes\":{\"plot\":{\"id\":\"ba975b2d-f2f9-4e16-a386-2eefb8f93aea\",\"subtype\":\"Figure\",\"type\":\"Plot\"},\"ticker\":{\"id\":\"d243fd9d-acd2-4ada-b5af-f9c49b0a33ac\",\"type\":\"BasicTicker\"}},\"id\":\"c5532b6a-20de-4a32-aeaa-1a84787244e7\",\"type\":\"Grid\"},{\"attributes\":{},\"id\":\"ecb1984e-5076-44e4-a4e5-540cebdc65a6\",\"type\":\"BasicTicker\"},{\"attributes\":{\"plot\":{\"id\":\"decbaf11-281d-487b-a5f6-9731f6a7079c\",\"subtype\":\"Figure\",\"type\":\"Plot\"}},\"id\":\"f744bbd4-e268-492d-bd1d-736d1f634a8a\",\"type\":\"PreviewSaveTool\"},{\"attributes\":{},\"id\":\"d243fd9d-acd2-4ada-b5af-f9c49b0a33ac\",\"type\":\"BasicTicker\"},{\"attributes\":{\"bottom_units\":\"screen\",\"fill_alpha\":{\"value\":0.5},\"fill_color\":{\"value\":\"lightgrey\"},\"left_units\":\"screen\",\"level\":\"overlay\",\"line_alpha\":{\"value\":1.0},\"line_color\":{\"value\":\"black\"},\"line_dash\":[4,4],\"line_width\":{\"value\":2},\"plot\":null,\"render_mode\":\"css\",\"right_units\":\"screen\",\"top_units\":\"screen\"},\"id\":\"921c6633-688a-431c-9952-ecb538a1ab6a\",\"type\":\"BoxAnnotation\"},{\"attributes\":{\"callback\":null},\"id\":\"d773a94b-f053-4881-a612-995093f6b28e\",\"type\":\"DataRange1d\"},{\"attributes\":{\"plot\":{\"id\":\"ba975b2d-f2f9-4e16-a386-2eefb8f93aea\",\"subtype\":\"Figure\",\"type\":\"Plot\"}},\"id\":\"93bb3f07-cb2a-4481-b7a8-c797cde89f5a\",\"type\":\"ResizeTool\"},{\"attributes\":{\"plot\":{\"id\":\"c5f2a59c-8a06-43db-8610-36e8904f73b9\",\"subtype\":\"Figure\",\"type\":\"Plot\"}},\"id\":\"de2a22f9-24fb-467d-94c7-ae8c2d938512\",\"type\":\"HelpTool\"},{\"attributes\":{\"dimension\":1,\"plot\":{\"id\":\"c5f2a59c-8a06-43db-8610-36e8904f73b9\",\"subtype\":\"Figure\",\"type\":\"Plot\"},\"ticker\":{\"id\":\"f8d58616-d158-475f-98f3-39e5190e859f\",\"type\":\"BasicTicker\"}},\"id\":\"656effdc-4e07-460a-b90b-4ffaed920f80\",\"type\":\"Grid\"},{\"attributes\":{\"plot\":{\"id\":\"ba975b2d-f2f9-4e16-a386-2eefb8f93aea\",\"subtype\":\"Figure\",\"type\":\"Plot\"}},\"id\":\"85cfbd60-13a8-4c07-a8e3-0e188831f47c\",\"type\":\"PreviewSaveTool\"},{\"attributes\":{\"bottom_units\":\"screen\",\"fill_alpha\":{\"value\":0.5},\"fill_color\":{\"value\":\"lightgrey\"},\"left_units\":\"screen\",\"level\":\"overlay\",\"line_alpha\":{\"value\":1.0},\"line_color\":{\"value\":\"black\"},\"line_dash\":[4,4],\"line_width\":{\"value\":2},\"plot\":null,\"render_mode\":\"css\",\"right_units\":\"screen\",\"top_units\":\"screen\"},\"id\":\"60809235-7eea-4171-b255-9f08d82eb8eb\",\"type\":\"BoxAnnotation\"},{\"attributes\":{\"plot\":{\"id\":\"c5f2a59c-8a06-43db-8610-36e8904f73b9\",\"subtype\":\"Figure\",\"type\":\"Plot\"},\"ticker\":{\"id\":\"d9fd46a8-5d2c-4898-a32d-cf880d34eb43\",\"type\":\"BasicTicker\"}},\"id\":\"64d7aaf4-3889-450b-ad32-ccc51cd8f30b\",\"type\":\"Grid\"},{\"attributes\":{},\"id\":\"283a4091-35bf-43e0-983a-fc6c623578d2\",\"type\":\"BasicTickFormatter\"},{\"attributes\":{\"callback\":null},\"id\":\"34ee318d-ffac-47d4-84c0-bea29b2beacc\",\"type\":\"DataRange1d\"},{\"attributes\":{},\"id\":\"f8d58616-d158-475f-98f3-39e5190e859f\",\"type\":\"BasicTicker\"},{\"attributes\":{\"plot\":{\"id\":\"c5f2a59c-8a06-43db-8610-36e8904f73b9\",\"subtype\":\"Figure\",\"type\":\"Plot\"}},\"id\":\"f32f45bc-ec7d-4309-a288-a5650d5c8225\",\"type\":\"PreviewSaveTool\"},{\"attributes\":{\"axis_label\":\"Pressure\",\"formatter\":{\"id\":\"a8e488c3-4fc8-4561-bf63-4c9f4f839cf6\",\"type\":\"BasicTickFormatter\"},\"major_label_orientation\":\"vertical\",\"major_label_text_color\":{\"value\":\"orange\"},\"minor_tick_in\":-3,\"minor_tick_out\":6,\"plot\":{\"id\":\"c5f2a59c-8a06-43db-8610-36e8904f73b9\",\"subtype\":\"Figure\",\"type\":\"Plot\"},\"ticker\":{\"id\":\"f8d58616-d158-475f-98f3-39e5190e859f\",\"type\":\"BasicTicker\"}},\"id\":\"30b8f4ca-0d41-4d33-8d1f-1d84d3c02364\",\"type\":\"LinearAxis\"},{\"attributes\":{\"plot\":{\"id\":\"decbaf11-281d-487b-a5f6-9731f6a7079c\",\"subtype\":\"Figure\",\"type\":\"Plot\"}},\"id\":\"32e85a6c-23d5-4a56-a7b8-306b196ad673\",\"type\":\"ResizeTool\"}],\"root_ids\":[\"ba975b2d-f2f9-4e16-a386-2eefb8f93aea\",\"decbaf11-281d-487b-a5f6-9731f6a7079c\",\"c5f2a59c-8a06-43db-8610-36e8904f73b9\"]},\"title\":\"Bokeh Application\",\"version\":\"0.11.1\"}};\n",
       "            var render_items = [{\"docid\":\"cff307f6-b64c-4252-9665-bfd5058fdfd8\",\"elementid\":\"b1adf250-359c-453c-9923-93cb1894fc5b\",\"modelid\":\"c5f2a59c-8a06-43db-8610-36e8904f73b9\",\"notebook_comms_target\":\"4bbee90d-88f3-4234-89c4-1d2befdd0128\"}];\n",
       "            \n",
       "            Bokeh.embed.embed_items(docs_json, render_items);\n",
       "        });\n",
       "      },\n",
       "      function(Bokeh) {\n",
       "      }\n",
       "    ];\n",
       "  \n",
       "    function run_inline_js() {\n",
       "      for (var i = 0; i < inline_js.length; i++) {\n",
       "        inline_js[i](window.Bokeh);\n",
       "      }\n",
       "    }\n",
       "  \n",
       "    if (window._bokeh_is_loading === 0) {\n",
       "      console.log(\"Bokeh: BokehJS loaded, going straight to plotting\");\n",
       "      run_inline_js();\n",
       "    } else {\n",
       "      load_libs(js_urls, function() {\n",
       "        console.log(\"Bokeh: BokehJS plotting callback run at\", now());\n",
       "        run_inline_js();\n",
       "      });\n",
       "    }\n",
       "  }(this));\n",
       "</script>"
      ]
     },
     "metadata": {},
     "output_type": "display_data"
    },
    {
     "data": {
      "text/html": [
       "<p><code>&lt;Bokeh Notebook handle for <strong>In[7]</strong>&gt;</code></p>"
      ],
      "text/plain": [
       "<bokeh.io._CommsHandle at 0x10cee8898>"
      ]
     },
     "execution_count": 7,
     "metadata": {},
     "output_type": "execute_result"
    }
   ],
   "source": [
    "p = figure(plot_width=400, plot_height=400)\n",
    "p.asterisk([1,2,3,4,5], [2,5,8,2,7], size=12, color=\"olive\")\n",
    "\n",
    "# change just some things about the x-axes\n",
    "p.xaxis.axis_label = \"Temp\"\n",
    "p.xaxis.axis_line_width = 3\n",
    "p.xaxis.axis_line_color = \"red\"\n",
    "\n",
    "# change just some things about the y-axes\n",
    "p.yaxis.axis_label = \"Pressure\"\n",
    "p.yaxis.major_label_text_color = \"orange\"\n",
    "p.yaxis.major_label_orientation = \"vertical\"\n",
    "\n",
    "# change things on all axes\n",
    "p.axis.minor_tick_in = -3\n",
    "p.axis.minor_tick_out = 6\n",
    "\n",
    "show(p)"
   ]
  },
  {
   "cell_type": "code",
   "execution_count": 8,
   "metadata": {
    "collapsed": true
   },
   "outputs": [],
   "source": [
    "# EXERCISE Create a plot of your own and customize several axis properties\n",
    "\n"
   ]
  },
  {
   "cell_type": "markdown",
   "metadata": {},
   "source": [
    "There are further customizations possible. See the [User Guide](http://bokeh.pydata.org/en/latest/docs/user_guide.html) for more information on topics such as [tick label formatting](http://bokeh.pydata.org/en/latest/docs/user_guide/styling.html#tick-label-formats) or [limiting axis bounds](http://bokeh.pydata.org/en/latest/docs/user_guide/styling.html#bounds)."
   ]
  },
  {
   "cell_type": "markdown",
   "metadata": {},
   "source": [
    "# Grids\n",
    "\n",
    "[Grids](http://bokeh.pydata.org/en/latest/docs/user_guide/styling.html#grids)\n",
    "\n",
    "* **grid** [line properties](http://bokeh.pydata.org/en/latest/docs/user_guide/styling.html#line-properties)\n",
    "* **band** [fill properties]()"
   ]
  },
  {
   "cell_type": "code",
   "execution_count": 9,
   "metadata": {
    "collapsed": false
   },
   "outputs": [
    {
     "data": {
      "text/html": [
       "\n",
       "\n",
       "    <div class=\"plotdiv\" id=\"7fb231ad-3ae4-4daf-93ab-48ca16016488\"></div>\n",
       "<script type=\"text/javascript\">\n",
       "  \n",
       "  (function(global) {\n",
       "    function now() {\n",
       "      return new Date();\n",
       "    }\n",
       "  \n",
       "    if (typeof (window._bokeh_onload_callbacks) === \"undefined\") {\n",
       "      window._bokeh_onload_callbacks = [];\n",
       "    }\n",
       "  \n",
       "    function run_callbacks() {\n",
       "      window._bokeh_onload_callbacks.forEach(function(callback) { callback() });\n",
       "      delete window._bokeh_onload_callbacks\n",
       "      console.info(\"Bokeh: all callbacks have finished\");\n",
       "    }\n",
       "  \n",
       "    function load_libs(js_urls, callback) {\n",
       "      window._bokeh_onload_callbacks.push(callback);\n",
       "      if (window._bokeh_is_loading > 0) {\n",
       "        console.log(\"Bokeh: BokehJS is being loaded, scheduling callback at\", now());\n",
       "        return null;\n",
       "      }\n",
       "      if (js_urls == null || js_urls.length === 0) {\n",
       "        run_callbacks();\n",
       "        return null;\n",
       "      }\n",
       "      console.log(\"Bokeh: BokehJS not loaded, scheduling load and callback at\", now());\n",
       "      window._bokeh_is_loading = js_urls.length;\n",
       "      for (var i = 0; i < js_urls.length; i++) {\n",
       "        var url = js_urls[i];\n",
       "        var s = document.createElement('script');\n",
       "        s.src = url;\n",
       "        s.async = false;\n",
       "        s.onreadystatechange = s.onload = function() {\n",
       "          window._bokeh_is_loading--;\n",
       "          if (window._bokeh_is_loading === 0) {\n",
       "            console.log(\"Bokeh: all BokehJS libraries loaded\");\n",
       "            run_callbacks()\n",
       "          }\n",
       "        };\n",
       "        s.onerror = function() {\n",
       "          console.warn(\"failed to load library \" + url);\n",
       "        };\n",
       "        console.log(\"Bokeh: injecting script tag for BokehJS library: \", url);\n",
       "        document.getElementsByTagName(\"head\")[0].appendChild(s);\n",
       "      }\n",
       "    };var element = document.getElementById(\"7fb231ad-3ae4-4daf-93ab-48ca16016488\");\n",
       "    if (element == null) {\n",
       "      console.log(\"Bokeh: ERROR: autoload.js configured with elementid '7fb231ad-3ae4-4daf-93ab-48ca16016488' but no matching script tag was found. \")\n",
       "      return false;\n",
       "    }\n",
       "  \n",
       "    var js_urls = [];\n",
       "  \n",
       "    var inline_js = [\n",
       "      function(Bokeh) {\n",
       "        Bokeh.$(function() {\n",
       "            var docs_json = {\"ea0ed65d-de26-489f-83d7-a316655ef8a0\":{\"roots\":{\"references\":[{\"attributes\":{\"below\":[{\"id\":\"69369a2a-fb62-48a6-899d-e4b3f26b71d6\",\"type\":\"LinearAxis\"}],\"left\":[{\"id\":\"5b9346f6-a946-4ea5-bc7d-01e83046ba86\",\"type\":\"LinearAxis\"}],\"plot_height\":400,\"plot_width\":400,\"renderers\":[{\"id\":\"69369a2a-fb62-48a6-899d-e4b3f26b71d6\",\"type\":\"LinearAxis\"},{\"id\":\"69969dde-74a1-4b42-9c4b-0ba7d01eed61\",\"type\":\"Grid\"},{\"id\":\"5b9346f6-a946-4ea5-bc7d-01e83046ba86\",\"type\":\"LinearAxis\"},{\"id\":\"ed8cbbde-e507-4040-b62c-da624a2ab502\",\"type\":\"Grid\"},{\"id\":\"fb8cae12-8aa2-43bb-b983-10a9de939714\",\"type\":\"BoxAnnotation\"},{\"id\":\"34dbc233-c059-4079-a998-a4a7f6b4fca4\",\"type\":\"GlyphRenderer\"}],\"tool_events\":{\"id\":\"92d5baad-945b-4589-994f-4e8b700a4a91\",\"type\":\"ToolEvents\"},\"tools\":[{\"id\":\"77ec29d8-665b-4fd8-b175-64bdb46b4943\",\"type\":\"PanTool\"},{\"id\":\"65fed729-d594-43de-a002-dae4d5c1bc10\",\"type\":\"WheelZoomTool\"},{\"id\":\"bdbe9d3d-d707-42e8-a977-88778df4a20c\",\"type\":\"BoxZoomTool\"},{\"id\":\"f744bbd4-e268-492d-bd1d-736d1f634a8a\",\"type\":\"PreviewSaveTool\"},{\"id\":\"32e85a6c-23d5-4a56-a7b8-306b196ad673\",\"type\":\"ResizeTool\"},{\"id\":\"3b8d66fb-489e-4ff5-b05d-e98c2b0aadf4\",\"type\":\"ResetTool\"},{\"id\":\"d6f72b26-cce3-469a-b8f8-344c11b78d01\",\"type\":\"HelpTool\"}],\"x_range\":{\"id\":\"e2775ab3-07ba-45e9-bfd8-b4da7cc345e7\",\"type\":\"DataRange1d\"},\"y_range\":{\"id\":\"483fde99-0c24-468f-9c1a-efbf96540518\",\"type\":\"DataRange1d\"}},\"id\":\"decbaf11-281d-487b-a5f6-9731f6a7079c\",\"subtype\":\"Figure\",\"type\":\"Plot\"},{\"attributes\":{\"data_source\":{\"id\":\"2ae25bb6-752d-4c67-ab14-d8b492bd3afc\",\"type\":\"ColumnDataSource\"},\"glyph\":{\"id\":\"891d3058-fcda-4ec7-adc0-9d80c8c14a4b\",\"type\":\"Circle\"},\"hover_glyph\":null,\"nonselection_glyph\":{\"id\":\"f93d1775-d51d-473e-bc5a-d21e3c0f4231\",\"type\":\"Circle\"},\"selection_glyph\":null},\"id\":\"53fd75e9-0cdb-43c2-a152-9eb7d75d635f\",\"type\":\"GlyphRenderer\"},{\"attributes\":{\"fill_alpha\":{\"value\":0.1},\"fill_color\":{\"value\":\"#1f77b4\"},\"line_alpha\":{\"value\":0.1},\"line_color\":{\"value\":\"#1f77b4\"},\"size\":{\"units\":\"screen\",\"value\":10},\"x\":{\"field\":\"x\"},\"y\":{\"field\":\"y\"}},\"id\":\"f93d1775-d51d-473e-bc5a-d21e3c0f4231\",\"type\":\"Circle\"},{\"attributes\":{\"plot\":{\"id\":\"b45e4fb6-e065-478b-9453-7c2102bc8d0b\",\"subtype\":\"Figure\",\"type\":\"Plot\"}},\"id\":\"a9222a0f-d459-445b-8740-734548741eec\",\"type\":\"PreviewSaveTool\"},{\"attributes\":{},\"id\":\"523e21fe-bf48-4bc5-a03e-a5e723fbf015\",\"type\":\"ToolEvents\"},{\"attributes\":{\"plot\":{\"id\":\"ba975b2d-f2f9-4e16-a386-2eefb8f93aea\",\"subtype\":\"Figure\",\"type\":\"Plot\"}},\"id\":\"0f0d09cc-938b-46bb-8560-55cdceb20e49\",\"type\":\"PanTool\"},{\"attributes\":{\"axis_label\":\"Temp\",\"axis_line_color\":{\"value\":\"red\"},\"axis_line_width\":{\"value\":3},\"formatter\":{\"id\":\"8c308b83-b361-4784-9239-86e8304ce722\",\"type\":\"BasicTickFormatter\"},\"minor_tick_in\":-3,\"minor_tick_out\":6,\"plot\":{\"id\":\"c5f2a59c-8a06-43db-8610-36e8904f73b9\",\"subtype\":\"Figure\",\"type\":\"Plot\"},\"ticker\":{\"id\":\"d9fd46a8-5d2c-4898-a32d-cf880d34eb43\",\"type\":\"BasicTicker\"}},\"id\":\"8f74fc62-ca0d-49c9-8b43-1700f0b26eed\",\"type\":\"LinearAxis\"},{\"attributes\":{\"overlay\":{\"id\":\"fb8cae12-8aa2-43bb-b983-10a9de939714\",\"type\":\"BoxAnnotation\"},\"plot\":{\"id\":\"decbaf11-281d-487b-a5f6-9731f6a7079c\",\"subtype\":\"Figure\",\"type\":\"Plot\"}},\"id\":\"bdbe9d3d-d707-42e8-a977-88778df4a20c\",\"type\":\"BoxZoomTool\"},{\"attributes\":{\"data_source\":{\"id\":\"9cf2909c-5697-4bbd-afa6-9217d526cad9\",\"type\":\"ColumnDataSource\"},\"glyph\":{\"id\":\"15d042ce-2784-423a-bb25-070098460971\",\"type\":\"X\"},\"hover_glyph\":null,\"nonselection_glyph\":{\"id\":\"863b9446-6c86-4b6d-a74e-c1ec31c49238\",\"type\":\"X\"},\"selection_glyph\":null},\"id\":\"34dbc233-c059-4079-a998-a4a7f6b4fca4\",\"type\":\"GlyphRenderer\"},{\"attributes\":{\"formatter\":{\"id\":\"a18adf31-8c5c-4455-949c-36d96d417913\",\"type\":\"BasicTickFormatter\"},\"plot\":{\"id\":\"ba975b2d-f2f9-4e16-a386-2eefb8f93aea\",\"subtype\":\"Figure\",\"type\":\"Plot\"},\"ticker\":{\"id\":\"d980c33a-0d11-42fe-9576-f36d16319738\",\"type\":\"BasicTicker\"}},\"id\":\"f32c69a5-4b62-455a-8a3a-a415282f74d5\",\"type\":\"LinearAxis\"},{\"attributes\":{\"dimension\":1,\"plot\":{\"id\":\"ba975b2d-f2f9-4e16-a386-2eefb8f93aea\",\"subtype\":\"Figure\",\"type\":\"Plot\"},\"ticker\":{\"id\":\"d980c33a-0d11-42fe-9576-f36d16319738\",\"type\":\"BasicTicker\"}},\"id\":\"3ec80ce5-7991-45e7-8817-bc031831a63f\",\"type\":\"Grid\"},{\"attributes\":{},\"id\":\"92d5baad-945b-4589-994f-4e8b700a4a91\",\"type\":\"ToolEvents\"},{\"attributes\":{\"data_source\":{\"id\":\"200e97f0-f210-4bc0-96a8-3cdbd84219a7\",\"type\":\"ColumnDataSource\"},\"glyph\":{\"id\":\"52bfd11c-3d1c-4a5a-aaae-bce6433532ed\",\"type\":\"Asterisk\"},\"hover_glyph\":null,\"nonselection_glyph\":{\"id\":\"204b4ecb-1755-4d2f-9124-05be3ebab38d\",\"type\":\"Asterisk\"},\"selection_glyph\":null},\"id\":\"8c640b9e-5b0a-418c-b0e1-c38a38c9e144\",\"type\":\"GlyphRenderer\"},{\"attributes\":{\"data_source\":{\"id\":\"056c8a28-6db3-43ff-9f92-1a79c6f69cae\",\"type\":\"ColumnDataSource\"},\"glyph\":{\"id\":\"6728a2a6-789d-489b-9799-7cad90230613\",\"type\":\"Circle\"},\"hover_glyph\":null,\"nonselection_glyph\":{\"id\":\"a6b16b50-dc1c-473d-a692-527c11fac1f6\",\"type\":\"Circle\"},\"selection_glyph\":null},\"id\":\"b0912e56-ddc4-409f-abce-65362917935d\",\"type\":\"GlyphRenderer\"},{\"attributes\":{\"plot\":{\"id\":\"c5f2a59c-8a06-43db-8610-36e8904f73b9\",\"subtype\":\"Figure\",\"type\":\"Plot\"}},\"id\":\"3c5f643d-2285-4569-a753-cc33068df398\",\"type\":\"ResizeTool\"},{\"attributes\":{\"below\":[{\"id\":\"b39f2c35-aaba-492e-9ea6-a4705488bdc7\",\"type\":\"LinearAxis\"}],\"left\":[{\"id\":\"f73d7f76-55e0-4b8e-8200-eb4bf0666e26\",\"type\":\"LinearAxis\"}],\"plot_height\":400,\"plot_width\":400,\"renderers\":[{\"id\":\"b39f2c35-aaba-492e-9ea6-a4705488bdc7\",\"type\":\"LinearAxis\"},{\"id\":\"d2f071e9-9ad2-47fa-ba15-e73e561e77d1\",\"type\":\"Grid\"},{\"id\":\"f73d7f76-55e0-4b8e-8200-eb4bf0666e26\",\"type\":\"LinearAxis\"},{\"id\":\"25977b70-d553-445d-919c-ee9643ee7575\",\"type\":\"Grid\"},{\"id\":\"2076728c-6203-46fd-a969-1a159d7a9a59\",\"type\":\"BoxAnnotation\"},{\"id\":\"53fd75e9-0cdb-43c2-a152-9eb7d75d635f\",\"type\":\"GlyphRenderer\"}],\"tool_events\":{\"id\":\"6cf9233b-95ff-4b9c-a29a-5c1385f4216e\",\"type\":\"ToolEvents\"},\"tools\":[{\"id\":\"6d2e2f01-033b-477c-a1ac-18e83a1c9293\",\"type\":\"PanTool\"},{\"id\":\"bacb29fb-e951-4ab3-a7fe-b302a60124f1\",\"type\":\"WheelZoomTool\"},{\"id\":\"fbe61968-1359-426c-a771-2bc7ab0c651f\",\"type\":\"BoxZoomTool\"},{\"id\":\"a9222a0f-d459-445b-8740-734548741eec\",\"type\":\"PreviewSaveTool\"},{\"id\":\"2fcd57a5-98be-4712-a09a-54a9309b9b85\",\"type\":\"ResizeTool\"},{\"id\":\"df6d27df-8270-475a-b06c-97e76ee1e32b\",\"type\":\"ResetTool\"},{\"id\":\"1a48a581-8119-4631-89ff-0d8e7aa5c0b0\",\"type\":\"HelpTool\"}],\"x_range\":{\"id\":\"f45b552d-7ebc-48c1-b534-d0e5be6a0b71\",\"type\":\"DataRange1d\"},\"y_range\":{\"id\":\"9d25a570-a55c-4668-924a-f48e21526e27\",\"type\":\"DataRange1d\"}},\"id\":\"b45e4fb6-e065-478b-9453-7c2102bc8d0b\",\"subtype\":\"Figure\",\"type\":\"Plot\"},{\"attributes\":{\"formatter\":{\"id\":\"283a4091-35bf-43e0-983a-fc6c623578d2\",\"type\":\"BasicTickFormatter\"},\"major_label_orientation\":\"vertical\",\"plot\":{\"id\":\"decbaf11-281d-487b-a5f6-9731f6a7079c\",\"subtype\":\"Figure\",\"type\":\"Plot\"},\"ticker\":{\"id\":\"ecb1984e-5076-44e4-a4e5-540cebdc65a6\",\"type\":\"BasicTicker\"}},\"id\":\"5b9346f6-a946-4ea5-bc7d-01e83046ba86\",\"type\":\"LinearAxis\"},{\"attributes\":{},\"id\":\"98a38870-518a-4769-93a6-7d8aa2e6159e\",\"type\":\"BasicTicker\"},{\"attributes\":{\"overlay\":{\"id\":\"2076728c-6203-46fd-a969-1a159d7a9a59\",\"type\":\"BoxAnnotation\"},\"plot\":{\"id\":\"b45e4fb6-e065-478b-9453-7c2102bc8d0b\",\"subtype\":\"Figure\",\"type\":\"Plot\"}},\"id\":\"fbe61968-1359-426c-a771-2bc7ab0c651f\",\"type\":\"BoxZoomTool\"},{\"attributes\":{\"plot\":{\"id\":\"c5f2a59c-8a06-43db-8610-36e8904f73b9\",\"subtype\":\"Figure\",\"type\":\"Plot\"}},\"id\":\"f32f45bc-ec7d-4309-a288-a5650d5c8225\",\"type\":\"PreviewSaveTool\"},{\"attributes\":{\"plot\":{\"id\":\"ba975b2d-f2f9-4e16-a386-2eefb8f93aea\",\"subtype\":\"Figure\",\"type\":\"Plot\"}},\"id\":\"85cfbd60-13a8-4c07-a8e3-0e188831f47c\",\"type\":\"PreviewSaveTool\"},{\"attributes\":{\"plot\":{\"id\":\"ba975b2d-f2f9-4e16-a386-2eefb8f93aea\",\"subtype\":\"Figure\",\"type\":\"Plot\"}},\"id\":\"a445f03e-3357-44b8-b519-daef81f59911\",\"type\":\"WheelZoomTool\"},{\"attributes\":{\"callback\":null},\"id\":\"41b9f656-b099-4d57-a13e-bd21ce9bf9a7\",\"type\":\"DataRange1d\"},{\"attributes\":{},\"id\":\"8a45b4e1-7985-4090-a20c-be3d99f7c8c4\",\"type\":\"ToolEvents\"},{\"attributes\":{},\"id\":\"6cf9233b-95ff-4b9c-a29a-5c1385f4216e\",\"type\":\"ToolEvents\"},{\"attributes\":{\"callback\":null},\"id\":\"483fde99-0c24-468f-9c1a-efbf96540518\",\"type\":\"DataRange1d\"},{\"attributes\":{},\"id\":\"290f8180-a686-4146-bd2c-024e545dff68\",\"type\":\"BasicTicker\"},{\"attributes\":{\"callback\":null,\"column_names\":[\"y\",\"x\"],\"data\":{\"x\":[1,2,3,4,5],\"y\":[2,5,8,2,7]}},\"id\":\"056c8a28-6db3-43ff-9f92-1a79c6f69cae\",\"type\":\"ColumnDataSource\"},{\"attributes\":{\"fill_color\":{\"value\":\"#1f77b4\"},\"line_color\":{\"value\":\"#1f77b4\"},\"size\":{\"units\":\"screen\",\"value\":10},\"x\":{\"field\":\"x\"},\"y\":{\"field\":\"y\"}},\"id\":\"891d3058-fcda-4ec7-adc0-9d80c8c14a4b\",\"type\":\"Circle\"},{\"attributes\":{\"callback\":null},\"id\":\"9d25a570-a55c-4668-924a-f48e21526e27\",\"type\":\"DataRange1d\"},{\"attributes\":{},\"id\":\"8c308b83-b361-4784-9239-86e8304ce722\",\"type\":\"BasicTickFormatter\"},{\"attributes\":{\"plot\":{\"id\":\"decbaf11-281d-487b-a5f6-9731f6a7079c\",\"subtype\":\"Figure\",\"type\":\"Plot\"}},\"id\":\"32e85a6c-23d5-4a56-a7b8-306b196ad673\",\"type\":\"ResizeTool\"},{\"attributes\":{\"plot\":{\"id\":\"c5f2a59c-8a06-43db-8610-36e8904f73b9\",\"subtype\":\"Figure\",\"type\":\"Plot\"}},\"id\":\"6d6197f1-3acb-4f71-a7fa-d00ab9fb6572\",\"type\":\"PanTool\"},{\"attributes\":{\"dimension\":1,\"grid_line_alpha\":{\"value\":0.5},\"grid_line_dash\":[6,4],\"plot\":{\"id\":\"b45e4fb6-e065-478b-9453-7c2102bc8d0b\",\"subtype\":\"Figure\",\"type\":\"Plot\"},\"ticker\":{\"id\":\"693f65a4-0713-4cb3-aa3b-9d2460c48d57\",\"type\":\"BasicTicker\"}},\"id\":\"25977b70-d553-445d-919c-ee9643ee7575\",\"type\":\"Grid\"},{\"attributes\":{\"formatter\":{\"id\":\"8bce81d3-ace7-4573-b59f-d63dc882ea4a\",\"type\":\"BasicTickFormatter\"},\"plot\":{\"id\":\"b45e4fb6-e065-478b-9453-7c2102bc8d0b\",\"subtype\":\"Figure\",\"type\":\"Plot\"},\"ticker\":{\"id\":\"290f8180-a686-4146-bd2c-024e545dff68\",\"type\":\"BasicTicker\"}},\"id\":\"b39f2c35-aaba-492e-9ea6-a4705488bdc7\",\"type\":\"LinearAxis\"},{\"attributes\":{\"bottom_units\":\"screen\",\"fill_alpha\":{\"value\":0.5},\"fill_color\":{\"value\":\"lightgrey\"},\"left_units\":\"screen\",\"level\":\"overlay\",\"line_alpha\":{\"value\":1.0},\"line_color\":{\"value\":\"black\"},\"line_dash\":[4,4],\"line_width\":{\"value\":2},\"plot\":null,\"render_mode\":\"css\",\"right_units\":\"screen\",\"top_units\":\"screen\"},\"id\":\"2076728c-6203-46fd-a969-1a159d7a9a59\",\"type\":\"BoxAnnotation\"},{\"attributes\":{\"plot\":{\"id\":\"b45e4fb6-e065-478b-9453-7c2102bc8d0b\",\"subtype\":\"Figure\",\"type\":\"Plot\"}},\"id\":\"df6d27df-8270-475a-b06c-97e76ee1e32b\",\"type\":\"ResetTool\"},{\"attributes\":{},\"id\":\"ecb1984e-5076-44e4-a4e5-540cebdc65a6\",\"type\":\"BasicTicker\"},{\"attributes\":{\"plot\":{\"id\":\"decbaf11-281d-487b-a5f6-9731f6a7079c\",\"subtype\":\"Figure\",\"type\":\"Plot\"}},\"id\":\"f744bbd4-e268-492d-bd1d-736d1f634a8a\",\"type\":\"PreviewSaveTool\"},{\"attributes\":{\"plot\":{\"id\":\"ba975b2d-f2f9-4e16-a386-2eefb8f93aea\",\"subtype\":\"Figure\",\"type\":\"Plot\"},\"ticker\":{\"id\":\"d243fd9d-acd2-4ada-b5af-f9c49b0a33ac\",\"type\":\"BasicTicker\"}},\"id\":\"c5532b6a-20de-4a32-aeaa-1a84787244e7\",\"type\":\"Grid\"},{\"attributes\":{\"plot\":{\"id\":\"ba975b2d-f2f9-4e16-a386-2eefb8f93aea\",\"subtype\":\"Figure\",\"type\":\"Plot\"}},\"id\":\"93bb3f07-cb2a-4481-b7a8-c797cde89f5a\",\"type\":\"ResizeTool\"},{\"attributes\":{\"formatter\":{\"id\":\"5596b977-693d-41eb-9e2a-3b62bf90ae6e\",\"type\":\"BasicTickFormatter\"},\"plot\":{\"id\":\"ba975b2d-f2f9-4e16-a386-2eefb8f93aea\",\"subtype\":\"Figure\",\"type\":\"Plot\"},\"ticker\":{\"id\":\"d243fd9d-acd2-4ada-b5af-f9c49b0a33ac\",\"type\":\"BasicTicker\"}},\"id\":\"bf53ed23-03bd-4d58-9d4f-659b2f4fd4da\",\"type\":\"LinearAxis\"},{\"attributes\":{\"callback\":null,\"column_names\":[\"y\",\"x\"],\"data\":{\"x\":[1,2,3,4,5],\"y\":[2,5,8,2,7]}},\"id\":\"200e97f0-f210-4bc0-96a8-3cdbd84219a7\",\"type\":\"ColumnDataSource\"},{\"attributes\":{\"bottom_units\":\"screen\",\"fill_alpha\":{\"value\":0.5},\"fill_color\":{\"value\":\"lightgrey\"},\"left_units\":\"screen\",\"level\":\"overlay\",\"line_alpha\":{\"value\":1.0},\"line_color\":{\"value\":\"black\"},\"line_dash\":[4,4],\"line_width\":{\"value\":2},\"plot\":null,\"render_mode\":\"css\",\"right_units\":\"screen\",\"top_units\":\"screen\"},\"id\":\"60809235-7eea-4171-b255-9f08d82eb8eb\",\"type\":\"BoxAnnotation\"},{\"attributes\":{},\"id\":\"283a4091-35bf-43e0-983a-fc6c623578d2\",\"type\":\"BasicTickFormatter\"},{\"attributes\":{\"grid_line_color\":{\"value\":null},\"plot\":{\"id\":\"b45e4fb6-e065-478b-9453-7c2102bc8d0b\",\"subtype\":\"Figure\",\"type\":\"Plot\"},\"ticker\":{\"id\":\"290f8180-a686-4146-bd2c-024e545dff68\",\"type\":\"BasicTicker\"}},\"id\":\"d2f071e9-9ad2-47fa-ba15-e73e561e77d1\",\"type\":\"Grid\"},{\"attributes\":{\"plot\":{\"id\":\"b45e4fb6-e065-478b-9453-7c2102bc8d0b\",\"subtype\":\"Figure\",\"type\":\"Plot\"}},\"id\":\"6d2e2f01-033b-477c-a1ac-18e83a1c9293\",\"type\":\"PanTool\"},{\"attributes\":{\"callback\":null},\"id\":\"e2775ab3-07ba-45e9-bfd8-b4da7cc345e7\",\"type\":\"DataRange1d\"},{\"attributes\":{\"plot\":{\"id\":\"b45e4fb6-e065-478b-9453-7c2102bc8d0b\",\"subtype\":\"Figure\",\"type\":\"Plot\"}},\"id\":\"1a48a581-8119-4631-89ff-0d8e7aa5c0b0\",\"type\":\"HelpTool\"},{\"attributes\":{\"plot\":{\"id\":\"decbaf11-281d-487b-a5f6-9731f6a7079c\",\"subtype\":\"Figure\",\"type\":\"Plot\"}},\"id\":\"3b8d66fb-489e-4ff5-b05d-e98c2b0aadf4\",\"type\":\"ResetTool\"},{\"attributes\":{\"fill_color\":{\"value\":\"#1f77b4\"},\"line_color\":{\"value\":\"#1f77b4\"},\"line_width\":{\"value\":2},\"size\":{\"units\":\"screen\",\"value\":10},\"x\":{\"field\":\"x\"},\"y\":{\"field\":\"y\"}},\"id\":\"15d042ce-2784-423a-bb25-070098460971\",\"type\":\"X\"},{\"attributes\":{\"dimension\":1,\"plot\":{\"id\":\"decbaf11-281d-487b-a5f6-9731f6a7079c\",\"subtype\":\"Figure\",\"type\":\"Plot\"},\"ticker\":{\"id\":\"ecb1984e-5076-44e4-a4e5-540cebdc65a6\",\"type\":\"BasicTicker\"}},\"id\":\"ed8cbbde-e507-4040-b62c-da624a2ab502\",\"type\":\"Grid\"},{\"attributes\":{\"callback\":null,\"column_names\":[\"y\",\"x\"],\"data\":{\"x\":[1,2,3,4,5],\"y\":[2,5,8,2,7]}},\"id\":\"9cf2909c-5697-4bbd-afa6-9217d526cad9\",\"type\":\"ColumnDataSource\"},{\"attributes\":{\"dimension\":1,\"plot\":{\"id\":\"c5f2a59c-8a06-43db-8610-36e8904f73b9\",\"subtype\":\"Figure\",\"type\":\"Plot\"},\"ticker\":{\"id\":\"f8d58616-d158-475f-98f3-39e5190e859f\",\"type\":\"BasicTicker\"}},\"id\":\"656effdc-4e07-460a-b90b-4ffaed920f80\",\"type\":\"Grid\"},{\"attributes\":{\"plot\":{\"id\":\"decbaf11-281d-487b-a5f6-9731f6a7079c\",\"subtype\":\"Figure\",\"type\":\"Plot\"}},\"id\":\"77ec29d8-665b-4fd8-b175-64bdb46b4943\",\"type\":\"PanTool\"},{\"attributes\":{\"fill_color\":{\"value\":\"olive\"},\"line_color\":{\"value\":\"olive\"},\"size\":{\"units\":\"screen\",\"value\":12},\"x\":{\"field\":\"x\"},\"y\":{\"field\":\"y\"}},\"id\":\"52bfd11c-3d1c-4a5a-aaae-bce6433532ed\",\"type\":\"Asterisk\"},{\"attributes\":{\"fill_alpha\":{\"value\":0.1},\"fill_color\":{\"value\":\"#1f77b4\"},\"line_alpha\":{\"value\":0.1},\"line_color\":{\"value\":\"#1f77b4\"},\"size\":{\"units\":\"screen\",\"value\":10},\"x\":{\"field\":\"x\"},\"y\":{\"field\":\"y\"}},\"id\":\"a6b16b50-dc1c-473d-a692-527c11fac1f6\",\"type\":\"Circle\"},{\"attributes\":{\"plot\":{\"id\":\"b45e4fb6-e065-478b-9453-7c2102bc8d0b\",\"subtype\":\"Figure\",\"type\":\"Plot\"}},\"id\":\"2fcd57a5-98be-4712-a09a-54a9309b9b85\",\"type\":\"ResizeTool\"},{\"attributes\":{},\"id\":\"a8e488c3-4fc8-4561-bf63-4c9f4f839cf6\",\"type\":\"BasicTickFormatter\"},{\"attributes\":{},\"id\":\"8bce81d3-ace7-4573-b59f-d63dc882ea4a\",\"type\":\"BasicTickFormatter\"},{\"attributes\":{\"below\":[{\"id\":\"8f74fc62-ca0d-49c9-8b43-1700f0b26eed\",\"type\":\"LinearAxis\"}],\"left\":[{\"id\":\"30b8f4ca-0d41-4d33-8d1f-1d84d3c02364\",\"type\":\"LinearAxis\"}],\"plot_height\":400,\"plot_width\":400,\"renderers\":[{\"id\":\"8f74fc62-ca0d-49c9-8b43-1700f0b26eed\",\"type\":\"LinearAxis\"},{\"id\":\"64d7aaf4-3889-450b-ad32-ccc51cd8f30b\",\"type\":\"Grid\"},{\"id\":\"30b8f4ca-0d41-4d33-8d1f-1d84d3c02364\",\"type\":\"LinearAxis\"},{\"id\":\"656effdc-4e07-460a-b90b-4ffaed920f80\",\"type\":\"Grid\"},{\"id\":\"921c6633-688a-431c-9952-ecb538a1ab6a\",\"type\":\"BoxAnnotation\"},{\"id\":\"8c640b9e-5b0a-418c-b0e1-c38a38c9e144\",\"type\":\"GlyphRenderer\"}],\"tool_events\":{\"id\":\"8a45b4e1-7985-4090-a20c-be3d99f7c8c4\",\"type\":\"ToolEvents\"},\"tools\":[{\"id\":\"6d6197f1-3acb-4f71-a7fa-d00ab9fb6572\",\"type\":\"PanTool\"},{\"id\":\"80a75b75-bbf0-454a-8dcd-3dae6ea5bf5c\",\"type\":\"WheelZoomTool\"},{\"id\":\"06aa3c2f-e9d8-4afc-85cb-8e8a91028479\",\"type\":\"BoxZoomTool\"},{\"id\":\"f32f45bc-ec7d-4309-a288-a5650d5c8225\",\"type\":\"PreviewSaveTool\"},{\"id\":\"3c5f643d-2285-4569-a753-cc33068df398\",\"type\":\"ResizeTool\"},{\"id\":\"0723e1c9-6efe-4aa6-9cdd-aa71705a755b\",\"type\":\"ResetTool\"},{\"id\":\"de2a22f9-24fb-467d-94c7-ae8c2d938512\",\"type\":\"HelpTool\"}],\"x_range\":{\"id\":\"41b9f656-b099-4d57-a13e-bd21ce9bf9a7\",\"type\":\"DataRange1d\"},\"y_range\":{\"id\":\"34ee318d-ffac-47d4-84c0-bea29b2beacc\",\"type\":\"DataRange1d\"}},\"id\":\"c5f2a59c-8a06-43db-8610-36e8904f73b9\",\"subtype\":\"Figure\",\"type\":\"Plot\"},{\"attributes\":{},\"id\":\"6d4d6322-8d1a-4c73-bc00-5b2c04288d3d\",\"type\":\"BasicTickFormatter\"},{\"attributes\":{\"below\":[{\"id\":\"bf53ed23-03bd-4d58-9d4f-659b2f4fd4da\",\"type\":\"LinearAxis\"}],\"left\":[{\"id\":\"f32c69a5-4b62-455a-8a3a-a415282f74d5\",\"type\":\"LinearAxis\"}],\"outline_line_alpha\":{\"value\":0.3},\"outline_line_color\":{\"value\":\"navy\"},\"outline_line_width\":{\"value\":7},\"plot_height\":400,\"plot_width\":400,\"renderers\":[{\"id\":\"bf53ed23-03bd-4d58-9d4f-659b2f4fd4da\",\"type\":\"LinearAxis\"},{\"id\":\"c5532b6a-20de-4a32-aeaa-1a84787244e7\",\"type\":\"Grid\"},{\"id\":\"f32c69a5-4b62-455a-8a3a-a415282f74d5\",\"type\":\"LinearAxis\"},{\"id\":\"3ec80ce5-7991-45e7-8817-bc031831a63f\",\"type\":\"Grid\"},{\"id\":\"60809235-7eea-4171-b255-9f08d82eb8eb\",\"type\":\"BoxAnnotation\"},{\"id\":\"b0912e56-ddc4-409f-abce-65362917935d\",\"type\":\"GlyphRenderer\"}],\"tool_events\":{\"id\":\"523e21fe-bf48-4bc5-a03e-a5e723fbf015\",\"type\":\"ToolEvents\"},\"tools\":[{\"id\":\"0f0d09cc-938b-46bb-8560-55cdceb20e49\",\"type\":\"PanTool\"},{\"id\":\"a445f03e-3357-44b8-b519-daef81f59911\",\"type\":\"WheelZoomTool\"},{\"id\":\"620ce037-a1c8-49e2-97d4-395f54e0c878\",\"type\":\"BoxZoomTool\"},{\"id\":\"85cfbd60-13a8-4c07-a8e3-0e188831f47c\",\"type\":\"PreviewSaveTool\"},{\"id\":\"93bb3f07-cb2a-4481-b7a8-c797cde89f5a\",\"type\":\"ResizeTool\"},{\"id\":\"0ece50ed-813c-4964-b3df-c9ba188a46b9\",\"type\":\"ResetTool\"},{\"id\":\"940cd2ab-d7e2-46d0-b8dd-de1a1b26f043\",\"type\":\"HelpTool\"}],\"x_range\":{\"id\":\"a572e27f-a2c2-4bff-9db7-69fb20ace840\",\"type\":\"DataRange1d\"},\"y_range\":{\"id\":\"d773a94b-f053-4881-a612-995093f6b28e\",\"type\":\"DataRange1d\"}},\"id\":\"ba975b2d-f2f9-4e16-a386-2eefb8f93aea\",\"subtype\":\"Figure\",\"type\":\"Plot\"},{\"attributes\":{\"bottom_units\":\"screen\",\"fill_alpha\":{\"value\":0.5},\"fill_color\":{\"value\":\"lightgrey\"},\"left_units\":\"screen\",\"level\":\"overlay\",\"line_alpha\":{\"value\":1.0},\"line_color\":{\"value\":\"black\"},\"line_dash\":[4,4],\"line_width\":{\"value\":2},\"plot\":null,\"render_mode\":\"css\",\"right_units\":\"screen\",\"top_units\":\"screen\"},\"id\":\"fb8cae12-8aa2-43bb-b983-10a9de939714\",\"type\":\"BoxAnnotation\"},{\"attributes\":{},\"id\":\"a18adf31-8c5c-4455-949c-36d96d417913\",\"type\":\"BasicTickFormatter\"},{\"attributes\":{},\"id\":\"54085abe-9ffc-4414-838c-79177f621ba5\",\"type\":\"BasicTickFormatter\"},{\"attributes\":{\"plot\":{\"id\":\"decbaf11-281d-487b-a5f6-9731f6a7079c\",\"subtype\":\"Figure\",\"type\":\"Plot\"},\"ticker\":{\"id\":\"98a38870-518a-4769-93a6-7d8aa2e6159e\",\"type\":\"BasicTicker\"}},\"id\":\"69969dde-74a1-4b42-9c4b-0ba7d01eed61\",\"type\":\"Grid\"},{\"attributes\":{},\"id\":\"693f65a4-0713-4cb3-aa3b-9d2460c48d57\",\"type\":\"BasicTicker\"},{\"attributes\":{\"plot\":{\"id\":\"b45e4fb6-e065-478b-9453-7c2102bc8d0b\",\"subtype\":\"Figure\",\"type\":\"Plot\"}},\"id\":\"bacb29fb-e951-4ab3-a7fe-b302a60124f1\",\"type\":\"WheelZoomTool\"},{\"attributes\":{\"fill_alpha\":{\"value\":0.1},\"fill_color\":{\"value\":\"#1f77b4\"},\"line_alpha\":{\"value\":0.1},\"line_color\":{\"value\":\"#1f77b4\"},\"line_width\":{\"value\":2},\"size\":{\"units\":\"screen\",\"value\":10},\"x\":{\"field\":\"x\"},\"y\":{\"field\":\"y\"}},\"id\":\"863b9446-6c86-4b6d-a74e-c1ec31c49238\",\"type\":\"X\"},{\"attributes\":{\"plot\":{\"id\":\"ba975b2d-f2f9-4e16-a386-2eefb8f93aea\",\"subtype\":\"Figure\",\"type\":\"Plot\"}},\"id\":\"940cd2ab-d7e2-46d0-b8dd-de1a1b26f043\",\"type\":\"HelpTool\"},{\"attributes\":{},\"id\":\"5596b977-693d-41eb-9e2a-3b62bf90ae6e\",\"type\":\"BasicTickFormatter\"},{\"attributes\":{},\"id\":\"d9fd46a8-5d2c-4898-a32d-cf880d34eb43\",\"type\":\"BasicTicker\"},{\"attributes\":{},\"id\":\"d980c33a-0d11-42fe-9576-f36d16319738\",\"type\":\"BasicTicker\"},{\"attributes\":{\"formatter\":{\"id\":\"6d4d6322-8d1a-4c73-bc00-5b2c04288d3d\",\"type\":\"BasicTickFormatter\"},\"major_label_orientation\":0.7853981633974483,\"plot\":{\"id\":\"decbaf11-281d-487b-a5f6-9731f6a7079c\",\"subtype\":\"Figure\",\"type\":\"Plot\"},\"ticker\":{\"id\":\"98a38870-518a-4769-93a6-7d8aa2e6159e\",\"type\":\"BasicTicker\"}},\"id\":\"69369a2a-fb62-48a6-899d-e4b3f26b71d6\",\"type\":\"LinearAxis\"},{\"attributes\":{\"plot\":{\"id\":\"ba975b2d-f2f9-4e16-a386-2eefb8f93aea\",\"subtype\":\"Figure\",\"type\":\"Plot\"}},\"id\":\"0ece50ed-813c-4964-b3df-c9ba188a46b9\",\"type\":\"ResetTool\"},{\"attributes\":{\"plot\":{\"id\":\"c5f2a59c-8a06-43db-8610-36e8904f73b9\",\"subtype\":\"Figure\",\"type\":\"Plot\"}},\"id\":\"0723e1c9-6efe-4aa6-9cdd-aa71705a755b\",\"type\":\"ResetTool\"},{\"attributes\":{\"callback\":null,\"column_names\":[\"y\",\"x\"],\"data\":{\"x\":[1,2,3,4,5],\"y\":[2,5,8,2,7]}},\"id\":\"2ae25bb6-752d-4c67-ab14-d8b492bd3afc\",\"type\":\"ColumnDataSource\"},{\"attributes\":{\"plot\":{\"id\":\"c5f2a59c-8a06-43db-8610-36e8904f73b9\",\"subtype\":\"Figure\",\"type\":\"Plot\"}},\"id\":\"80a75b75-bbf0-454a-8dcd-3dae6ea5bf5c\",\"type\":\"WheelZoomTool\"},{\"attributes\":{\"fill_alpha\":{\"value\":0.1},\"fill_color\":{\"value\":\"#1f77b4\"},\"line_alpha\":{\"value\":0.1},\"line_color\":{\"value\":\"#1f77b4\"},\"size\":{\"units\":\"screen\",\"value\":12},\"x\":{\"field\":\"x\"},\"y\":{\"field\":\"y\"}},\"id\":\"204b4ecb-1755-4d2f-9124-05be3ebab38d\",\"type\":\"Asterisk\"},{\"attributes\":{\"callback\":null},\"id\":\"a572e27f-a2c2-4bff-9db7-69fb20ace840\",\"type\":\"DataRange1d\"},{\"attributes\":{\"callback\":null},\"id\":\"f45b552d-7ebc-48c1-b534-d0e5be6a0b71\",\"type\":\"DataRange1d\"},{\"attributes\":{\"overlay\":{\"id\":\"60809235-7eea-4171-b255-9f08d82eb8eb\",\"type\":\"BoxAnnotation\"},\"plot\":{\"id\":\"ba975b2d-f2f9-4e16-a386-2eefb8f93aea\",\"subtype\":\"Figure\",\"type\":\"Plot\"}},\"id\":\"620ce037-a1c8-49e2-97d4-395f54e0c878\",\"type\":\"BoxZoomTool\"},{\"attributes\":{\"plot\":{\"id\":\"decbaf11-281d-487b-a5f6-9731f6a7079c\",\"subtype\":\"Figure\",\"type\":\"Plot\"}},\"id\":\"65fed729-d594-43de-a002-dae4d5c1bc10\",\"type\":\"WheelZoomTool\"},{\"attributes\":{\"fill_color\":{\"value\":\"#1f77b4\"},\"line_color\":{\"value\":\"#1f77b4\"},\"size\":{\"units\":\"screen\",\"value\":10},\"x\":{\"field\":\"x\"},\"y\":{\"field\":\"y\"}},\"id\":\"6728a2a6-789d-489b-9799-7cad90230613\",\"type\":\"Circle\"},{\"attributes\":{\"plot\":{\"id\":\"decbaf11-281d-487b-a5f6-9731f6a7079c\",\"subtype\":\"Figure\",\"type\":\"Plot\"}},\"id\":\"d6f72b26-cce3-469a-b8f8-344c11b78d01\",\"type\":\"HelpTool\"},{\"attributes\":{\"formatter\":{\"id\":\"54085abe-9ffc-4414-838c-79177f621ba5\",\"type\":\"BasicTickFormatter\"},\"plot\":{\"id\":\"b45e4fb6-e065-478b-9453-7c2102bc8d0b\",\"subtype\":\"Figure\",\"type\":\"Plot\"},\"ticker\":{\"id\":\"693f65a4-0713-4cb3-aa3b-9d2460c48d57\",\"type\":\"BasicTicker\"}},\"id\":\"f73d7f76-55e0-4b8e-8200-eb4bf0666e26\",\"type\":\"LinearAxis\"},{\"attributes\":{},\"id\":\"d243fd9d-acd2-4ada-b5af-f9c49b0a33ac\",\"type\":\"BasicTicker\"},{\"attributes\":{\"bottom_units\":\"screen\",\"fill_alpha\":{\"value\":0.5},\"fill_color\":{\"value\":\"lightgrey\"},\"left_units\":\"screen\",\"level\":\"overlay\",\"line_alpha\":{\"value\":1.0},\"line_color\":{\"value\":\"black\"},\"line_dash\":[4,4],\"line_width\":{\"value\":2},\"plot\":null,\"render_mode\":\"css\",\"right_units\":\"screen\",\"top_units\":\"screen\"},\"id\":\"921c6633-688a-431c-9952-ecb538a1ab6a\",\"type\":\"BoxAnnotation\"},{\"attributes\":{\"callback\":null},\"id\":\"d773a94b-f053-4881-a612-995093f6b28e\",\"type\":\"DataRange1d\"},{\"attributes\":{\"plot\":{\"id\":\"c5f2a59c-8a06-43db-8610-36e8904f73b9\",\"subtype\":\"Figure\",\"type\":\"Plot\"}},\"id\":\"de2a22f9-24fb-467d-94c7-ae8c2d938512\",\"type\":\"HelpTool\"},{\"attributes\":{\"plot\":{\"id\":\"c5f2a59c-8a06-43db-8610-36e8904f73b9\",\"subtype\":\"Figure\",\"type\":\"Plot\"},\"ticker\":{\"id\":\"d9fd46a8-5d2c-4898-a32d-cf880d34eb43\",\"type\":\"BasicTicker\"}},\"id\":\"64d7aaf4-3889-450b-ad32-ccc51cd8f30b\",\"type\":\"Grid\"},{\"attributes\":{\"callback\":null},\"id\":\"34ee318d-ffac-47d4-84c0-bea29b2beacc\",\"type\":\"DataRange1d\"},{\"attributes\":{},\"id\":\"f8d58616-d158-475f-98f3-39e5190e859f\",\"type\":\"BasicTicker\"},{\"attributes\":{\"overlay\":{\"id\":\"921c6633-688a-431c-9952-ecb538a1ab6a\",\"type\":\"BoxAnnotation\"},\"plot\":{\"id\":\"c5f2a59c-8a06-43db-8610-36e8904f73b9\",\"subtype\":\"Figure\",\"type\":\"Plot\"}},\"id\":\"06aa3c2f-e9d8-4afc-85cb-8e8a91028479\",\"type\":\"BoxZoomTool\"},{\"attributes\":{\"axis_label\":\"Pressure\",\"formatter\":{\"id\":\"a8e488c3-4fc8-4561-bf63-4c9f4f839cf6\",\"type\":\"BasicTickFormatter\"},\"major_label_orientation\":\"vertical\",\"major_label_text_color\":{\"value\":\"orange\"},\"minor_tick_in\":-3,\"minor_tick_out\":6,\"plot\":{\"id\":\"c5f2a59c-8a06-43db-8610-36e8904f73b9\",\"subtype\":\"Figure\",\"type\":\"Plot\"},\"ticker\":{\"id\":\"f8d58616-d158-475f-98f3-39e5190e859f\",\"type\":\"BasicTicker\"}},\"id\":\"30b8f4ca-0d41-4d33-8d1f-1d84d3c02364\",\"type\":\"LinearAxis\"}],\"root_ids\":[\"ba975b2d-f2f9-4e16-a386-2eefb8f93aea\",\"decbaf11-281d-487b-a5f6-9731f6a7079c\",\"c5f2a59c-8a06-43db-8610-36e8904f73b9\",\"b45e4fb6-e065-478b-9453-7c2102bc8d0b\"]},\"title\":\"Bokeh Application\",\"version\":\"0.11.1\"}};\n",
       "            var render_items = [{\"docid\":\"ea0ed65d-de26-489f-83d7-a316655ef8a0\",\"elementid\":\"7fb231ad-3ae4-4daf-93ab-48ca16016488\",\"modelid\":\"b45e4fb6-e065-478b-9453-7c2102bc8d0b\",\"notebook_comms_target\":\"f38f4dd0-64ba-48ba-a0d2-4768e5865a66\"}];\n",
       "            \n",
       "            Bokeh.embed.embed_items(docs_json, render_items);\n",
       "        });\n",
       "      },\n",
       "      function(Bokeh) {\n",
       "      }\n",
       "    ];\n",
       "  \n",
       "    function run_inline_js() {\n",
       "      for (var i = 0; i < inline_js.length; i++) {\n",
       "        inline_js[i](window.Bokeh);\n",
       "      }\n",
       "    }\n",
       "  \n",
       "    if (window._bokeh_is_loading === 0) {\n",
       "      console.log(\"Bokeh: BokehJS loaded, going straight to plotting\");\n",
       "      run_inline_js();\n",
       "    } else {\n",
       "      load_libs(js_urls, function() {\n",
       "        console.log(\"Bokeh: BokehJS plotting callback run at\", now());\n",
       "        run_inline_js();\n",
       "      });\n",
       "    }\n",
       "  }(this));\n",
       "</script>"
      ]
     },
     "metadata": {},
     "output_type": "display_data"
    },
    {
     "data": {
      "text/html": [
       "<p><code>&lt;Bokeh Notebook handle for <strong>In[9]</strong>&gt;</code></p>"
      ],
      "text/plain": [
       "<bokeh.io._CommsHandle at 0x10cef2da0>"
      ]
     },
     "execution_count": 9,
     "metadata": {},
     "output_type": "execute_result"
    }
   ],
   "source": [
    "p = figure(plot_width=400, plot_height=400)\n",
    "p.circle([1,2,3,4,5], [2,5,8,2,7], size=10)\n",
    "\n",
    "# change just some things about the x-grid\n",
    "p.xgrid.grid_line_color = None\n",
    "\n",
    "# change just some things about the y-grid\n",
    "p.ygrid.grid_line_alpha = 0.5\n",
    "p.ygrid.grid_line_dash = [6, 4]\n",
    "\n",
    "show(p)"
   ]
  },
  {
   "cell_type": "code",
   "execution_count": 10,
   "metadata": {
    "collapsed": false
   },
   "outputs": [
    {
     "data": {
      "text/html": [
       "\n",
       "\n",
       "    <div class=\"plotdiv\" id=\"6a2dd3a2-ed57-43e3-b756-27a668be8ff0\"></div>\n",
       "<script type=\"text/javascript\">\n",
       "  \n",
       "  (function(global) {\n",
       "    function now() {\n",
       "      return new Date();\n",
       "    }\n",
       "  \n",
       "    if (typeof (window._bokeh_onload_callbacks) === \"undefined\") {\n",
       "      window._bokeh_onload_callbacks = [];\n",
       "    }\n",
       "  \n",
       "    function run_callbacks() {\n",
       "      window._bokeh_onload_callbacks.forEach(function(callback) { callback() });\n",
       "      delete window._bokeh_onload_callbacks\n",
       "      console.info(\"Bokeh: all callbacks have finished\");\n",
       "    }\n",
       "  \n",
       "    function load_libs(js_urls, callback) {\n",
       "      window._bokeh_onload_callbacks.push(callback);\n",
       "      if (window._bokeh_is_loading > 0) {\n",
       "        console.log(\"Bokeh: BokehJS is being loaded, scheduling callback at\", now());\n",
       "        return null;\n",
       "      }\n",
       "      if (js_urls == null || js_urls.length === 0) {\n",
       "        run_callbacks();\n",
       "        return null;\n",
       "      }\n",
       "      console.log(\"Bokeh: BokehJS not loaded, scheduling load and callback at\", now());\n",
       "      window._bokeh_is_loading = js_urls.length;\n",
       "      for (var i = 0; i < js_urls.length; i++) {\n",
       "        var url = js_urls[i];\n",
       "        var s = document.createElement('script');\n",
       "        s.src = url;\n",
       "        s.async = false;\n",
       "        s.onreadystatechange = s.onload = function() {\n",
       "          window._bokeh_is_loading--;\n",
       "          if (window._bokeh_is_loading === 0) {\n",
       "            console.log(\"Bokeh: all BokehJS libraries loaded\");\n",
       "            run_callbacks()\n",
       "          }\n",
       "        };\n",
       "        s.onerror = function() {\n",
       "          console.warn(\"failed to load library \" + url);\n",
       "        };\n",
       "        console.log(\"Bokeh: injecting script tag for BokehJS library: \", url);\n",
       "        document.getElementsByTagName(\"head\")[0].appendChild(s);\n",
       "      }\n",
       "    };var element = document.getElementById(\"6a2dd3a2-ed57-43e3-b756-27a668be8ff0\");\n",
       "    if (element == null) {\n",
       "      console.log(\"Bokeh: ERROR: autoload.js configured with elementid '6a2dd3a2-ed57-43e3-b756-27a668be8ff0' but no matching script tag was found. \")\n",
       "      return false;\n",
       "    }\n",
       "  \n",
       "    var js_urls = [];\n",
       "  \n",
       "    var inline_js = [\n",
       "      function(Bokeh) {\n",
       "        Bokeh.$(function() {\n",
       "            var docs_json = {\"06cf2f2a-38aa-4bcb-8d4f-e62007c82e9d\":{\"roots\":{\"references\":[{\"attributes\":{\"fill_alpha\":{\"value\":0.1},\"fill_color\":{\"value\":\"#1f77b4\"},\"line_alpha\":{\"value\":0.1},\"line_color\":{\"value\":\"#1f77b4\"},\"size\":{\"units\":\"screen\",\"value\":10},\"x\":{\"field\":\"x\"},\"y\":{\"field\":\"y\"}},\"id\":\"e64b8c84-0fe1-4865-b12e-859c051e10fe\",\"type\":\"Circle\"},{\"attributes\":{\"below\":[{\"id\":\"69369a2a-fb62-48a6-899d-e4b3f26b71d6\",\"type\":\"LinearAxis\"}],\"left\":[{\"id\":\"5b9346f6-a946-4ea5-bc7d-01e83046ba86\",\"type\":\"LinearAxis\"}],\"plot_height\":400,\"plot_width\":400,\"renderers\":[{\"id\":\"69369a2a-fb62-48a6-899d-e4b3f26b71d6\",\"type\":\"LinearAxis\"},{\"id\":\"69969dde-74a1-4b42-9c4b-0ba7d01eed61\",\"type\":\"Grid\"},{\"id\":\"5b9346f6-a946-4ea5-bc7d-01e83046ba86\",\"type\":\"LinearAxis\"},{\"id\":\"ed8cbbde-e507-4040-b62c-da624a2ab502\",\"type\":\"Grid\"},{\"id\":\"fb8cae12-8aa2-43bb-b983-10a9de939714\",\"type\":\"BoxAnnotation\"},{\"id\":\"34dbc233-c059-4079-a998-a4a7f6b4fca4\",\"type\":\"GlyphRenderer\"}],\"tool_events\":{\"id\":\"92d5baad-945b-4589-994f-4e8b700a4a91\",\"type\":\"ToolEvents\"},\"tools\":[{\"id\":\"77ec29d8-665b-4fd8-b175-64bdb46b4943\",\"type\":\"PanTool\"},{\"id\":\"65fed729-d594-43de-a002-dae4d5c1bc10\",\"type\":\"WheelZoomTool\"},{\"id\":\"bdbe9d3d-d707-42e8-a977-88778df4a20c\",\"type\":\"BoxZoomTool\"},{\"id\":\"f744bbd4-e268-492d-bd1d-736d1f634a8a\",\"type\":\"PreviewSaveTool\"},{\"id\":\"32e85a6c-23d5-4a56-a7b8-306b196ad673\",\"type\":\"ResizeTool\"},{\"id\":\"3b8d66fb-489e-4ff5-b05d-e98c2b0aadf4\",\"type\":\"ResetTool\"},{\"id\":\"d6f72b26-cce3-469a-b8f8-344c11b78d01\",\"type\":\"HelpTool\"}],\"x_range\":{\"id\":\"e2775ab3-07ba-45e9-bfd8-b4da7cc345e7\",\"type\":\"DataRange1d\"},\"y_range\":{\"id\":\"483fde99-0c24-468f-9c1a-efbf96540518\",\"type\":\"DataRange1d\"}},\"id\":\"decbaf11-281d-487b-a5f6-9731f6a7079c\",\"subtype\":\"Figure\",\"type\":\"Plot\"},{\"attributes\":{\"data_source\":{\"id\":\"2ae25bb6-752d-4c67-ab14-d8b492bd3afc\",\"type\":\"ColumnDataSource\"},\"glyph\":{\"id\":\"891d3058-fcda-4ec7-adc0-9d80c8c14a4b\",\"type\":\"Circle\"},\"hover_glyph\":null,\"nonselection_glyph\":{\"id\":\"f93d1775-d51d-473e-bc5a-d21e3c0f4231\",\"type\":\"Circle\"},\"selection_glyph\":null},\"id\":\"53fd75e9-0cdb-43c2-a152-9eb7d75d635f\",\"type\":\"GlyphRenderer\"},{\"attributes\":{\"plot\":{\"id\":\"37e71113-bd17-450f-9bcb-dee12868d023\",\"subtype\":\"Figure\",\"type\":\"Plot\"}},\"id\":\"f43d2329-e27c-4b8c-b790-087dc4202bc6\",\"type\":\"PanTool\"},{\"attributes\":{},\"id\":\"47afb860-6275-481d-92ba-8727a8b23e99\",\"type\":\"BasicTicker\"},{\"attributes\":{\"plot\":{\"id\":\"b45e4fb6-e065-478b-9453-7c2102bc8d0b\",\"subtype\":\"Figure\",\"type\":\"Plot\"}},\"id\":\"a9222a0f-d459-445b-8740-734548741eec\",\"type\":\"PreviewSaveTool\"},{\"attributes\":{},\"id\":\"523e21fe-bf48-4bc5-a03e-a5e723fbf015\",\"type\":\"ToolEvents\"},{\"attributes\":{\"plot\":{\"id\":\"decbaf11-281d-487b-a5f6-9731f6a7079c\",\"subtype\":\"Figure\",\"type\":\"Plot\"}},\"id\":\"d6f72b26-cce3-469a-b8f8-344c11b78d01\",\"type\":\"HelpTool\"},{\"attributes\":{\"plot\":{\"id\":\"ba975b2d-f2f9-4e16-a386-2eefb8f93aea\",\"subtype\":\"Figure\",\"type\":\"Plot\"}},\"id\":\"0f0d09cc-938b-46bb-8560-55cdceb20e49\",\"type\":\"PanTool\"},{\"attributes\":{\"axis_label\":\"Temp\",\"axis_line_color\":{\"value\":\"red\"},\"axis_line_width\":{\"value\":3},\"formatter\":{\"id\":\"8c308b83-b361-4784-9239-86e8304ce722\",\"type\":\"BasicTickFormatter\"},\"minor_tick_in\":-3,\"minor_tick_out\":6,\"plot\":{\"id\":\"c5f2a59c-8a06-43db-8610-36e8904f73b9\",\"subtype\":\"Figure\",\"type\":\"Plot\"},\"ticker\":{\"id\":\"d9fd46a8-5d2c-4898-a32d-cf880d34eb43\",\"type\":\"BasicTicker\"}},\"id\":\"8f74fc62-ca0d-49c9-8b43-1700f0b26eed\",\"type\":\"LinearAxis\"},{\"attributes\":{\"overlay\":{\"id\":\"fb8cae12-8aa2-43bb-b983-10a9de939714\",\"type\":\"BoxAnnotation\"},\"plot\":{\"id\":\"decbaf11-281d-487b-a5f6-9731f6a7079c\",\"subtype\":\"Figure\",\"type\":\"Plot\"}},\"id\":\"bdbe9d3d-d707-42e8-a977-88778df4a20c\",\"type\":\"BoxZoomTool\"},{\"attributes\":{\"data_source\":{\"id\":\"9cf2909c-5697-4bbd-afa6-9217d526cad9\",\"type\":\"ColumnDataSource\"},\"glyph\":{\"id\":\"15d042ce-2784-423a-bb25-070098460971\",\"type\":\"X\"},\"hover_glyph\":null,\"nonselection_glyph\":{\"id\":\"863b9446-6c86-4b6d-a74e-c1ec31c49238\",\"type\":\"X\"},\"selection_glyph\":null},\"id\":\"34dbc233-c059-4079-a998-a4a7f6b4fca4\",\"type\":\"GlyphRenderer\"},{\"attributes\":{\"formatter\":{\"id\":\"a18adf31-8c5c-4455-949c-36d96d417913\",\"type\":\"BasicTickFormatter\"},\"plot\":{\"id\":\"ba975b2d-f2f9-4e16-a386-2eefb8f93aea\",\"subtype\":\"Figure\",\"type\":\"Plot\"},\"ticker\":{\"id\":\"d980c33a-0d11-42fe-9576-f36d16319738\",\"type\":\"BasicTicker\"}},\"id\":\"f32c69a5-4b62-455a-8a3a-a415282f74d5\",\"type\":\"LinearAxis\"},{\"attributes\":{\"dimension\":1,\"plot\":{\"id\":\"ba975b2d-f2f9-4e16-a386-2eefb8f93aea\",\"subtype\":\"Figure\",\"type\":\"Plot\"},\"ticker\":{\"id\":\"d980c33a-0d11-42fe-9576-f36d16319738\",\"type\":\"BasicTicker\"}},\"id\":\"3ec80ce5-7991-45e7-8817-bc031831a63f\",\"type\":\"Grid\"},{\"attributes\":{\"callback\":null},\"id\":\"41b9f656-b099-4d57-a13e-bd21ce9bf9a7\",\"type\":\"DataRange1d\"},{\"attributes\":{\"data_source\":{\"id\":\"200e97f0-f210-4bc0-96a8-3cdbd84219a7\",\"type\":\"ColumnDataSource\"},\"glyph\":{\"id\":\"52bfd11c-3d1c-4a5a-aaae-bce6433532ed\",\"type\":\"Asterisk\"},\"hover_glyph\":null,\"nonselection_glyph\":{\"id\":\"204b4ecb-1755-4d2f-9124-05be3ebab38d\",\"type\":\"Asterisk\"},\"selection_glyph\":null},\"id\":\"8c640b9e-5b0a-418c-b0e1-c38a38c9e144\",\"type\":\"GlyphRenderer\"},{\"attributes\":{\"data_source\":{\"id\":\"056c8a28-6db3-43ff-9f92-1a79c6f69cae\",\"type\":\"ColumnDataSource\"},\"glyph\":{\"id\":\"6728a2a6-789d-489b-9799-7cad90230613\",\"type\":\"Circle\"},\"hover_glyph\":null,\"nonselection_glyph\":{\"id\":\"a6b16b50-dc1c-473d-a692-527c11fac1f6\",\"type\":\"Circle\"},\"selection_glyph\":null},\"id\":\"b0912e56-ddc4-409f-abce-65362917935d\",\"type\":\"GlyphRenderer\"},{\"attributes\":{\"plot\":{\"id\":\"c5f2a59c-8a06-43db-8610-36e8904f73b9\",\"subtype\":\"Figure\",\"type\":\"Plot\"}},\"id\":\"3c5f643d-2285-4569-a753-cc33068df398\",\"type\":\"ResizeTool\"},{\"attributes\":{\"below\":[{\"id\":\"b39f2c35-aaba-492e-9ea6-a4705488bdc7\",\"type\":\"LinearAxis\"}],\"left\":[{\"id\":\"f73d7f76-55e0-4b8e-8200-eb4bf0666e26\",\"type\":\"LinearAxis\"}],\"plot_height\":400,\"plot_width\":400,\"renderers\":[{\"id\":\"b39f2c35-aaba-492e-9ea6-a4705488bdc7\",\"type\":\"LinearAxis\"},{\"id\":\"d2f071e9-9ad2-47fa-ba15-e73e561e77d1\",\"type\":\"Grid\"},{\"id\":\"f73d7f76-55e0-4b8e-8200-eb4bf0666e26\",\"type\":\"LinearAxis\"},{\"id\":\"25977b70-d553-445d-919c-ee9643ee7575\",\"type\":\"Grid\"},{\"id\":\"2076728c-6203-46fd-a969-1a159d7a9a59\",\"type\":\"BoxAnnotation\"},{\"id\":\"53fd75e9-0cdb-43c2-a152-9eb7d75d635f\",\"type\":\"GlyphRenderer\"}],\"tool_events\":{\"id\":\"6cf9233b-95ff-4b9c-a29a-5c1385f4216e\",\"type\":\"ToolEvents\"},\"tools\":[{\"id\":\"6d2e2f01-033b-477c-a1ac-18e83a1c9293\",\"type\":\"PanTool\"},{\"id\":\"bacb29fb-e951-4ab3-a7fe-b302a60124f1\",\"type\":\"WheelZoomTool\"},{\"id\":\"fbe61968-1359-426c-a771-2bc7ab0c651f\",\"type\":\"BoxZoomTool\"},{\"id\":\"a9222a0f-d459-445b-8740-734548741eec\",\"type\":\"PreviewSaveTool\"},{\"id\":\"2fcd57a5-98be-4712-a09a-54a9309b9b85\",\"type\":\"ResizeTool\"},{\"id\":\"df6d27df-8270-475a-b06c-97e76ee1e32b\",\"type\":\"ResetTool\"},{\"id\":\"1a48a581-8119-4631-89ff-0d8e7aa5c0b0\",\"type\":\"HelpTool\"}],\"x_range\":{\"id\":\"f45b552d-7ebc-48c1-b534-d0e5be6a0b71\",\"type\":\"DataRange1d\"},\"y_range\":{\"id\":\"9d25a570-a55c-4668-924a-f48e21526e27\",\"type\":\"DataRange1d\"}},\"id\":\"b45e4fb6-e065-478b-9453-7c2102bc8d0b\",\"subtype\":\"Figure\",\"type\":\"Plot\"},{\"attributes\":{\"formatter\":{\"id\":\"283a4091-35bf-43e0-983a-fc6c623578d2\",\"type\":\"BasicTickFormatter\"},\"major_label_orientation\":\"vertical\",\"plot\":{\"id\":\"decbaf11-281d-487b-a5f6-9731f6a7079c\",\"subtype\":\"Figure\",\"type\":\"Plot\"},\"ticker\":{\"id\":\"ecb1984e-5076-44e4-a4e5-540cebdc65a6\",\"type\":\"BasicTicker\"}},\"id\":\"5b9346f6-a946-4ea5-bc7d-01e83046ba86\",\"type\":\"LinearAxis\"},{\"attributes\":{},\"id\":\"98a38870-518a-4769-93a6-7d8aa2e6159e\",\"type\":\"BasicTicker\"},{\"attributes\":{\"overlay\":{\"id\":\"2076728c-6203-46fd-a969-1a159d7a9a59\",\"type\":\"BoxAnnotation\"},\"plot\":{\"id\":\"b45e4fb6-e065-478b-9453-7c2102bc8d0b\",\"subtype\":\"Figure\",\"type\":\"Plot\"}},\"id\":\"fbe61968-1359-426c-a771-2bc7ab0c651f\",\"type\":\"BoxZoomTool\"},{\"attributes\":{\"overlay\":{\"id\":\"921c6633-688a-431c-9952-ecb538a1ab6a\",\"type\":\"BoxAnnotation\"},\"plot\":{\"id\":\"c5f2a59c-8a06-43db-8610-36e8904f73b9\",\"subtype\":\"Figure\",\"type\":\"Plot\"}},\"id\":\"06aa3c2f-e9d8-4afc-85cb-8e8a91028479\",\"type\":\"BoxZoomTool\"},{\"attributes\":{\"fill_alpha\":{\"value\":0.1},\"fill_color\":{\"value\":\"#1f77b4\"},\"line_alpha\":{\"value\":0.1},\"line_color\":{\"value\":\"#1f77b4\"},\"size\":{\"units\":\"screen\",\"value\":10},\"x\":{\"field\":\"x\"},\"y\":{\"field\":\"y\"}},\"id\":\"f93d1775-d51d-473e-bc5a-d21e3c0f4231\",\"type\":\"Circle\"},{\"attributes\":{\"plot\":{\"id\":\"ba975b2d-f2f9-4e16-a386-2eefb8f93aea\",\"subtype\":\"Figure\",\"type\":\"Plot\"}},\"id\":\"a445f03e-3357-44b8-b519-daef81f59911\",\"type\":\"WheelZoomTool\"},{\"attributes\":{\"bottom_units\":\"screen\",\"fill_alpha\":{\"value\":0.5},\"fill_color\":{\"value\":\"lightgrey\"},\"left_units\":\"screen\",\"level\":\"overlay\",\"line_alpha\":{\"value\":1.0},\"line_color\":{\"value\":\"black\"},\"line_dash\":[4,4],\"line_width\":{\"value\":2},\"plot\":null,\"render_mode\":\"css\",\"right_units\":\"screen\",\"top_units\":\"screen\"},\"id\":\"71c3a041-cb3e-474f-a30e-99ea1bcc4f0e\",\"type\":\"BoxAnnotation\"},{\"attributes\":{},\"id\":\"92d5baad-945b-4589-994f-4e8b700a4a91\",\"type\":\"ToolEvents\"},{\"attributes\":{},\"id\":\"8a45b4e1-7985-4090-a20c-be3d99f7c8c4\",\"type\":\"ToolEvents\"},{\"attributes\":{},\"id\":\"6cf9233b-95ff-4b9c-a29a-5c1385f4216e\",\"type\":\"ToolEvents\"},{\"attributes\":{\"callback\":null},\"id\":\"483fde99-0c24-468f-9c1a-efbf96540518\",\"type\":\"DataRange1d\"},{\"attributes\":{\"plot\":{\"id\":\"37e71113-bd17-450f-9bcb-dee12868d023\",\"subtype\":\"Figure\",\"type\":\"Plot\"}},\"id\":\"4286095a-1b3f-4d17-8a85-97251057e2aa\",\"type\":\"WheelZoomTool\"},{\"attributes\":{\"callback\":null,\"column_names\":[\"y\",\"x\"],\"data\":{\"x\":[1,2,3,4,5],\"y\":[2,5,8,2,7]}},\"id\":\"056c8a28-6db3-43ff-9f92-1a79c6f69cae\",\"type\":\"ColumnDataSource\"},{\"attributes\":{\"fill_color\":{\"value\":\"#1f77b4\"},\"line_color\":{\"value\":\"#1f77b4\"},\"size\":{\"units\":\"screen\",\"value\":10},\"x\":{\"field\":\"x\"},\"y\":{\"field\":\"y\"}},\"id\":\"891d3058-fcda-4ec7-adc0-9d80c8c14a4b\",\"type\":\"Circle\"},{\"attributes\":{\"callback\":null,\"column_names\":[\"y\",\"x\"],\"data\":{\"x\":[1,2,3,4,5],\"y\":[2,5,8,2,7]}},\"id\":\"200e97f0-f210-4bc0-96a8-3cdbd84219a7\",\"type\":\"ColumnDataSource\"},{\"attributes\":{\"fill_color\":{\"value\":\"#1f77b4\"},\"line_color\":{\"value\":\"#1f77b4\"},\"line_width\":{\"value\":2},\"size\":{\"units\":\"screen\",\"value\":10},\"x\":{\"field\":\"x\"},\"y\":{\"field\":\"y\"}},\"id\":\"15d042ce-2784-423a-bb25-070098460971\",\"type\":\"X\"},{\"attributes\":{},\"id\":\"54085abe-9ffc-4414-838c-79177f621ba5\",\"type\":\"BasicTickFormatter\"},{\"attributes\":{\"callback\":null},\"id\":\"9d25a570-a55c-4668-924a-f48e21526e27\",\"type\":\"DataRange1d\"},{\"attributes\":{\"callback\":null},\"id\":\"6852bb8e-0212-4629-90c1-a65a2052e695\",\"type\":\"DataRange1d\"},{\"attributes\":{},\"id\":\"8c308b83-b361-4784-9239-86e8304ce722\",\"type\":\"BasicTickFormatter\"},{\"attributes\":{\"plot\":{\"id\":\"decbaf11-281d-487b-a5f6-9731f6a7079c\",\"subtype\":\"Figure\",\"type\":\"Plot\"}},\"id\":\"32e85a6c-23d5-4a56-a7b8-306b196ad673\",\"type\":\"ResizeTool\"},{\"attributes\":{\"plot\":{\"id\":\"c5f2a59c-8a06-43db-8610-36e8904f73b9\",\"subtype\":\"Figure\",\"type\":\"Plot\"}},\"id\":\"6d6197f1-3acb-4f71-a7fa-d00ab9fb6572\",\"type\":\"PanTool\"},{\"attributes\":{\"dimension\":1,\"grid_line_alpha\":{\"value\":0.5},\"grid_line_dash\":[6,4],\"plot\":{\"id\":\"b45e4fb6-e065-478b-9453-7c2102bc8d0b\",\"subtype\":\"Figure\",\"type\":\"Plot\"},\"ticker\":{\"id\":\"693f65a4-0713-4cb3-aa3b-9d2460c48d57\",\"type\":\"BasicTicker\"}},\"id\":\"25977b70-d553-445d-919c-ee9643ee7575\",\"type\":\"Grid\"},{\"attributes\":{\"formatter\":{\"id\":\"8bce81d3-ace7-4573-b59f-d63dc882ea4a\",\"type\":\"BasicTickFormatter\"},\"plot\":{\"id\":\"b45e4fb6-e065-478b-9453-7c2102bc8d0b\",\"subtype\":\"Figure\",\"type\":\"Plot\"},\"ticker\":{\"id\":\"290f8180-a686-4146-bd2c-024e545dff68\",\"type\":\"BasicTicker\"}},\"id\":\"b39f2c35-aaba-492e-9ea6-a4705488bdc7\",\"type\":\"LinearAxis\"},{\"attributes\":{\"bottom_units\":\"screen\",\"fill_alpha\":{\"value\":0.5},\"fill_color\":{\"value\":\"lightgrey\"},\"left_units\":\"screen\",\"level\":\"overlay\",\"line_alpha\":{\"value\":1.0},\"line_color\":{\"value\":\"black\"},\"line_dash\":[4,4],\"line_width\":{\"value\":2},\"plot\":null,\"render_mode\":\"css\",\"right_units\":\"screen\",\"top_units\":\"screen\"},\"id\":\"2076728c-6203-46fd-a969-1a159d7a9a59\",\"type\":\"BoxAnnotation\"},{\"attributes\":{\"plot\":{\"id\":\"b45e4fb6-e065-478b-9453-7c2102bc8d0b\",\"subtype\":\"Figure\",\"type\":\"Plot\"}},\"id\":\"df6d27df-8270-475a-b06c-97e76ee1e32b\",\"type\":\"ResetTool\"},{\"attributes\":{\"data_source\":{\"id\":\"849118ed-92e1-4171-ac12-8b6e39fabdc6\",\"type\":\"ColumnDataSource\"},\"glyph\":{\"id\":\"c9e5d71c-dfe7-4eaf-9216-348366a6f953\",\"type\":\"Circle\"},\"hover_glyph\":null,\"nonselection_glyph\":{\"id\":\"e64b8c84-0fe1-4865-b12e-859c051e10fe\",\"type\":\"Circle\"},\"selection_glyph\":null},\"id\":\"7f940c6e-a009-4129-be25-cb9541d73ba9\",\"type\":\"GlyphRenderer\"},{\"attributes\":{},\"id\":\"ecb1984e-5076-44e4-a4e5-540cebdc65a6\",\"type\":\"BasicTicker\"},{\"attributes\":{\"plot\":{\"id\":\"decbaf11-281d-487b-a5f6-9731f6a7079c\",\"subtype\":\"Figure\",\"type\":\"Plot\"}},\"id\":\"f744bbd4-e268-492d-bd1d-736d1f634a8a\",\"type\":\"PreviewSaveTool\"},{\"attributes\":{\"plot\":{\"id\":\"ba975b2d-f2f9-4e16-a386-2eefb8f93aea\",\"subtype\":\"Figure\",\"type\":\"Plot\"},\"ticker\":{\"id\":\"d243fd9d-acd2-4ada-b5af-f9c49b0a33ac\",\"type\":\"BasicTicker\"}},\"id\":\"c5532b6a-20de-4a32-aeaa-1a84787244e7\",\"type\":\"Grid\"},{\"attributes\":{\"plot\":{\"id\":\"ba975b2d-f2f9-4e16-a386-2eefb8f93aea\",\"subtype\":\"Figure\",\"type\":\"Plot\"}},\"id\":\"93bb3f07-cb2a-4481-b7a8-c797cde89f5a\",\"type\":\"ResizeTool\"},{\"attributes\":{\"fill_color\":{\"value\":\"#1f77b4\"},\"line_color\":{\"value\":\"#1f77b4\"},\"size\":{\"units\":\"screen\",\"value\":10},\"x\":{\"field\":\"x\"},\"y\":{\"field\":\"y\"}},\"id\":\"c9e5d71c-dfe7-4eaf-9216-348366a6f953\",\"type\":\"Circle\"},{\"attributes\":{\"formatter\":{\"id\":\"5596b977-693d-41eb-9e2a-3b62bf90ae6e\",\"type\":\"BasicTickFormatter\"},\"plot\":{\"id\":\"ba975b2d-f2f9-4e16-a386-2eefb8f93aea\",\"subtype\":\"Figure\",\"type\":\"Plot\"},\"ticker\":{\"id\":\"d243fd9d-acd2-4ada-b5af-f9c49b0a33ac\",\"type\":\"BasicTicker\"}},\"id\":\"bf53ed23-03bd-4d58-9d4f-659b2f4fd4da\",\"type\":\"LinearAxis\"},{\"attributes\":{\"plot\":{\"id\":\"ba975b2d-f2f9-4e16-a386-2eefb8f93aea\",\"subtype\":\"Figure\",\"type\":\"Plot\"}},\"id\":\"85cfbd60-13a8-4c07-a8e3-0e188831f47c\",\"type\":\"PreviewSaveTool\"},{\"attributes\":{\"bottom_units\":\"screen\",\"fill_alpha\":{\"value\":0.5},\"fill_color\":{\"value\":\"lightgrey\"},\"left_units\":\"screen\",\"level\":\"overlay\",\"line_alpha\":{\"value\":1.0},\"line_color\":{\"value\":\"black\"},\"line_dash\":[4,4],\"line_width\":{\"value\":2},\"plot\":null,\"render_mode\":\"css\",\"right_units\":\"screen\",\"top_units\":\"screen\"},\"id\":\"60809235-7eea-4171-b255-9f08d82eb8eb\",\"type\":\"BoxAnnotation\"},{\"attributes\":{},\"id\":\"370c1bfb-b625-4095-a2c7-163269583523\",\"type\":\"BasicTickFormatter\"},{\"attributes\":{},\"id\":\"283a4091-35bf-43e0-983a-fc6c623578d2\",\"type\":\"BasicTickFormatter\"},{\"attributes\":{\"grid_line_color\":{\"value\":null},\"plot\":{\"id\":\"b45e4fb6-e065-478b-9453-7c2102bc8d0b\",\"subtype\":\"Figure\",\"type\":\"Plot\"},\"ticker\":{\"id\":\"290f8180-a686-4146-bd2c-024e545dff68\",\"type\":\"BasicTicker\"}},\"id\":\"d2f071e9-9ad2-47fa-ba15-e73e561e77d1\",\"type\":\"Grid\"},{\"attributes\":{\"plot\":{\"id\":\"b45e4fb6-e065-478b-9453-7c2102bc8d0b\",\"subtype\":\"Figure\",\"type\":\"Plot\"}},\"id\":\"6d2e2f01-033b-477c-a1ac-18e83a1c9293\",\"type\":\"PanTool\"},{\"attributes\":{\"formatter\":{\"id\":\"ae661831-fd7a-4230-a74d-0e361a3068b8\",\"type\":\"BasicTickFormatter\"},\"plot\":{\"id\":\"37e71113-bd17-450f-9bcb-dee12868d023\",\"subtype\":\"Figure\",\"type\":\"Plot\"},\"ticker\":{\"id\":\"47afb860-6275-481d-92ba-8727a8b23e99\",\"type\":\"BasicTicker\"}},\"id\":\"c89b637e-0d9f-446a-840b-6c5a01985b25\",\"type\":\"LinearAxis\"},{\"attributes\":{\"callback\":null},\"id\":\"e2775ab3-07ba-45e9-bfd8-b4da7cc345e7\",\"type\":\"DataRange1d\"},{\"attributes\":{\"plot\":{\"id\":\"b45e4fb6-e065-478b-9453-7c2102bc8d0b\",\"subtype\":\"Figure\",\"type\":\"Plot\"}},\"id\":\"1a48a581-8119-4631-89ff-0d8e7aa5c0b0\",\"type\":\"HelpTool\"},{\"attributes\":{\"band_fill_alpha\":{\"value\":0.1},\"band_fill_color\":{\"value\":\"navy\"},\"dimension\":1,\"plot\":{\"id\":\"37e71113-bd17-450f-9bcb-dee12868d023\",\"subtype\":\"Figure\",\"type\":\"Plot\"},\"ticker\":{\"id\":\"32fe1d0c-0bf2-4e09-a18d-06d5b7200d42\",\"type\":\"BasicTicker\"}},\"id\":\"2a98e517-c0f0-4626-a8f3-55918e5f2038\",\"type\":\"Grid\"},{\"attributes\":{\"plot\":{\"id\":\"37e71113-bd17-450f-9bcb-dee12868d023\",\"subtype\":\"Figure\",\"type\":\"Plot\"}},\"id\":\"998d86ff-58a1-4eef-aae2-8796454bac8d\",\"type\":\"PreviewSaveTool\"},{\"attributes\":{\"plot\":{\"id\":\"decbaf11-281d-487b-a5f6-9731f6a7079c\",\"subtype\":\"Figure\",\"type\":\"Plot\"}},\"id\":\"3b8d66fb-489e-4ff5-b05d-e98c2b0aadf4\",\"type\":\"ResetTool\"},{\"attributes\":{\"below\":[{\"id\":\"c89b637e-0d9f-446a-840b-6c5a01985b25\",\"type\":\"LinearAxis\"}],\"left\":[{\"id\":\"4b478851-d7a0-4621-bd57-592897bf08f5\",\"type\":\"LinearAxis\"}],\"plot_height\":400,\"plot_width\":400,\"renderers\":[{\"id\":\"c89b637e-0d9f-446a-840b-6c5a01985b25\",\"type\":\"LinearAxis\"},{\"id\":\"bd6c4a60-d430-4305-a3fb-9cd325e7ec78\",\"type\":\"Grid\"},{\"id\":\"4b478851-d7a0-4621-bd57-592897bf08f5\",\"type\":\"LinearAxis\"},{\"id\":\"2a98e517-c0f0-4626-a8f3-55918e5f2038\",\"type\":\"Grid\"},{\"id\":\"71c3a041-cb3e-474f-a30e-99ea1bcc4f0e\",\"type\":\"BoxAnnotation\"},{\"id\":\"7f940c6e-a009-4129-be25-cb9541d73ba9\",\"type\":\"GlyphRenderer\"}],\"tool_events\":{\"id\":\"e89e6337-7a28-4ea1-a244-55ffee28cf4d\",\"type\":\"ToolEvents\"},\"tools\":[{\"id\":\"f43d2329-e27c-4b8c-b790-087dc4202bc6\",\"type\":\"PanTool\"},{\"id\":\"4286095a-1b3f-4d17-8a85-97251057e2aa\",\"type\":\"WheelZoomTool\"},{\"id\":\"61ed55f6-b882-47ed-ab3a-1b76b14612c7\",\"type\":\"BoxZoomTool\"},{\"id\":\"998d86ff-58a1-4eef-aae2-8796454bac8d\",\"type\":\"PreviewSaveTool\"},{\"id\":\"2aac3bcd-9063-4f58-88ce-105b6ffee0d4\",\"type\":\"ResizeTool\"},{\"id\":\"89896cb2-5978-449e-82c7-9663aba19004\",\"type\":\"ResetTool\"},{\"id\":\"de2dde8b-4f36-4bf9-a44a-f65bc39b7ac8\",\"type\":\"HelpTool\"}],\"x_range\":{\"id\":\"6852bb8e-0212-4629-90c1-a65a2052e695\",\"type\":\"DataRange1d\"},\"y_range\":{\"id\":\"f1ea0011-1ef5-4da4-84fe-acccf36adf67\",\"type\":\"DataRange1d\"}},\"id\":\"37e71113-bd17-450f-9bcb-dee12868d023\",\"subtype\":\"Figure\",\"type\":\"Plot\"},{\"attributes\":{\"dimension\":1,\"plot\":{\"id\":\"decbaf11-281d-487b-a5f6-9731f6a7079c\",\"subtype\":\"Figure\",\"type\":\"Plot\"},\"ticker\":{\"id\":\"ecb1984e-5076-44e4-a4e5-540cebdc65a6\",\"type\":\"BasicTicker\"}},\"id\":\"ed8cbbde-e507-4040-b62c-da624a2ab502\",\"type\":\"Grid\"},{\"attributes\":{\"overlay\":{\"id\":\"71c3a041-cb3e-474f-a30e-99ea1bcc4f0e\",\"type\":\"BoxAnnotation\"},\"plot\":{\"id\":\"37e71113-bd17-450f-9bcb-dee12868d023\",\"subtype\":\"Figure\",\"type\":\"Plot\"}},\"id\":\"61ed55f6-b882-47ed-ab3a-1b76b14612c7\",\"type\":\"BoxZoomTool\"},{\"attributes\":{\"callback\":null,\"column_names\":[\"y\",\"x\"],\"data\":{\"x\":[1,2,3,4,5],\"y\":[2,5,8,2,7]}},\"id\":\"9cf2909c-5697-4bbd-afa6-9217d526cad9\",\"type\":\"ColumnDataSource\"},{\"attributes\":{\"dimension\":1,\"plot\":{\"id\":\"c5f2a59c-8a06-43db-8610-36e8904f73b9\",\"subtype\":\"Figure\",\"type\":\"Plot\"},\"ticker\":{\"id\":\"f8d58616-d158-475f-98f3-39e5190e859f\",\"type\":\"BasicTicker\"}},\"id\":\"656effdc-4e07-460a-b90b-4ffaed920f80\",\"type\":\"Grid\"},{\"attributes\":{\"plot\":{\"id\":\"37e71113-bd17-450f-9bcb-dee12868d023\",\"subtype\":\"Figure\",\"type\":\"Plot\"}},\"id\":\"2aac3bcd-9063-4f58-88ce-105b6ffee0d4\",\"type\":\"ResizeTool\"},{\"attributes\":{\"fill_color\":{\"value\":\"olive\"},\"line_color\":{\"value\":\"olive\"},\"size\":{\"units\":\"screen\",\"value\":12},\"x\":{\"field\":\"x\"},\"y\":{\"field\":\"y\"}},\"id\":\"52bfd11c-3d1c-4a5a-aaae-bce6433532ed\",\"type\":\"Asterisk\"},{\"attributes\":{\"fill_alpha\":{\"value\":0.1},\"fill_color\":{\"value\":\"#1f77b4\"},\"line_alpha\":{\"value\":0.1},\"line_color\":{\"value\":\"#1f77b4\"},\"size\":{\"units\":\"screen\",\"value\":10},\"x\":{\"field\":\"x\"},\"y\":{\"field\":\"y\"}},\"id\":\"a6b16b50-dc1c-473d-a692-527c11fac1f6\",\"type\":\"Circle\"},{\"attributes\":{\"plot\":{\"id\":\"b45e4fb6-e065-478b-9453-7c2102bc8d0b\",\"subtype\":\"Figure\",\"type\":\"Plot\"}},\"id\":\"2fcd57a5-98be-4712-a09a-54a9309b9b85\",\"type\":\"ResizeTool\"},{\"attributes\":{},\"id\":\"a8e488c3-4fc8-4561-bf63-4c9f4f839cf6\",\"type\":\"BasicTickFormatter\"},{\"attributes\":{},\"id\":\"8bce81d3-ace7-4573-b59f-d63dc882ea4a\",\"type\":\"BasicTickFormatter\"},{\"attributes\":{\"below\":[{\"id\":\"8f74fc62-ca0d-49c9-8b43-1700f0b26eed\",\"type\":\"LinearAxis\"}],\"left\":[{\"id\":\"30b8f4ca-0d41-4d33-8d1f-1d84d3c02364\",\"type\":\"LinearAxis\"}],\"plot_height\":400,\"plot_width\":400,\"renderers\":[{\"id\":\"8f74fc62-ca0d-49c9-8b43-1700f0b26eed\",\"type\":\"LinearAxis\"},{\"id\":\"64d7aaf4-3889-450b-ad32-ccc51cd8f30b\",\"type\":\"Grid\"},{\"id\":\"30b8f4ca-0d41-4d33-8d1f-1d84d3c02364\",\"type\":\"LinearAxis\"},{\"id\":\"656effdc-4e07-460a-b90b-4ffaed920f80\",\"type\":\"Grid\"},{\"id\":\"921c6633-688a-431c-9952-ecb538a1ab6a\",\"type\":\"BoxAnnotation\"},{\"id\":\"8c640b9e-5b0a-418c-b0e1-c38a38c9e144\",\"type\":\"GlyphRenderer\"}],\"tool_events\":{\"id\":\"8a45b4e1-7985-4090-a20c-be3d99f7c8c4\",\"type\":\"ToolEvents\"},\"tools\":[{\"id\":\"6d6197f1-3acb-4f71-a7fa-d00ab9fb6572\",\"type\":\"PanTool\"},{\"id\":\"80a75b75-bbf0-454a-8dcd-3dae6ea5bf5c\",\"type\":\"WheelZoomTool\"},{\"id\":\"06aa3c2f-e9d8-4afc-85cb-8e8a91028479\",\"type\":\"BoxZoomTool\"},{\"id\":\"f32f45bc-ec7d-4309-a288-a5650d5c8225\",\"type\":\"PreviewSaveTool\"},{\"id\":\"3c5f643d-2285-4569-a753-cc33068df398\",\"type\":\"ResizeTool\"},{\"id\":\"0723e1c9-6efe-4aa6-9cdd-aa71705a755b\",\"type\":\"ResetTool\"},{\"id\":\"de2a22f9-24fb-467d-94c7-ae8c2d938512\",\"type\":\"HelpTool\"}],\"x_range\":{\"id\":\"41b9f656-b099-4d57-a13e-bd21ce9bf9a7\",\"type\":\"DataRange1d\"},\"y_range\":{\"id\":\"34ee318d-ffac-47d4-84c0-bea29b2beacc\",\"type\":\"DataRange1d\"}},\"id\":\"c5f2a59c-8a06-43db-8610-36e8904f73b9\",\"subtype\":\"Figure\",\"type\":\"Plot\"},{\"attributes\":{\"callback\":null},\"id\":\"f1ea0011-1ef5-4da4-84fe-acccf36adf67\",\"type\":\"DataRange1d\"},{\"attributes\":{},\"id\":\"6d4d6322-8d1a-4c73-bc00-5b2c04288d3d\",\"type\":\"BasicTickFormatter\"},{\"attributes\":{\"below\":[{\"id\":\"bf53ed23-03bd-4d58-9d4f-659b2f4fd4da\",\"type\":\"LinearAxis\"}],\"left\":[{\"id\":\"f32c69a5-4b62-455a-8a3a-a415282f74d5\",\"type\":\"LinearAxis\"}],\"outline_line_alpha\":{\"value\":0.3},\"outline_line_color\":{\"value\":\"navy\"},\"outline_line_width\":{\"value\":7},\"plot_height\":400,\"plot_width\":400,\"renderers\":[{\"id\":\"bf53ed23-03bd-4d58-9d4f-659b2f4fd4da\",\"type\":\"LinearAxis\"},{\"id\":\"c5532b6a-20de-4a32-aeaa-1a84787244e7\",\"type\":\"Grid\"},{\"id\":\"f32c69a5-4b62-455a-8a3a-a415282f74d5\",\"type\":\"LinearAxis\"},{\"id\":\"3ec80ce5-7991-45e7-8817-bc031831a63f\",\"type\":\"Grid\"},{\"id\":\"60809235-7eea-4171-b255-9f08d82eb8eb\",\"type\":\"BoxAnnotation\"},{\"id\":\"b0912e56-ddc4-409f-abce-65362917935d\",\"type\":\"GlyphRenderer\"}],\"tool_events\":{\"id\":\"523e21fe-bf48-4bc5-a03e-a5e723fbf015\",\"type\":\"ToolEvents\"},\"tools\":[{\"id\":\"0f0d09cc-938b-46bb-8560-55cdceb20e49\",\"type\":\"PanTool\"},{\"id\":\"a445f03e-3357-44b8-b519-daef81f59911\",\"type\":\"WheelZoomTool\"},{\"id\":\"620ce037-a1c8-49e2-97d4-395f54e0c878\",\"type\":\"BoxZoomTool\"},{\"id\":\"85cfbd60-13a8-4c07-a8e3-0e188831f47c\",\"type\":\"PreviewSaveTool\"},{\"id\":\"93bb3f07-cb2a-4481-b7a8-c797cde89f5a\",\"type\":\"ResizeTool\"},{\"id\":\"0ece50ed-813c-4964-b3df-c9ba188a46b9\",\"type\":\"ResetTool\"},{\"id\":\"940cd2ab-d7e2-46d0-b8dd-de1a1b26f043\",\"type\":\"HelpTool\"}],\"x_range\":{\"id\":\"a572e27f-a2c2-4bff-9db7-69fb20ace840\",\"type\":\"DataRange1d\"},\"y_range\":{\"id\":\"d773a94b-f053-4881-a612-995093f6b28e\",\"type\":\"DataRange1d\"}},\"id\":\"ba975b2d-f2f9-4e16-a386-2eefb8f93aea\",\"subtype\":\"Figure\",\"type\":\"Plot\"},{\"attributes\":{\"plot\":{\"id\":\"37e71113-bd17-450f-9bcb-dee12868d023\",\"subtype\":\"Figure\",\"type\":\"Plot\"}},\"id\":\"de2dde8b-4f36-4bf9-a44a-f65bc39b7ac8\",\"type\":\"HelpTool\"},{\"attributes\":{},\"id\":\"a18adf31-8c5c-4455-949c-36d96d417913\",\"type\":\"BasicTickFormatter\"},{\"attributes\":{\"plot\":{\"id\":\"decbaf11-281d-487b-a5f6-9731f6a7079c\",\"subtype\":\"Figure\",\"type\":\"Plot\"}},\"id\":\"65fed729-d594-43de-a002-dae4d5c1bc10\",\"type\":\"WheelZoomTool\"},{\"attributes\":{\"plot\":{\"id\":\"decbaf11-281d-487b-a5f6-9731f6a7079c\",\"subtype\":\"Figure\",\"type\":\"Plot\"},\"ticker\":{\"id\":\"98a38870-518a-4769-93a6-7d8aa2e6159e\",\"type\":\"BasicTicker\"}},\"id\":\"69969dde-74a1-4b42-9c4b-0ba7d01eed61\",\"type\":\"Grid\"},{\"attributes\":{},\"id\":\"693f65a4-0713-4cb3-aa3b-9d2460c48d57\",\"type\":\"BasicTicker\"},{\"attributes\":{\"plot\":{\"id\":\"b45e4fb6-e065-478b-9453-7c2102bc8d0b\",\"subtype\":\"Figure\",\"type\":\"Plot\"}},\"id\":\"bacb29fb-e951-4ab3-a7fe-b302a60124f1\",\"type\":\"WheelZoomTool\"},{\"attributes\":{\"callback\":null,\"column_names\":[\"y\",\"x\"],\"data\":{\"x\":[1,2,3,4,5],\"y\":[2,5,8,2,7]}},\"id\":\"849118ed-92e1-4171-ac12-8b6e39fabdc6\",\"type\":\"ColumnDataSource\"},{\"attributes\":{\"formatter\":{\"id\":\"370c1bfb-b625-4095-a2c7-163269583523\",\"type\":\"BasicTickFormatter\"},\"plot\":{\"id\":\"37e71113-bd17-450f-9bcb-dee12868d023\",\"subtype\":\"Figure\",\"type\":\"Plot\"},\"ticker\":{\"id\":\"32fe1d0c-0bf2-4e09-a18d-06d5b7200d42\",\"type\":\"BasicTicker\"}},\"id\":\"4b478851-d7a0-4621-bd57-592897bf08f5\",\"type\":\"LinearAxis\"},{\"attributes\":{\"fill_alpha\":{\"value\":0.1},\"fill_color\":{\"value\":\"#1f77b4\"},\"line_alpha\":{\"value\":0.1},\"line_color\":{\"value\":\"#1f77b4\"},\"line_width\":{\"value\":2},\"size\":{\"units\":\"screen\",\"value\":10},\"x\":{\"field\":\"x\"},\"y\":{\"field\":\"y\"}},\"id\":\"863b9446-6c86-4b6d-a74e-c1ec31c49238\",\"type\":\"X\"},{\"attributes\":{\"plot\":{\"id\":\"ba975b2d-f2f9-4e16-a386-2eefb8f93aea\",\"subtype\":\"Figure\",\"type\":\"Plot\"}},\"id\":\"940cd2ab-d7e2-46d0-b8dd-de1a1b26f043\",\"type\":\"HelpTool\"},{\"attributes\":{\"grid_line_color\":{\"value\":null},\"plot\":{\"id\":\"37e71113-bd17-450f-9bcb-dee12868d023\",\"subtype\":\"Figure\",\"type\":\"Plot\"},\"ticker\":{\"id\":\"47afb860-6275-481d-92ba-8727a8b23e99\",\"type\":\"BasicTicker\"}},\"id\":\"bd6c4a60-d430-4305-a3fb-9cd325e7ec78\",\"type\":\"Grid\"},{\"attributes\":{\"bottom_units\":\"screen\",\"fill_alpha\":{\"value\":0.5},\"fill_color\":{\"value\":\"lightgrey\"},\"left_units\":\"screen\",\"level\":\"overlay\",\"line_alpha\":{\"value\":1.0},\"line_color\":{\"value\":\"black\"},\"line_dash\":[4,4],\"line_width\":{\"value\":2},\"plot\":null,\"render_mode\":\"css\",\"right_units\":\"screen\",\"top_units\":\"screen\"},\"id\":\"fb8cae12-8aa2-43bb-b983-10a9de939714\",\"type\":\"BoxAnnotation\"},{\"attributes\":{},\"id\":\"5596b977-693d-41eb-9e2a-3b62bf90ae6e\",\"type\":\"BasicTickFormatter\"},{\"attributes\":{},\"id\":\"d9fd46a8-5d2c-4898-a32d-cf880d34eb43\",\"type\":\"BasicTicker\"},{\"attributes\":{},\"id\":\"d980c33a-0d11-42fe-9576-f36d16319738\",\"type\":\"BasicTicker\"},{\"attributes\":{\"formatter\":{\"id\":\"6d4d6322-8d1a-4c73-bc00-5b2c04288d3d\",\"type\":\"BasicTickFormatter\"},\"major_label_orientation\":0.7853981633974483,\"plot\":{\"id\":\"decbaf11-281d-487b-a5f6-9731f6a7079c\",\"subtype\":\"Figure\",\"type\":\"Plot\"},\"ticker\":{\"id\":\"98a38870-518a-4769-93a6-7d8aa2e6159e\",\"type\":\"BasicTicker\"}},\"id\":\"69369a2a-fb62-48a6-899d-e4b3f26b71d6\",\"type\":\"LinearAxis\"},{\"attributes\":{\"plot\":{\"id\":\"ba975b2d-f2f9-4e16-a386-2eefb8f93aea\",\"subtype\":\"Figure\",\"type\":\"Plot\"}},\"id\":\"0ece50ed-813c-4964-b3df-c9ba188a46b9\",\"type\":\"ResetTool\"},{\"attributes\":{\"plot\":{\"id\":\"c5f2a59c-8a06-43db-8610-36e8904f73b9\",\"subtype\":\"Figure\",\"type\":\"Plot\"}},\"id\":\"0723e1c9-6efe-4aa6-9cdd-aa71705a755b\",\"type\":\"ResetTool\"},{\"attributes\":{\"callback\":null,\"column_names\":[\"y\",\"x\"],\"data\":{\"x\":[1,2,3,4,5],\"y\":[2,5,8,2,7]}},\"id\":\"2ae25bb6-752d-4c67-ab14-d8b492bd3afc\",\"type\":\"ColumnDataSource\"},{\"attributes\":{\"plot\":{\"id\":\"c5f2a59c-8a06-43db-8610-36e8904f73b9\",\"subtype\":\"Figure\",\"type\":\"Plot\"}},\"id\":\"80a75b75-bbf0-454a-8dcd-3dae6ea5bf5c\",\"type\":\"WheelZoomTool\"},{\"attributes\":{\"fill_alpha\":{\"value\":0.1},\"fill_color\":{\"value\":\"#1f77b4\"},\"line_alpha\":{\"value\":0.1},\"line_color\":{\"value\":\"#1f77b4\"},\"size\":{\"units\":\"screen\",\"value\":12},\"x\":{\"field\":\"x\"},\"y\":{\"field\":\"y\"}},\"id\":\"204b4ecb-1755-4d2f-9124-05be3ebab38d\",\"type\":\"Asterisk\"},{\"attributes\":{\"callback\":null},\"id\":\"a572e27f-a2c2-4bff-9db7-69fb20ace840\",\"type\":\"DataRange1d\"},{\"attributes\":{\"callback\":null},\"id\":\"f45b552d-7ebc-48c1-b534-d0e5be6a0b71\",\"type\":\"DataRange1d\"},{\"attributes\":{\"overlay\":{\"id\":\"60809235-7eea-4171-b255-9f08d82eb8eb\",\"type\":\"BoxAnnotation\"},\"plot\":{\"id\":\"ba975b2d-f2f9-4e16-a386-2eefb8f93aea\",\"subtype\":\"Figure\",\"type\":\"Plot\"}},\"id\":\"620ce037-a1c8-49e2-97d4-395f54e0c878\",\"type\":\"BoxZoomTool\"},{\"attributes\":{},\"id\":\"290f8180-a686-4146-bd2c-024e545dff68\",\"type\":\"BasicTicker\"},{\"attributes\":{\"fill_color\":{\"value\":\"#1f77b4\"},\"line_color\":{\"value\":\"#1f77b4\"},\"size\":{\"units\":\"screen\",\"value\":10},\"x\":{\"field\":\"x\"},\"y\":{\"field\":\"y\"}},\"id\":\"6728a2a6-789d-489b-9799-7cad90230613\",\"type\":\"Circle\"},{\"attributes\":{\"plot\":{\"id\":\"decbaf11-281d-487b-a5f6-9731f6a7079c\",\"subtype\":\"Figure\",\"type\":\"Plot\"}},\"id\":\"77ec29d8-665b-4fd8-b175-64bdb46b4943\",\"type\":\"PanTool\"},{\"attributes\":{\"formatter\":{\"id\":\"54085abe-9ffc-4414-838c-79177f621ba5\",\"type\":\"BasicTickFormatter\"},\"plot\":{\"id\":\"b45e4fb6-e065-478b-9453-7c2102bc8d0b\",\"subtype\":\"Figure\",\"type\":\"Plot\"},\"ticker\":{\"id\":\"693f65a4-0713-4cb3-aa3b-9d2460c48d57\",\"type\":\"BasicTicker\"}},\"id\":\"f73d7f76-55e0-4b8e-8200-eb4bf0666e26\",\"type\":\"LinearAxis\"},{\"attributes\":{\"plot\":{\"id\":\"37e71113-bd17-450f-9bcb-dee12868d023\",\"subtype\":\"Figure\",\"type\":\"Plot\"}},\"id\":\"89896cb2-5978-449e-82c7-9663aba19004\",\"type\":\"ResetTool\"},{\"attributes\":{},\"id\":\"d243fd9d-acd2-4ada-b5af-f9c49b0a33ac\",\"type\":\"BasicTicker\"},{\"attributes\":{\"bottom_units\":\"screen\",\"fill_alpha\":{\"value\":0.5},\"fill_color\":{\"value\":\"lightgrey\"},\"left_units\":\"screen\",\"level\":\"overlay\",\"line_alpha\":{\"value\":1.0},\"line_color\":{\"value\":\"black\"},\"line_dash\":[4,4],\"line_width\":{\"value\":2},\"plot\":null,\"render_mode\":\"css\",\"right_units\":\"screen\",\"top_units\":\"screen\"},\"id\":\"921c6633-688a-431c-9952-ecb538a1ab6a\",\"type\":\"BoxAnnotation\"},{\"attributes\":{\"callback\":null},\"id\":\"d773a94b-f053-4881-a612-995093f6b28e\",\"type\":\"DataRange1d\"},{\"attributes\":{},\"id\":\"e89e6337-7a28-4ea1-a244-55ffee28cf4d\",\"type\":\"ToolEvents\"},{\"attributes\":{\"plot\":{\"id\":\"c5f2a59c-8a06-43db-8610-36e8904f73b9\",\"subtype\":\"Figure\",\"type\":\"Plot\"}},\"id\":\"de2a22f9-24fb-467d-94c7-ae8c2d938512\",\"type\":\"HelpTool\"},{\"attributes\":{},\"id\":\"32fe1d0c-0bf2-4e09-a18d-06d5b7200d42\",\"type\":\"BasicTicker\"},{\"attributes\":{\"plot\":{\"id\":\"c5f2a59c-8a06-43db-8610-36e8904f73b9\",\"subtype\":\"Figure\",\"type\":\"Plot\"},\"ticker\":{\"id\":\"d9fd46a8-5d2c-4898-a32d-cf880d34eb43\",\"type\":\"BasicTicker\"}},\"id\":\"64d7aaf4-3889-450b-ad32-ccc51cd8f30b\",\"type\":\"Grid\"},{\"attributes\":{\"callback\":null},\"id\":\"34ee318d-ffac-47d4-84c0-bea29b2beacc\",\"type\":\"DataRange1d\"},{\"attributes\":{},\"id\":\"f8d58616-d158-475f-98f3-39e5190e859f\",\"type\":\"BasicTicker\"},{\"attributes\":{\"plot\":{\"id\":\"c5f2a59c-8a06-43db-8610-36e8904f73b9\",\"subtype\":\"Figure\",\"type\":\"Plot\"}},\"id\":\"f32f45bc-ec7d-4309-a288-a5650d5c8225\",\"type\":\"PreviewSaveTool\"},{\"attributes\":{\"axis_label\":\"Pressure\",\"formatter\":{\"id\":\"a8e488c3-4fc8-4561-bf63-4c9f4f839cf6\",\"type\":\"BasicTickFormatter\"},\"major_label_orientation\":\"vertical\",\"major_label_text_color\":{\"value\":\"orange\"},\"minor_tick_in\":-3,\"minor_tick_out\":6,\"plot\":{\"id\":\"c5f2a59c-8a06-43db-8610-36e8904f73b9\",\"subtype\":\"Figure\",\"type\":\"Plot\"},\"ticker\":{\"id\":\"f8d58616-d158-475f-98f3-39e5190e859f\",\"type\":\"BasicTicker\"}},\"id\":\"30b8f4ca-0d41-4d33-8d1f-1d84d3c02364\",\"type\":\"LinearAxis\"},{\"attributes\":{},\"id\":\"ae661831-fd7a-4230-a74d-0e361a3068b8\",\"type\":\"BasicTickFormatter\"}],\"root_ids\":[\"ba975b2d-f2f9-4e16-a386-2eefb8f93aea\",\"decbaf11-281d-487b-a5f6-9731f6a7079c\",\"c5f2a59c-8a06-43db-8610-36e8904f73b9\",\"b45e4fb6-e065-478b-9453-7c2102bc8d0b\",\"37e71113-bd17-450f-9bcb-dee12868d023\"]},\"title\":\"Bokeh Application\",\"version\":\"0.11.1\"}};\n",
       "            var render_items = [{\"docid\":\"06cf2f2a-38aa-4bcb-8d4f-e62007c82e9d\",\"elementid\":\"6a2dd3a2-ed57-43e3-b756-27a668be8ff0\",\"modelid\":\"37e71113-bd17-450f-9bcb-dee12868d023\",\"notebook_comms_target\":\"e1805475-50f3-48d6-89dc-3e6fba40fba5\"}];\n",
       "            \n",
       "            Bokeh.embed.embed_items(docs_json, render_items);\n",
       "        });\n",
       "      },\n",
       "      function(Bokeh) {\n",
       "      }\n",
       "    ];\n",
       "  \n",
       "    function run_inline_js() {\n",
       "      for (var i = 0; i < inline_js.length; i++) {\n",
       "        inline_js[i](window.Bokeh);\n",
       "      }\n",
       "    }\n",
       "  \n",
       "    if (window._bokeh_is_loading === 0) {\n",
       "      console.log(\"Bokeh: BokehJS loaded, going straight to plotting\");\n",
       "      run_inline_js();\n",
       "    } else {\n",
       "      load_libs(js_urls, function() {\n",
       "        console.log(\"Bokeh: BokehJS plotting callback run at\", now());\n",
       "        run_inline_js();\n",
       "      });\n",
       "    }\n",
       "  }(this));\n",
       "</script>"
      ]
     },
     "metadata": {},
     "output_type": "display_data"
    },
    {
     "data": {
      "text/html": [
       "<p><code>&lt;Bokeh Notebook handle for <strong>In[10]</strong>&gt;</code></p>"
      ],
      "text/plain": [
       "<bokeh.io._CommsHandle at 0x10d1038d0>"
      ]
     },
     "execution_count": 10,
     "metadata": {},
     "output_type": "execute_result"
    }
   ],
   "source": [
    "p = figure(plot_width=400, plot_height=400)\n",
    "p.circle([1,2,3,4,5], [2,5,8,2,7], size=10)\n",
    "\n",
    "# change just some things about the x-grid\n",
    "p.xgrid.grid_line_color = None\n",
    "\n",
    "# change just some things about the y-grid\n",
    "p.ygrid.band_fill_alpha = 0.1\n",
    "p.ygrid.band_fill_color = \"navy\"\n",
    "\n",
    "show(p)"
   ]
  },
  {
   "cell_type": "code",
   "execution_count": 11,
   "metadata": {
    "collapsed": true
   },
   "outputs": [],
   "source": [
    "# EXERCISE Create a plot of your own and customize several grid properties\n",
    "\n"
   ]
  },
  {
   "cell_type": "markdown",
   "metadata": {},
   "source": [
    "# Legends\n",
    "\n",
    "[Legends](http://bokeh.pydata.org/en/latest/docs/user_guide/styling.html#legends)"
   ]
  },
  {
   "cell_type": "code",
   "execution_count": 12,
   "metadata": {
    "collapsed": false
   },
   "outputs": [
    {
     "data": {
      "text/html": [
       "\n",
       "\n",
       "    <div class=\"plotdiv\" id=\"0f59f90a-34ea-40c1-983b-85f87e10cd0b\"></div>\n",
       "<script type=\"text/javascript\">\n",
       "  \n",
       "  (function(global) {\n",
       "    function now() {\n",
       "      return new Date();\n",
       "    }\n",
       "  \n",
       "    if (typeof (window._bokeh_onload_callbacks) === \"undefined\") {\n",
       "      window._bokeh_onload_callbacks = [];\n",
       "    }\n",
       "  \n",
       "    function run_callbacks() {\n",
       "      window._bokeh_onload_callbacks.forEach(function(callback) { callback() });\n",
       "      delete window._bokeh_onload_callbacks\n",
       "      console.info(\"Bokeh: all callbacks have finished\");\n",
       "    }\n",
       "  \n",
       "    function load_libs(js_urls, callback) {\n",
       "      window._bokeh_onload_callbacks.push(callback);\n",
       "      if (window._bokeh_is_loading > 0) {\n",
       "        console.log(\"Bokeh: BokehJS is being loaded, scheduling callback at\", now());\n",
       "        return null;\n",
       "      }\n",
       "      if (js_urls == null || js_urls.length === 0) {\n",
       "        run_callbacks();\n",
       "        return null;\n",
       "      }\n",
       "      console.log(\"Bokeh: BokehJS not loaded, scheduling load and callback at\", now());\n",
       "      window._bokeh_is_loading = js_urls.length;\n",
       "      for (var i = 0; i < js_urls.length; i++) {\n",
       "        var url = js_urls[i];\n",
       "        var s = document.createElement('script');\n",
       "        s.src = url;\n",
       "        s.async = false;\n",
       "        s.onreadystatechange = s.onload = function() {\n",
       "          window._bokeh_is_loading--;\n",
       "          if (window._bokeh_is_loading === 0) {\n",
       "            console.log(\"Bokeh: all BokehJS libraries loaded\");\n",
       "            run_callbacks()\n",
       "          }\n",
       "        };\n",
       "        s.onerror = function() {\n",
       "          console.warn(\"failed to load library \" + url);\n",
       "        };\n",
       "        console.log(\"Bokeh: injecting script tag for BokehJS library: \", url);\n",
       "        document.getElementsByTagName(\"head\")[0].appendChild(s);\n",
       "      }\n",
       "    };var element = document.getElementById(\"0f59f90a-34ea-40c1-983b-85f87e10cd0b\");\n",
       "    if (element == null) {\n",
       "      console.log(\"Bokeh: ERROR: autoload.js configured with elementid '0f59f90a-34ea-40c1-983b-85f87e10cd0b' but no matching script tag was found. \")\n",
       "      return false;\n",
       "    }\n",
       "  \n",
       "    var js_urls = [];\n",
       "  \n",
       "    var inline_js = [\n",
       "      function(Bokeh) {\n",
       "        Bokeh.$(function() {\n",
       "            var docs_json = {\"1611a2c4-99cb-45ad-b151-3ad133a373a2\":{\"roots\":{\"references\":[{\"attributes\":{\"fill_alpha\":{\"value\":0.1},\"fill_color\":{\"value\":\"#1f77b4\"},\"line_alpha\":{\"value\":0.1},\"line_color\":{\"value\":\"#1f77b4\"},\"size\":{\"units\":\"screen\",\"value\":10},\"x\":{\"field\":\"x\"},\"y\":{\"field\":\"y\"}},\"id\":\"e64b8c84-0fe1-4865-b12e-859c051e10fe\",\"type\":\"Circle\"},{\"attributes\":{\"below\":[{\"id\":\"69369a2a-fb62-48a6-899d-e4b3f26b71d6\",\"type\":\"LinearAxis\"}],\"left\":[{\"id\":\"5b9346f6-a946-4ea5-bc7d-01e83046ba86\",\"type\":\"LinearAxis\"}],\"plot_height\":400,\"plot_width\":400,\"renderers\":[{\"id\":\"69369a2a-fb62-48a6-899d-e4b3f26b71d6\",\"type\":\"LinearAxis\"},{\"id\":\"69969dde-74a1-4b42-9c4b-0ba7d01eed61\",\"type\":\"Grid\"},{\"id\":\"5b9346f6-a946-4ea5-bc7d-01e83046ba86\",\"type\":\"LinearAxis\"},{\"id\":\"ed8cbbde-e507-4040-b62c-da624a2ab502\",\"type\":\"Grid\"},{\"id\":\"fb8cae12-8aa2-43bb-b983-10a9de939714\",\"type\":\"BoxAnnotation\"},{\"id\":\"34dbc233-c059-4079-a998-a4a7f6b4fca4\",\"type\":\"GlyphRenderer\"}],\"tool_events\":{\"id\":\"92d5baad-945b-4589-994f-4e8b700a4a91\",\"type\":\"ToolEvents\"},\"tools\":[{\"id\":\"77ec29d8-665b-4fd8-b175-64bdb46b4943\",\"type\":\"PanTool\"},{\"id\":\"65fed729-d594-43de-a002-dae4d5c1bc10\",\"type\":\"WheelZoomTool\"},{\"id\":\"bdbe9d3d-d707-42e8-a977-88778df4a20c\",\"type\":\"BoxZoomTool\"},{\"id\":\"f744bbd4-e268-492d-bd1d-736d1f634a8a\",\"type\":\"PreviewSaveTool\"},{\"id\":\"32e85a6c-23d5-4a56-a7b8-306b196ad673\",\"type\":\"ResizeTool\"},{\"id\":\"3b8d66fb-489e-4ff5-b05d-e98c2b0aadf4\",\"type\":\"ResetTool\"},{\"id\":\"d6f72b26-cce3-469a-b8f8-344c11b78d01\",\"type\":\"HelpTool\"}],\"x_range\":{\"id\":\"e2775ab3-07ba-45e9-bfd8-b4da7cc345e7\",\"type\":\"DataRange1d\"},\"y_range\":{\"id\":\"483fde99-0c24-468f-9c1a-efbf96540518\",\"type\":\"DataRange1d\"}},\"id\":\"decbaf11-281d-487b-a5f6-9731f6a7079c\",\"subtype\":\"Figure\",\"type\":\"Plot\"},{\"attributes\":{\"data_source\":{\"id\":\"2ae25bb6-752d-4c67-ab14-d8b492bd3afc\",\"type\":\"ColumnDataSource\"},\"glyph\":{\"id\":\"891d3058-fcda-4ec7-adc0-9d80c8c14a4b\",\"type\":\"Circle\"},\"hover_glyph\":null,\"nonselection_glyph\":{\"id\":\"f93d1775-d51d-473e-bc5a-d21e3c0f4231\",\"type\":\"Circle\"},\"selection_glyph\":null},\"id\":\"53fd75e9-0cdb-43c2-a152-9eb7d75d635f\",\"type\":\"GlyphRenderer\"},{\"attributes\":{\"fill_alpha\":{\"value\":0.1},\"fill_color\":{\"value\":\"#1f77b4\"},\"line_alpha\":{\"value\":0.1},\"line_color\":{\"value\":\"#1f77b4\"},\"size\":{\"units\":\"screen\",\"value\":10},\"x\":{\"field\":\"x\"},\"y\":{\"field\":\"y\"}},\"id\":\"f93d1775-d51d-473e-bc5a-d21e3c0f4231\",\"type\":\"Circle\"},{\"attributes\":{\"callback\":null,\"column_names\":[\"y\",\"x\"],\"data\":{\"x\":[0.0,0.12693303650867852,0.25386607301735703,0.3807991095260356,0.5077321460347141,0.6346651825433925,0.7615982190520711,0.8885312555607496,1.0154642920694281,1.1423973285781066,1.269330365086785,1.3962634015954636,1.5231964381041423,1.6501294746128208,1.7770625111214993,1.9039955476301778,2.0309285841388562,2.1578616206475347,2.284794657156213,2.4117276936648917,2.53866073017357,2.6655937666822487,2.792526803190927,2.9194598396996057,3.0463928762082846,3.173325912716963,3.3002589492256416,3.42719198573432,3.5541250222429985,3.681058058751677,3.8079910952603555,3.934924131769034,4.0618571682777125,4.188790204786391,4.3157232412950695,4.442656277803748,4.569589314312426,4.696522350821105,4.823455387329783,4.950388423838462,5.07732146034714,5.204254496855819,5.331187533364497,5.458120569873176,5.585053606381854,5.711986642890533,5.838919679399211,5.96585271590789,6.092785752416569,6.219718788925247,6.346651825433926,6.473584861942604,6.600517898451283,6.727450934959961,6.85438397146864,6.981317007977318,7.108250044485997,7.235183080994675,7.362116117503354,7.489049154012032,7.615982190520711,7.742915227029389,7.869848263538068,7.996781300046746,8.123714336555425,8.250647373064103,8.377580409572783,8.50451344608146,8.631446482590139,8.758379519098817,8.885312555607497,9.012245592116175,9.139178628624853,9.266111665133531,9.39304470164221,9.519977738150889,9.646910774659567,9.773843811168245,9.900776847676925,10.027709884185603,10.15464292069428,10.28157595720296,10.408508993711639,10.535442030220317,10.662375066728995,10.789308103237675,10.916241139746353,11.04317417625503,11.170107212763709,11.297040249272388,11.423973285781067,11.550906322289745,11.677839358798423,11.804772395307102,11.93170543181578,12.058638468324459,12.185571504833138,12.312504541341816,12.439437577850494,12.566370614359172],\"y\":[0.0,0.3797773607212478,0.7534439615432377,1.1149873669809827,1.4585902083014062,1.7787237871639212,2.070237034446336,2.3284393928752705,2.549176289848543,2.728895986063555,2.8647067243322217,2.954423259036624,2.9966020175490238,2.990564327855827,2.936407338644336,2.8350024561440055,2.6879813228740077,2.4977095639043143,2.2672487230627754,2.000307001548875,1.7011795915883126,1.3746795651822317,1.0260604299770066,0.6609315983596225,0.2851681299125473,-0.09518380049420355,-0.4740041879200503,-0.8451976705242895,-1.2027916062198414,-1.5410321747202191,-1.8544769586618157,-2.1380825141365882,-2.387285521592496,-2.5980762113533165,-2.767062882313744,-2.8915264756798265,-2.969464325642798,-2.999622383021625,-2.9815153933837624,-2.915434704970625,-2.8024435807953205,-2.644360090342746,-2.443727856151008,-2.2037751259725993,-1.9283628290596186,-1.6219224523667923,-1.2893847362675157,-0.9361003370954613,-0.5677537330812292,-0.19027175896969356,0.19027175896969473,0.5677537330812303,0.9361003370954624,1.2893847362675146,1.6219224523667937,1.9283628290596178,2.2037751259726,2.4437278561510065,2.6443600903427464,2.80244358079532,2.9154347049706253,2.9815153933837624,2.999622383021625,2.9694643256427984,2.891526475679826,2.767062882313745,2.5980762113533147,2.3872855215924957,2.1380825141365887,1.8544769586618168,1.541032174720217,1.2027916062198403,0.8451976705242896,0.47400418792005167,0.09518380049420103,-0.28516812991254853,-0.660931598359621,-1.026060429977004,-1.3746795651822326,-1.7011795915883126,-2.0003070015488738,-2.2672487230627763,-2.4977095639043148,-2.6879813228740077,-2.835002456144005,-2.9364073386443366,-2.990564327855827,-2.9966020175490238,-2.9544232590366244,-2.864706724332221,-2.728895986063555,-2.5491762898485435,-2.328439392875272,-2.070237034446335,-1.7787237871639212,-1.4585902083014068,-1.11498736698098,-0.7534439615432363,-0.3797773607212479,-1.4695761589768238e-15]}},\"id\":\"44df92e4-73fe-49e2-99b4-f702fba03eb4\",\"type\":\"ColumnDataSource\"},{\"attributes\":{\"formatter\":{\"id\":\"370c1bfb-b625-4095-a2c7-163269583523\",\"type\":\"BasicTickFormatter\"},\"plot\":{\"id\":\"37e71113-bd17-450f-9bcb-dee12868d023\",\"subtype\":\"Figure\",\"type\":\"Plot\"},\"ticker\":{\"id\":\"32fe1d0c-0bf2-4e09-a18d-06d5b7200d42\",\"type\":\"BasicTicker\"}},\"id\":\"4b478851-d7a0-4621-bd57-592897bf08f5\",\"type\":\"LinearAxis\"},{\"attributes\":{\"plot\":{\"id\":\"b45e4fb6-e065-478b-9453-7c2102bc8d0b\",\"subtype\":\"Figure\",\"type\":\"Plot\"}},\"id\":\"a9222a0f-d459-445b-8740-734548741eec\",\"type\":\"PreviewSaveTool\"},{\"attributes\":{},\"id\":\"d9fd46a8-5d2c-4898-a32d-cf880d34eb43\",\"type\":\"BasicTicker\"},{\"attributes\":{\"callback\":null},\"id\":\"41b9f656-b099-4d57-a13e-bd21ce9bf9a7\",\"type\":\"DataRange1d\"},{\"attributes\":{\"line_color\":{\"value\":\"#1f77b4\"},\"x\":{\"field\":\"x\"},\"y\":{\"field\":\"y\"}},\"id\":\"e213c191-b3e1-4649-8a29-882e371c7f6a\",\"type\":\"Line\"},{\"attributes\":{\"plot\":{\"id\":\"ba975b2d-f2f9-4e16-a386-2eefb8f93aea\",\"subtype\":\"Figure\",\"type\":\"Plot\"}},\"id\":\"0f0d09cc-938b-46bb-8560-55cdceb20e49\",\"type\":\"PanTool\"},{\"attributes\":{\"axis_label\":\"Temp\",\"axis_line_color\":{\"value\":\"red\"},\"axis_line_width\":{\"value\":3},\"formatter\":{\"id\":\"8c308b83-b361-4784-9239-86e8304ce722\",\"type\":\"BasicTickFormatter\"},\"minor_tick_in\":-3,\"minor_tick_out\":6,\"plot\":{\"id\":\"c5f2a59c-8a06-43db-8610-36e8904f73b9\",\"subtype\":\"Figure\",\"type\":\"Plot\"},\"ticker\":{\"id\":\"d9fd46a8-5d2c-4898-a32d-cf880d34eb43\",\"type\":\"BasicTicker\"}},\"id\":\"8f74fc62-ca0d-49c9-8b43-1700f0b26eed\",\"type\":\"LinearAxis\"},{\"attributes\":{\"overlay\":{\"id\":\"fb8cae12-8aa2-43bb-b983-10a9de939714\",\"type\":\"BoxAnnotation\"},\"plot\":{\"id\":\"decbaf11-281d-487b-a5f6-9731f6a7079c\",\"subtype\":\"Figure\",\"type\":\"Plot\"}},\"id\":\"bdbe9d3d-d707-42e8-a977-88778df4a20c\",\"type\":\"BoxZoomTool\"},{\"attributes\":{\"data_source\":{\"id\":\"9cf2909c-5697-4bbd-afa6-9217d526cad9\",\"type\":\"ColumnDataSource\"},\"glyph\":{\"id\":\"15d042ce-2784-423a-bb25-070098460971\",\"type\":\"X\"},\"hover_glyph\":null,\"nonselection_glyph\":{\"id\":\"863b9446-6c86-4b6d-a74e-c1ec31c49238\",\"type\":\"X\"},\"selection_glyph\":null},\"id\":\"34dbc233-c059-4079-a998-a4a7f6b4fca4\",\"type\":\"GlyphRenderer\"},{\"attributes\":{\"formatter\":{\"id\":\"a18adf31-8c5c-4455-949c-36d96d417913\",\"type\":\"BasicTickFormatter\"},\"plot\":{\"id\":\"ba975b2d-f2f9-4e16-a386-2eefb8f93aea\",\"subtype\":\"Figure\",\"type\":\"Plot\"},\"ticker\":{\"id\":\"d980c33a-0d11-42fe-9576-f36d16319738\",\"type\":\"BasicTicker\"}},\"id\":\"f32c69a5-4b62-455a-8a3a-a415282f74d5\",\"type\":\"LinearAxis\"},{\"attributes\":{\"dimension\":1,\"plot\":{\"id\":\"ba975b2d-f2f9-4e16-a386-2eefb8f93aea\",\"subtype\":\"Figure\",\"type\":\"Plot\"},\"ticker\":{\"id\":\"d980c33a-0d11-42fe-9576-f36d16319738\",\"type\":\"BasicTicker\"}},\"id\":\"3ec80ce5-7991-45e7-8817-bc031831a63f\",\"type\":\"Grid\"},{\"attributes\":{},\"id\":\"92d5baad-945b-4589-994f-4e8b700a4a91\",\"type\":\"ToolEvents\"},{\"attributes\":{\"data_source\":{\"id\":\"200e97f0-f210-4bc0-96a8-3cdbd84219a7\",\"type\":\"ColumnDataSource\"},\"glyph\":{\"id\":\"52bfd11c-3d1c-4a5a-aaae-bce6433532ed\",\"type\":\"Asterisk\"},\"hover_glyph\":null,\"nonselection_glyph\":{\"id\":\"204b4ecb-1755-4d2f-9124-05be3ebab38d\",\"type\":\"Asterisk\"},\"selection_glyph\":null},\"id\":\"8c640b9e-5b0a-418c-b0e1-c38a38c9e144\",\"type\":\"GlyphRenderer\"},{\"attributes\":{\"data_source\":{\"id\":\"056c8a28-6db3-43ff-9f92-1a79c6f69cae\",\"type\":\"ColumnDataSource\"},\"glyph\":{\"id\":\"6728a2a6-789d-489b-9799-7cad90230613\",\"type\":\"Circle\"},\"hover_glyph\":null,\"nonselection_glyph\":{\"id\":\"a6b16b50-dc1c-473d-a692-527c11fac1f6\",\"type\":\"Circle\"},\"selection_glyph\":null},\"id\":\"b0912e56-ddc4-409f-abce-65362917935d\",\"type\":\"GlyphRenderer\"},{\"attributes\":{\"plot\":{\"id\":\"c5f2a59c-8a06-43db-8610-36e8904f73b9\",\"subtype\":\"Figure\",\"type\":\"Plot\"}},\"id\":\"3c5f643d-2285-4569-a753-cc33068df398\",\"type\":\"ResizeTool\"},{\"attributes\":{\"below\":[{\"id\":\"b39f2c35-aaba-492e-9ea6-a4705488bdc7\",\"type\":\"LinearAxis\"}],\"left\":[{\"id\":\"f73d7f76-55e0-4b8e-8200-eb4bf0666e26\",\"type\":\"LinearAxis\"}],\"plot_height\":400,\"plot_width\":400,\"renderers\":[{\"id\":\"b39f2c35-aaba-492e-9ea6-a4705488bdc7\",\"type\":\"LinearAxis\"},{\"id\":\"d2f071e9-9ad2-47fa-ba15-e73e561e77d1\",\"type\":\"Grid\"},{\"id\":\"f73d7f76-55e0-4b8e-8200-eb4bf0666e26\",\"type\":\"LinearAxis\"},{\"id\":\"25977b70-d553-445d-919c-ee9643ee7575\",\"type\":\"Grid\"},{\"id\":\"2076728c-6203-46fd-a969-1a159d7a9a59\",\"type\":\"BoxAnnotation\"},{\"id\":\"53fd75e9-0cdb-43c2-a152-9eb7d75d635f\",\"type\":\"GlyphRenderer\"}],\"tool_events\":{\"id\":\"6cf9233b-95ff-4b9c-a29a-5c1385f4216e\",\"type\":\"ToolEvents\"},\"tools\":[{\"id\":\"6d2e2f01-033b-477c-a1ac-18e83a1c9293\",\"type\":\"PanTool\"},{\"id\":\"bacb29fb-e951-4ab3-a7fe-b302a60124f1\",\"type\":\"WheelZoomTool\"},{\"id\":\"fbe61968-1359-426c-a771-2bc7ab0c651f\",\"type\":\"BoxZoomTool\"},{\"id\":\"a9222a0f-d459-445b-8740-734548741eec\",\"type\":\"PreviewSaveTool\"},{\"id\":\"2fcd57a5-98be-4712-a09a-54a9309b9b85\",\"type\":\"ResizeTool\"},{\"id\":\"df6d27df-8270-475a-b06c-97e76ee1e32b\",\"type\":\"ResetTool\"},{\"id\":\"1a48a581-8119-4631-89ff-0d8e7aa5c0b0\",\"type\":\"HelpTool\"}],\"x_range\":{\"id\":\"f45b552d-7ebc-48c1-b534-d0e5be6a0b71\",\"type\":\"DataRange1d\"},\"y_range\":{\"id\":\"9d25a570-a55c-4668-924a-f48e21526e27\",\"type\":\"DataRange1d\"}},\"id\":\"b45e4fb6-e065-478b-9453-7c2102bc8d0b\",\"subtype\":\"Figure\",\"type\":\"Plot\"},{\"attributes\":{\"formatter\":{\"id\":\"283a4091-35bf-43e0-983a-fc6c623578d2\",\"type\":\"BasicTickFormatter\"},\"major_label_orientation\":\"vertical\",\"plot\":{\"id\":\"decbaf11-281d-487b-a5f6-9731f6a7079c\",\"subtype\":\"Figure\",\"type\":\"Plot\"},\"ticker\":{\"id\":\"ecb1984e-5076-44e4-a4e5-540cebdc65a6\",\"type\":\"BasicTicker\"}},\"id\":\"5b9346f6-a946-4ea5-bc7d-01e83046ba86\",\"type\":\"LinearAxis\"},{\"attributes\":{},\"id\":\"98a38870-518a-4769-93a6-7d8aa2e6159e\",\"type\":\"BasicTicker\"},{\"attributes\":{\"overlay\":{\"id\":\"2076728c-6203-46fd-a969-1a159d7a9a59\",\"type\":\"BoxAnnotation\"},\"plot\":{\"id\":\"b45e4fb6-e065-478b-9453-7c2102bc8d0b\",\"subtype\":\"Figure\",\"type\":\"Plot\"}},\"id\":\"fbe61968-1359-426c-a771-2bc7ab0c651f\",\"type\":\"BoxZoomTool\"},{\"attributes\":{\"plot\":{\"id\":\"c5f2a59c-8a06-43db-8610-36e8904f73b9\",\"subtype\":\"Figure\",\"type\":\"Plot\"}},\"id\":\"f32f45bc-ec7d-4309-a288-a5650d5c8225\",\"type\":\"PreviewSaveTool\"},{\"attributes\":{\"plot\":{\"id\":\"37e71113-bd17-450f-9bcb-dee12868d023\",\"subtype\":\"Figure\",\"type\":\"Plot\"}},\"id\":\"f43d2329-e27c-4b8c-b790-087dc4202bc6\",\"type\":\"PanTool\"},{\"attributes\":{\"plot\":{\"id\":\"ba975b2d-f2f9-4e16-a386-2eefb8f93aea\",\"subtype\":\"Figure\",\"type\":\"Plot\"}},\"id\":\"a445f03e-3357-44b8-b519-daef81f59911\",\"type\":\"WheelZoomTool\"},{\"attributes\":{\"bottom_units\":\"screen\",\"fill_alpha\":{\"value\":0.5},\"fill_color\":{\"value\":\"lightgrey\"},\"left_units\":\"screen\",\"level\":\"overlay\",\"line_alpha\":{\"value\":1.0},\"line_color\":{\"value\":\"black\"},\"line_dash\":[4,4],\"line_width\":{\"value\":2},\"plot\":null,\"render_mode\":\"css\",\"right_units\":\"screen\",\"top_units\":\"screen\"},\"id\":\"71c3a041-cb3e-474f-a30e-99ea1bcc4f0e\",\"type\":\"BoxAnnotation\"},{\"attributes\":{\"line_alpha\":{\"value\":0.1},\"line_color\":{\"value\":\"#1f77b4\"},\"x\":{\"field\":\"x\"},\"y\":{\"field\":\"y\"}},\"id\":\"f8ce5fc6-55fd-43d5-8a6b-54c7d7c7aded\",\"type\":\"Line\"},{\"attributes\":{\"legends\":[[\"sin(x)\",[{\"id\":\"3372aa03-68d5-4c3d-bf3e-72f1dd9662b7\",\"type\":\"GlyphRenderer\"},{\"id\":\"7e318aae-a841-4f2e-9cb8-34bdd37fb8ff\",\"type\":\"GlyphRenderer\"}]],[\"2*sin(x)\",[{\"id\":\"932903f8-e54a-4f65-8ce4-984e93e57743\",\"type\":\"GlyphRenderer\"}]],[\"3*sin(x)\",[{\"id\":\"bde2ae9d-9eff-445b-8eda-3ccc8a2db557\",\"type\":\"GlyphRenderer\"},{\"id\":\"e0b17508-a932-4f5a-a2fa-0c779c001a7f\",\"type\":\"GlyphRenderer\"}]]],\"location\":\"bottom_left\",\"plot\":{\"id\":\"7bbaa480-77b6-44a4-8679-a98d06b626d1\",\"subtype\":\"Figure\",\"type\":\"Plot\"}},\"id\":\"1bf67a13-0f15-4224-97d2-be523f6b559b\",\"type\":\"Legend\"},{\"attributes\":{\"plot\":{\"id\":\"37e71113-bd17-450f-9bcb-dee12868d023\",\"subtype\":\"Figure\",\"type\":\"Plot\"}},\"id\":\"4286095a-1b3f-4d17-8a85-97251057e2aa\",\"type\":\"WheelZoomTool\"},{\"attributes\":{},\"id\":\"6cf9233b-95ff-4b9c-a29a-5c1385f4216e\",\"type\":\"ToolEvents\"},{\"attributes\":{\"callback\":null},\"id\":\"483fde99-0c24-468f-9c1a-efbf96540518\",\"type\":\"DataRange1d\"},{\"attributes\":{},\"id\":\"290f8180-a686-4146-bd2c-024e545dff68\",\"type\":\"BasicTicker\"},{\"attributes\":{\"callback\":null,\"column_names\":[\"y\",\"x\"],\"data\":{\"x\":[1,2,3,4,5],\"y\":[2,5,8,2,7]}},\"id\":\"056c8a28-6db3-43ff-9f92-1a79c6f69cae\",\"type\":\"ColumnDataSource\"},{\"attributes\":{\"fill_color\":{\"value\":\"#1f77b4\"},\"line_color\":{\"value\":\"#1f77b4\"},\"size\":{\"units\":\"screen\",\"value\":10},\"x\":{\"field\":\"x\"},\"y\":{\"field\":\"y\"}},\"id\":\"891d3058-fcda-4ec7-adc0-9d80c8c14a4b\",\"type\":\"Circle\"},{\"attributes\":{\"below\":[{\"id\":\"bf53ed23-03bd-4d58-9d4f-659b2f4fd4da\",\"type\":\"LinearAxis\"}],\"left\":[{\"id\":\"f32c69a5-4b62-455a-8a3a-a415282f74d5\",\"type\":\"LinearAxis\"}],\"outline_line_alpha\":{\"value\":0.3},\"outline_line_color\":{\"value\":\"navy\"},\"outline_line_width\":{\"value\":7},\"plot_height\":400,\"plot_width\":400,\"renderers\":[{\"id\":\"bf53ed23-03bd-4d58-9d4f-659b2f4fd4da\",\"type\":\"LinearAxis\"},{\"id\":\"c5532b6a-20de-4a32-aeaa-1a84787244e7\",\"type\":\"Grid\"},{\"id\":\"f32c69a5-4b62-455a-8a3a-a415282f74d5\",\"type\":\"LinearAxis\"},{\"id\":\"3ec80ce5-7991-45e7-8817-bc031831a63f\",\"type\":\"Grid\"},{\"id\":\"60809235-7eea-4171-b255-9f08d82eb8eb\",\"type\":\"BoxAnnotation\"},{\"id\":\"b0912e56-ddc4-409f-abce-65362917935d\",\"type\":\"GlyphRenderer\"}],\"tool_events\":{\"id\":\"523e21fe-bf48-4bc5-a03e-a5e723fbf015\",\"type\":\"ToolEvents\"},\"tools\":[{\"id\":\"0f0d09cc-938b-46bb-8560-55cdceb20e49\",\"type\":\"PanTool\"},{\"id\":\"a445f03e-3357-44b8-b519-daef81f59911\",\"type\":\"WheelZoomTool\"},{\"id\":\"620ce037-a1c8-49e2-97d4-395f54e0c878\",\"type\":\"BoxZoomTool\"},{\"id\":\"85cfbd60-13a8-4c07-a8e3-0e188831f47c\",\"type\":\"PreviewSaveTool\"},{\"id\":\"93bb3f07-cb2a-4481-b7a8-c797cde89f5a\",\"type\":\"ResizeTool\"},{\"id\":\"0ece50ed-813c-4964-b3df-c9ba188a46b9\",\"type\":\"ResetTool\"},{\"id\":\"940cd2ab-d7e2-46d0-b8dd-de1a1b26f043\",\"type\":\"HelpTool\"}],\"x_range\":{\"id\":\"a572e27f-a2c2-4bff-9db7-69fb20ace840\",\"type\":\"DataRange1d\"},\"y_range\":{\"id\":\"d773a94b-f053-4881-a612-995093f6b28e\",\"type\":\"DataRange1d\"}},\"id\":\"ba975b2d-f2f9-4e16-a386-2eefb8f93aea\",\"subtype\":\"Figure\",\"type\":\"Plot\"},{\"attributes\":{\"dimension\":1,\"plot\":{\"id\":\"decbaf11-281d-487b-a5f6-9731f6a7079c\",\"subtype\":\"Figure\",\"type\":\"Plot\"},\"ticker\":{\"id\":\"ecb1984e-5076-44e4-a4e5-540cebdc65a6\",\"type\":\"BasicTicker\"}},\"id\":\"ed8cbbde-e507-4040-b62c-da624a2ab502\",\"type\":\"Grid\"},{\"attributes\":{\"plot\":{\"id\":\"7bbaa480-77b6-44a4-8679-a98d06b626d1\",\"subtype\":\"Figure\",\"type\":\"Plot\"}},\"id\":\"0734c25d-4757-4f17-96b0-9511643b3f40\",\"type\":\"HelpTool\"},{\"attributes\":{\"callback\":null,\"column_names\":[\"y\",\"x\"],\"data\":{\"x\":[1,2,3,4,5],\"y\":[2,5,8,2,7]}},\"id\":\"200e97f0-f210-4bc0-96a8-3cdbd84219a7\",\"type\":\"ColumnDataSource\"},{\"attributes\":{\"fill_color\":{\"value\":\"#1f77b4\"},\"line_color\":{\"value\":\"#1f77b4\"},\"line_width\":{\"value\":2},\"size\":{\"units\":\"screen\",\"value\":10},\"x\":{\"field\":\"x\"},\"y\":{\"field\":\"y\"}},\"id\":\"15d042ce-2784-423a-bb25-070098460971\",\"type\":\"X\"},{\"attributes\":{\"plot\":{\"id\":\"7bbaa480-77b6-44a4-8679-a98d06b626d1\",\"subtype\":\"Figure\",\"type\":\"Plot\"}},\"id\":\"fbbc9d34-4545-465d-a3ca-7b5b7f6bab04\",\"type\":\"ResetTool\"},{\"attributes\":{},\"id\":\"54085abe-9ffc-4414-838c-79177f621ba5\",\"type\":\"BasicTickFormatter\"},{\"attributes\":{\"callback\":null},\"id\":\"9d25a570-a55c-4668-924a-f48e21526e27\",\"type\":\"DataRange1d\"},{\"attributes\":{\"callback\":null},\"id\":\"6852bb8e-0212-4629-90c1-a65a2052e695\",\"type\":\"DataRange1d\"},{\"attributes\":{},\"id\":\"8c308b83-b361-4784-9239-86e8304ce722\",\"type\":\"BasicTickFormatter\"},{\"attributes\":{},\"id\":\"ab446943-8d82-4641-9128-cd045c8aecee\",\"type\":\"ToolEvents\"},{\"attributes\":{\"fill_color\":{\"value\":\"white\"},\"line_color\":{\"value\":\"green\"},\"x\":{\"field\":\"x\"},\"y\":{\"field\":\"y\"}},\"id\":\"d0f405ce-1170-4d81-90f8-57753c4a8643\",\"type\":\"Square\"},{\"attributes\":{\"plot\":{\"id\":\"decbaf11-281d-487b-a5f6-9731f6a7079c\",\"subtype\":\"Figure\",\"type\":\"Plot\"}},\"id\":\"32e85a6c-23d5-4a56-a7b8-306b196ad673\",\"type\":\"ResizeTool\"},{\"attributes\":{},\"id\":\"b79d6cb3-c548-49e2-96da-779b49ecd7d3\",\"type\":\"BasicTicker\"},{\"attributes\":{\"plot\":{\"id\":\"c5f2a59c-8a06-43db-8610-36e8904f73b9\",\"subtype\":\"Figure\",\"type\":\"Plot\"}},\"id\":\"6d6197f1-3acb-4f71-a7fa-d00ab9fb6572\",\"type\":\"PanTool\"},{\"attributes\":{},\"id\":\"8a45b4e1-7985-4090-a20c-be3d99f7c8c4\",\"type\":\"ToolEvents\"},{\"attributes\":{\"line_alpha\":{\"value\":0.1},\"line_color\":{\"value\":\"#1f77b4\"},\"x\":{\"field\":\"x\"},\"y\":{\"field\":\"y\"}},\"id\":\"e3ca2e9e-130a-475e-b4f3-0b7bd9170a26\",\"type\":\"Line\"},{\"attributes\":{\"dimension\":1,\"grid_line_alpha\":{\"value\":0.5},\"grid_line_dash\":[6,4],\"plot\":{\"id\":\"b45e4fb6-e065-478b-9453-7c2102bc8d0b\",\"subtype\":\"Figure\",\"type\":\"Plot\"},\"ticker\":{\"id\":\"693f65a4-0713-4cb3-aa3b-9d2460c48d57\",\"type\":\"BasicTicker\"}},\"id\":\"25977b70-d553-445d-919c-ee9643ee7575\",\"type\":\"Grid\"},{\"attributes\":{\"formatter\":{\"id\":\"8bce81d3-ace7-4573-b59f-d63dc882ea4a\",\"type\":\"BasicTickFormatter\"},\"plot\":{\"id\":\"b45e4fb6-e065-478b-9453-7c2102bc8d0b\",\"subtype\":\"Figure\",\"type\":\"Plot\"},\"ticker\":{\"id\":\"290f8180-a686-4146-bd2c-024e545dff68\",\"type\":\"BasicTicker\"}},\"id\":\"b39f2c35-aaba-492e-9ea6-a4705488bdc7\",\"type\":\"LinearAxis\"},{\"attributes\":{\"plot\":{\"id\":\"37e71113-bd17-450f-9bcb-dee12868d023\",\"subtype\":\"Figure\",\"type\":\"Plot\"}},\"id\":\"89896cb2-5978-449e-82c7-9663aba19004\",\"type\":\"ResetTool\"},{\"attributes\":{\"bottom_units\":\"screen\",\"fill_alpha\":{\"value\":0.5},\"fill_color\":{\"value\":\"lightgrey\"},\"left_units\":\"screen\",\"level\":\"overlay\",\"line_alpha\":{\"value\":1.0},\"line_color\":{\"value\":\"black\"},\"line_dash\":[4,4],\"line_width\":{\"value\":2},\"plot\":null,\"render_mode\":\"css\",\"right_units\":\"screen\",\"top_units\":\"screen\"},\"id\":\"2076728c-6203-46fd-a969-1a159d7a9a59\",\"type\":\"BoxAnnotation\"},{\"attributes\":{\"plot\":{\"id\":\"b45e4fb6-e065-478b-9453-7c2102bc8d0b\",\"subtype\":\"Figure\",\"type\":\"Plot\"}},\"id\":\"df6d27df-8270-475a-b06c-97e76ee1e32b\",\"type\":\"ResetTool\"},{\"attributes\":{\"data_source\":{\"id\":\"849118ed-92e1-4171-ac12-8b6e39fabdc6\",\"type\":\"ColumnDataSource\"},\"glyph\":{\"id\":\"c9e5d71c-dfe7-4eaf-9216-348366a6f953\",\"type\":\"Circle\"},\"hover_glyph\":null,\"nonselection_glyph\":{\"id\":\"e64b8c84-0fe1-4865-b12e-859c051e10fe\",\"type\":\"Circle\"},\"selection_glyph\":null},\"id\":\"7f940c6e-a009-4129-be25-cb9541d73ba9\",\"type\":\"GlyphRenderer\"},{\"attributes\":{},\"id\":\"ecb1984e-5076-44e4-a4e5-540cebdc65a6\",\"type\":\"BasicTicker\"},{\"attributes\":{\"plot\":{\"id\":\"decbaf11-281d-487b-a5f6-9731f6a7079c\",\"subtype\":\"Figure\",\"type\":\"Plot\"}},\"id\":\"f744bbd4-e268-492d-bd1d-736d1f634a8a\",\"type\":\"PreviewSaveTool\"},{\"attributes\":{\"plot\":{\"id\":\"ba975b2d-f2f9-4e16-a386-2eefb8f93aea\",\"subtype\":\"Figure\",\"type\":\"Plot\"},\"ticker\":{\"id\":\"d243fd9d-acd2-4ada-b5af-f9c49b0a33ac\",\"type\":\"BasicTicker\"}},\"id\":\"c5532b6a-20de-4a32-aeaa-1a84787244e7\",\"type\":\"Grid\"},{\"attributes\":{},\"id\":\"5596b977-693d-41eb-9e2a-3b62bf90ae6e\",\"type\":\"BasicTickFormatter\"},{\"attributes\":{\"fill_color\":{\"value\":\"#1f77b4\"},\"line_color\":{\"value\":\"#1f77b4\"},\"size\":{\"units\":\"screen\",\"value\":10},\"x\":{\"field\":\"x\"},\"y\":{\"field\":\"y\"}},\"id\":\"c9e5d71c-dfe7-4eaf-9216-348366a6f953\",\"type\":\"Circle\"},{\"attributes\":{\"line_color\":{\"value\":\"green\"},\"x\":{\"field\":\"x\"},\"y\":{\"field\":\"y\"}},\"id\":\"14c29389-14fe-476b-940b-a412d6b99973\",\"type\":\"Line\"},{\"attributes\":{\"formatter\":{\"id\":\"5596b977-693d-41eb-9e2a-3b62bf90ae6e\",\"type\":\"BasicTickFormatter\"},\"plot\":{\"id\":\"ba975b2d-f2f9-4e16-a386-2eefb8f93aea\",\"subtype\":\"Figure\",\"type\":\"Plot\"},\"ticker\":{\"id\":\"d243fd9d-acd2-4ada-b5af-f9c49b0a33ac\",\"type\":\"BasicTicker\"}},\"id\":\"bf53ed23-03bd-4d58-9d4f-659b2f4fd4da\",\"type\":\"LinearAxis\"},{\"attributes\":{\"fill_alpha\":{\"value\":0.1},\"fill_color\":{\"value\":\"#1f77b4\"},\"line_alpha\":{\"value\":0.1},\"line_color\":{\"value\":\"#1f77b4\"},\"line_width\":{\"value\":2},\"size\":{\"units\":\"screen\",\"value\":10},\"x\":{\"field\":\"x\"},\"y\":{\"field\":\"y\"}},\"id\":\"863b9446-6c86-4b6d-a74e-c1ec31c49238\",\"type\":\"X\"},{\"attributes\":{\"bottom_units\":\"screen\",\"fill_alpha\":{\"value\":0.5},\"fill_color\":{\"value\":\"lightgrey\"},\"left_units\":\"screen\",\"level\":\"overlay\",\"line_alpha\":{\"value\":1.0},\"line_color\":{\"value\":\"black\"},\"line_dash\":[4,4],\"line_width\":{\"value\":2},\"plot\":null,\"render_mode\":\"css\",\"right_units\":\"screen\",\"top_units\":\"screen\"},\"id\":\"60809235-7eea-4171-b255-9f08d82eb8eb\",\"type\":\"BoxAnnotation\"},{\"attributes\":{\"callback\":null},\"id\":\"34ee318d-ffac-47d4-84c0-bea29b2beacc\",\"type\":\"DataRange1d\"},{\"attributes\":{},\"id\":\"370c1bfb-b625-4095-a2c7-163269583523\",\"type\":\"BasicTickFormatter\"},{\"attributes\":{},\"id\":\"283a4091-35bf-43e0-983a-fc6c623578d2\",\"type\":\"BasicTickFormatter\"},{\"attributes\":{\"formatter\":{\"id\":\"54085abe-9ffc-4414-838c-79177f621ba5\",\"type\":\"BasicTickFormatter\"},\"plot\":{\"id\":\"b45e4fb6-e065-478b-9453-7c2102bc8d0b\",\"subtype\":\"Figure\",\"type\":\"Plot\"},\"ticker\":{\"id\":\"693f65a4-0713-4cb3-aa3b-9d2460c48d57\",\"type\":\"BasicTicker\"}},\"id\":\"f73d7f76-55e0-4b8e-8200-eb4bf0666e26\",\"type\":\"LinearAxis\"},{\"attributes\":{\"grid_line_color\":{\"value\":null},\"plot\":{\"id\":\"b45e4fb6-e065-478b-9453-7c2102bc8d0b\",\"subtype\":\"Figure\",\"type\":\"Plot\"},\"ticker\":{\"id\":\"290f8180-a686-4146-bd2c-024e545dff68\",\"type\":\"BasicTicker\"}},\"id\":\"d2f071e9-9ad2-47fa-ba15-e73e561e77d1\",\"type\":\"Grid\"},{\"attributes\":{\"plot\":{\"id\":\"b45e4fb6-e065-478b-9453-7c2102bc8d0b\",\"subtype\":\"Figure\",\"type\":\"Plot\"}},\"id\":\"6d2e2f01-033b-477c-a1ac-18e83a1c9293\",\"type\":\"PanTool\"},{\"attributes\":{\"plot\":{\"id\":\"7bbaa480-77b6-44a4-8679-a98d06b626d1\",\"subtype\":\"Figure\",\"type\":\"Plot\"}},\"id\":\"a7b5f3e8-1d63-4f64-9cb3-bf11123e2991\",\"type\":\"WheelZoomTool\"},{\"attributes\":{\"formatter\":{\"id\":\"ae661831-fd7a-4230-a74d-0e361a3068b8\",\"type\":\"BasicTickFormatter\"},\"plot\":{\"id\":\"37e71113-bd17-450f-9bcb-dee12868d023\",\"subtype\":\"Figure\",\"type\":\"Plot\"},\"ticker\":{\"id\":\"47afb860-6275-481d-92ba-8727a8b23e99\",\"type\":\"BasicTicker\"}},\"id\":\"c89b637e-0d9f-446a-840b-6c5a01985b25\",\"type\":\"LinearAxis\"},{\"attributes\":{\"line_color\":{\"value\":\"orange\"},\"line_dash\":[4,4],\"line_width\":{\"value\":2},\"x\":{\"field\":\"x\"},\"y\":{\"field\":\"y\"}},\"id\":\"69cf8523-f46e-439c-8f6e-ee8e4c36cddc\",\"type\":\"Line\"},{\"attributes\":{\"fill_color\":{\"value\":\"#1f77b4\"},\"line_color\":{\"value\":\"#1f77b4\"},\"x\":{\"field\":\"x\"},\"y\":{\"field\":\"y\"}},\"id\":\"c8ec1c8a-e427-4883-92d9-d74a02b8e1d1\",\"type\":\"Circle\"},{\"attributes\":{\"callback\":null},\"id\":\"e2775ab3-07ba-45e9-bfd8-b4da7cc345e7\",\"type\":\"DataRange1d\"},{\"attributes\":{\"plot\":{\"id\":\"b45e4fb6-e065-478b-9453-7c2102bc8d0b\",\"subtype\":\"Figure\",\"type\":\"Plot\"}},\"id\":\"1a48a581-8119-4631-89ff-0d8e7aa5c0b0\",\"type\":\"HelpTool\"},{\"attributes\":{\"band_fill_alpha\":{\"value\":0.1},\"band_fill_color\":{\"value\":\"navy\"},\"dimension\":1,\"plot\":{\"id\":\"37e71113-bd17-450f-9bcb-dee12868d023\",\"subtype\":\"Figure\",\"type\":\"Plot\"},\"ticker\":{\"id\":\"32fe1d0c-0bf2-4e09-a18d-06d5b7200d42\",\"type\":\"BasicTicker\"}},\"id\":\"2a98e517-c0f0-4626-a8f3-55918e5f2038\",\"type\":\"Grid\"},{\"attributes\":{\"plot\":{\"id\":\"37e71113-bd17-450f-9bcb-dee12868d023\",\"subtype\":\"Figure\",\"type\":\"Plot\"}},\"id\":\"998d86ff-58a1-4eef-aae2-8796454bac8d\",\"type\":\"PreviewSaveTool\"},{\"attributes\":{\"plot\":{\"id\":\"decbaf11-281d-487b-a5f6-9731f6a7079c\",\"subtype\":\"Figure\",\"type\":\"Plot\"}},\"id\":\"3b8d66fb-489e-4ff5-b05d-e98c2b0aadf4\",\"type\":\"ResetTool\"},{\"attributes\":{\"below\":[{\"id\":\"c89b637e-0d9f-446a-840b-6c5a01985b25\",\"type\":\"LinearAxis\"}],\"left\":[{\"id\":\"4b478851-d7a0-4621-bd57-592897bf08f5\",\"type\":\"LinearAxis\"}],\"plot_height\":400,\"plot_width\":400,\"renderers\":[{\"id\":\"c89b637e-0d9f-446a-840b-6c5a01985b25\",\"type\":\"LinearAxis\"},{\"id\":\"bd6c4a60-d430-4305-a3fb-9cd325e7ec78\",\"type\":\"Grid\"},{\"id\":\"4b478851-d7a0-4621-bd57-592897bf08f5\",\"type\":\"LinearAxis\"},{\"id\":\"2a98e517-c0f0-4626-a8f3-55918e5f2038\",\"type\":\"Grid\"},{\"id\":\"71c3a041-cb3e-474f-a30e-99ea1bcc4f0e\",\"type\":\"BoxAnnotation\"},{\"id\":\"7f940c6e-a009-4129-be25-cb9541d73ba9\",\"type\":\"GlyphRenderer\"}],\"tool_events\":{\"id\":\"e89e6337-7a28-4ea1-a244-55ffee28cf4d\",\"type\":\"ToolEvents\"},\"tools\":[{\"id\":\"f43d2329-e27c-4b8c-b790-087dc4202bc6\",\"type\":\"PanTool\"},{\"id\":\"4286095a-1b3f-4d17-8a85-97251057e2aa\",\"type\":\"WheelZoomTool\"},{\"id\":\"61ed55f6-b882-47ed-ab3a-1b76b14612c7\",\"type\":\"BoxZoomTool\"},{\"id\":\"998d86ff-58a1-4eef-aae2-8796454bac8d\",\"type\":\"PreviewSaveTool\"},{\"id\":\"2aac3bcd-9063-4f58-88ce-105b6ffee0d4\",\"type\":\"ResizeTool\"},{\"id\":\"89896cb2-5978-449e-82c7-9663aba19004\",\"type\":\"ResetTool\"},{\"id\":\"de2dde8b-4f36-4bf9-a44a-f65bc39b7ac8\",\"type\":\"HelpTool\"}],\"x_range\":{\"id\":\"6852bb8e-0212-4629-90c1-a65a2052e695\",\"type\":\"DataRange1d\"},\"y_range\":{\"id\":\"f1ea0011-1ef5-4da4-84fe-acccf36adf67\",\"type\":\"DataRange1d\"}},\"id\":\"37e71113-bd17-450f-9bcb-dee12868d023\",\"subtype\":\"Figure\",\"type\":\"Plot\"},{\"attributes\":{},\"id\":\"a8e488c3-4fc8-4561-bf63-4c9f4f839cf6\",\"type\":\"BasicTickFormatter\"},{\"attributes\":{\"overlay\":{\"id\":\"71c3a041-cb3e-474f-a30e-99ea1bcc4f0e\",\"type\":\"BoxAnnotation\"},\"plot\":{\"id\":\"37e71113-bd17-450f-9bcb-dee12868d023\",\"subtype\":\"Figure\",\"type\":\"Plot\"}},\"id\":\"61ed55f6-b882-47ed-ab3a-1b76b14612c7\",\"type\":\"BoxZoomTool\"},{\"attributes\":{\"callback\":null,\"column_names\":[\"y\",\"x\"],\"data\":{\"x\":[1,2,3,4,5],\"y\":[2,5,8,2,7]}},\"id\":\"9cf2909c-5697-4bbd-afa6-9217d526cad9\",\"type\":\"ColumnDataSource\"},{\"attributes\":{\"dimension\":1,\"plot\":{\"id\":\"c5f2a59c-8a06-43db-8610-36e8904f73b9\",\"subtype\":\"Figure\",\"type\":\"Plot\"},\"ticker\":{\"id\":\"f8d58616-d158-475f-98f3-39e5190e859f\",\"type\":\"BasicTicker\"}},\"id\":\"656effdc-4e07-460a-b90b-4ffaed920f80\",\"type\":\"Grid\"},{\"attributes\":{\"plot\":{\"id\":\"37e71113-bd17-450f-9bcb-dee12868d023\",\"subtype\":\"Figure\",\"type\":\"Plot\"}},\"id\":\"2aac3bcd-9063-4f58-88ce-105b6ffee0d4\",\"type\":\"ResizeTool\"},{\"attributes\":{\"fill_color\":{\"value\":\"olive\"},\"line_color\":{\"value\":\"olive\"},\"size\":{\"units\":\"screen\",\"value\":12},\"x\":{\"field\":\"x\"},\"y\":{\"field\":\"y\"}},\"id\":\"52bfd11c-3d1c-4a5a-aaae-bce6433532ed\",\"type\":\"Asterisk\"},{\"attributes\":{\"plot\":{\"id\":\"decbaf11-281d-487b-a5f6-9731f6a7079c\",\"subtype\":\"Figure\",\"type\":\"Plot\"}},\"id\":\"65fed729-d594-43de-a002-dae4d5c1bc10\",\"type\":\"WheelZoomTool\"},{\"attributes\":{\"fill_alpha\":{\"value\":0.1},\"fill_color\":{\"value\":\"#1f77b4\"},\"line_alpha\":{\"value\":0.1},\"line_color\":{\"value\":\"#1f77b4\"},\"size\":{\"units\":\"screen\",\"value\":10},\"x\":{\"field\":\"x\"},\"y\":{\"field\":\"y\"}},\"id\":\"a6b16b50-dc1c-473d-a692-527c11fac1f6\",\"type\":\"Circle\"},{\"attributes\":{\"plot\":{\"id\":\"b45e4fb6-e065-478b-9453-7c2102bc8d0b\",\"subtype\":\"Figure\",\"type\":\"Plot\"}},\"id\":\"2fcd57a5-98be-4712-a09a-54a9309b9b85\",\"type\":\"ResizeTool\"},{\"attributes\":{},\"id\":\"8bce81d3-ace7-4573-b59f-d63dc882ea4a\",\"type\":\"BasicTickFormatter\"},{\"attributes\":{\"overlay\":{\"id\":\"44b79795-89da-4660-8a27-46dc88fd7efb\",\"type\":\"BoxAnnotation\"},\"plot\":{\"id\":\"7bbaa480-77b6-44a4-8679-a98d06b626d1\",\"subtype\":\"Figure\",\"type\":\"Plot\"}},\"id\":\"577a8fc4-b7e8-4232-b388-a7e608a20783\",\"type\":\"BoxZoomTool\"},{\"attributes\":{\"plot\":{\"id\":\"ba975b2d-f2f9-4e16-a386-2eefb8f93aea\",\"subtype\":\"Figure\",\"type\":\"Plot\"}},\"id\":\"85cfbd60-13a8-4c07-a8e3-0e188831f47c\",\"type\":\"PreviewSaveTool\"},{\"attributes\":{\"callback\":null},\"id\":\"f1ea0011-1ef5-4da4-84fe-acccf36adf67\",\"type\":\"DataRange1d\"},{\"attributes\":{},\"id\":\"6d4d6322-8d1a-4c73-bc00-5b2c04288d3d\",\"type\":\"BasicTickFormatter\"},{\"attributes\":{\"data_source\":{\"id\":\"3833d0e0-bdda-4c9a-8e89-66c1f8ae91e6\",\"type\":\"ColumnDataSource\"},\"glyph\":{\"id\":\"c8ec1c8a-e427-4883-92d9-d74a02b8e1d1\",\"type\":\"Circle\"},\"hover_glyph\":null,\"nonselection_glyph\":{\"id\":\"aca58c51-5437-4893-9dd0-c6f30c38dfbd\",\"type\":\"Circle\"},\"selection_glyph\":null},\"id\":\"3372aa03-68d5-4c3d-bf3e-72f1dd9662b7\",\"type\":\"GlyphRenderer\"},{\"attributes\":{\"plot\":{\"id\":\"37e71113-bd17-450f-9bcb-dee12868d023\",\"subtype\":\"Figure\",\"type\":\"Plot\"}},\"id\":\"de2dde8b-4f36-4bf9-a44a-f65bc39b7ac8\",\"type\":\"HelpTool\"},{\"attributes\":{},\"id\":\"a18adf31-8c5c-4455-949c-36d96d417913\",\"type\":\"BasicTickFormatter\"},{\"attributes\":{\"below\":[{\"id\":\"8f74fc62-ca0d-49c9-8b43-1700f0b26eed\",\"type\":\"LinearAxis\"}],\"left\":[{\"id\":\"30b8f4ca-0d41-4d33-8d1f-1d84d3c02364\",\"type\":\"LinearAxis\"}],\"plot_height\":400,\"plot_width\":400,\"renderers\":[{\"id\":\"8f74fc62-ca0d-49c9-8b43-1700f0b26eed\",\"type\":\"LinearAxis\"},{\"id\":\"64d7aaf4-3889-450b-ad32-ccc51cd8f30b\",\"type\":\"Grid\"},{\"id\":\"30b8f4ca-0d41-4d33-8d1f-1d84d3c02364\",\"type\":\"LinearAxis\"},{\"id\":\"656effdc-4e07-460a-b90b-4ffaed920f80\",\"type\":\"Grid\"},{\"id\":\"921c6633-688a-431c-9952-ecb538a1ab6a\",\"type\":\"BoxAnnotation\"},{\"id\":\"8c640b9e-5b0a-418c-b0e1-c38a38c9e144\",\"type\":\"GlyphRenderer\"}],\"tool_events\":{\"id\":\"8a45b4e1-7985-4090-a20c-be3d99f7c8c4\",\"type\":\"ToolEvents\"},\"tools\":[{\"id\":\"6d6197f1-3acb-4f71-a7fa-d00ab9fb6572\",\"type\":\"PanTool\"},{\"id\":\"80a75b75-bbf0-454a-8dcd-3dae6ea5bf5c\",\"type\":\"WheelZoomTool\"},{\"id\":\"06aa3c2f-e9d8-4afc-85cb-8e8a91028479\",\"type\":\"BoxZoomTool\"},{\"id\":\"f32f45bc-ec7d-4309-a288-a5650d5c8225\",\"type\":\"PreviewSaveTool\"},{\"id\":\"3c5f643d-2285-4569-a753-cc33068df398\",\"type\":\"ResizeTool\"},{\"id\":\"0723e1c9-6efe-4aa6-9cdd-aa71705a755b\",\"type\":\"ResetTool\"},{\"id\":\"de2a22f9-24fb-467d-94c7-ae8c2d938512\",\"type\":\"HelpTool\"}],\"x_range\":{\"id\":\"41b9f656-b099-4d57-a13e-bd21ce9bf9a7\",\"type\":\"DataRange1d\"},\"y_range\":{\"id\":\"34ee318d-ffac-47d4-84c0-bea29b2beacc\",\"type\":\"DataRange1d\"}},\"id\":\"c5f2a59c-8a06-43db-8610-36e8904f73b9\",\"subtype\":\"Figure\",\"type\":\"Plot\"},{\"attributes\":{\"plot\":{\"id\":\"decbaf11-281d-487b-a5f6-9731f6a7079c\",\"subtype\":\"Figure\",\"type\":\"Plot\"},\"ticker\":{\"id\":\"98a38870-518a-4769-93a6-7d8aa2e6159e\",\"type\":\"BasicTicker\"}},\"id\":\"69969dde-74a1-4b42-9c4b-0ba7d01eed61\",\"type\":\"Grid\"},{\"attributes\":{\"bottom_units\":\"screen\",\"fill_alpha\":{\"value\":0.5},\"fill_color\":{\"value\":\"lightgrey\"},\"left_units\":\"screen\",\"level\":\"overlay\",\"line_alpha\":{\"value\":1.0},\"line_color\":{\"value\":\"black\"},\"line_dash\":[4,4],\"line_width\":{\"value\":2},\"plot\":null,\"render_mode\":\"css\",\"right_units\":\"screen\",\"top_units\":\"screen\"},\"id\":\"44b79795-89da-4660-8a27-46dc88fd7efb\",\"type\":\"BoxAnnotation\"},{\"attributes\":{\"line_alpha\":{\"value\":0.1},\"line_color\":{\"value\":\"#1f77b4\"},\"line_dash\":[4,4],\"line_width\":{\"value\":2},\"x\":{\"field\":\"x\"},\"y\":{\"field\":\"y\"}},\"id\":\"d4e10d77-e892-434b-bd94-6ef99773a56e\",\"type\":\"Line\"},{\"attributes\":{},\"id\":\"693f65a4-0713-4cb3-aa3b-9d2460c48d57\",\"type\":\"BasicTicker\"},{\"attributes\":{\"plot\":{\"id\":\"b45e4fb6-e065-478b-9453-7c2102bc8d0b\",\"subtype\":\"Figure\",\"type\":\"Plot\"}},\"id\":\"bacb29fb-e951-4ab3-a7fe-b302a60124f1\",\"type\":\"WheelZoomTool\"},{\"attributes\":{\"callback\":null,\"column_names\":[\"y\",\"x\"],\"data\":{\"x\":[1,2,3,4,5],\"y\":[2,5,8,2,7]}},\"id\":\"849118ed-92e1-4171-ac12-8b6e39fabdc6\",\"type\":\"ColumnDataSource\"},{\"attributes\":{\"callback\":null},\"id\":\"e781ee47-950c-4efd-a30b-cf2a0751fa71\",\"type\":\"DataRange1d\"},{\"attributes\":{\"data_source\":{\"id\":\"fce1c670-2c8b-4b91-a35c-5ac66930a11d\",\"type\":\"ColumnDataSource\"},\"glyph\":{\"id\":\"69cf8523-f46e-439c-8f6e-ee8e4c36cddc\",\"type\":\"Line\"},\"hover_glyph\":null,\"nonselection_glyph\":{\"id\":\"d4e10d77-e892-434b-bd94-6ef99773a56e\",\"type\":\"Line\"},\"selection_glyph\":null},\"id\":\"932903f8-e54a-4f65-8ce4-984e93e57743\",\"type\":\"GlyphRenderer\"},{\"attributes\":{},\"id\":\"47afb860-6275-481d-92ba-8727a8b23e99\",\"type\":\"BasicTicker\"},{\"attributes\":{\"dimension\":1,\"plot\":{\"id\":\"7bbaa480-77b6-44a4-8679-a98d06b626d1\",\"subtype\":\"Figure\",\"type\":\"Plot\"},\"ticker\":{\"id\":\"b79d6cb3-c548-49e2-96da-779b49ecd7d3\",\"type\":\"BasicTicker\"}},\"id\":\"6c8fee04-465b-4c03-9914-b854c13b0aa4\",\"type\":\"Grid\"},{\"attributes\":{\"plot\":{\"id\":\"c5f2a59c-8a06-43db-8610-36e8904f73b9\",\"subtype\":\"Figure\",\"type\":\"Plot\"}},\"id\":\"0723e1c9-6efe-4aa6-9cdd-aa71705a755b\",\"type\":\"ResetTool\"},{\"attributes\":{\"callback\":null},\"id\":\"46dab146-19b1-4d1a-a4e0-94c3f1ff074a\",\"type\":\"DataRange1d\"},{\"attributes\":{\"data_source\":{\"id\":\"44df92e4-73fe-49e2-99b4-f702fba03eb4\",\"type\":\"ColumnDataSource\"},\"glyph\":{\"id\":\"14c29389-14fe-476b-940b-a412d6b99973\",\"type\":\"Line\"},\"hover_glyph\":null,\"nonselection_glyph\":{\"id\":\"e3ca2e9e-130a-475e-b4f3-0b7bd9170a26\",\"type\":\"Line\"},\"selection_glyph\":null},\"id\":\"bde2ae9d-9eff-445b-8eda-3ccc8a2db557\",\"type\":\"GlyphRenderer\"},{\"attributes\":{\"callback\":null,\"column_names\":[\"y\",\"x\"],\"data\":{\"x\":[1,2,3,4,5],\"y\":[2,5,8,2,7]}},\"id\":\"2ae25bb6-752d-4c67-ab14-d8b492bd3afc\",\"type\":\"ColumnDataSource\"},{\"attributes\":{\"plot\":{\"id\":\"ba975b2d-f2f9-4e16-a386-2eefb8f93aea\",\"subtype\":\"Figure\",\"type\":\"Plot\"}},\"id\":\"940cd2ab-d7e2-46d0-b8dd-de1a1b26f043\",\"type\":\"HelpTool\"},{\"attributes\":{\"grid_line_color\":{\"value\":null},\"plot\":{\"id\":\"37e71113-bd17-450f-9bcb-dee12868d023\",\"subtype\":\"Figure\",\"type\":\"Plot\"},\"ticker\":{\"id\":\"47afb860-6275-481d-92ba-8727a8b23e99\",\"type\":\"BasicTicker\"}},\"id\":\"bd6c4a60-d430-4305-a3fb-9cd325e7ec78\",\"type\":\"Grid\"},{\"attributes\":{\"bottom_units\":\"screen\",\"fill_alpha\":{\"value\":0.5},\"fill_color\":{\"value\":\"lightgrey\"},\"left_units\":\"screen\",\"level\":\"overlay\",\"line_alpha\":{\"value\":1.0},\"line_color\":{\"value\":\"black\"},\"line_dash\":[4,4],\"line_width\":{\"value\":2},\"plot\":null,\"render_mode\":\"css\",\"right_units\":\"screen\",\"top_units\":\"screen\"},\"id\":\"fb8cae12-8aa2-43bb-b983-10a9de939714\",\"type\":\"BoxAnnotation\"},{\"attributes\":{\"plot\":{\"id\":\"ba975b2d-f2f9-4e16-a386-2eefb8f93aea\",\"subtype\":\"Figure\",\"type\":\"Plot\"}},\"id\":\"93bb3f07-cb2a-4481-b7a8-c797cde89f5a\",\"type\":\"ResizeTool\"},{\"attributes\":{\"below\":[{\"id\":\"67c72804-36d6-4577-9cc8-0dc2036fe371\",\"type\":\"LinearAxis\"}],\"left\":[{\"id\":\"924a37f0-43bc-4b65-8596-96d0923ad148\",\"type\":\"LinearAxis\"}],\"renderers\":[{\"id\":\"67c72804-36d6-4577-9cc8-0dc2036fe371\",\"type\":\"LinearAxis\"},{\"id\":\"0ed12b8d-2c3d-4f16-b685-5c9329751bdc\",\"type\":\"Grid\"},{\"id\":\"924a37f0-43bc-4b65-8596-96d0923ad148\",\"type\":\"LinearAxis\"},{\"id\":\"6c8fee04-465b-4c03-9914-b854c13b0aa4\",\"type\":\"Grid\"},{\"id\":\"44b79795-89da-4660-8a27-46dc88fd7efb\",\"type\":\"BoxAnnotation\"},{\"id\":\"1bf67a13-0f15-4224-97d2-be523f6b559b\",\"type\":\"Legend\"},{\"id\":\"3372aa03-68d5-4c3d-bf3e-72f1dd9662b7\",\"type\":\"GlyphRenderer\"},{\"id\":\"7e318aae-a841-4f2e-9cb8-34bdd37fb8ff\",\"type\":\"GlyphRenderer\"},{\"id\":\"932903f8-e54a-4f65-8ce4-984e93e57743\",\"type\":\"GlyphRenderer\"},{\"id\":\"bde2ae9d-9eff-445b-8eda-3ccc8a2db557\",\"type\":\"GlyphRenderer\"},{\"id\":\"e0b17508-a932-4f5a-a2fa-0c779c001a7f\",\"type\":\"GlyphRenderer\"}],\"tool_events\":{\"id\":\"ab446943-8d82-4641-9128-cd045c8aecee\",\"type\":\"ToolEvents\"},\"tools\":[{\"id\":\"4ec170a8-cffc-4635-b2a5-6178eba3cd4e\",\"type\":\"PanTool\"},{\"id\":\"a7b5f3e8-1d63-4f64-9cb3-bf11123e2991\",\"type\":\"WheelZoomTool\"},{\"id\":\"577a8fc4-b7e8-4232-b388-a7e608a20783\",\"type\":\"BoxZoomTool\"},{\"id\":\"fed76b12-dadc-4be7-8ee5-acc6c4380ded\",\"type\":\"PreviewSaveTool\"},{\"id\":\"840aab06-076c-4bf4-b919-9311d9761a38\",\"type\":\"ResizeTool\"},{\"id\":\"fbbc9d34-4545-465d-a3ca-7b5b7f6bab04\",\"type\":\"ResetTool\"},{\"id\":\"0734c25d-4757-4f17-96b0-9511643b3f40\",\"type\":\"HelpTool\"}],\"x_range\":{\"id\":\"e781ee47-950c-4efd-a30b-cf2a0751fa71\",\"type\":\"DataRange1d\"},\"y_range\":{\"id\":\"46dab146-19b1-4d1a-a4e0-94c3f1ff074a\",\"type\":\"DataRange1d\"}},\"id\":\"7bbaa480-77b6-44a4-8679-a98d06b626d1\",\"subtype\":\"Figure\",\"type\":\"Plot\"},{\"attributes\":{\"data_source\":{\"id\":\"6d04417d-a8bb-46b6-ad0e-4851ba47ee61\",\"type\":\"ColumnDataSource\"},\"glyph\":{\"id\":\"e213c191-b3e1-4649-8a29-882e371c7f6a\",\"type\":\"Line\"},\"hover_glyph\":null,\"nonselection_glyph\":{\"id\":\"f8ce5fc6-55fd-43d5-8a6b-54c7d7c7aded\",\"type\":\"Line\"},\"selection_glyph\":null},\"id\":\"7e318aae-a841-4f2e-9cb8-34bdd37fb8ff\",\"type\":\"GlyphRenderer\"},{\"attributes\":{},\"id\":\"d980c33a-0d11-42fe-9576-f36d16319738\",\"type\":\"BasicTicker\"},{\"attributes\":{\"callback\":null,\"column_names\":[\"x\",\"y\"],\"data\":{\"x\":[0.0,0.12693303650867852,0.25386607301735703,0.3807991095260356,0.5077321460347141,0.6346651825433925,0.7615982190520711,0.8885312555607496,1.0154642920694281,1.1423973285781066,1.269330365086785,1.3962634015954636,1.5231964381041423,1.6501294746128208,1.7770625111214993,1.9039955476301778,2.0309285841388562,2.1578616206475347,2.284794657156213,2.4117276936648917,2.53866073017357,2.6655937666822487,2.792526803190927,2.9194598396996057,3.0463928762082846,3.173325912716963,3.3002589492256416,3.42719198573432,3.5541250222429985,3.681058058751677,3.8079910952603555,3.934924131769034,4.0618571682777125,4.188790204786391,4.3157232412950695,4.442656277803748,4.569589314312426,4.696522350821105,4.823455387329783,4.950388423838462,5.07732146034714,5.204254496855819,5.331187533364497,5.458120569873176,5.585053606381854,5.711986642890533,5.838919679399211,5.96585271590789,6.092785752416569,6.219718788925247,6.346651825433926,6.473584861942604,6.600517898451283,6.727450934959961,6.85438397146864,6.981317007977318,7.108250044485997,7.235183080994675,7.362116117503354,7.489049154012032,7.615982190520711,7.742915227029389,7.869848263538068,7.996781300046746,8.123714336555425,8.250647373064103,8.377580409572783,8.50451344608146,8.631446482590139,8.758379519098817,8.885312555607497,9.012245592116175,9.139178628624853,9.266111665133531,9.39304470164221,9.519977738150889,9.646910774659567,9.773843811168245,9.900776847676925,10.027709884185603,10.15464292069428,10.28157595720296,10.408508993711639,10.535442030220317,10.662375066728995,10.789308103237675,10.916241139746353,11.04317417625503,11.170107212763709,11.297040249272388,11.423973285781067,11.550906322289745,11.677839358798423,11.804772395307102,11.93170543181578,12.058638468324459,12.185571504833138,12.312504541341816,12.439437577850494,12.566370614359172],\"y\":[0.0,0.25318490714749853,0.5022959743621584,0.7433249113206551,0.9723934722009374,1.1858158581092808,1.380158022964224,1.5522929285835136,1.6994508598990288,1.8192639907090367,1.9098044828881477,1.969615506024416,1.997734678366016,1.9937095519038848,1.9576048924295575,1.890001637429337,1.7919875485826717,1.6651397092695428,1.5114991487085168,1.3335380010325832,1.1341197277255417,0.916453043454821,0.6840402866513378,0.4406210655730816,0.19011208660836487,-0.0634558669961357,-0.31600279194670017,-0.5634651136828597,-0.8018610708132277,-1.0273547831468128,-1.2363179724412106,-1.4253883427577256,-1.5915236810616642,-1.7320508075688776,-1.8447085882091627,-1.9276843171198843,-1.9796428837618654,-1.9997482553477501,-1.9876769289225082,-1.9436231366470833,-1.8682957205302135,-1.762906726895164,-1.629151904100672,-1.4691834173150662,-1.2855752193730792,-1.0812816349111949,-0.8595898241783438,-0.6240668913969741,-0.3785024887208195,-0.12684783931312904,0.12684783931312982,0.37850248872082026,0.6240668913969749,0.8595898241783431,1.0812816349111958,1.2855752193730785,1.4691834173150669,1.629151904100671,1.7629067268951641,1.8682957205302133,1.9436231366470835,1.9876769289225082,1.9997482553477501,1.9796428837618656,1.927684317119884,1.8447085882091632,1.7320508075688765,1.5915236810616638,1.4253883427577259,1.2363179724412112,1.0273547831468113,0.8018610708132269,0.5634651136828598,0.3160027919467011,0.06345586699613402,-0.19011208660836568,-0.4406210655730807,-0.684040286651336,-0.9164530434548217,-1.1341197277255417,-1.3335380010325826,-1.5114991487085176,-1.6651397092695432,-1.7919875485826717,-1.8900016374293367,-1.9576048924295577,-1.9937095519038848,-1.997734678366016,-1.9696155060244163,-1.9098044828881473,-1.8192639907090367,-1.699450859899029,-1.5522929285835145,-1.3801580229642232,-1.1858158581092808,-0.972393472200938,-0.7433249113206534,-0.5022959743621576,-0.2531849071474986,-9.797174393178826e-16]}},\"id\":\"fce1c670-2c8b-4b91-a35c-5ac66930a11d\",\"type\":\"ColumnDataSource\"},{\"attributes\":{\"formatter\":{\"id\":\"6d4d6322-8d1a-4c73-bc00-5b2c04288d3d\",\"type\":\"BasicTickFormatter\"},\"major_label_orientation\":0.7853981633974483,\"plot\":{\"id\":\"decbaf11-281d-487b-a5f6-9731f6a7079c\",\"subtype\":\"Figure\",\"type\":\"Plot\"},\"ticker\":{\"id\":\"98a38870-518a-4769-93a6-7d8aa2e6159e\",\"type\":\"BasicTicker\"}},\"id\":\"69369a2a-fb62-48a6-899d-e4b3f26b71d6\",\"type\":\"LinearAxis\"},{\"attributes\":{\"plot\":{\"id\":\"ba975b2d-f2f9-4e16-a386-2eefb8f93aea\",\"subtype\":\"Figure\",\"type\":\"Plot\"}},\"id\":\"0ece50ed-813c-4964-b3df-c9ba188a46b9\",\"type\":\"ResetTool\"},{\"attributes\":{\"fill_alpha\":{\"value\":0.1},\"fill_color\":{\"value\":\"#1f77b4\"},\"line_alpha\":{\"value\":0.1},\"line_color\":{\"value\":\"#1f77b4\"},\"x\":{\"field\":\"x\"},\"y\":{\"field\":\"y\"}},\"id\":\"aca58c51-5437-4893-9dd0-c6f30c38dfbd\",\"type\":\"Circle\"},{\"attributes\":{\"callback\":null,\"column_names\":[\"y\",\"x\"],\"data\":{\"x\":[0.0,0.12693303650867852,0.25386607301735703,0.3807991095260356,0.5077321460347141,0.6346651825433925,0.7615982190520711,0.8885312555607496,1.0154642920694281,1.1423973285781066,1.269330365086785,1.3962634015954636,1.5231964381041423,1.6501294746128208,1.7770625111214993,1.9039955476301778,2.0309285841388562,2.1578616206475347,2.284794657156213,2.4117276936648917,2.53866073017357,2.6655937666822487,2.792526803190927,2.9194598396996057,3.0463928762082846,3.173325912716963,3.3002589492256416,3.42719198573432,3.5541250222429985,3.681058058751677,3.8079910952603555,3.934924131769034,4.0618571682777125,4.188790204786391,4.3157232412950695,4.442656277803748,4.569589314312426,4.696522350821105,4.823455387329783,4.950388423838462,5.07732146034714,5.204254496855819,5.331187533364497,5.458120569873176,5.585053606381854,5.711986642890533,5.838919679399211,5.96585271590789,6.092785752416569,6.219718788925247,6.346651825433926,6.473584861942604,6.600517898451283,6.727450934959961,6.85438397146864,6.981317007977318,7.108250044485997,7.235183080994675,7.362116117503354,7.489049154012032,7.615982190520711,7.742915227029389,7.869848263538068,7.996781300046746,8.123714336555425,8.250647373064103,8.377580409572783,8.50451344608146,8.631446482590139,8.758379519098817,8.885312555607497,9.012245592116175,9.139178628624853,9.266111665133531,9.39304470164221,9.519977738150889,9.646910774659567,9.773843811168245,9.900776847676925,10.027709884185603,10.15464292069428,10.28157595720296,10.408508993711639,10.535442030220317,10.662375066728995,10.789308103237675,10.916241139746353,11.04317417625503,11.170107212763709,11.297040249272388,11.423973285781067,11.550906322289745,11.677839358798423,11.804772395307102,11.93170543181578,12.058638468324459,12.185571504833138,12.312504541341816,12.439437577850494,12.566370614359172],\"y\":[0.0,0.3797773607212478,0.7534439615432377,1.1149873669809827,1.4585902083014062,1.7787237871639212,2.070237034446336,2.3284393928752705,2.549176289848543,2.728895986063555,2.8647067243322217,2.954423259036624,2.9966020175490238,2.990564327855827,2.936407338644336,2.8350024561440055,2.6879813228740077,2.4977095639043143,2.2672487230627754,2.000307001548875,1.7011795915883126,1.3746795651822317,1.0260604299770066,0.6609315983596225,0.2851681299125473,-0.09518380049420355,-0.4740041879200503,-0.8451976705242895,-1.2027916062198414,-1.5410321747202191,-1.8544769586618157,-2.1380825141365882,-2.387285521592496,-2.5980762113533165,-2.767062882313744,-2.8915264756798265,-2.969464325642798,-2.999622383021625,-2.9815153933837624,-2.915434704970625,-2.8024435807953205,-2.644360090342746,-2.443727856151008,-2.2037751259725993,-1.9283628290596186,-1.6219224523667923,-1.2893847362675157,-0.9361003370954613,-0.5677537330812292,-0.19027175896969356,0.19027175896969473,0.5677537330812303,0.9361003370954624,1.2893847362675146,1.6219224523667937,1.9283628290596178,2.2037751259726,2.4437278561510065,2.6443600903427464,2.80244358079532,2.9154347049706253,2.9815153933837624,2.999622383021625,2.9694643256427984,2.891526475679826,2.767062882313745,2.5980762113533147,2.3872855215924957,2.1380825141365887,1.8544769586618168,1.541032174720217,1.2027916062198403,0.8451976705242896,0.47400418792005167,0.09518380049420103,-0.28516812991254853,-0.660931598359621,-1.026060429977004,-1.3746795651822326,-1.7011795915883126,-2.0003070015488738,-2.2672487230627763,-2.4977095639043148,-2.6879813228740077,-2.835002456144005,-2.9364073386443366,-2.990564327855827,-2.9966020175490238,-2.9544232590366244,-2.864706724332221,-2.728895986063555,-2.5491762898485435,-2.328439392875272,-2.070237034446335,-1.7787237871639212,-1.4585902083014068,-1.11498736698098,-0.7534439615432363,-0.3797773607212479,-1.4695761589768238e-15]}},\"id\":\"cde89b7b-e96e-4d5e-874b-000ae9309dff\",\"type\":\"ColumnDataSource\"},{\"attributes\":{\"plot\":{\"id\":\"c5f2a59c-8a06-43db-8610-36e8904f73b9\",\"subtype\":\"Figure\",\"type\":\"Plot\"}},\"id\":\"80a75b75-bbf0-454a-8dcd-3dae6ea5bf5c\",\"type\":\"WheelZoomTool\"},{\"attributes\":{\"fill_alpha\":{\"value\":0.1},\"fill_color\":{\"value\":\"#1f77b4\"},\"line_alpha\":{\"value\":0.1},\"line_color\":{\"value\":\"#1f77b4\"},\"size\":{\"units\":\"screen\",\"value\":12},\"x\":{\"field\":\"x\"},\"y\":{\"field\":\"y\"}},\"id\":\"204b4ecb-1755-4d2f-9124-05be3ebab38d\",\"type\":\"Asterisk\"},{\"attributes\":{\"plot\":{\"id\":\"decbaf11-281d-487b-a5f6-9731f6a7079c\",\"subtype\":\"Figure\",\"type\":\"Plot\"}},\"id\":\"d6f72b26-cce3-469a-b8f8-344c11b78d01\",\"type\":\"HelpTool\"},{\"attributes\":{\"plot\":{\"id\":\"7bbaa480-77b6-44a4-8679-a98d06b626d1\",\"subtype\":\"Figure\",\"type\":\"Plot\"}},\"id\":\"840aab06-076c-4bf4-b919-9311d9761a38\",\"type\":\"ResizeTool\"},{\"attributes\":{\"callback\":null},\"id\":\"a572e27f-a2c2-4bff-9db7-69fb20ace840\",\"type\":\"DataRange1d\"},{\"attributes\":{\"callback\":null},\"id\":\"f45b552d-7ebc-48c1-b534-d0e5be6a0b71\",\"type\":\"DataRange1d\"},{\"attributes\":{\"overlay\":{\"id\":\"60809235-7eea-4171-b255-9f08d82eb8eb\",\"type\":\"BoxAnnotation\"},\"plot\":{\"id\":\"ba975b2d-f2f9-4e16-a386-2eefb8f93aea\",\"subtype\":\"Figure\",\"type\":\"Plot\"}},\"id\":\"620ce037-a1c8-49e2-97d4-395f54e0c878\",\"type\":\"BoxZoomTool\"},{\"attributes\":{\"data_source\":{\"id\":\"cde89b7b-e96e-4d5e-874b-000ae9309dff\",\"type\":\"ColumnDataSource\"},\"glyph\":{\"id\":\"d0f405ce-1170-4d81-90f8-57753c4a8643\",\"type\":\"Square\"},\"hover_glyph\":null,\"nonselection_glyph\":{\"id\":\"c70054d0-0c89-49e9-b217-0b831f64102e\",\"type\":\"Square\"},\"selection_glyph\":null},\"id\":\"e0b17508-a932-4f5a-a2fa-0c779c001a7f\",\"type\":\"GlyphRenderer\"},{\"attributes\":{\"plot\":{\"id\":\"7bbaa480-77b6-44a4-8679-a98d06b626d1\",\"subtype\":\"Figure\",\"type\":\"Plot\"},\"ticker\":{\"id\":\"2d1df763-35cd-4388-b98b-3a4413c37be1\",\"type\":\"BasicTicker\"}},\"id\":\"0ed12b8d-2c3d-4f16-b685-5c9329751bdc\",\"type\":\"Grid\"},{\"attributes\":{\"fill_color\":{\"value\":\"#1f77b4\"},\"line_color\":{\"value\":\"#1f77b4\"},\"size\":{\"units\":\"screen\",\"value\":10},\"x\":{\"field\":\"x\"},\"y\":{\"field\":\"y\"}},\"id\":\"6728a2a6-789d-489b-9799-7cad90230613\",\"type\":\"Circle\"},{\"attributes\":{\"plot\":{\"id\":\"decbaf11-281d-487b-a5f6-9731f6a7079c\",\"subtype\":\"Figure\",\"type\":\"Plot\"}},\"id\":\"77ec29d8-665b-4fd8-b175-64bdb46b4943\",\"type\":\"PanTool\"},{\"attributes\":{\"plot\":{\"id\":\"c5f2a59c-8a06-43db-8610-36e8904f73b9\",\"subtype\":\"Figure\",\"type\":\"Plot\"},\"ticker\":{\"id\":\"d9fd46a8-5d2c-4898-a32d-cf880d34eb43\",\"type\":\"BasicTicker\"}},\"id\":\"64d7aaf4-3889-450b-ad32-ccc51cd8f30b\",\"type\":\"Grid\"},{\"attributes\":{},\"id\":\"2d1df763-35cd-4388-b98b-3a4413c37be1\",\"type\":\"BasicTicker\"},{\"attributes\":{\"formatter\":{\"id\":\"28d8e534-dcdb-4967-81ac-1770041cf3e0\",\"type\":\"BasicTickFormatter\"},\"plot\":{\"id\":\"7bbaa480-77b6-44a4-8679-a98d06b626d1\",\"subtype\":\"Figure\",\"type\":\"Plot\"},\"ticker\":{\"id\":\"b79d6cb3-c548-49e2-96da-779b49ecd7d3\",\"type\":\"BasicTicker\"}},\"id\":\"924a37f0-43bc-4b65-8596-96d0923ad148\",\"type\":\"LinearAxis\"},{\"attributes\":{\"callback\":null,\"column_names\":[\"y\",\"x\"],\"data\":{\"x\":[0.0,0.12693303650867852,0.25386607301735703,0.3807991095260356,0.5077321460347141,0.6346651825433925,0.7615982190520711,0.8885312555607496,1.0154642920694281,1.1423973285781066,1.269330365086785,1.3962634015954636,1.5231964381041423,1.6501294746128208,1.7770625111214993,1.9039955476301778,2.0309285841388562,2.1578616206475347,2.284794657156213,2.4117276936648917,2.53866073017357,2.6655937666822487,2.792526803190927,2.9194598396996057,3.0463928762082846,3.173325912716963,3.3002589492256416,3.42719198573432,3.5541250222429985,3.681058058751677,3.8079910952603555,3.934924131769034,4.0618571682777125,4.188790204786391,4.3157232412950695,4.442656277803748,4.569589314312426,4.696522350821105,4.823455387329783,4.950388423838462,5.07732146034714,5.204254496855819,5.331187533364497,5.458120569873176,5.585053606381854,5.711986642890533,5.838919679399211,5.96585271590789,6.092785752416569,6.219718788925247,6.346651825433926,6.473584861942604,6.600517898451283,6.727450934959961,6.85438397146864,6.981317007977318,7.108250044485997,7.235183080994675,7.362116117503354,7.489049154012032,7.615982190520711,7.742915227029389,7.869848263538068,7.996781300046746,8.123714336555425,8.250647373064103,8.377580409572783,8.50451344608146,8.631446482590139,8.758379519098817,8.885312555607497,9.012245592116175,9.139178628624853,9.266111665133531,9.39304470164221,9.519977738150889,9.646910774659567,9.773843811168245,9.900776847676925,10.027709884185603,10.15464292069428,10.28157595720296,10.408508993711639,10.535442030220317,10.662375066728995,10.789308103237675,10.916241139746353,11.04317417625503,11.170107212763709,11.297040249272388,11.423973285781067,11.550906322289745,11.677839358798423,11.804772395307102,11.93170543181578,12.058638468324459,12.185571504833138,12.312504541341816,12.439437577850494,12.566370614359172],\"y\":[0.0,0.12659245357374926,0.2511479871810792,0.3716624556603276,0.4861967361004687,0.5929079290546404,0.690079011482112,0.7761464642917568,0.8497254299495144,0.9096319953545183,0.9549022414440739,0.984807753012208,0.998867339183008,0.9968547759519424,0.9788024462147787,0.9450008187146685,0.8959937742913359,0.8325698546347714,0.7557495743542584,0.6667690005162916,0.5670598638627709,0.4582265217274105,0.3420201433256689,0.2203105327865408,0.09505604330418244,-0.03172793349806785,-0.15800139597335008,-0.28173255684142984,-0.40093053540661383,-0.5136773915734064,-0.6181589862206053,-0.7126941713788628,-0.7957618405308321,-0.8660254037844388,-0.9223542941045814,-0.9638421585599422,-0.9898214418809327,-0.9998741276738751,-0.9938384644612541,-0.9718115683235417,-0.9341478602651068,-0.881453363447582,-0.814575952050336,-0.7345917086575331,-0.6427876096865396,-0.5406408174555974,-0.4297949120891719,-0.31203344569848707,-0.18925124436040974,-0.06342391965656452,0.06342391965656491,0.18925124436041013,0.31203344569848745,0.42979491208917153,0.5406408174555979,0.6427876096865393,0.7345917086575334,0.8145759520503355,0.8814533634475821,0.9341478602651067,0.9718115683235418,0.9938384644612541,0.9998741276738751,0.9898214418809328,0.963842158559942,0.9223542941045816,0.8660254037844383,0.7957618405308319,0.7126941713788629,0.6181589862206056,0.5136773915734056,0.40093053540661344,0.2817325568414299,0.15800139597335056,0.03172793349806701,-0.09505604330418284,-0.22031053278654034,-0.342020143325668,-0.45822652172741085,-0.5670598638627709,-0.6667690005162913,-0.7557495743542588,-0.8325698546347716,-0.8959937742913359,-0.9450008187146683,-0.9788024462147789,-0.9968547759519424,-0.998867339183008,-0.9848077530122081,-0.9549022414440737,-0.9096319953545183,-0.8497254299495145,-0.7761464642917573,-0.6900790114821116,-0.5929079290546404,-0.486196736100469,-0.3716624556603267,-0.2511479871810788,-0.1265924535737493,-4.898587196589413e-16]}},\"id\":\"3833d0e0-bdda-4c9a-8e89-66c1f8ae91e6\",\"type\":\"ColumnDataSource\"},{\"attributes\":{\"callback\":null,\"column_names\":[\"y\",\"x\"],\"data\":{\"x\":[0.0,0.12693303650867852,0.25386607301735703,0.3807991095260356,0.5077321460347141,0.6346651825433925,0.7615982190520711,0.8885312555607496,1.0154642920694281,1.1423973285781066,1.269330365086785,1.3962634015954636,1.5231964381041423,1.6501294746128208,1.7770625111214993,1.9039955476301778,2.0309285841388562,2.1578616206475347,2.284794657156213,2.4117276936648917,2.53866073017357,2.6655937666822487,2.792526803190927,2.9194598396996057,3.0463928762082846,3.173325912716963,3.3002589492256416,3.42719198573432,3.5541250222429985,3.681058058751677,3.8079910952603555,3.934924131769034,4.0618571682777125,4.188790204786391,4.3157232412950695,4.442656277803748,4.569589314312426,4.696522350821105,4.823455387329783,4.950388423838462,5.07732146034714,5.204254496855819,5.331187533364497,5.458120569873176,5.585053606381854,5.711986642890533,5.838919679399211,5.96585271590789,6.092785752416569,6.219718788925247,6.346651825433926,6.473584861942604,6.600517898451283,6.727450934959961,6.85438397146864,6.981317007977318,7.108250044485997,7.235183080994675,7.362116117503354,7.489049154012032,7.615982190520711,7.742915227029389,7.869848263538068,7.996781300046746,8.123714336555425,8.250647373064103,8.377580409572783,8.50451344608146,8.631446482590139,8.758379519098817,8.885312555607497,9.012245592116175,9.139178628624853,9.266111665133531,9.39304470164221,9.519977738150889,9.646910774659567,9.773843811168245,9.900776847676925,10.027709884185603,10.15464292069428,10.28157595720296,10.408508993711639,10.535442030220317,10.662375066728995,10.789308103237675,10.916241139746353,11.04317417625503,11.170107212763709,11.297040249272388,11.423973285781067,11.550906322289745,11.677839358798423,11.804772395307102,11.93170543181578,12.058638468324459,12.185571504833138,12.312504541341816,12.439437577850494,12.566370614359172],\"y\":[0.0,0.12659245357374926,0.2511479871810792,0.3716624556603276,0.4861967361004687,0.5929079290546404,0.690079011482112,0.7761464642917568,0.8497254299495144,0.9096319953545183,0.9549022414440739,0.984807753012208,0.998867339183008,0.9968547759519424,0.9788024462147787,0.9450008187146685,0.8959937742913359,0.8325698546347714,0.7557495743542584,0.6667690005162916,0.5670598638627709,0.4582265217274105,0.3420201433256689,0.2203105327865408,0.09505604330418244,-0.03172793349806785,-0.15800139597335008,-0.28173255684142984,-0.40093053540661383,-0.5136773915734064,-0.6181589862206053,-0.7126941713788628,-0.7957618405308321,-0.8660254037844388,-0.9223542941045814,-0.9638421585599422,-0.9898214418809327,-0.9998741276738751,-0.9938384644612541,-0.9718115683235417,-0.9341478602651068,-0.881453363447582,-0.814575952050336,-0.7345917086575331,-0.6427876096865396,-0.5406408174555974,-0.4297949120891719,-0.31203344569848707,-0.18925124436040974,-0.06342391965656452,0.06342391965656491,0.18925124436041013,0.31203344569848745,0.42979491208917153,0.5406408174555979,0.6427876096865393,0.7345917086575334,0.8145759520503355,0.8814533634475821,0.9341478602651067,0.9718115683235418,0.9938384644612541,0.9998741276738751,0.9898214418809328,0.963842158559942,0.9223542941045816,0.8660254037844383,0.7957618405308319,0.7126941713788629,0.6181589862206056,0.5136773915734056,0.40093053540661344,0.2817325568414299,0.15800139597335056,0.03172793349806701,-0.09505604330418284,-0.22031053278654034,-0.342020143325668,-0.45822652172741085,-0.5670598638627709,-0.6667690005162913,-0.7557495743542588,-0.8325698546347716,-0.8959937742913359,-0.9450008187146683,-0.9788024462147789,-0.9968547759519424,-0.998867339183008,-0.9848077530122081,-0.9549022414440737,-0.9096319953545183,-0.8497254299495145,-0.7761464642917573,-0.6900790114821116,-0.5929079290546404,-0.486196736100469,-0.3716624556603267,-0.2511479871810788,-0.1265924535737493,-4.898587196589413e-16]}},\"id\":\"6d04417d-a8bb-46b6-ad0e-4851ba47ee61\",\"type\":\"ColumnDataSource\"},{\"attributes\":{},\"id\":\"d243fd9d-acd2-4ada-b5af-f9c49b0a33ac\",\"type\":\"BasicTicker\"},{\"attributes\":{\"bottom_units\":\"screen\",\"fill_alpha\":{\"value\":0.5},\"fill_color\":{\"value\":\"lightgrey\"},\"left_units\":\"screen\",\"level\":\"overlay\",\"line_alpha\":{\"value\":1.0},\"line_color\":{\"value\":\"black\"},\"line_dash\":[4,4],\"line_width\":{\"value\":2},\"plot\":null,\"render_mode\":\"css\",\"right_units\":\"screen\",\"top_units\":\"screen\"},\"id\":\"921c6633-688a-431c-9952-ecb538a1ab6a\",\"type\":\"BoxAnnotation\"},{\"attributes\":{\"callback\":null},\"id\":\"d773a94b-f053-4881-a612-995093f6b28e\",\"type\":\"DataRange1d\"},{\"attributes\":{},\"id\":\"e89e6337-7a28-4ea1-a244-55ffee28cf4d\",\"type\":\"ToolEvents\"},{\"attributes\":{},\"id\":\"18817793-809e-457c-82d7-657b25bfab75\",\"type\":\"BasicTickFormatter\"},{\"attributes\":{\"plot\":{\"id\":\"c5f2a59c-8a06-43db-8610-36e8904f73b9\",\"subtype\":\"Figure\",\"type\":\"Plot\"}},\"id\":\"de2a22f9-24fb-467d-94c7-ae8c2d938512\",\"type\":\"HelpTool\"},{\"attributes\":{},\"id\":\"32fe1d0c-0bf2-4e09-a18d-06d5b7200d42\",\"type\":\"BasicTicker\"},{\"attributes\":{\"formatter\":{\"id\":\"18817793-809e-457c-82d7-657b25bfab75\",\"type\":\"BasicTickFormatter\"},\"plot\":{\"id\":\"7bbaa480-77b6-44a4-8679-a98d06b626d1\",\"subtype\":\"Figure\",\"type\":\"Plot\"},\"ticker\":{\"id\":\"2d1df763-35cd-4388-b98b-3a4413c37be1\",\"type\":\"BasicTicker\"}},\"id\":\"67c72804-36d6-4577-9cc8-0dc2036fe371\",\"type\":\"LinearAxis\"},{\"attributes\":{},\"id\":\"523e21fe-bf48-4bc5-a03e-a5e723fbf015\",\"type\":\"ToolEvents\"},{\"attributes\":{},\"id\":\"28d8e534-dcdb-4967-81ac-1770041cf3e0\",\"type\":\"BasicTickFormatter\"},{\"attributes\":{\"plot\":{\"id\":\"7bbaa480-77b6-44a4-8679-a98d06b626d1\",\"subtype\":\"Figure\",\"type\":\"Plot\"}},\"id\":\"4ec170a8-cffc-4635-b2a5-6178eba3cd4e\",\"type\":\"PanTool\"},{\"attributes\":{},\"id\":\"f8d58616-d158-475f-98f3-39e5190e859f\",\"type\":\"BasicTicker\"},{\"attributes\":{\"overlay\":{\"id\":\"921c6633-688a-431c-9952-ecb538a1ab6a\",\"type\":\"BoxAnnotation\"},\"plot\":{\"id\":\"c5f2a59c-8a06-43db-8610-36e8904f73b9\",\"subtype\":\"Figure\",\"type\":\"Plot\"}},\"id\":\"06aa3c2f-e9d8-4afc-85cb-8e8a91028479\",\"type\":\"BoxZoomTool\"},{\"attributes\":{\"plot\":{\"id\":\"7bbaa480-77b6-44a4-8679-a98d06b626d1\",\"subtype\":\"Figure\",\"type\":\"Plot\"}},\"id\":\"fed76b12-dadc-4be7-8ee5-acc6c4380ded\",\"type\":\"PreviewSaveTool\"},{\"attributes\":{\"axis_label\":\"Pressure\",\"formatter\":{\"id\":\"a8e488c3-4fc8-4561-bf63-4c9f4f839cf6\",\"type\":\"BasicTickFormatter\"},\"major_label_orientation\":\"vertical\",\"major_label_text_color\":{\"value\":\"orange\"},\"minor_tick_in\":-3,\"minor_tick_out\":6,\"plot\":{\"id\":\"c5f2a59c-8a06-43db-8610-36e8904f73b9\",\"subtype\":\"Figure\",\"type\":\"Plot\"},\"ticker\":{\"id\":\"f8d58616-d158-475f-98f3-39e5190e859f\",\"type\":\"BasicTicker\"}},\"id\":\"30b8f4ca-0d41-4d33-8d1f-1d84d3c02364\",\"type\":\"LinearAxis\"},{\"attributes\":{},\"id\":\"ae661831-fd7a-4230-a74d-0e361a3068b8\",\"type\":\"BasicTickFormatter\"},{\"attributes\":{\"fill_alpha\":{\"value\":0.1},\"fill_color\":{\"value\":\"#1f77b4\"},\"line_alpha\":{\"value\":0.1},\"line_color\":{\"value\":\"#1f77b4\"},\"x\":{\"field\":\"x\"},\"y\":{\"field\":\"y\"}},\"id\":\"c70054d0-0c89-49e9-b217-0b831f64102e\",\"type\":\"Square\"}],\"root_ids\":[\"ba975b2d-f2f9-4e16-a386-2eefb8f93aea\",\"decbaf11-281d-487b-a5f6-9731f6a7079c\",\"c5f2a59c-8a06-43db-8610-36e8904f73b9\",\"b45e4fb6-e065-478b-9453-7c2102bc8d0b\",\"37e71113-bd17-450f-9bcb-dee12868d023\",\"7bbaa480-77b6-44a4-8679-a98d06b626d1\"]},\"title\":\"Bokeh Application\",\"version\":\"0.11.1\"}};\n",
       "            var render_items = [{\"docid\":\"1611a2c4-99cb-45ad-b151-3ad133a373a2\",\"elementid\":\"0f59f90a-34ea-40c1-983b-85f87e10cd0b\",\"modelid\":\"7bbaa480-77b6-44a4-8679-a98d06b626d1\",\"notebook_comms_target\":\"688ae6cf-5f04-457f-836e-c450b8b634d4\"}];\n",
       "            \n",
       "            Bokeh.embed.embed_items(docs_json, render_items);\n",
       "        });\n",
       "      },\n",
       "      function(Bokeh) {\n",
       "      }\n",
       "    ];\n",
       "  \n",
       "    function run_inline_js() {\n",
       "      for (var i = 0; i < inline_js.length; i++) {\n",
       "        inline_js[i](window.Bokeh);\n",
       "      }\n",
       "    }\n",
       "  \n",
       "    if (window._bokeh_is_loading === 0) {\n",
       "      console.log(\"Bokeh: BokehJS loaded, going straight to plotting\");\n",
       "      run_inline_js();\n",
       "    } else {\n",
       "      load_libs(js_urls, function() {\n",
       "        console.log(\"Bokeh: BokehJS plotting callback run at\", now());\n",
       "        run_inline_js();\n",
       "      });\n",
       "    }\n",
       "  }(this));\n",
       "</script>"
      ]
     },
     "metadata": {},
     "output_type": "display_data"
    },
    {
     "data": {
      "text/html": [
       "<p><code>&lt;Bokeh Notebook handle for <strong>In[12]</strong>&gt;</code></p>"
      ],
      "text/plain": [
       "<bokeh.io._CommsHandle at 0x10d11abe0>"
      ]
     },
     "execution_count": 12,
     "metadata": {},
     "output_type": "execute_result"
    }
   ],
   "source": [
    "import numpy as np\n",
    "\n",
    "x = np.linspace(0, 4*np.pi, 100)\n",
    "y = np.sin(x)\n",
    "\n",
    "p = figure()\n",
    "\n",
    "p.circle(x, y, legend=\"sin(x)\")\n",
    "p.line(x, y, legend=\"sin(x)\")\n",
    "\n",
    "p.line(x, 2*y, legend=\"2*sin(x)\", line_dash=[4, 4], line_color=\"orange\", line_width=2)\n",
    "\n",
    "p.line(x, 3*y, legend=\"3*sin(x)\", line_color=\"green\")\n",
    "p.square(x, 3*y, legend=\"3*sin(x)\", fill_color=\"white\", line_color=\"green\")\n",
    "\n",
    "p.legend.location = \"bottom_left\"\n",
    "\n",
    "show(p)"
   ]
  },
  {
   "cell_type": "code",
   "execution_count": 13,
   "metadata": {
    "collapsed": false
   },
   "outputs": [],
   "source": [
    "# EXERCISE Create a plot of your own and add a legend\n",
    "\n"
   ]
  },
  {
   "cell_type": "code",
   "execution_count": null,
   "metadata": {
    "collapsed": true
   },
   "outputs": [],
   "source": []
  },
  {
   "cell_type": "code",
   "execution_count": null,
   "metadata": {
    "collapsed": true
   },
   "outputs": [],
   "source": []
  }
 ],
 "metadata": {
  "kernelspec": {
   "display_name": "Python 3",
   "language": "python",
   "name": "python3"
  },
  "language_info": {
   "codemirror_mode": {
    "name": "ipython",
    "version": 3
   },
   "file_extension": ".py",
   "mimetype": "text/x-python",
   "name": "python",
   "nbconvert_exporter": "python",
   "pygments_lexer": "ipython3",
   "version": "3.5.1"
  }
 },
 "nbformat": 4,
 "nbformat_minor": 0
}
