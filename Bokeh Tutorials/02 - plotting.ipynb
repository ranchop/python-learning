{
 "cells": [
  {
   "cell_type": "markdown",
   "metadata": {
    "collapsed": true
   },
   "source": [
    "<table style=\"float:left; border:none\">\n",
    "   <tr style=\"border:none\">\n",
    "       <td style=\"border:none\">\n",
    "           <a href=\"http://bokeh.pydata.org/\">     \n",
    "           <img \n",
    "               src=\"assets/images/bokeh-transparent.png\" \n",
    "               style=\"width:70px\"\n",
    "           >\n",
    "           </a>    \n",
    "       </td>\n",
    "       <td style=\"border:none\">\n",
    "           <h1>Bokeh Tutorial &mdash; <tt style=\"display:inline\">bokeh.plotting</tt> interface</h1>\n",
    "       </td>\n",
    "   </tr>\n",
    "</table>"
   ]
  },
  {
   "cell_type": "markdown",
   "metadata": {},
   "source": [
    "This section of the tutorial covers the [`bokeh.plotting`](http://bokeh.pydata.org/en/latest/docs/user_guide/plotting.html) \n",
    "interface. This interface is a \"mid-level\" interface, and the main idea can be described by the statement:\n",
    "\n",
    "> Starting from simple default figures (with default tools, grids and axes), add markers and other shapes whose \n",
    "visual attributes are tied to data.\n",
    "\n",
    "We will see that it is possible to customize and change all of the defaults, but having them means that it is possible to get up and running very quickly. "
   ]
  },
  {
   "cell_type": "markdown",
   "metadata": {},
   "source": [
    "# Imports and Setup\n",
    "\n",
    "When using the [`bokeh.plotting`](http://bokeh.pydata.org/en/latest/docs/user_guide/plotting.html) interface, there are a few common imports:\n",
    "* Use the [`figure`](http://bokeh.pydata.org/en/latest/docs/reference/plotting.html#bokeh.plotting.figure) function to  create new plot objects to work with. \n",
    "* Call the functions [`output_file`](http://bokeh.pydata.org/en/latest/docs/reference/resources_embedding.html#bokeh.io.output_file), [`output_notebook`](http://bokeh.pydata.org/en/latest/docs/reference/resources_embedding.html#bokeh.io.output_notebook), and [`output_server`](http://bokeh.pydata.org/en/latest/docs/reference/resources_embedding.html#bokeh.io.output_server) (possibly in combination) to tell Bokeh how to display or save output. \n",
    "* Execute [`show`](http://bokeh.pydata.org/en/latest/docs/reference/resources_embedding.html#bokeh.io.show) and  [`save`](http://bokeh.pydata.org/en/latest/docs/reference/resources_embedding.html#bokeh.io.save) to display or save plots and layouts."
   ]
  },
  {
   "cell_type": "code",
   "execution_count": 1,
   "metadata": {
    "collapsed": false
   },
   "outputs": [],
   "source": [
    "from bokeh.io import output_notebook, show\n",
    "from bokeh.plotting import figure"
   ]
  },
  {
   "cell_type": "markdown",
   "metadata": {},
   "source": [
    "In this case, we are in the Jupyter notebook, so call `output_notebook()`. We only need to call this once, and all subsequent calls to `show()` will display inline in the notebook."
   ]
  },
  {
   "cell_type": "code",
   "execution_count": 2,
   "metadata": {
    "collapsed": false
   },
   "outputs": [
    {
     "data": {
      "text/html": [
       "\n",
       "    <div class=\"bk-banner\">\n",
       "        <a href=\"http://bokeh.pydata.org\" target=\"_blank\" class=\"bk-logo bk-logo-small bk-logo-notebook\"></a>\n",
       "        <span id=\"cbd69f9c-6b76-45ab-b2b3-4a21aad22839\">Loading BokehJS ...</span>\n",
       "    </div>"
      ]
     },
     "metadata": {},
     "output_type": "display_data"
    },
    {
     "data": {
      "application/javascript": [
       "\n",
       "(function(global) {\n",
       "  function now() {\n",
       "    return new Date();\n",
       "  }\n",
       "\n",
       "  if (typeof (window._bokeh_onload_callbacks) === \"undefined\") {\n",
       "    window._bokeh_onload_callbacks = [];\n",
       "  }\n",
       "\n",
       "  function run_callbacks() {\n",
       "    window._bokeh_onload_callbacks.forEach(function(callback) { callback() });\n",
       "    delete window._bokeh_onload_callbacks\n",
       "    console.info(\"Bokeh: all callbacks have finished\");\n",
       "  }\n",
       "\n",
       "  function load_libs(js_urls, callback) {\n",
       "    window._bokeh_onload_callbacks.push(callback);\n",
       "    if (window._bokeh_is_loading > 0) {\n",
       "      console.log(\"Bokeh: BokehJS is being loaded, scheduling callback at\", now());\n",
       "      return null;\n",
       "    }\n",
       "    if (js_urls == null || js_urls.length === 0) {\n",
       "      run_callbacks();\n",
       "      return null;\n",
       "    }\n",
       "    console.log(\"Bokeh: BokehJS not loaded, scheduling load and callback at\", now());\n",
       "    window._bokeh_is_loading = js_urls.length;\n",
       "    for (var i = 0; i < js_urls.length; i++) {\n",
       "      var url = js_urls[i];\n",
       "      var s = document.createElement('script');\n",
       "      s.src = url;\n",
       "      s.async = false;\n",
       "      s.onreadystatechange = s.onload = function() {\n",
       "        window._bokeh_is_loading--;\n",
       "        if (window._bokeh_is_loading === 0) {\n",
       "          console.log(\"Bokeh: all BokehJS libraries loaded\");\n",
       "          run_callbacks()\n",
       "        }\n",
       "      };\n",
       "      s.onerror = function() {\n",
       "        console.warn(\"failed to load library \" + url);\n",
       "      };\n",
       "      console.log(\"Bokeh: injecting script tag for BokehJS library: \", url);\n",
       "      document.getElementsByTagName(\"head\")[0].appendChild(s);\n",
       "    }\n",
       "  };\n",
       "\n",
       "  var js_urls = ['https://cdn.pydata.org/bokeh/release/bokeh-0.11.1.min.js', 'https://cdn.pydata.org/bokeh/release/bokeh-widgets-0.11.1.min.js', 'https://cdn.pydata.org/bokeh/release/bokeh-compiler-0.11.1.min.js'];\n",
       "\n",
       "  var inline_js = [\n",
       "    function(Bokeh) {\n",
       "      Bokeh.set_log_level(\"info\");\n",
       "    },\n",
       "    \n",
       "    function(Bokeh) {\n",
       "      Bokeh.$(\"#cbd69f9c-6b76-45ab-b2b3-4a21aad22839\").text(\"BokehJS successfully loaded\");\n",
       "    },\n",
       "    function(Bokeh) {\n",
       "      console.log(\"Bokeh: injecting CSS: https://cdn.pydata.org/bokeh/release/bokeh-0.11.1.min.css\");\n",
       "      Bokeh.embed.inject_css(\"https://cdn.pydata.org/bokeh/release/bokeh-0.11.1.min.css\");\n",
       "      console.log(\"Bokeh: injecting CSS: https://cdn.pydata.org/bokeh/release/bokeh-widgets-0.11.1.min.css\");\n",
       "      Bokeh.embed.inject_css(\"https://cdn.pydata.org/bokeh/release/bokeh-widgets-0.11.1.min.css\");\n",
       "    }\n",
       "  ];\n",
       "\n",
       "  function run_inline_js() {\n",
       "    for (var i = 0; i < inline_js.length; i++) {\n",
       "      inline_js[i](window.Bokeh);\n",
       "    }\n",
       "  }\n",
       "\n",
       "  if (window._bokeh_is_loading === 0) {\n",
       "    console.log(\"Bokeh: BokehJS loaded, going straight to plotting\");\n",
       "    run_inline_js();\n",
       "  } else {\n",
       "    load_libs(js_urls, function() {\n",
       "      console.log(\"Bokeh: BokehJS plotting callback run at\", now());\n",
       "      run_inline_js();\n",
       "    });\n",
       "  }\n",
       "}(this));"
      ]
     },
     "metadata": {},
     "output_type": "display_data"
    }
   ],
   "source": [
    "output_notebook()"
   ]
  },
  {
   "cell_type": "markdown",
   "metadata": {},
   "source": [
    "# Some Basic Scatter Plots\n",
    "\n",
    "In this section you will see how to use Bokeh's various marker types to create simple scatter plots. "
   ]
  },
  {
   "cell_type": "code",
   "execution_count": 3,
   "metadata": {
    "collapsed": false
   },
   "outputs": [
    {
     "data": {
      "text/html": [
       "\n",
       "\n",
       "    <div class=\"plotdiv\" id=\"478caa19-0e16-41b6-acb1-06f6a3920552\"></div>\n",
       "<script type=\"text/javascript\">\n",
       "  \n",
       "  (function(global) {\n",
       "    function now() {\n",
       "      return new Date();\n",
       "    }\n",
       "  \n",
       "    if (typeof (window._bokeh_onload_callbacks) === \"undefined\") {\n",
       "      window._bokeh_onload_callbacks = [];\n",
       "    }\n",
       "  \n",
       "    function run_callbacks() {\n",
       "      window._bokeh_onload_callbacks.forEach(function(callback) { callback() });\n",
       "      delete window._bokeh_onload_callbacks\n",
       "      console.info(\"Bokeh: all callbacks have finished\");\n",
       "    }\n",
       "  \n",
       "    function load_libs(js_urls, callback) {\n",
       "      window._bokeh_onload_callbacks.push(callback);\n",
       "      if (window._bokeh_is_loading > 0) {\n",
       "        console.log(\"Bokeh: BokehJS is being loaded, scheduling callback at\", now());\n",
       "        return null;\n",
       "      }\n",
       "      if (js_urls == null || js_urls.length === 0) {\n",
       "        run_callbacks();\n",
       "        return null;\n",
       "      }\n",
       "      console.log(\"Bokeh: BokehJS not loaded, scheduling load and callback at\", now());\n",
       "      window._bokeh_is_loading = js_urls.length;\n",
       "      for (var i = 0; i < js_urls.length; i++) {\n",
       "        var url = js_urls[i];\n",
       "        var s = document.createElement('script');\n",
       "        s.src = url;\n",
       "        s.async = false;\n",
       "        s.onreadystatechange = s.onload = function() {\n",
       "          window._bokeh_is_loading--;\n",
       "          if (window._bokeh_is_loading === 0) {\n",
       "            console.log(\"Bokeh: all BokehJS libraries loaded\");\n",
       "            run_callbacks()\n",
       "          }\n",
       "        };\n",
       "        s.onerror = function() {\n",
       "          console.warn(\"failed to load library \" + url);\n",
       "        };\n",
       "        console.log(\"Bokeh: injecting script tag for BokehJS library: \", url);\n",
       "        document.getElementsByTagName(\"head\")[0].appendChild(s);\n",
       "      }\n",
       "    };var element = document.getElementById(\"478caa19-0e16-41b6-acb1-06f6a3920552\");\n",
       "    if (element == null) {\n",
       "      console.log(\"Bokeh: ERROR: autoload.js configured with elementid '478caa19-0e16-41b6-acb1-06f6a3920552' but no matching script tag was found. \")\n",
       "      return false;\n",
       "    }\n",
       "  \n",
       "    var js_urls = [];\n",
       "  \n",
       "    var inline_js = [\n",
       "      function(Bokeh) {\n",
       "        Bokeh.$(function() {\n",
       "            var docs_json = {\"5a4a878a-64fb-443f-9e03-d35a66c988a8\":{\"roots\":{\"references\":[{\"attributes\":{},\"id\":\"fded8a0f-c574-4736-98bb-2c9df584d74f\",\"type\":\"BasicTicker\"},{\"attributes\":{\"formatter\":{\"id\":\"699c70fa-b01e-46e5-abe2-68ffe267b65b\",\"type\":\"BasicTickFormatter\"},\"plot\":{\"id\":\"f0e6cad4-90f6-47e3-8d68-2d6ebac6ad4e\",\"subtype\":\"Figure\",\"type\":\"Plot\"},\"ticker\":{\"id\":\"fded8a0f-c574-4736-98bb-2c9df584d74f\",\"type\":\"BasicTicker\"}},\"id\":\"66d2cf31-9f19-4f17-a91b-f8baad333c19\",\"type\":\"LinearAxis\"},{\"attributes\":{\"callback\":null,\"column_names\":[\"y\",\"x\"],\"data\":{\"x\":[1,2,3,4,5],\"y\":[6,7,2,4,5]}},\"id\":\"d2eecf15-46ed-4865-8d9b-8194f674701a\",\"type\":\"ColumnDataSource\"},{\"attributes\":{\"callback\":null},\"id\":\"3cd1dec1-b367-4b58-bfdf-529eeba7038e\",\"type\":\"DataRange1d\"},{\"attributes\":{\"overlay\":{\"id\":\"ea49e87c-fbf9-40be-bebd-b185cee844a8\",\"type\":\"BoxAnnotation\"},\"plot\":{\"id\":\"f0e6cad4-90f6-47e3-8d68-2d6ebac6ad4e\",\"subtype\":\"Figure\",\"type\":\"Plot\"}},\"id\":\"a273cac2-8e82-473f-acf0-915cd4388dea\",\"type\":\"BoxZoomTool\"},{\"attributes\":{},\"id\":\"699c70fa-b01e-46e5-abe2-68ffe267b65b\",\"type\":\"BasicTickFormatter\"},{\"attributes\":{\"plot\":{\"id\":\"f0e6cad4-90f6-47e3-8d68-2d6ebac6ad4e\",\"subtype\":\"Figure\",\"type\":\"Plot\"}},\"id\":\"f5b26b53-6721-4dc8-a233-f57d48fc4fa8\",\"type\":\"PreviewSaveTool\"},{\"attributes\":{\"plot\":{\"id\":\"f0e6cad4-90f6-47e3-8d68-2d6ebac6ad4e\",\"subtype\":\"Figure\",\"type\":\"Plot\"}},\"id\":\"9d88d9cc-3ff3-4d1c-b4ec-7ef0bb2fb38d\",\"type\":\"WheelZoomTool\"},{\"attributes\":{\"fill_alpha\":{\"value\":0.1},\"fill_color\":{\"value\":\"#1f77b4\"},\"line_alpha\":{\"value\":0.1},\"line_color\":{\"value\":\"#1f77b4\"},\"size\":{\"units\":\"screen\",\"value\":15},\"x\":{\"field\":\"x\"},\"y\":{\"field\":\"y\"}},\"id\":\"ab0594a9-3127-4ec9-9b2c-d42d40ae34e3\",\"type\":\"Circle\"},{\"attributes\":{\"plot\":{\"id\":\"f0e6cad4-90f6-47e3-8d68-2d6ebac6ad4e\",\"subtype\":\"Figure\",\"type\":\"Plot\"}},\"id\":\"87aa4900-f8a6-438c-86d8-51a9e90eb9bc\",\"type\":\"PanTool\"},{\"attributes\":{\"data_source\":{\"id\":\"d2eecf15-46ed-4865-8d9b-8194f674701a\",\"type\":\"ColumnDataSource\"},\"glyph\":{\"id\":\"f495170b-19a5-4a46-aa88-9e75628a5737\",\"type\":\"Circle\"},\"hover_glyph\":null,\"nonselection_glyph\":{\"id\":\"ab0594a9-3127-4ec9-9b2c-d42d40ae34e3\",\"type\":\"Circle\"},\"selection_glyph\":null},\"id\":\"f313c721-24dc-450f-bb24-1ed5f26a98ed\",\"type\":\"GlyphRenderer\"},{\"attributes\":{\"plot\":{\"id\":\"f0e6cad4-90f6-47e3-8d68-2d6ebac6ad4e\",\"subtype\":\"Figure\",\"type\":\"Plot\"}},\"id\":\"f9600868-c01a-4ef1-b21b-71a9f51d833d\",\"type\":\"HelpTool\"},{\"attributes\":{\"bottom_units\":\"screen\",\"fill_alpha\":{\"value\":0.5},\"fill_color\":{\"value\":\"lightgrey\"},\"left_units\":\"screen\",\"level\":\"overlay\",\"line_alpha\":{\"value\":1.0},\"line_color\":{\"value\":\"black\"},\"line_dash\":[4,4],\"line_width\":{\"value\":2},\"plot\":null,\"render_mode\":\"css\",\"right_units\":\"screen\",\"top_units\":\"screen\"},\"id\":\"ea49e87c-fbf9-40be-bebd-b185cee844a8\",\"type\":\"BoxAnnotation\"},{\"attributes\":{\"dimension\":1,\"plot\":{\"id\":\"f0e6cad4-90f6-47e3-8d68-2d6ebac6ad4e\",\"subtype\":\"Figure\",\"type\":\"Plot\"},\"ticker\":{\"id\":\"fded8a0f-c574-4736-98bb-2c9df584d74f\",\"type\":\"BasicTicker\"}},\"id\":\"ad4f2050-bb97-4575-b551-d76449715ca8\",\"type\":\"Grid\"},{\"attributes\":{\"fill_alpha\":{\"value\":0.5},\"fill_color\":{\"value\":\"orange\"},\"line_color\":{\"value\":\"navy\"},\"size\":{\"units\":\"screen\",\"value\":15},\"x\":{\"field\":\"x\"},\"y\":{\"field\":\"y\"}},\"id\":\"f495170b-19a5-4a46-aa88-9e75628a5737\",\"type\":\"Circle\"},{\"attributes\":{\"plot\":{\"id\":\"f0e6cad4-90f6-47e3-8d68-2d6ebac6ad4e\",\"subtype\":\"Figure\",\"type\":\"Plot\"}},\"id\":\"f2a42b65-5e68-4407-a8f0-282c10036ece\",\"type\":\"ResizeTool\"},{\"attributes\":{\"plot\":{\"id\":\"f0e6cad4-90f6-47e3-8d68-2d6ebac6ad4e\",\"subtype\":\"Figure\",\"type\":\"Plot\"}},\"id\":\"1e3adae5-450e-422a-994d-985161ef6b9b\",\"type\":\"ResetTool\"},{\"attributes\":{\"below\":[{\"id\":\"032dd91a-139f-4fd7-a5f1-9cff91661a6c\",\"type\":\"LinearAxis\"}],\"left\":[{\"id\":\"66d2cf31-9f19-4f17-a91b-f8baad333c19\",\"type\":\"LinearAxis\"}],\"plot_height\":400,\"plot_width\":400,\"renderers\":[{\"id\":\"032dd91a-139f-4fd7-a5f1-9cff91661a6c\",\"type\":\"LinearAxis\"},{\"id\":\"691db03b-2a04-406a-86d7-04a4093208dd\",\"type\":\"Grid\"},{\"id\":\"66d2cf31-9f19-4f17-a91b-f8baad333c19\",\"type\":\"LinearAxis\"},{\"id\":\"ad4f2050-bb97-4575-b551-d76449715ca8\",\"type\":\"Grid\"},{\"id\":\"ea49e87c-fbf9-40be-bebd-b185cee844a8\",\"type\":\"BoxAnnotation\"},{\"id\":\"f313c721-24dc-450f-bb24-1ed5f26a98ed\",\"type\":\"GlyphRenderer\"}],\"tool_events\":{\"id\":\"abf3fd9d-8277-4166-96db-c6a77ac468a2\",\"type\":\"ToolEvents\"},\"tools\":[{\"id\":\"87aa4900-f8a6-438c-86d8-51a9e90eb9bc\",\"type\":\"PanTool\"},{\"id\":\"9d88d9cc-3ff3-4d1c-b4ec-7ef0bb2fb38d\",\"type\":\"WheelZoomTool\"},{\"id\":\"a273cac2-8e82-473f-acf0-915cd4388dea\",\"type\":\"BoxZoomTool\"},{\"id\":\"f5b26b53-6721-4dc8-a233-f57d48fc4fa8\",\"type\":\"PreviewSaveTool\"},{\"id\":\"f2a42b65-5e68-4407-a8f0-282c10036ece\",\"type\":\"ResizeTool\"},{\"id\":\"1e3adae5-450e-422a-994d-985161ef6b9b\",\"type\":\"ResetTool\"},{\"id\":\"f9600868-c01a-4ef1-b21b-71a9f51d833d\",\"type\":\"HelpTool\"}],\"x_range\":{\"id\":\"9e50eb2a-9f40-4beb-b3a9-01d520bea8d4\",\"type\":\"DataRange1d\"},\"y_range\":{\"id\":\"3cd1dec1-b367-4b58-bfdf-529eeba7038e\",\"type\":\"DataRange1d\"}},\"id\":\"f0e6cad4-90f6-47e3-8d68-2d6ebac6ad4e\",\"subtype\":\"Figure\",\"type\":\"Plot\"},{\"attributes\":{\"callback\":null},\"id\":\"9e50eb2a-9f40-4beb-b3a9-01d520bea8d4\",\"type\":\"DataRange1d\"},{\"attributes\":{\"plot\":{\"id\":\"f0e6cad4-90f6-47e3-8d68-2d6ebac6ad4e\",\"subtype\":\"Figure\",\"type\":\"Plot\"},\"ticker\":{\"id\":\"fa608bba-9040-45ca-b8c1-5ce6e3b131d3\",\"type\":\"BasicTicker\"}},\"id\":\"691db03b-2a04-406a-86d7-04a4093208dd\",\"type\":\"Grid\"},{\"attributes\":{},\"id\":\"fa608bba-9040-45ca-b8c1-5ce6e3b131d3\",\"type\":\"BasicTicker\"},{\"attributes\":{},\"id\":\"6edba640-7b42-42a1-be94-373b56345ae6\",\"type\":\"BasicTickFormatter\"},{\"attributes\":{\"formatter\":{\"id\":\"6edba640-7b42-42a1-be94-373b56345ae6\",\"type\":\"BasicTickFormatter\"},\"plot\":{\"id\":\"f0e6cad4-90f6-47e3-8d68-2d6ebac6ad4e\",\"subtype\":\"Figure\",\"type\":\"Plot\"},\"ticker\":{\"id\":\"fa608bba-9040-45ca-b8c1-5ce6e3b131d3\",\"type\":\"BasicTicker\"}},\"id\":\"032dd91a-139f-4fd7-a5f1-9cff91661a6c\",\"type\":\"LinearAxis\"},{\"attributes\":{},\"id\":\"abf3fd9d-8277-4166-96db-c6a77ac468a2\",\"type\":\"ToolEvents\"}],\"root_ids\":[\"f0e6cad4-90f6-47e3-8d68-2d6ebac6ad4e\"]},\"title\":\"Bokeh Application\",\"version\":\"0.11.1\"}};\n",
       "            var render_items = [{\"docid\":\"5a4a878a-64fb-443f-9e03-d35a66c988a8\",\"elementid\":\"478caa19-0e16-41b6-acb1-06f6a3920552\",\"modelid\":\"f0e6cad4-90f6-47e3-8d68-2d6ebac6ad4e\",\"notebook_comms_target\":\"006a6bb6-9773-4fbe-80ec-82a0a6b46ed2\"}];\n",
       "            \n",
       "            Bokeh.embed.embed_items(docs_json, render_items);\n",
       "        });\n",
       "      },\n",
       "      function(Bokeh) {\n",
       "      }\n",
       "    ];\n",
       "  \n",
       "    function run_inline_js() {\n",
       "      for (var i = 0; i < inline_js.length; i++) {\n",
       "        inline_js[i](window.Bokeh);\n",
       "      }\n",
       "    }\n",
       "  \n",
       "    if (window._bokeh_is_loading === 0) {\n",
       "      console.log(\"Bokeh: BokehJS loaded, going straight to plotting\");\n",
       "      run_inline_js();\n",
       "    } else {\n",
       "      load_libs(js_urls, function() {\n",
       "        console.log(\"Bokeh: BokehJS plotting callback run at\", now());\n",
       "        run_inline_js();\n",
       "      });\n",
       "    }\n",
       "  }(this));\n",
       "</script>"
      ]
     },
     "metadata": {},
     "output_type": "display_data"
    },
    {
     "data": {
      "text/html": [
       "<p><code>&lt;Bokeh Notebook handle for <strong>In[3]</strong>&gt;</code></p>"
      ],
      "text/plain": [
       "<bokeh.io._CommsHandle at 0x111d985f8>"
      ]
     },
     "execution_count": 3,
     "metadata": {},
     "output_type": "execute_result"
    }
   ],
   "source": [
    "# create a new plot with default tools, using figure\n",
    "p = figure(plot_width=400, plot_height=400)\n",
    "\n",
    "# add a circle renderer with a size, color, and alpha\n",
    "p.circle([1, 2, 3, 4, 5], [6, 7, 2, 4, 5], size=15, line_color=\"navy\", fill_color=\"orange\", fill_alpha=0.5)\n",
    "\n",
    "show(p) # show the results"
   ]
  },
  {
   "cell_type": "markdown",
   "metadata": {},
   "source": [
    "All Bokeh markers accept `size` (measured in screen space units) as a property. Circles also have `radius` (measured in \"data\" space units). "
   ]
  },
  {
   "cell_type": "code",
   "execution_count": 4,
   "metadata": {
    "collapsed": true
   },
   "outputs": [],
   "source": [
    "# EXERCISE: Try changing the example above to set a `radius` value instead of `size`\n",
    "\n"
   ]
  },
  {
   "cell_type": "markdown",
   "metadata": {},
   "source": [
    "To scatter square markers instead of circles, you can use the `square` method on figures. "
   ]
  },
  {
   "cell_type": "code",
   "execution_count": 5,
   "metadata": {
    "collapsed": false
   },
   "outputs": [
    {
     "data": {
      "text/html": [
       "\n",
       "\n",
       "    <div class=\"plotdiv\" id=\"19d4a217-a3ae-4cf4-a2a9-fe9779a1b397\"></div>\n",
       "<script type=\"text/javascript\">\n",
       "  \n",
       "  (function(global) {\n",
       "    function now() {\n",
       "      return new Date();\n",
       "    }\n",
       "  \n",
       "    if (typeof (window._bokeh_onload_callbacks) === \"undefined\") {\n",
       "      window._bokeh_onload_callbacks = [];\n",
       "    }\n",
       "  \n",
       "    function run_callbacks() {\n",
       "      window._bokeh_onload_callbacks.forEach(function(callback) { callback() });\n",
       "      delete window._bokeh_onload_callbacks\n",
       "      console.info(\"Bokeh: all callbacks have finished\");\n",
       "    }\n",
       "  \n",
       "    function load_libs(js_urls, callback) {\n",
       "      window._bokeh_onload_callbacks.push(callback);\n",
       "      if (window._bokeh_is_loading > 0) {\n",
       "        console.log(\"Bokeh: BokehJS is being loaded, scheduling callback at\", now());\n",
       "        return null;\n",
       "      }\n",
       "      if (js_urls == null || js_urls.length === 0) {\n",
       "        run_callbacks();\n",
       "        return null;\n",
       "      }\n",
       "      console.log(\"Bokeh: BokehJS not loaded, scheduling load and callback at\", now());\n",
       "      window._bokeh_is_loading = js_urls.length;\n",
       "      for (var i = 0; i < js_urls.length; i++) {\n",
       "        var url = js_urls[i];\n",
       "        var s = document.createElement('script');\n",
       "        s.src = url;\n",
       "        s.async = false;\n",
       "        s.onreadystatechange = s.onload = function() {\n",
       "          window._bokeh_is_loading--;\n",
       "          if (window._bokeh_is_loading === 0) {\n",
       "            console.log(\"Bokeh: all BokehJS libraries loaded\");\n",
       "            run_callbacks()\n",
       "          }\n",
       "        };\n",
       "        s.onerror = function() {\n",
       "          console.warn(\"failed to load library \" + url);\n",
       "        };\n",
       "        console.log(\"Bokeh: injecting script tag for BokehJS library: \", url);\n",
       "        document.getElementsByTagName(\"head\")[0].appendChild(s);\n",
       "      }\n",
       "    };var element = document.getElementById(\"19d4a217-a3ae-4cf4-a2a9-fe9779a1b397\");\n",
       "    if (element == null) {\n",
       "      console.log(\"Bokeh: ERROR: autoload.js configured with elementid '19d4a217-a3ae-4cf4-a2a9-fe9779a1b397' but no matching script tag was found. \")\n",
       "      return false;\n",
       "    }\n",
       "  \n",
       "    var js_urls = [];\n",
       "  \n",
       "    var inline_js = [\n",
       "      function(Bokeh) {\n",
       "        Bokeh.$(function() {\n",
       "            var docs_json = {\"acd2011e-d098-4640-b49f-1a7c4a02f6fa\":{\"roots\":{\"references\":[{\"attributes\":{\"bottom_units\":\"screen\",\"fill_alpha\":{\"value\":0.5},\"fill_color\":{\"value\":\"lightgrey\"},\"left_units\":\"screen\",\"level\":\"overlay\",\"line_alpha\":{\"value\":1.0},\"line_color\":{\"value\":\"black\"},\"line_dash\":[4,4],\"line_width\":{\"value\":2},\"plot\":null,\"render_mode\":\"css\",\"right_units\":\"screen\",\"top_units\":\"screen\"},\"id\":\"72e6326f-6d72-4bdd-8a78-aefc6bfc1344\",\"type\":\"BoxAnnotation\"},{\"attributes\":{},\"id\":\"fded8a0f-c574-4736-98bb-2c9df584d74f\",\"type\":\"BasicTicker\"},{\"attributes\":{},\"id\":\"699c70fa-b01e-46e5-abe2-68ffe267b65b\",\"type\":\"BasicTickFormatter\"},{\"attributes\":{\"dimension\":1,\"plot\":{\"id\":\"49a1c2be-bb4e-456b-b01a-14a5a9448c68\",\"subtype\":\"Figure\",\"type\":\"Plot\"},\"ticker\":{\"id\":\"91515fbd-3204-478d-bab8-a297b9b6cc8c\",\"type\":\"BasicTicker\"}},\"id\":\"3d336c10-8b18-4b46-b243-b3f643eae2f6\",\"type\":\"Grid\"},{\"attributes\":{},\"id\":\"66c4ce04-a69d-448a-b1ec-37926d4a6837\",\"type\":\"ToolEvents\"},{\"attributes\":{},\"id\":\"91515fbd-3204-478d-bab8-a297b9b6cc8c\",\"type\":\"BasicTicker\"},{\"attributes\":{\"plot\":{\"id\":\"49a1c2be-bb4e-456b-b01a-14a5a9448c68\",\"subtype\":\"Figure\",\"type\":\"Plot\"}},\"id\":\"f621ae55-245f-41b2-90ea-ca7d35ba63dd\",\"type\":\"PanTool\"},{\"attributes\":{\"plot\":{\"id\":\"f0e6cad4-90f6-47e3-8d68-2d6ebac6ad4e\",\"subtype\":\"Figure\",\"type\":\"Plot\"}},\"id\":\"9d88d9cc-3ff3-4d1c-b4ec-7ef0bb2fb38d\",\"type\":\"WheelZoomTool\"},{\"attributes\":{\"fill_alpha\":{\"value\":0.5},\"fill_color\":{\"value\":\"orange\"},\"line_color\":{\"value\":\"navy\"},\"size\":{\"units\":\"screen\",\"value\":15},\"x\":{\"field\":\"x\"},\"y\":{\"field\":\"y\"}},\"id\":\"f495170b-19a5-4a46-aa88-9e75628a5737\",\"type\":\"Circle\"},{\"attributes\":{\"plot\":{\"id\":\"f0e6cad4-90f6-47e3-8d68-2d6ebac6ad4e\",\"subtype\":\"Figure\",\"type\":\"Plot\"}},\"id\":\"87aa4900-f8a6-438c-86d8-51a9e90eb9bc\",\"type\":\"PanTool\"},{\"attributes\":{\"fill_alpha\":{\"value\":0.6},\"fill_color\":{\"value\":\"firebrick\"},\"line_alpha\":{\"value\":0.6},\"line_color\":{\"value\":\"firebrick\"},\"size\":{\"field\":\"size\",\"units\":\"screen\"},\"x\":{\"field\":\"x\"},\"y\":{\"field\":\"y\"}},\"id\":\"7382ca3d-60f7-4505-8fed-7d3509d995bb\",\"type\":\"Square\"},{\"attributes\":{\"data_source\":{\"id\":\"d2eecf15-46ed-4865-8d9b-8194f674701a\",\"type\":\"ColumnDataSource\"},\"glyph\":{\"id\":\"f495170b-19a5-4a46-aa88-9e75628a5737\",\"type\":\"Circle\"},\"hover_glyph\":null,\"nonselection_glyph\":{\"id\":\"ab0594a9-3127-4ec9-9b2c-d42d40ae34e3\",\"type\":\"Circle\"},\"selection_glyph\":null},\"id\":\"f313c721-24dc-450f-bb24-1ed5f26a98ed\",\"type\":\"GlyphRenderer\"},{\"attributes\":{\"plot\":{\"id\":\"49a1c2be-bb4e-456b-b01a-14a5a9448c68\",\"subtype\":\"Figure\",\"type\":\"Plot\"}},\"id\":\"f9edc46a-6d55-4c89-bbb8-44d63f99c7e1\",\"type\":\"WheelZoomTool\"},{\"attributes\":{},\"id\":\"b80c4776-5956-4e55-879b-7176ff10308d\",\"type\":\"BasicTickFormatter\"},{\"attributes\":{\"plot\":{\"id\":\"f0e6cad4-90f6-47e3-8d68-2d6ebac6ad4e\",\"subtype\":\"Figure\",\"type\":\"Plot\"}},\"id\":\"1e3adae5-450e-422a-994d-985161ef6b9b\",\"type\":\"ResetTool\"},{\"attributes\":{\"overlay\":{\"id\":\"72e6326f-6d72-4bdd-8a78-aefc6bfc1344\",\"type\":\"BoxAnnotation\"},\"plot\":{\"id\":\"49a1c2be-bb4e-456b-b01a-14a5a9448c68\",\"subtype\":\"Figure\",\"type\":\"Plot\"}},\"id\":\"c34b087f-3016-4d0b-be0f-8456f08c81d6\",\"type\":\"BoxZoomTool\"},{\"attributes\":{\"formatter\":{\"id\":\"6edba640-7b42-42a1-be94-373b56345ae6\",\"type\":\"BasicTickFormatter\"},\"plot\":{\"id\":\"f0e6cad4-90f6-47e3-8d68-2d6ebac6ad4e\",\"subtype\":\"Figure\",\"type\":\"Plot\"},\"ticker\":{\"id\":\"fa608bba-9040-45ca-b8c1-5ce6e3b131d3\",\"type\":\"BasicTicker\"}},\"id\":\"032dd91a-139f-4fd7-a5f1-9cff91661a6c\",\"type\":\"LinearAxis\"},{\"attributes\":{\"plot\":{\"id\":\"f0e6cad4-90f6-47e3-8d68-2d6ebac6ad4e\",\"subtype\":\"Figure\",\"type\":\"Plot\"},\"ticker\":{\"id\":\"fa608bba-9040-45ca-b8c1-5ce6e3b131d3\",\"type\":\"BasicTicker\"}},\"id\":\"691db03b-2a04-406a-86d7-04a4093208dd\",\"type\":\"Grid\"},{\"attributes\":{\"plot\":{\"id\":\"49a1c2be-bb4e-456b-b01a-14a5a9448c68\",\"subtype\":\"Figure\",\"type\":\"Plot\"}},\"id\":\"87f2135e-b56c-4b9b-9df8-dc879550aff3\",\"type\":\"ResizeTool\"},{\"attributes\":{},\"id\":\"fa608bba-9040-45ca-b8c1-5ce6e3b131d3\",\"type\":\"BasicTicker\"},{\"attributes\":{\"data_source\":{\"id\":\"20e0f3aa-c71a-45b5-acd9-12ddbc8428d4\",\"type\":\"ColumnDataSource\"},\"glyph\":{\"id\":\"7382ca3d-60f7-4505-8fed-7d3509d995bb\",\"type\":\"Square\"},\"hover_glyph\":null,\"nonselection_glyph\":{\"id\":\"855f63d5-739a-44fd-b4f7-220e9fc8a2c2\",\"type\":\"Square\"},\"selection_glyph\":null},\"id\":\"cab09057-afa1-4fb8-a5f1-7f07e82d2dee\",\"type\":\"GlyphRenderer\"},{\"attributes\":{\"fill_alpha\":{\"value\":0.1},\"fill_color\":{\"value\":\"#1f77b4\"},\"line_alpha\":{\"value\":0.1},\"line_color\":{\"value\":\"#1f77b4\"},\"size\":{\"units\":\"screen\",\"value\":15},\"x\":{\"field\":\"x\"},\"y\":{\"field\":\"y\"}},\"id\":\"ab0594a9-3127-4ec9-9b2c-d42d40ae34e3\",\"type\":\"Circle\"},{\"attributes\":{},\"id\":\"4036456b-5419-4d58-99ef-7f31c51e8707\",\"type\":\"BasicTicker\"},{\"attributes\":{\"formatter\":{\"id\":\"699c70fa-b01e-46e5-abe2-68ffe267b65b\",\"type\":\"BasicTickFormatter\"},\"plot\":{\"id\":\"f0e6cad4-90f6-47e3-8d68-2d6ebac6ad4e\",\"subtype\":\"Figure\",\"type\":\"Plot\"},\"ticker\":{\"id\":\"fded8a0f-c574-4736-98bb-2c9df584d74f\",\"type\":\"BasicTicker\"}},\"id\":\"66d2cf31-9f19-4f17-a91b-f8baad333c19\",\"type\":\"LinearAxis\"},{\"attributes\":{\"callback\":null,\"column_names\":[\"y\",\"x\"],\"data\":{\"x\":[1,2,3,4,5],\"y\":[6,7,2,4,5]}},\"id\":\"d2eecf15-46ed-4865-8d9b-8194f674701a\",\"type\":\"ColumnDataSource\"},{\"attributes\":{\"callback\":null},\"id\":\"3cd1dec1-b367-4b58-bfdf-529eeba7038e\",\"type\":\"DataRange1d\"},{\"attributes\":{\"overlay\":{\"id\":\"ea49e87c-fbf9-40be-bebd-b185cee844a8\",\"type\":\"BoxAnnotation\"},\"plot\":{\"id\":\"f0e6cad4-90f6-47e3-8d68-2d6ebac6ad4e\",\"subtype\":\"Figure\",\"type\":\"Plot\"}},\"id\":\"a273cac2-8e82-473f-acf0-915cd4388dea\",\"type\":\"BoxZoomTool\"},{\"attributes\":{\"dimension\":1,\"plot\":{\"id\":\"f0e6cad4-90f6-47e3-8d68-2d6ebac6ad4e\",\"subtype\":\"Figure\",\"type\":\"Plot\"},\"ticker\":{\"id\":\"fded8a0f-c574-4736-98bb-2c9df584d74f\",\"type\":\"BasicTicker\"}},\"id\":\"ad4f2050-bb97-4575-b551-d76449715ca8\",\"type\":\"Grid\"},{\"attributes\":{\"below\":[{\"id\":\"0427b429-f214-4aeb-b263-cd637215fd1e\",\"type\":\"LinearAxis\"}],\"left\":[{\"id\":\"d2300692-f9f6-4d65-a1f5-de4131a4dfed\",\"type\":\"LinearAxis\"}],\"plot_height\":400,\"plot_width\":400,\"renderers\":[{\"id\":\"0427b429-f214-4aeb-b263-cd637215fd1e\",\"type\":\"LinearAxis\"},{\"id\":\"87e8016c-d51d-4ce0-b029-ff2446278b8d\",\"type\":\"Grid\"},{\"id\":\"d2300692-f9f6-4d65-a1f5-de4131a4dfed\",\"type\":\"LinearAxis\"},{\"id\":\"3d336c10-8b18-4b46-b243-b3f643eae2f6\",\"type\":\"Grid\"},{\"id\":\"72e6326f-6d72-4bdd-8a78-aefc6bfc1344\",\"type\":\"BoxAnnotation\"},{\"id\":\"cab09057-afa1-4fb8-a5f1-7f07e82d2dee\",\"type\":\"GlyphRenderer\"}],\"tool_events\":{\"id\":\"66c4ce04-a69d-448a-b1ec-37926d4a6837\",\"type\":\"ToolEvents\"},\"tools\":[{\"id\":\"f621ae55-245f-41b2-90ea-ca7d35ba63dd\",\"type\":\"PanTool\"},{\"id\":\"f9edc46a-6d55-4c89-bbb8-44d63f99c7e1\",\"type\":\"WheelZoomTool\"},{\"id\":\"c34b087f-3016-4d0b-be0f-8456f08c81d6\",\"type\":\"BoxZoomTool\"},{\"id\":\"5d436bf7-7e6f-4bf9-8e11-a70d110348ed\",\"type\":\"PreviewSaveTool\"},{\"id\":\"87f2135e-b56c-4b9b-9df8-dc879550aff3\",\"type\":\"ResizeTool\"},{\"id\":\"b2a41fa0-da0d-49d1-8925-151e1f379f9a\",\"type\":\"ResetTool\"},{\"id\":\"f7e9cebe-96fe-4d6e-9fd3-82b45c2d1a10\",\"type\":\"HelpTool\"}],\"x_range\":{\"id\":\"f79fb207-5c72-42ea-a5f4-0c3a9f8d188e\",\"type\":\"DataRange1d\"},\"y_range\":{\"id\":\"3a06e36f-b862-4674-9b67-230eeab4d21a\",\"type\":\"DataRange1d\"}},\"id\":\"49a1c2be-bb4e-456b-b01a-14a5a9448c68\",\"subtype\":\"Figure\",\"type\":\"Plot\"},{\"attributes\":{\"plot\":{\"id\":\"f0e6cad4-90f6-47e3-8d68-2d6ebac6ad4e\",\"subtype\":\"Figure\",\"type\":\"Plot\"}},\"id\":\"f9600868-c01a-4ef1-b21b-71a9f51d833d\",\"type\":\"HelpTool\"},{\"attributes\":{\"fill_alpha\":{\"value\":0.1},\"fill_color\":{\"value\":\"#1f77b4\"},\"line_alpha\":{\"value\":0.1},\"line_color\":{\"value\":\"#1f77b4\"},\"size\":{\"field\":\"size\",\"units\":\"screen\"},\"x\":{\"field\":\"x\"},\"y\":{\"field\":\"y\"}},\"id\":\"855f63d5-739a-44fd-b4f7-220e9fc8a2c2\",\"type\":\"Square\"},{\"attributes\":{\"bottom_units\":\"screen\",\"fill_alpha\":{\"value\":0.5},\"fill_color\":{\"value\":\"lightgrey\"},\"left_units\":\"screen\",\"level\":\"overlay\",\"line_alpha\":{\"value\":1.0},\"line_color\":{\"value\":\"black\"},\"line_dash\":[4,4],\"line_width\":{\"value\":2},\"plot\":null,\"render_mode\":\"css\",\"right_units\":\"screen\",\"top_units\":\"screen\"},\"id\":\"ea49e87c-fbf9-40be-bebd-b185cee844a8\",\"type\":\"BoxAnnotation\"},{\"attributes\":{\"plot\":{\"id\":\"49a1c2be-bb4e-456b-b01a-14a5a9448c68\",\"subtype\":\"Figure\",\"type\":\"Plot\"}},\"id\":\"5d436bf7-7e6f-4bf9-8e11-a70d110348ed\",\"type\":\"PreviewSaveTool\"},{\"attributes\":{\"plot\":{\"id\":\"49a1c2be-bb4e-456b-b01a-14a5a9448c68\",\"subtype\":\"Figure\",\"type\":\"Plot\"},\"ticker\":{\"id\":\"4036456b-5419-4d58-99ef-7f31c51e8707\",\"type\":\"BasicTicker\"}},\"id\":\"87e8016c-d51d-4ce0-b029-ff2446278b8d\",\"type\":\"Grid\"},{\"attributes\":{\"plot\":{\"id\":\"49a1c2be-bb4e-456b-b01a-14a5a9448c68\",\"subtype\":\"Figure\",\"type\":\"Plot\"}},\"id\":\"f7e9cebe-96fe-4d6e-9fd3-82b45c2d1a10\",\"type\":\"HelpTool\"},{\"attributes\":{\"plot\":{\"id\":\"f0e6cad4-90f6-47e3-8d68-2d6ebac6ad4e\",\"subtype\":\"Figure\",\"type\":\"Plot\"}},\"id\":\"f2a42b65-5e68-4407-a8f0-282c10036ece\",\"type\":\"ResizeTool\"},{\"attributes\":{\"callback\":null},\"id\":\"f79fb207-5c72-42ea-a5f4-0c3a9f8d188e\",\"type\":\"DataRange1d\"},{\"attributes\":{\"callback\":null},\"id\":\"3a06e36f-b862-4674-9b67-230eeab4d21a\",\"type\":\"DataRange1d\"},{\"attributes\":{\"below\":[{\"id\":\"032dd91a-139f-4fd7-a5f1-9cff91661a6c\",\"type\":\"LinearAxis\"}],\"left\":[{\"id\":\"66d2cf31-9f19-4f17-a91b-f8baad333c19\",\"type\":\"LinearAxis\"}],\"plot_height\":400,\"plot_width\":400,\"renderers\":[{\"id\":\"032dd91a-139f-4fd7-a5f1-9cff91661a6c\",\"type\":\"LinearAxis\"},{\"id\":\"691db03b-2a04-406a-86d7-04a4093208dd\",\"type\":\"Grid\"},{\"id\":\"66d2cf31-9f19-4f17-a91b-f8baad333c19\",\"type\":\"LinearAxis\"},{\"id\":\"ad4f2050-bb97-4575-b551-d76449715ca8\",\"type\":\"Grid\"},{\"id\":\"ea49e87c-fbf9-40be-bebd-b185cee844a8\",\"type\":\"BoxAnnotation\"},{\"id\":\"f313c721-24dc-450f-bb24-1ed5f26a98ed\",\"type\":\"GlyphRenderer\"}],\"tool_events\":{\"id\":\"abf3fd9d-8277-4166-96db-c6a77ac468a2\",\"type\":\"ToolEvents\"},\"tools\":[{\"id\":\"87aa4900-f8a6-438c-86d8-51a9e90eb9bc\",\"type\":\"PanTool\"},{\"id\":\"9d88d9cc-3ff3-4d1c-b4ec-7ef0bb2fb38d\",\"type\":\"WheelZoomTool\"},{\"id\":\"a273cac2-8e82-473f-acf0-915cd4388dea\",\"type\":\"BoxZoomTool\"},{\"id\":\"f5b26b53-6721-4dc8-a233-f57d48fc4fa8\",\"type\":\"PreviewSaveTool\"},{\"id\":\"f2a42b65-5e68-4407-a8f0-282c10036ece\",\"type\":\"ResizeTool\"},{\"id\":\"1e3adae5-450e-422a-994d-985161ef6b9b\",\"type\":\"ResetTool\"},{\"id\":\"f9600868-c01a-4ef1-b21b-71a9f51d833d\",\"type\":\"HelpTool\"}],\"x_range\":{\"id\":\"9e50eb2a-9f40-4beb-b3a9-01d520bea8d4\",\"type\":\"DataRange1d\"},\"y_range\":{\"id\":\"3cd1dec1-b367-4b58-bfdf-529eeba7038e\",\"type\":\"DataRange1d\"}},\"id\":\"f0e6cad4-90f6-47e3-8d68-2d6ebac6ad4e\",\"subtype\":\"Figure\",\"type\":\"Plot\"},{\"attributes\":{\"callback\":null},\"id\":\"9e50eb2a-9f40-4beb-b3a9-01d520bea8d4\",\"type\":\"DataRange1d\"},{\"attributes\":{\"plot\":{\"id\":\"f0e6cad4-90f6-47e3-8d68-2d6ebac6ad4e\",\"subtype\":\"Figure\",\"type\":\"Plot\"}},\"id\":\"f5b26b53-6721-4dc8-a233-f57d48fc4fa8\",\"type\":\"PreviewSaveTool\"},{\"attributes\":{\"formatter\":{\"id\":\"2e950af9-6583-45e3-9d8d-7d82477e941a\",\"type\":\"BasicTickFormatter\"},\"plot\":{\"id\":\"49a1c2be-bb4e-456b-b01a-14a5a9448c68\",\"subtype\":\"Figure\",\"type\":\"Plot\"},\"ticker\":{\"id\":\"91515fbd-3204-478d-bab8-a297b9b6cc8c\",\"type\":\"BasicTicker\"}},\"id\":\"d2300692-f9f6-4d65-a1f5-de4131a4dfed\",\"type\":\"LinearAxis\"},{\"attributes\":{\"formatter\":{\"id\":\"b80c4776-5956-4e55-879b-7176ff10308d\",\"type\":\"BasicTickFormatter\"},\"plot\":{\"id\":\"49a1c2be-bb4e-456b-b01a-14a5a9448c68\",\"subtype\":\"Figure\",\"type\":\"Plot\"},\"ticker\":{\"id\":\"4036456b-5419-4d58-99ef-7f31c51e8707\",\"type\":\"BasicTicker\"}},\"id\":\"0427b429-f214-4aeb-b263-cd637215fd1e\",\"type\":\"LinearAxis\"},{\"attributes\":{\"callback\":null,\"column_names\":[\"y\",\"size\",\"x\"],\"data\":{\"size\":[10,15,20,25,30],\"x\":[1,2,3,4,5],\"y\":[6,7,2,4,5]}},\"id\":\"20e0f3aa-c71a-45b5-acd9-12ddbc8428d4\",\"type\":\"ColumnDataSource\"},{\"attributes\":{\"plot\":{\"id\":\"49a1c2be-bb4e-456b-b01a-14a5a9448c68\",\"subtype\":\"Figure\",\"type\":\"Plot\"}},\"id\":\"b2a41fa0-da0d-49d1-8925-151e1f379f9a\",\"type\":\"ResetTool\"},{\"attributes\":{},\"id\":\"6edba640-7b42-42a1-be94-373b56345ae6\",\"type\":\"BasicTickFormatter\"},{\"attributes\":{},\"id\":\"abf3fd9d-8277-4166-96db-c6a77ac468a2\",\"type\":\"ToolEvents\"},{\"attributes\":{},\"id\":\"2e950af9-6583-45e3-9d8d-7d82477e941a\",\"type\":\"BasicTickFormatter\"}],\"root_ids\":[\"f0e6cad4-90f6-47e3-8d68-2d6ebac6ad4e\",\"49a1c2be-bb4e-456b-b01a-14a5a9448c68\"]},\"title\":\"Bokeh Application\",\"version\":\"0.11.1\"}};\n",
       "            var render_items = [{\"docid\":\"acd2011e-d098-4640-b49f-1a7c4a02f6fa\",\"elementid\":\"19d4a217-a3ae-4cf4-a2a9-fe9779a1b397\",\"modelid\":\"49a1c2be-bb4e-456b-b01a-14a5a9448c68\",\"notebook_comms_target\":\"36a7378a-ab19-46e2-a63b-628082566ee1\"}];\n",
       "            \n",
       "            Bokeh.embed.embed_items(docs_json, render_items);\n",
       "        });\n",
       "      },\n",
       "      function(Bokeh) {\n",
       "      }\n",
       "    ];\n",
       "  \n",
       "    function run_inline_js() {\n",
       "      for (var i = 0; i < inline_js.length; i++) {\n",
       "        inline_js[i](window.Bokeh);\n",
       "      }\n",
       "    }\n",
       "  \n",
       "    if (window._bokeh_is_loading === 0) {\n",
       "      console.log(\"Bokeh: BokehJS loaded, going straight to plotting\");\n",
       "      run_inline_js();\n",
       "    } else {\n",
       "      load_libs(js_urls, function() {\n",
       "        console.log(\"Bokeh: BokehJS plotting callback run at\", now());\n",
       "        run_inline_js();\n",
       "      });\n",
       "    }\n",
       "  }(this));\n",
       "</script>"
      ]
     },
     "metadata": {},
     "output_type": "display_data"
    },
    {
     "data": {
      "text/html": [
       "<p><code>&lt;Bokeh Notebook handle for <strong>In[5]</strong>&gt;</code></p>"
      ],
      "text/plain": [
       "<bokeh.io._CommsHandle at 0x111db19b0>"
      ]
     },
     "execution_count": 5,
     "metadata": {},
     "output_type": "execute_result"
    }
   ],
   "source": [
    "# create a new plot using figure\n",
    "p = figure(plot_width=400, plot_height=400)\n",
    "\n",
    "# add a square renderer with a size, color, alpha, and sizes\n",
    "p.square([1, 2, 3, 4, 5], [6, 7, 2, 4, 5], size=[10, 15, 20, 25, 30], color=\"firebrick\", alpha=0.6)\n",
    "\n",
    "show(p) # show the results"
   ]
  },
  {
   "cell_type": "markdown",
   "metadata": {},
   "source": [
    "Note that in the example above, we are also specifying different sizes for each individual marker. ***In general, all of a glyph's properties can be \"vectorized\" in this fashion. ***  Also note that we have passed ``color`` as a shorthand to set both the line and fill colors easily at the same time. This is a convenience specific to ``bokeh.plotting``.\n",
    "\n",
    "</table><p>There are many marker types available in Bokeh, you can see details and\n",
    "example plots for all of them in the reference guide by clicking on entries in the list below:</p>\n",
    "<table class=\"hlist\" style=\"float:left\"><tr><td><ul>\n",
    "<li><a href=\"http://bokeh.pydata.org/en/latest/docs/reference/plotting.html#bokeh.plotting.Figure.asterisk\" title=\"bokeh.plotting.Figure.asterisk\"><code class=\"xref py py-func docutils literal\"><span class=\"pre\">asterisk()</span></code></a></li>\n",
    "<li><a href=\"http://bokeh.pydata.org/en/latest/docs/reference/plotting.html#bokeh.plotting.Figure.circle\" title=\"bokeh.plotting.Figure.circle\"><code class=\"xref py py-func docutils literal\"><span class=\"pre\">circle()</span></code></a></li>\n",
    "<li><a href=\"http://bokeh.pydata.org/en/latest/docs/reference/plotting.html#bokeh.plotting.Figure.circle_cross\" title=\"bokeh.plotting.Figure.circle_cross\"><code class=\"xref py py-func docutils literal\"><span class=\"pre\">circle_cross()</span></code></a></li>\n",
    "<li><a href=\"http://bokeh.pydata.org/en/latest/docs/reference/plotting.html#bokeh.plotting.Figure.circle_x\" title=\"bokeh.plotting.Figure.circle_x\"><code class=\"xref py py-func docutils literal\"><span class=\"pre\">circle_x()</span></code></a></li>\n",
    "<li><a href=\"http://bokeh.pydata.org/en/latest/docs/reference/plotting.html#bokeh.plotting.Figure.cross\" title=\"bokeh.plotting.Figure.cross\"><code class=\"xref py py-func docutils literal\"><span class=\"pre\">cross()</span></code></a></li>\n",
    "</ul>\n",
    "</td><td><ul>\n",
    "<li><a href=\"http://bokeh.pydata.org/en/latest/docs/reference/plotting.html#bokeh.plotting.Figure.diamond\" title=\"bokeh.plotting.Figure.diamond\"><code class=\"xref py py-func docutils literal\"><span class=\"pre\">diamond()</span></code></a></li>\n",
    "<li><a href=\"http://bokeh.pydata.org/en/latest/docs/reference/plotting.html#bokeh.plotting.Figure.diamond_cross\" title=\"bokeh.plotting.Figure.diamond_cross\"><code class=\"xref py py-func docutils literal\"><span class=\"pre\">diamond_cross()</span></code></a></li>\n",
    "<li><a href=\"http://bokeh.pydata.org/en/latest/docs/reference/plotting.html#bokeh.plotting.Figure.inverted_triangle\" title=\"bokeh.plotting.Figure.inverted_triangle\"><code class=\"xref py py-func docutils literal\"><span class=\"pre\">inverted_triangle()</span></code></a></li>\n",
    "<li><a href=\"http://bokeh.pydata.org/en/latest/docs/reference/plotting.html#bokeh.plotting.Figure.square\" title=\"bokeh.plotting.Figure.square\"><code class=\"xref py py-func docutils literal\"><span class=\"pre\">square()</span></code></a></li>\n",
    "</ul>\n",
    "</td><td><ul>\n",
    "<li><a href=\"http://bokeh.pydata.org/en/latest/docs/reference/plotting.html#bokeh.plotting.Figure.square_cross\" title=\"bokeh.plotting.Figure.square_cross\"><code class=\"xref py py-func docutils literal\"><span class=\"pre\">square_cross()</span></code></a></li>\n",
    "<li><a href=\"http://bokeh.pydata.org/en/latest/docs/reference/plotting.html#bokeh.plotting.Figure.square_x\" title=\"bokeh.plotting.Figure.square_x\"><code class=\"xref py py-func docutils literal\"><span class=\"pre\">square_x()</span></code></a></li>\n",
    "<li><a href=\"http://bokeh.pydata.org/en/latest/docs/reference/plotting.html#bokeh.plotting.Figure.triangle\" title=\"bokeh.plotting.Figure.triangle\"><code class=\"xref py py-func docutils literal\"><span class=\"pre\">triangle()</span></code></a></li>\n",
    "<li><a href=\"http://bokeh.pydata.org/en/latest/docs/reference/plotting.html#bokeh.plotting.Figure.x\" title=\"bokeh.plotting.Figure.x\"><code class=\"xref py py-func docutils literal\"><span class=\"pre\">x()</span></code></a></li>\n",
    "</ul>\n",
    "</td></tr></table>"
   ]
  },
  {
   "cell_type": "code",
   "execution_count": 6,
   "metadata": {
    "collapsed": true
   },
   "outputs": [],
   "source": [
    "# EXERCISE: Plot some different markers in this cell\n",
    "\n"
   ]
  },
  {
   "cell_type": "markdown",
   "metadata": {},
   "source": [
    "# Basic Line Plots"
   ]
  },
  {
   "cell_type": "code",
   "execution_count": 7,
   "metadata": {
    "collapsed": false
   },
   "outputs": [
    {
     "data": {
      "text/html": [
       "\n",
       "\n",
       "    <div class=\"plotdiv\" id=\"515ae6d5-e26a-443c-882c-8366d4f18bd8\"></div>\n",
       "<script type=\"text/javascript\">\n",
       "  \n",
       "  (function(global) {\n",
       "    function now() {\n",
       "      return new Date();\n",
       "    }\n",
       "  \n",
       "    if (typeof (window._bokeh_onload_callbacks) === \"undefined\") {\n",
       "      window._bokeh_onload_callbacks = [];\n",
       "    }\n",
       "  \n",
       "    function run_callbacks() {\n",
       "      window._bokeh_onload_callbacks.forEach(function(callback) { callback() });\n",
       "      delete window._bokeh_onload_callbacks\n",
       "      console.info(\"Bokeh: all callbacks have finished\");\n",
       "    }\n",
       "  \n",
       "    function load_libs(js_urls, callback) {\n",
       "      window._bokeh_onload_callbacks.push(callback);\n",
       "      if (window._bokeh_is_loading > 0) {\n",
       "        console.log(\"Bokeh: BokehJS is being loaded, scheduling callback at\", now());\n",
       "        return null;\n",
       "      }\n",
       "      if (js_urls == null || js_urls.length === 0) {\n",
       "        run_callbacks();\n",
       "        return null;\n",
       "      }\n",
       "      console.log(\"Bokeh: BokehJS not loaded, scheduling load and callback at\", now());\n",
       "      window._bokeh_is_loading = js_urls.length;\n",
       "      for (var i = 0; i < js_urls.length; i++) {\n",
       "        var url = js_urls[i];\n",
       "        var s = document.createElement('script');\n",
       "        s.src = url;\n",
       "        s.async = false;\n",
       "        s.onreadystatechange = s.onload = function() {\n",
       "          window._bokeh_is_loading--;\n",
       "          if (window._bokeh_is_loading === 0) {\n",
       "            console.log(\"Bokeh: all BokehJS libraries loaded\");\n",
       "            run_callbacks()\n",
       "          }\n",
       "        };\n",
       "        s.onerror = function() {\n",
       "          console.warn(\"failed to load library \" + url);\n",
       "        };\n",
       "        console.log(\"Bokeh: injecting script tag for BokehJS library: \", url);\n",
       "        document.getElementsByTagName(\"head\")[0].appendChild(s);\n",
       "      }\n",
       "    };var element = document.getElementById(\"515ae6d5-e26a-443c-882c-8366d4f18bd8\");\n",
       "    if (element == null) {\n",
       "      console.log(\"Bokeh: ERROR: autoload.js configured with elementid '515ae6d5-e26a-443c-882c-8366d4f18bd8' but no matching script tag was found. \")\n",
       "      return false;\n",
       "    }\n",
       "  \n",
       "    var js_urls = [];\n",
       "  \n",
       "    var inline_js = [\n",
       "      function(Bokeh) {\n",
       "        Bokeh.$(function() {\n",
       "            var docs_json = {\"0ba1ff32-a536-4ee0-ada0-7bddd720d95e\":{\"roots\":{\"references\":[{\"attributes\":{\"bottom_units\":\"screen\",\"fill_alpha\":{\"value\":0.5},\"fill_color\":{\"value\":\"lightgrey\"},\"left_units\":\"screen\",\"level\":\"overlay\",\"line_alpha\":{\"value\":1.0},\"line_color\":{\"value\":\"black\"},\"line_dash\":[4,4],\"line_width\":{\"value\":2},\"plot\":null,\"render_mode\":\"css\",\"right_units\":\"screen\",\"top_units\":\"screen\"},\"id\":\"72e6326f-6d72-4bdd-8a78-aefc6bfc1344\",\"type\":\"BoxAnnotation\"},{\"attributes\":{},\"id\":\"fded8a0f-c574-4736-98bb-2c9df584d74f\",\"type\":\"BasicTicker\"},{\"attributes\":{\"plot\":{\"id\":\"49a1c2be-bb4e-456b-b01a-14a5a9448c68\",\"subtype\":\"Figure\",\"type\":\"Plot\"}},\"id\":\"5d436bf7-7e6f-4bf9-8e11-a70d110348ed\",\"type\":\"PreviewSaveTool\"},{\"attributes\":{\"below\":[{\"id\":\"b7798bdf-943a-4a74-a894-376531837dfd\",\"type\":\"LinearAxis\"}],\"left\":[{\"id\":\"a1e709fc-5378-440b-b25f-1365384fc8b3\",\"type\":\"LinearAxis\"}],\"plot_height\":400,\"plot_width\":400,\"renderers\":[{\"id\":\"b7798bdf-943a-4a74-a894-376531837dfd\",\"type\":\"LinearAxis\"},{\"id\":\"2e88b296-dba2-4adf-b49c-528abd267a06\",\"type\":\"Grid\"},{\"id\":\"a1e709fc-5378-440b-b25f-1365384fc8b3\",\"type\":\"LinearAxis\"},{\"id\":\"6adadde5-162d-4c8f-9306-f9e2dbd4f266\",\"type\":\"Grid\"},{\"id\":\"19cd7924-102c-4fd2-9aea-7f63b1dc97c4\",\"type\":\"BoxAnnotation\"},{\"id\":\"66032908-5f31-45d1-9d69-c14052da76b9\",\"type\":\"GlyphRenderer\"}],\"title\":\"My Line Plot\",\"tool_events\":{\"id\":\"b34d29f7-d647-4962-b50b-fcfeaa416bf3\",\"type\":\"ToolEvents\"},\"tools\":[{\"id\":\"f6760882-cd1c-49d2-a97b-13f7487de1a0\",\"type\":\"PanTool\"},{\"id\":\"f4c8a1d6-6e6a-4e94-8e7b-5d6b302f5365\",\"type\":\"WheelZoomTool\"},{\"id\":\"c05a1fc5-09c0-497c-8940-f93a011225ee\",\"type\":\"BoxZoomTool\"},{\"id\":\"2fd06599-0758-431e-a422-281497bd97d6\",\"type\":\"PreviewSaveTool\"},{\"id\":\"7848d577-4154-4c1c-b904-5a2041ac4c12\",\"type\":\"ResizeTool\"},{\"id\":\"51639c5b-259d-4417-a467-5d08aecd9840\",\"type\":\"ResetTool\"},{\"id\":\"881f842d-9fce-4094-b61c-878c4f810dba\",\"type\":\"HelpTool\"}],\"x_range\":{\"id\":\"914e0391-a6b0-4bae-a398-542359ff9bd8\",\"type\":\"DataRange1d\"},\"y_range\":{\"id\":\"dd7cb98c-6867-4998-b594-8ffbc803fd61\",\"type\":\"DataRange1d\"}},\"id\":\"3e5a3c1a-c243-49d4-a3af-38966e49afe1\",\"subtype\":\"Figure\",\"type\":\"Plot\"},{\"attributes\":{\"callback\":null},\"id\":\"914e0391-a6b0-4bae-a398-542359ff9bd8\",\"type\":\"DataRange1d\"},{\"attributes\":{\"data_source\":{\"id\":\"86e1cd8d-25b3-48f8-8935-683201d42280\",\"type\":\"ColumnDataSource\"},\"glyph\":{\"id\":\"34bd52bd-468b-49ea-8b83-d8c14b1d2d81\",\"type\":\"Line\"},\"hover_glyph\":null,\"nonselection_glyph\":{\"id\":\"629b2e7e-7a3c-420b-b616-40f01af43836\",\"type\":\"Line\"},\"selection_glyph\":null},\"id\":\"66032908-5f31-45d1-9d69-c14052da76b9\",\"type\":\"GlyphRenderer\"},{\"attributes\":{},\"id\":\"699c70fa-b01e-46e5-abe2-68ffe267b65b\",\"type\":\"BasicTickFormatter\"},{\"attributes\":{\"formatter\":{\"id\":\"da351d9f-746c-470e-8f4f-9644677b9889\",\"type\":\"BasicTickFormatter\"},\"plot\":{\"id\":\"3e5a3c1a-c243-49d4-a3af-38966e49afe1\",\"subtype\":\"Figure\",\"type\":\"Plot\"},\"ticker\":{\"id\":\"fe3dc54e-61e0-40ad-95e8-d43a704d5afe\",\"type\":\"BasicTicker\"}},\"id\":\"b7798bdf-943a-4a74-a894-376531837dfd\",\"type\":\"LinearAxis\"},{\"attributes\":{\"dimension\":1,\"plot\":{\"id\":\"3e5a3c1a-c243-49d4-a3af-38966e49afe1\",\"subtype\":\"Figure\",\"type\":\"Plot\"},\"ticker\":{\"id\":\"76a9e6cc-128e-4ab6-b2db-28812c0d6d0a\",\"type\":\"BasicTicker\"}},\"id\":\"6adadde5-162d-4c8f-9306-f9e2dbd4f266\",\"type\":\"Grid\"},{\"attributes\":{\"dimension\":1,\"plot\":{\"id\":\"49a1c2be-bb4e-456b-b01a-14a5a9448c68\",\"subtype\":\"Figure\",\"type\":\"Plot\"},\"ticker\":{\"id\":\"91515fbd-3204-478d-bab8-a297b9b6cc8c\",\"type\":\"BasicTicker\"}},\"id\":\"3d336c10-8b18-4b46-b243-b3f643eae2f6\",\"type\":\"Grid\"},{\"attributes\":{},\"id\":\"66c4ce04-a69d-448a-b1ec-37926d4a6837\",\"type\":\"ToolEvents\"},{\"attributes\":{},\"id\":\"91515fbd-3204-478d-bab8-a297b9b6cc8c\",\"type\":\"BasicTicker\"},{\"attributes\":{\"plot\":{\"id\":\"f0e6cad4-90f6-47e3-8d68-2d6ebac6ad4e\",\"subtype\":\"Figure\",\"type\":\"Plot\"}},\"id\":\"1e3adae5-450e-422a-994d-985161ef6b9b\",\"type\":\"ResetTool\"},{\"attributes\":{\"plot\":{\"id\":\"f0e6cad4-90f6-47e3-8d68-2d6ebac6ad4e\",\"subtype\":\"Figure\",\"type\":\"Plot\"}},\"id\":\"f9600868-c01a-4ef1-b21b-71a9f51d833d\",\"type\":\"HelpTool\"},{\"attributes\":{\"plot\":{\"id\":\"f0e6cad4-90f6-47e3-8d68-2d6ebac6ad4e\",\"subtype\":\"Figure\",\"type\":\"Plot\"}},\"id\":\"9d88d9cc-3ff3-4d1c-b4ec-7ef0bb2fb38d\",\"type\":\"WheelZoomTool\"},{\"attributes\":{\"plot\":{\"id\":\"3e5a3c1a-c243-49d4-a3af-38966e49afe1\",\"subtype\":\"Figure\",\"type\":\"Plot\"},\"ticker\":{\"id\":\"fe3dc54e-61e0-40ad-95e8-d43a704d5afe\",\"type\":\"BasicTicker\"}},\"id\":\"2e88b296-dba2-4adf-b49c-528abd267a06\",\"type\":\"Grid\"},{\"attributes\":{\"callback\":null},\"id\":\"dd7cb98c-6867-4998-b594-8ffbc803fd61\",\"type\":\"DataRange1d\"},{\"attributes\":{\"fill_alpha\":{\"value\":0.5},\"fill_color\":{\"value\":\"orange\"},\"line_color\":{\"value\":\"navy\"},\"size\":{\"units\":\"screen\",\"value\":15},\"x\":{\"field\":\"x\"},\"y\":{\"field\":\"y\"}},\"id\":\"f495170b-19a5-4a46-aa88-9e75628a5737\",\"type\":\"Circle\"},{\"attributes\":{},\"id\":\"fe3dc54e-61e0-40ad-95e8-d43a704d5afe\",\"type\":\"BasicTicker\"},{\"attributes\":{\"overlay\":{\"id\":\"19cd7924-102c-4fd2-9aea-7f63b1dc97c4\",\"type\":\"BoxAnnotation\"},\"plot\":{\"id\":\"3e5a3c1a-c243-49d4-a3af-38966e49afe1\",\"subtype\":\"Figure\",\"type\":\"Plot\"}},\"id\":\"c05a1fc5-09c0-497c-8940-f93a011225ee\",\"type\":\"BoxZoomTool\"},{\"attributes\":{},\"id\":\"76a9e6cc-128e-4ab6-b2db-28812c0d6d0a\",\"type\":\"BasicTicker\"},{\"attributes\":{\"fill_alpha\":{\"value\":0.6},\"fill_color\":{\"value\":\"firebrick\"},\"line_alpha\":{\"value\":0.6},\"line_color\":{\"value\":\"firebrick\"},\"size\":{\"field\":\"size\",\"units\":\"screen\"},\"x\":{\"field\":\"x\"},\"y\":{\"field\":\"y\"}},\"id\":\"7382ca3d-60f7-4505-8fed-7d3509d995bb\",\"type\":\"Square\"},{\"attributes\":{\"line_color\":{\"value\":\"#1f77b4\"},\"line_width\":{\"value\":2},\"x\":{\"field\":\"x\"},\"y\":{\"field\":\"y\"}},\"id\":\"34bd52bd-468b-49ea-8b83-d8c14b1d2d81\",\"type\":\"Line\"},{\"attributes\":{\"plot\":{\"id\":\"49a1c2be-bb4e-456b-b01a-14a5a9448c68\",\"subtype\":\"Figure\",\"type\":\"Plot\"}},\"id\":\"f9edc46a-6d55-4c89-bbb8-44d63f99c7e1\",\"type\":\"WheelZoomTool\"},{\"attributes\":{},\"id\":\"b80c4776-5956-4e55-879b-7176ff10308d\",\"type\":\"BasicTickFormatter\"},{\"attributes\":{\"plot\":{\"id\":\"49a1c2be-bb4e-456b-b01a-14a5a9448c68\",\"subtype\":\"Figure\",\"type\":\"Plot\"}},\"id\":\"f621ae55-245f-41b2-90ea-ca7d35ba63dd\",\"type\":\"PanTool\"},{\"attributes\":{\"overlay\":{\"id\":\"72e6326f-6d72-4bdd-8a78-aefc6bfc1344\",\"type\":\"BoxAnnotation\"},\"plot\":{\"id\":\"49a1c2be-bb4e-456b-b01a-14a5a9448c68\",\"subtype\":\"Figure\",\"type\":\"Plot\"}},\"id\":\"c34b087f-3016-4d0b-be0f-8456f08c81d6\",\"type\":\"BoxZoomTool\"},{\"attributes\":{\"formatter\":{\"id\":\"78c5cf24-a115-40a2-9790-91c5c9396316\",\"type\":\"BasicTickFormatter\"},\"plot\":{\"id\":\"3e5a3c1a-c243-49d4-a3af-38966e49afe1\",\"subtype\":\"Figure\",\"type\":\"Plot\"},\"ticker\":{\"id\":\"76a9e6cc-128e-4ab6-b2db-28812c0d6d0a\",\"type\":\"BasicTicker\"}},\"id\":\"a1e709fc-5378-440b-b25f-1365384fc8b3\",\"type\":\"LinearAxis\"},{\"attributes\":{\"formatter\":{\"id\":\"6edba640-7b42-42a1-be94-373b56345ae6\",\"type\":\"BasicTickFormatter\"},\"plot\":{\"id\":\"f0e6cad4-90f6-47e3-8d68-2d6ebac6ad4e\",\"subtype\":\"Figure\",\"type\":\"Plot\"},\"ticker\":{\"id\":\"fa608bba-9040-45ca-b8c1-5ce6e3b131d3\",\"type\":\"BasicTicker\"}},\"id\":\"032dd91a-139f-4fd7-a5f1-9cff91661a6c\",\"type\":\"LinearAxis\"},{\"attributes\":{\"plot\":{\"id\":\"f0e6cad4-90f6-47e3-8d68-2d6ebac6ad4e\",\"subtype\":\"Figure\",\"type\":\"Plot\"},\"ticker\":{\"id\":\"fa608bba-9040-45ca-b8c1-5ce6e3b131d3\",\"type\":\"BasicTicker\"}},\"id\":\"691db03b-2a04-406a-86d7-04a4093208dd\",\"type\":\"Grid\"},{\"attributes\":{\"plot\":{\"id\":\"49a1c2be-bb4e-456b-b01a-14a5a9448c68\",\"subtype\":\"Figure\",\"type\":\"Plot\"}},\"id\":\"87f2135e-b56c-4b9b-9df8-dc879550aff3\",\"type\":\"ResizeTool\"},{\"attributes\":{},\"id\":\"fa608bba-9040-45ca-b8c1-5ce6e3b131d3\",\"type\":\"BasicTicker\"},{\"attributes\":{\"data_source\":{\"id\":\"20e0f3aa-c71a-45b5-acd9-12ddbc8428d4\",\"type\":\"ColumnDataSource\"},\"glyph\":{\"id\":\"7382ca3d-60f7-4505-8fed-7d3509d995bb\",\"type\":\"Square\"},\"hover_glyph\":null,\"nonselection_glyph\":{\"id\":\"855f63d5-739a-44fd-b4f7-220e9fc8a2c2\",\"type\":\"Square\"},\"selection_glyph\":null},\"id\":\"cab09057-afa1-4fb8-a5f1-7f07e82d2dee\",\"type\":\"GlyphRenderer\"},{\"attributes\":{\"bottom_units\":\"screen\",\"fill_alpha\":{\"value\":0.5},\"fill_color\":{\"value\":\"lightgrey\"},\"left_units\":\"screen\",\"level\":\"overlay\",\"line_alpha\":{\"value\":1.0},\"line_color\":{\"value\":\"black\"},\"line_dash\":[4,4],\"line_width\":{\"value\":2},\"plot\":null,\"render_mode\":\"css\",\"right_units\":\"screen\",\"top_units\":\"screen\"},\"id\":\"ea49e87c-fbf9-40be-bebd-b185cee844a8\",\"type\":\"BoxAnnotation\"},{\"attributes\":{\"plot\":{\"id\":\"3e5a3c1a-c243-49d4-a3af-38966e49afe1\",\"subtype\":\"Figure\",\"type\":\"Plot\"}},\"id\":\"51639c5b-259d-4417-a467-5d08aecd9840\",\"type\":\"ResetTool\"},{\"attributes\":{\"line_alpha\":{\"value\":0.1},\"line_color\":{\"value\":\"#1f77b4\"},\"line_width\":{\"value\":2},\"x\":{\"field\":\"x\"},\"y\":{\"field\":\"y\"}},\"id\":\"629b2e7e-7a3c-420b-b616-40f01af43836\",\"type\":\"Line\"},{\"attributes\":{},\"id\":\"4036456b-5419-4d58-99ef-7f31c51e8707\",\"type\":\"BasicTicker\"},{\"attributes\":{\"plot\":{\"id\":\"3e5a3c1a-c243-49d4-a3af-38966e49afe1\",\"subtype\":\"Figure\",\"type\":\"Plot\"}},\"id\":\"2fd06599-0758-431e-a422-281497bd97d6\",\"type\":\"PreviewSaveTool\"},{\"attributes\":{},\"id\":\"b34d29f7-d647-4962-b50b-fcfeaa416bf3\",\"type\":\"ToolEvents\"},{\"attributes\":{\"formatter\":{\"id\":\"699c70fa-b01e-46e5-abe2-68ffe267b65b\",\"type\":\"BasicTickFormatter\"},\"plot\":{\"id\":\"f0e6cad4-90f6-47e3-8d68-2d6ebac6ad4e\",\"subtype\":\"Figure\",\"type\":\"Plot\"},\"ticker\":{\"id\":\"fded8a0f-c574-4736-98bb-2c9df584d74f\",\"type\":\"BasicTicker\"}},\"id\":\"66d2cf31-9f19-4f17-a91b-f8baad333c19\",\"type\":\"LinearAxis\"},{\"attributes\":{\"callback\":null,\"column_names\":[\"y\",\"x\"],\"data\":{\"x\":[1,2,3,4,5],\"y\":[6,7,2,4,5]}},\"id\":\"d2eecf15-46ed-4865-8d9b-8194f674701a\",\"type\":\"ColumnDataSource\"},{\"attributes\":{\"callback\":null},\"id\":\"3cd1dec1-b367-4b58-bfdf-529eeba7038e\",\"type\":\"DataRange1d\"},{\"attributes\":{\"overlay\":{\"id\":\"ea49e87c-fbf9-40be-bebd-b185cee844a8\",\"type\":\"BoxAnnotation\"},\"plot\":{\"id\":\"f0e6cad4-90f6-47e3-8d68-2d6ebac6ad4e\",\"subtype\":\"Figure\",\"type\":\"Plot\"}},\"id\":\"a273cac2-8e82-473f-acf0-915cd4388dea\",\"type\":\"BoxZoomTool\"},{\"attributes\":{\"data_source\":{\"id\":\"d2eecf15-46ed-4865-8d9b-8194f674701a\",\"type\":\"ColumnDataSource\"},\"glyph\":{\"id\":\"f495170b-19a5-4a46-aa88-9e75628a5737\",\"type\":\"Circle\"},\"hover_glyph\":null,\"nonselection_glyph\":{\"id\":\"ab0594a9-3127-4ec9-9b2c-d42d40ae34e3\",\"type\":\"Circle\"},\"selection_glyph\":null},\"id\":\"f313c721-24dc-450f-bb24-1ed5f26a98ed\",\"type\":\"GlyphRenderer\"},{\"attributes\":{\"plot\":{\"id\":\"3e5a3c1a-c243-49d4-a3af-38966e49afe1\",\"subtype\":\"Figure\",\"type\":\"Plot\"}},\"id\":\"7848d577-4154-4c1c-b904-5a2041ac4c12\",\"type\":\"ResizeTool\"},{\"attributes\":{\"plot\":{\"id\":\"3e5a3c1a-c243-49d4-a3af-38966e49afe1\",\"subtype\":\"Figure\",\"type\":\"Plot\"}},\"id\":\"f4c8a1d6-6e6a-4e94-8e7b-5d6b302f5365\",\"type\":\"WheelZoomTool\"},{\"attributes\":{},\"id\":\"da351d9f-746c-470e-8f4f-9644677b9889\",\"type\":\"BasicTickFormatter\"},{\"attributes\":{\"below\":[{\"id\":\"0427b429-f214-4aeb-b263-cd637215fd1e\",\"type\":\"LinearAxis\"}],\"left\":[{\"id\":\"d2300692-f9f6-4d65-a1f5-de4131a4dfed\",\"type\":\"LinearAxis\"}],\"plot_height\":400,\"plot_width\":400,\"renderers\":[{\"id\":\"0427b429-f214-4aeb-b263-cd637215fd1e\",\"type\":\"LinearAxis\"},{\"id\":\"87e8016c-d51d-4ce0-b029-ff2446278b8d\",\"type\":\"Grid\"},{\"id\":\"d2300692-f9f6-4d65-a1f5-de4131a4dfed\",\"type\":\"LinearAxis\"},{\"id\":\"3d336c10-8b18-4b46-b243-b3f643eae2f6\",\"type\":\"Grid\"},{\"id\":\"72e6326f-6d72-4bdd-8a78-aefc6bfc1344\",\"type\":\"BoxAnnotation\"},{\"id\":\"cab09057-afa1-4fb8-a5f1-7f07e82d2dee\",\"type\":\"GlyphRenderer\"}],\"tool_events\":{\"id\":\"66c4ce04-a69d-448a-b1ec-37926d4a6837\",\"type\":\"ToolEvents\"},\"tools\":[{\"id\":\"f621ae55-245f-41b2-90ea-ca7d35ba63dd\",\"type\":\"PanTool\"},{\"id\":\"f9edc46a-6d55-4c89-bbb8-44d63f99c7e1\",\"type\":\"WheelZoomTool\"},{\"id\":\"c34b087f-3016-4d0b-be0f-8456f08c81d6\",\"type\":\"BoxZoomTool\"},{\"id\":\"5d436bf7-7e6f-4bf9-8e11-a70d110348ed\",\"type\":\"PreviewSaveTool\"},{\"id\":\"87f2135e-b56c-4b9b-9df8-dc879550aff3\",\"type\":\"ResizeTool\"},{\"id\":\"b2a41fa0-da0d-49d1-8925-151e1f379f9a\",\"type\":\"ResetTool\"},{\"id\":\"f7e9cebe-96fe-4d6e-9fd3-82b45c2d1a10\",\"type\":\"HelpTool\"}],\"x_range\":{\"id\":\"f79fb207-5c72-42ea-a5f4-0c3a9f8d188e\",\"type\":\"DataRange1d\"},\"y_range\":{\"id\":\"3a06e36f-b862-4674-9b67-230eeab4d21a\",\"type\":\"DataRange1d\"}},\"id\":\"49a1c2be-bb4e-456b-b01a-14a5a9448c68\",\"subtype\":\"Figure\",\"type\":\"Plot\"},{\"attributes\":{\"plot\":{\"id\":\"49a1c2be-bb4e-456b-b01a-14a5a9448c68\",\"subtype\":\"Figure\",\"type\":\"Plot\"}},\"id\":\"f7e9cebe-96fe-4d6e-9fd3-82b45c2d1a10\",\"type\":\"HelpTool\"},{\"attributes\":{\"plot\":{\"id\":\"f0e6cad4-90f6-47e3-8d68-2d6ebac6ad4e\",\"subtype\":\"Figure\",\"type\":\"Plot\"}},\"id\":\"87aa4900-f8a6-438c-86d8-51a9e90eb9bc\",\"type\":\"PanTool\"},{\"attributes\":{\"callback\":null,\"column_names\":[\"y\",\"x\"],\"data\":{\"x\":[1,2,3,4,5],\"y\":[6,7,2,4,5]}},\"id\":\"86e1cd8d-25b3-48f8-8935-683201d42280\",\"type\":\"ColumnDataSource\"},{\"attributes\":{\"fill_alpha\":{\"value\":0.1},\"fill_color\":{\"value\":\"#1f77b4\"},\"line_alpha\":{\"value\":0.1},\"line_color\":{\"value\":\"#1f77b4\"},\"size\":{\"field\":\"size\",\"units\":\"screen\"},\"x\":{\"field\":\"x\"},\"y\":{\"field\":\"y\"}},\"id\":\"855f63d5-739a-44fd-b4f7-220e9fc8a2c2\",\"type\":\"Square\"},{\"attributes\":{\"fill_alpha\":{\"value\":0.1},\"fill_color\":{\"value\":\"#1f77b4\"},\"line_alpha\":{\"value\":0.1},\"line_color\":{\"value\":\"#1f77b4\"},\"size\":{\"units\":\"screen\",\"value\":15},\"x\":{\"field\":\"x\"},\"y\":{\"field\":\"y\"}},\"id\":\"ab0594a9-3127-4ec9-9b2c-d42d40ae34e3\",\"type\":\"Circle\"},{\"attributes\":{},\"id\":\"78c5cf24-a115-40a2-9790-91c5c9396316\",\"type\":\"BasicTickFormatter\"},{\"attributes\":{\"dimension\":1,\"plot\":{\"id\":\"f0e6cad4-90f6-47e3-8d68-2d6ebac6ad4e\",\"subtype\":\"Figure\",\"type\":\"Plot\"},\"ticker\":{\"id\":\"fded8a0f-c574-4736-98bb-2c9df584d74f\",\"type\":\"BasicTicker\"}},\"id\":\"ad4f2050-bb97-4575-b551-d76449715ca8\",\"type\":\"Grid\"},{\"attributes\":{\"plot\":{\"id\":\"49a1c2be-bb4e-456b-b01a-14a5a9448c68\",\"subtype\":\"Figure\",\"type\":\"Plot\"},\"ticker\":{\"id\":\"4036456b-5419-4d58-99ef-7f31c51e8707\",\"type\":\"BasicTicker\"}},\"id\":\"87e8016c-d51d-4ce0-b029-ff2446278b8d\",\"type\":\"Grid\"},{\"attributes\":{\"plot\":{\"id\":\"3e5a3c1a-c243-49d4-a3af-38966e49afe1\",\"subtype\":\"Figure\",\"type\":\"Plot\"}},\"id\":\"881f842d-9fce-4094-b61c-878c4f810dba\",\"type\":\"HelpTool\"},{\"attributes\":{\"bottom_units\":\"screen\",\"fill_alpha\":{\"value\":0.5},\"fill_color\":{\"value\":\"lightgrey\"},\"left_units\":\"screen\",\"level\":\"overlay\",\"line_alpha\":{\"value\":1.0},\"line_color\":{\"value\":\"black\"},\"line_dash\":[4,4],\"line_width\":{\"value\":2},\"plot\":null,\"render_mode\":\"css\",\"right_units\":\"screen\",\"top_units\":\"screen\"},\"id\":\"19cd7924-102c-4fd2-9aea-7f63b1dc97c4\",\"type\":\"BoxAnnotation\"},{\"attributes\":{\"callback\":null},\"id\":\"f79fb207-5c72-42ea-a5f4-0c3a9f8d188e\",\"type\":\"DataRange1d\"},{\"attributes\":{\"callback\":null},\"id\":\"3a06e36f-b862-4674-9b67-230eeab4d21a\",\"type\":\"DataRange1d\"},{\"attributes\":{\"plot\":{\"id\":\"f0e6cad4-90f6-47e3-8d68-2d6ebac6ad4e\",\"subtype\":\"Figure\",\"type\":\"Plot\"}},\"id\":\"f2a42b65-5e68-4407-a8f0-282c10036ece\",\"type\":\"ResizeTool\"},{\"attributes\":{\"plot\":{\"id\":\"3e5a3c1a-c243-49d4-a3af-38966e49afe1\",\"subtype\":\"Figure\",\"type\":\"Plot\"}},\"id\":\"f6760882-cd1c-49d2-a97b-13f7487de1a0\",\"type\":\"PanTool\"},{\"attributes\":{\"below\":[{\"id\":\"032dd91a-139f-4fd7-a5f1-9cff91661a6c\",\"type\":\"LinearAxis\"}],\"left\":[{\"id\":\"66d2cf31-9f19-4f17-a91b-f8baad333c19\",\"type\":\"LinearAxis\"}],\"plot_height\":400,\"plot_width\":400,\"renderers\":[{\"id\":\"032dd91a-139f-4fd7-a5f1-9cff91661a6c\",\"type\":\"LinearAxis\"},{\"id\":\"691db03b-2a04-406a-86d7-04a4093208dd\",\"type\":\"Grid\"},{\"id\":\"66d2cf31-9f19-4f17-a91b-f8baad333c19\",\"type\":\"LinearAxis\"},{\"id\":\"ad4f2050-bb97-4575-b551-d76449715ca8\",\"type\":\"Grid\"},{\"id\":\"ea49e87c-fbf9-40be-bebd-b185cee844a8\",\"type\":\"BoxAnnotation\"},{\"id\":\"f313c721-24dc-450f-bb24-1ed5f26a98ed\",\"type\":\"GlyphRenderer\"}],\"tool_events\":{\"id\":\"abf3fd9d-8277-4166-96db-c6a77ac468a2\",\"type\":\"ToolEvents\"},\"tools\":[{\"id\":\"87aa4900-f8a6-438c-86d8-51a9e90eb9bc\",\"type\":\"PanTool\"},{\"id\":\"9d88d9cc-3ff3-4d1c-b4ec-7ef0bb2fb38d\",\"type\":\"WheelZoomTool\"},{\"id\":\"a273cac2-8e82-473f-acf0-915cd4388dea\",\"type\":\"BoxZoomTool\"},{\"id\":\"f5b26b53-6721-4dc8-a233-f57d48fc4fa8\",\"type\":\"PreviewSaveTool\"},{\"id\":\"f2a42b65-5e68-4407-a8f0-282c10036ece\",\"type\":\"ResizeTool\"},{\"id\":\"1e3adae5-450e-422a-994d-985161ef6b9b\",\"type\":\"ResetTool\"},{\"id\":\"f9600868-c01a-4ef1-b21b-71a9f51d833d\",\"type\":\"HelpTool\"}],\"x_range\":{\"id\":\"9e50eb2a-9f40-4beb-b3a9-01d520bea8d4\",\"type\":\"DataRange1d\"},\"y_range\":{\"id\":\"3cd1dec1-b367-4b58-bfdf-529eeba7038e\",\"type\":\"DataRange1d\"}},\"id\":\"f0e6cad4-90f6-47e3-8d68-2d6ebac6ad4e\",\"subtype\":\"Figure\",\"type\":\"Plot\"},{\"attributes\":{\"callback\":null},\"id\":\"9e50eb2a-9f40-4beb-b3a9-01d520bea8d4\",\"type\":\"DataRange1d\"},{\"attributes\":{\"plot\":{\"id\":\"f0e6cad4-90f6-47e3-8d68-2d6ebac6ad4e\",\"subtype\":\"Figure\",\"type\":\"Plot\"}},\"id\":\"f5b26b53-6721-4dc8-a233-f57d48fc4fa8\",\"type\":\"PreviewSaveTool\"},{\"attributes\":{\"formatter\":{\"id\":\"2e950af9-6583-45e3-9d8d-7d82477e941a\",\"type\":\"BasicTickFormatter\"},\"plot\":{\"id\":\"49a1c2be-bb4e-456b-b01a-14a5a9448c68\",\"subtype\":\"Figure\",\"type\":\"Plot\"},\"ticker\":{\"id\":\"91515fbd-3204-478d-bab8-a297b9b6cc8c\",\"type\":\"BasicTicker\"}},\"id\":\"d2300692-f9f6-4d65-a1f5-de4131a4dfed\",\"type\":\"LinearAxis\"},{\"attributes\":{\"formatter\":{\"id\":\"b80c4776-5956-4e55-879b-7176ff10308d\",\"type\":\"BasicTickFormatter\"},\"plot\":{\"id\":\"49a1c2be-bb4e-456b-b01a-14a5a9448c68\",\"subtype\":\"Figure\",\"type\":\"Plot\"},\"ticker\":{\"id\":\"4036456b-5419-4d58-99ef-7f31c51e8707\",\"type\":\"BasicTicker\"}},\"id\":\"0427b429-f214-4aeb-b263-cd637215fd1e\",\"type\":\"LinearAxis\"},{\"attributes\":{\"callback\":null,\"column_names\":[\"y\",\"size\",\"x\"],\"data\":{\"size\":[10,15,20,25,30],\"x\":[1,2,3,4,5],\"y\":[6,7,2,4,5]}},\"id\":\"20e0f3aa-c71a-45b5-acd9-12ddbc8428d4\",\"type\":\"ColumnDataSource\"},{\"attributes\":{\"plot\":{\"id\":\"49a1c2be-bb4e-456b-b01a-14a5a9448c68\",\"subtype\":\"Figure\",\"type\":\"Plot\"}},\"id\":\"b2a41fa0-da0d-49d1-8925-151e1f379f9a\",\"type\":\"ResetTool\"},{\"attributes\":{},\"id\":\"6edba640-7b42-42a1-be94-373b56345ae6\",\"type\":\"BasicTickFormatter\"},{\"attributes\":{},\"id\":\"abf3fd9d-8277-4166-96db-c6a77ac468a2\",\"type\":\"ToolEvents\"},{\"attributes\":{},\"id\":\"2e950af9-6583-45e3-9d8d-7d82477e941a\",\"type\":\"BasicTickFormatter\"}],\"root_ids\":[\"f0e6cad4-90f6-47e3-8d68-2d6ebac6ad4e\",\"49a1c2be-bb4e-456b-b01a-14a5a9448c68\",\"3e5a3c1a-c243-49d4-a3af-38966e49afe1\"]},\"title\":\"Bokeh Application\",\"version\":\"0.11.1\"}};\n",
       "            var render_items = [{\"docid\":\"0ba1ff32-a536-4ee0-ada0-7bddd720d95e\",\"elementid\":\"515ae6d5-e26a-443c-882c-8366d4f18bd8\",\"modelid\":\"3e5a3c1a-c243-49d4-a3af-38966e49afe1\",\"notebook_comms_target\":\"fd4c820a-8963-4716-8cc4-180468c76595\"}];\n",
       "            \n",
       "            Bokeh.embed.embed_items(docs_json, render_items);\n",
       "        });\n",
       "      },\n",
       "      function(Bokeh) {\n",
       "      }\n",
       "    ];\n",
       "  \n",
       "    function run_inline_js() {\n",
       "      for (var i = 0; i < inline_js.length; i++) {\n",
       "        inline_js[i](window.Bokeh);\n",
       "      }\n",
       "    }\n",
       "  \n",
       "    if (window._bokeh_is_loading === 0) {\n",
       "      console.log(\"Bokeh: BokehJS loaded, going straight to plotting\");\n",
       "      run_inline_js();\n",
       "    } else {\n",
       "      load_libs(js_urls, function() {\n",
       "        console.log(\"Bokeh: BokehJS plotting callback run at\", now());\n",
       "        run_inline_js();\n",
       "      });\n",
       "    }\n",
       "  }(this));\n",
       "</script>"
      ]
     },
     "metadata": {},
     "output_type": "display_data"
    },
    {
     "data": {
      "text/html": [
       "<p><code>&lt;Bokeh Notebook handle for <strong>In[7]</strong>&gt;</code></p>"
      ],
      "text/plain": [
       "<bokeh.io._CommsHandle at 0x111dc12b0>"
      ]
     },
     "execution_count": 7,
     "metadata": {},
     "output_type": "execute_result"
    }
   ],
   "source": [
    "# create a new plot (with a title) using figure\n",
    "p = figure(plot_width=400, plot_height=400, title=\"My Line Plot\")\n",
    "\n",
    "# add a line renderer\n",
    "p.line([1, 2, 3, 4, 5], [6, 7, 2, 4, 5], line_width=2)\n",
    "\n",
    "show(p) # show the results"
   ]
  },
  {
   "cell_type": "markdown",
   "metadata": {},
   "source": [
    "# Images"
   ]
  },
  {
   "cell_type": "markdown",
   "metadata": {},
   "source": [
    "The example below shows how to use the `image_rgba` method to display raw RGBA data. \n",
    "\n",
    "**Note**: This example makes use of the NumPy library "
   ]
  },
  {
   "cell_type": "code",
   "execution_count": 8,
   "metadata": {
    "collapsed": false
   },
   "outputs": [
    {
     "data": {
      "text/html": [
       "\n",
       "\n",
       "    <div class=\"plotdiv\" id=\"782fba75-9359-4b8b-982a-b040b4c63d11\"></div>\n",
       "<script type=\"text/javascript\">\n",
       "  \n",
       "  (function(global) {\n",
       "    function now() {\n",
       "      return new Date();\n",
       "    }\n",
       "  \n",
       "    if (typeof (window._bokeh_onload_callbacks) === \"undefined\") {\n",
       "      window._bokeh_onload_callbacks = [];\n",
       "    }\n",
       "  \n",
       "    function run_callbacks() {\n",
       "      window._bokeh_onload_callbacks.forEach(function(callback) { callback() });\n",
       "      delete window._bokeh_onload_callbacks\n",
       "      console.info(\"Bokeh: all callbacks have finished\");\n",
       "    }\n",
       "  \n",
       "    function load_libs(js_urls, callback) {\n",
       "      window._bokeh_onload_callbacks.push(callback);\n",
       "      if (window._bokeh_is_loading > 0) {\n",
       "        console.log(\"Bokeh: BokehJS is being loaded, scheduling callback at\", now());\n",
       "        return null;\n",
       "      }\n",
       "      if (js_urls == null || js_urls.length === 0) {\n",
       "        run_callbacks();\n",
       "        return null;\n",
       "      }\n",
       "      console.log(\"Bokeh: BokehJS not loaded, scheduling load and callback at\", now());\n",
       "      window._bokeh_is_loading = js_urls.length;\n",
       "      for (var i = 0; i < js_urls.length; i++) {\n",
       "        var url = js_urls[i];\n",
       "        var s = document.createElement('script');\n",
       "        s.src = url;\n",
       "        s.async = false;\n",
       "        s.onreadystatechange = s.onload = function() {\n",
       "          window._bokeh_is_loading--;\n",
       "          if (window._bokeh_is_loading === 0) {\n",
       "            console.log(\"Bokeh: all BokehJS libraries loaded\");\n",
       "            run_callbacks()\n",
       "          }\n",
       "        };\n",
       "        s.onerror = function() {\n",
       "          console.warn(\"failed to load library \" + url);\n",
       "        };\n",
       "        console.log(\"Bokeh: injecting script tag for BokehJS library: \", url);\n",
       "        document.getElementsByTagName(\"head\")[0].appendChild(s);\n",
       "      }\n",
       "    };var element = document.getElementById(\"782fba75-9359-4b8b-982a-b040b4c63d11\");\n",
       "    if (element == null) {\n",
       "      console.log(\"Bokeh: ERROR: autoload.js configured with elementid '782fba75-9359-4b8b-982a-b040b4c63d11' but no matching script tag was found. \")\n",
       "      return false;\n",
       "    }\n",
       "  \n",
       "    var js_urls = [];\n",
       "  \n",
       "    var inline_js = [\n",
       "      function(Bokeh) {\n",
       "        Bokeh.$(function() {\n",
       "            var docs_json = {\"0053981b-dfe2-421b-88c9-d5a4f3f702fd\":{\"roots\":{\"references\":[{\"attributes\":{\"below\":[{\"id\":\"b7798bdf-943a-4a74-a894-376531837dfd\",\"type\":\"LinearAxis\"}],\"left\":[{\"id\":\"a1e709fc-5378-440b-b25f-1365384fc8b3\",\"type\":\"LinearAxis\"}],\"plot_height\":400,\"plot_width\":400,\"renderers\":[{\"id\":\"b7798bdf-943a-4a74-a894-376531837dfd\",\"type\":\"LinearAxis\"},{\"id\":\"2e88b296-dba2-4adf-b49c-528abd267a06\",\"type\":\"Grid\"},{\"id\":\"a1e709fc-5378-440b-b25f-1365384fc8b3\",\"type\":\"LinearAxis\"},{\"id\":\"6adadde5-162d-4c8f-9306-f9e2dbd4f266\",\"type\":\"Grid\"},{\"id\":\"19cd7924-102c-4fd2-9aea-7f63b1dc97c4\",\"type\":\"BoxAnnotation\"},{\"id\":\"66032908-5f31-45d1-9d69-c14052da76b9\",\"type\":\"GlyphRenderer\"}],\"title\":\"My Line Plot\",\"tool_events\":{\"id\":\"b34d29f7-d647-4962-b50b-fcfeaa416bf3\",\"type\":\"ToolEvents\"},\"tools\":[{\"id\":\"f6760882-cd1c-49d2-a97b-13f7487de1a0\",\"type\":\"PanTool\"},{\"id\":\"f4c8a1d6-6e6a-4e94-8e7b-5d6b302f5365\",\"type\":\"WheelZoomTool\"},{\"id\":\"c05a1fc5-09c0-497c-8940-f93a011225ee\",\"type\":\"BoxZoomTool\"},{\"id\":\"2fd06599-0758-431e-a422-281497bd97d6\",\"type\":\"PreviewSaveTool\"},{\"id\":\"7848d577-4154-4c1c-b904-5a2041ac4c12\",\"type\":\"ResizeTool\"},{\"id\":\"51639c5b-259d-4417-a467-5d08aecd9840\",\"type\":\"ResetTool\"},{\"id\":\"881f842d-9fce-4094-b61c-878c4f810dba\",\"type\":\"HelpTool\"}],\"x_range\":{\"id\":\"914e0391-a6b0-4bae-a398-542359ff9bd8\",\"type\":\"DataRange1d\"},\"y_range\":{\"id\":\"dd7cb98c-6867-4998-b594-8ffbc803fd61\",\"type\":\"DataRange1d\"}},\"id\":\"3e5a3c1a-c243-49d4-a3af-38966e49afe1\",\"subtype\":\"Figure\",\"type\":\"Plot\"},{\"attributes\":{\"plot\":{\"id\":\"621031ee-f074-4190-a6f7-53d1963b0a73\",\"subtype\":\"Figure\",\"type\":\"Plot\"}},\"id\":\"81520f1e-6aa4-480c-bc7a-a7d4b41f2a93\",\"type\":\"WheelZoomTool\"},{\"attributes\":{},\"id\":\"699c70fa-b01e-46e5-abe2-68ffe267b65b\",\"type\":\"BasicTickFormatter\"},{\"attributes\":{},\"id\":\"c76c1c02-c38a-4e03-a8b3-4ce8c07b2858\",\"type\":\"BasicTicker\"},{\"attributes\":{\"dimension\":1,\"plot\":{\"id\":\"3e5a3c1a-c243-49d4-a3af-38966e49afe1\",\"subtype\":\"Figure\",\"type\":\"Plot\"},\"ticker\":{\"id\":\"76a9e6cc-128e-4ab6-b2db-28812c0d6d0a\",\"type\":\"BasicTicker\"}},\"id\":\"6adadde5-162d-4c8f-9306-f9e2dbd4f266\",\"type\":\"Grid\"},{\"attributes\":{\"dimension\":1,\"plot\":{\"id\":\"49a1c2be-bb4e-456b-b01a-14a5a9448c68\",\"subtype\":\"Figure\",\"type\":\"Plot\"},\"ticker\":{\"id\":\"91515fbd-3204-478d-bab8-a297b9b6cc8c\",\"type\":\"BasicTicker\"}},\"id\":\"3d336c10-8b18-4b46-b243-b3f643eae2f6\",\"type\":\"Grid\"},{\"attributes\":{\"plot\":{\"id\":\"49a1c2be-bb4e-456b-b01a-14a5a9448c68\",\"subtype\":\"Figure\",\"type\":\"Plot\"}},\"id\":\"87f2135e-b56c-4b9b-9df8-dc879550aff3\",\"type\":\"ResizeTool\"},{\"attributes\":{\"plot\":{\"id\":\"f0e6cad4-90f6-47e3-8d68-2d6ebac6ad4e\",\"subtype\":\"Figure\",\"type\":\"Plot\"}},\"id\":\"f5b26b53-6721-4dc8-a233-f57d48fc4fa8\",\"type\":\"PreviewSaveTool\"},{\"attributes\":{\"plot\":{\"id\":\"f0e6cad4-90f6-47e3-8d68-2d6ebac6ad4e\",\"subtype\":\"Figure\",\"type\":\"Plot\"}},\"id\":\"1e3adae5-450e-422a-994d-985161ef6b9b\",\"type\":\"ResetTool\"},{\"attributes\":{\"plot\":{\"id\":\"f0e6cad4-90f6-47e3-8d68-2d6ebac6ad4e\",\"subtype\":\"Figure\",\"type\":\"Plot\"}},\"id\":\"9d88d9cc-3ff3-4d1c-b4ec-7ef0bb2fb38d\",\"type\":\"WheelZoomTool\"},{\"attributes\":{\"overlay\":{\"id\":\"ef34c2a7-43f8-4491-911c-7c4af893bacf\",\"type\":\"BoxAnnotation\"},\"plot\":{\"id\":\"621031ee-f074-4190-a6f7-53d1963b0a73\",\"subtype\":\"Figure\",\"type\":\"Plot\"}},\"id\":\"6746e8d3-0049-447f-8dda-fcaa7130b922\",\"type\":\"BoxZoomTool\"},{\"attributes\":{\"dimension\":1,\"plot\":{\"id\":\"f0e6cad4-90f6-47e3-8d68-2d6ebac6ad4e\",\"subtype\":\"Figure\",\"type\":\"Plot\"},\"ticker\":{\"id\":\"fded8a0f-c574-4736-98bb-2c9df584d74f\",\"type\":\"BasicTicker\"}},\"id\":\"ad4f2050-bb97-4575-b551-d76449715ca8\",\"type\":\"Grid\"},{\"attributes\":{\"callback\":null},\"id\":\"dd7cb98c-6867-4998-b594-8ffbc803fd61\",\"type\":\"DataRange1d\"},{\"attributes\":{\"data_source\":{\"id\":\"d2eecf15-46ed-4865-8d9b-8194f674701a\",\"type\":\"ColumnDataSource\"},\"glyph\":{\"id\":\"f495170b-19a5-4a46-aa88-9e75628a5737\",\"type\":\"Circle\"},\"hover_glyph\":null,\"nonselection_glyph\":{\"id\":\"ab0594a9-3127-4ec9-9b2c-d42d40ae34e3\",\"type\":\"Circle\"},\"selection_glyph\":null},\"id\":\"f313c721-24dc-450f-bb24-1ed5f26a98ed\",\"type\":\"GlyphRenderer\"},{\"attributes\":{\"callback\":null,\"column_names\":[\"dh\",\"y\",\"image\",\"x\",\"dw\"],\"data\":{\"dh\":[10],\"dw\":[10],\"image\":[[[4278230528,4279016960,4279868928,4280720896,4281572864,4282359296,4283211264,4284063232,4284915200,4285701632,4286553600,4287405568,4288257536,4289043968,4289895936,4290747904,4291599872,4292386304,4293238272,4294090240],[4278230540,4279016972,4279868940,4280720908,4281572876,4282359308,4283211276,4284063244,4284915212,4285701644,4286553612,4287405580,4288257548,4289043980,4289895948,4290747916,4291599884,4292386316,4293238284,4294090252],[4278230553,4279016985,4279868953,4280720921,4281572889,4282359321,4283211289,4284063257,4284915225,4285701657,4286553625,4287405593,4288257561,4289043993,4289895961,4290747929,4291599897,4292386329,4293238297,4294090265],[4278230566,4279016998,4279868966,4280720934,4281572902,4282359334,4283211302,4284063270,4284915238,4285701670,4286553638,4287405606,4288257574,4289044006,4289895974,4290747942,4291599910,4292386342,4293238310,4294090278],[4278230579,4279017011,4279868979,4280720947,4281572915,4282359347,4283211315,4284063283,4284915251,4285701683,4286553651,4287405619,4288257587,4289044019,4289895987,4290747955,4291599923,4292386355,4293238323,4294090291],[4278230591,4279017023,4279868991,4280720959,4281572927,4282359359,4283211327,4284063295,4284915263,4285701695,4286553663,4287405631,4288257599,4289044031,4289895999,4290747967,4291599935,4292386367,4293238335,4294090303],[4278230604,4279017036,4279869004,4280720972,4281572940,4282359372,4283211340,4284063308,4284915276,4285701708,4286553676,4287405644,4288257612,4289044044,4289896012,4290747980,4291599948,4292386380,4293238348,4294090316],[4278230617,4279017049,4279869017,4280720985,4281572953,4282359385,4283211353,4284063321,4284915289,4285701721,4286553689,4287405657,4288257625,4289044057,4289896025,4290747993,4291599961,4292386393,4293238361,4294090329],[4278230630,4279017062,4279869030,4280720998,4281572966,4282359398,4283211366,4284063334,4284915302,4285701734,4286553702,4287405670,4288257638,4289044070,4289896038,4290748006,4291599974,4292386406,4293238374,4294090342],[4278230642,4279017074,4279869042,4280721010,4281572978,4282359410,4283211378,4284063346,4284915314,4285701746,4286553714,4287405682,4288257650,4289044082,4289896050,4290748018,4291599986,4292386418,4293238386,4294090354],[4278230655,4279017087,4279869055,4280721023,4281572991,4282359423,4283211391,4284063359,4284915327,4285701759,4286553727,4287405695,4288257663,4289044095,4289896063,4290748031,4291599999,4292386431,4293238399,4294090367],[4278230668,4279017100,4279869068,4280721036,4281573004,4282359436,4283211404,4284063372,4284915340,4285701772,4286553740,4287405708,4288257676,4289044108,4289896076,4290748044,4291600012,4292386444,4293238412,4294090380],[4278230681,4279017113,4279869081,4280721049,4281573017,4282359449,4283211417,4284063385,4284915353,4285701785,4286553753,4287405721,4288257689,4289044121,4289896089,4290748057,4291600025,4292386457,4293238425,4294090393],[4278230693,4279017125,4279869093,4280721061,4281573029,4282359461,4283211429,4284063397,4284915365,4285701797,4286553765,4287405733,4288257701,4289044133,4289896101,4290748069,4291600037,4292386469,4293238437,4294090405],[4278230706,4279017138,4279869106,4280721074,4281573042,4282359474,4283211442,4284063410,4284915378,4285701810,4286553778,4287405746,4288257714,4289044146,4289896114,4290748082,4291600050,4292386482,4293238450,4294090418],[4278230719,4279017151,4279869119,4280721087,4281573055,4282359487,4283211455,4284063423,4284915391,4285701823,4286553791,4287405759,4288257727,4289044159,4289896127,4290748095,4291600063,4292386495,4293238463,4294090431],[4278230732,4279017164,4279869132,4280721100,4281573068,4282359500,4283211468,4284063436,4284915404,4285701836,4286553804,4287405772,4288257740,4289044172,4289896140,4290748108,4291600076,4292386508,4293238476,4294090444],[4278230744,4279017176,4279869144,4280721112,4281573080,4282359512,4283211480,4284063448,4284915416,4285701848,4286553816,4287405784,4288257752,4289044184,4289896152,4290748120,4291600088,4292386520,4293238488,4294090456],[4278230757,4279017189,4279869157,4280721125,4281573093,4282359525,4283211493,4284063461,4284915429,4285701861,4286553829,4287405797,4288257765,4289044197,4289896165,4290748133,4291600101,4292386533,4293238501,4294090469],[4278230770,4279017202,4279869170,4280721138,4281573106,4282359538,4283211506,4284063474,4284915442,4285701874,4286553842,4287405810,4288257778,4289044210,4289896178,4290748146,4291600114,4292386546,4293238514,4294090482]]],\"x\":[0],\"y\":[0]}},\"id\":\"7538636b-0483-49e5-a35e-c6a9acecd2d9\",\"type\":\"ColumnDataSource\"},{\"attributes\":{},\"id\":\"76a9e6cc-128e-4ab6-b2db-28812c0d6d0a\",\"type\":\"BasicTicker\"},{\"attributes\":{\"plot\":{\"id\":\"621031ee-f074-4190-a6f7-53d1963b0a73\",\"subtype\":\"Figure\",\"type\":\"Plot\"}},\"id\":\"d1f7fe75-aec0-4fef-8e63-09e49c79ae55\",\"type\":\"PreviewSaveTool\"},{\"attributes\":{\"plot\":{\"id\":\"621031ee-f074-4190-a6f7-53d1963b0a73\",\"subtype\":\"Figure\",\"type\":\"Plot\"}},\"id\":\"e4f33789-ccad-47c3-b9e6-e2569886917e\",\"type\":\"PanTool\"},{\"attributes\":{\"plot\":{\"id\":\"49a1c2be-bb4e-456b-b01a-14a5a9448c68\",\"subtype\":\"Figure\",\"type\":\"Plot\"}},\"id\":\"f7e9cebe-96fe-4d6e-9fd3-82b45c2d1a10\",\"type\":\"HelpTool\"},{\"attributes\":{\"plot\":{\"id\":\"49a1c2be-bb4e-456b-b01a-14a5a9448c68\",\"subtype\":\"Figure\",\"type\":\"Plot\"}},\"id\":\"f621ae55-245f-41b2-90ea-ca7d35ba63dd\",\"type\":\"PanTool\"},{\"attributes\":{\"formatter\":{\"id\":\"6edba640-7b42-42a1-be94-373b56345ae6\",\"type\":\"BasicTickFormatter\"},\"plot\":{\"id\":\"f0e6cad4-90f6-47e3-8d68-2d6ebac6ad4e\",\"subtype\":\"Figure\",\"type\":\"Plot\"},\"ticker\":{\"id\":\"fa608bba-9040-45ca-b8c1-5ce6e3b131d3\",\"type\":\"BasicTicker\"}},\"id\":\"032dd91a-139f-4fd7-a5f1-9cff91661a6c\",\"type\":\"LinearAxis\"},{\"attributes\":{\"plot\":{\"id\":\"f0e6cad4-90f6-47e3-8d68-2d6ebac6ad4e\",\"subtype\":\"Figure\",\"type\":\"Plot\"},\"ticker\":{\"id\":\"fa608bba-9040-45ca-b8c1-5ce6e3b131d3\",\"type\":\"BasicTicker\"}},\"id\":\"691db03b-2a04-406a-86d7-04a4093208dd\",\"type\":\"Grid\"},{\"attributes\":{},\"id\":\"fa608bba-9040-45ca-b8c1-5ce6e3b131d3\",\"type\":\"BasicTicker\"},{\"attributes\":{\"data_source\":{\"id\":\"20e0f3aa-c71a-45b5-acd9-12ddbc8428d4\",\"type\":\"ColumnDataSource\"},\"glyph\":{\"id\":\"7382ca3d-60f7-4505-8fed-7d3509d995bb\",\"type\":\"Square\"},\"hover_glyph\":null,\"nonselection_glyph\":{\"id\":\"855f63d5-739a-44fd-b4f7-220e9fc8a2c2\",\"type\":\"Square\"},\"selection_glyph\":null},\"id\":\"cab09057-afa1-4fb8-a5f1-7f07e82d2dee\",\"type\":\"GlyphRenderer\"},{\"attributes\":{\"line_alpha\":{\"value\":0.1},\"line_color\":{\"value\":\"#1f77b4\"},\"line_width\":{\"value\":2},\"x\":{\"field\":\"x\"},\"y\":{\"field\":\"y\"}},\"id\":\"629b2e7e-7a3c-420b-b616-40f01af43836\",\"type\":\"Line\"},{\"attributes\":{},\"id\":\"91d9a4a0-d196-4413-a025-c9dff73f246c\",\"type\":\"BasicTickFormatter\"},{\"attributes\":{\"plot\":{\"id\":\"3e5a3c1a-c243-49d4-a3af-38966e49afe1\",\"subtype\":\"Figure\",\"type\":\"Plot\"}},\"id\":\"51639c5b-259d-4417-a467-5d08aecd9840\",\"type\":\"ResetTool\"},{\"attributes\":{\"formatter\":{\"id\":\"da351d9f-746c-470e-8f4f-9644677b9889\",\"type\":\"BasicTickFormatter\"},\"plot\":{\"id\":\"3e5a3c1a-c243-49d4-a3af-38966e49afe1\",\"subtype\":\"Figure\",\"type\":\"Plot\"},\"ticker\":{\"id\":\"fe3dc54e-61e0-40ad-95e8-d43a704d5afe\",\"type\":\"BasicTicker\"}},\"id\":\"b7798bdf-943a-4a74-a894-376531837dfd\",\"type\":\"LinearAxis\"},{\"attributes\":{\"callback\":null},\"id\":\"3cd1dec1-b367-4b58-bfdf-529eeba7038e\",\"type\":\"DataRange1d\"},{\"attributes\":{\"plot\":{\"id\":\"3e5a3c1a-c243-49d4-a3af-38966e49afe1\",\"subtype\":\"Figure\",\"type\":\"Plot\"}},\"id\":\"7848d577-4154-4c1c-b904-5a2041ac4c12\",\"type\":\"ResizeTool\"},{\"attributes\":{},\"id\":\"fe3dc54e-61e0-40ad-95e8-d43a704d5afe\",\"type\":\"BasicTicker\"},{\"attributes\":{\"plot\":{\"id\":\"621031ee-f074-4190-a6f7-53d1963b0a73\",\"subtype\":\"Figure\",\"type\":\"Plot\"}},\"id\":\"2f8cbd53-1c1d-4654-b659-952f20a31a92\",\"type\":\"ResetTool\"},{\"attributes\":{\"formatter\":{\"id\":\"91d9a4a0-d196-4413-a025-c9dff73f246c\",\"type\":\"BasicTickFormatter\"},\"plot\":{\"id\":\"621031ee-f074-4190-a6f7-53d1963b0a73\",\"subtype\":\"Figure\",\"type\":\"Plot\"},\"ticker\":{\"id\":\"c76c1c02-c38a-4e03-a8b3-4ce8c07b2858\",\"type\":\"BasicTicker\"}},\"id\":\"92698b14-7cad-479f-bd37-ae13ed8cda7d\",\"type\":\"LinearAxis\"},{\"attributes\":{},\"id\":\"da351d9f-746c-470e-8f4f-9644677b9889\",\"type\":\"BasicTickFormatter\"},{\"attributes\":{\"dh\":{\"field\":\"dh\",\"units\":\"data\"},\"dw\":{\"field\":\"dw\",\"units\":\"data\"},\"image\":{\"field\":\"image\"},\"x\":{\"field\":\"x\"},\"y\":{\"field\":\"y\"}},\"id\":\"9f3cbdf6-3bf1-49e0-9b0a-59255ac4a5cb\",\"type\":\"ImageRGBA\"},{\"attributes\":{\"plot\":{\"id\":\"f0e6cad4-90f6-47e3-8d68-2d6ebac6ad4e\",\"subtype\":\"Figure\",\"type\":\"Plot\"}},\"id\":\"f9600868-c01a-4ef1-b21b-71a9f51d833d\",\"type\":\"HelpTool\"},{\"attributes\":{\"callback\":null,\"column_names\":[\"y\",\"x\"],\"data\":{\"x\":[1,2,3,4,5],\"y\":[6,7,2,4,5]}},\"id\":\"86e1cd8d-25b3-48f8-8935-683201d42280\",\"type\":\"ColumnDataSource\"},{\"attributes\":{},\"id\":\"c8f3a5bb-5193-4c87-9d47-394b1ad3e5a2\",\"type\":\"ToolEvents\"},{\"attributes\":{\"fill_alpha\":{\"value\":0.1},\"fill_color\":{\"value\":\"#1f77b4\"},\"line_alpha\":{\"value\":0.1},\"line_color\":{\"value\":\"#1f77b4\"},\"size\":{\"field\":\"size\",\"units\":\"screen\"},\"x\":{\"field\":\"x\"},\"y\":{\"field\":\"y\"}},\"id\":\"855f63d5-739a-44fd-b4f7-220e9fc8a2c2\",\"type\":\"Square\"},{\"attributes\":{\"fill_alpha\":{\"value\":0.1},\"fill_color\":{\"value\":\"#1f77b4\"},\"line_alpha\":{\"value\":0.1},\"line_color\":{\"value\":\"#1f77b4\"},\"size\":{\"units\":\"screen\",\"value\":15},\"x\":{\"field\":\"x\"},\"y\":{\"field\":\"y\"}},\"id\":\"ab0594a9-3127-4ec9-9b2c-d42d40ae34e3\",\"type\":\"Circle\"},{\"attributes\":{\"plot\":{\"id\":\"49a1c2be-bb4e-456b-b01a-14a5a9448c68\",\"subtype\":\"Figure\",\"type\":\"Plot\"},\"ticker\":{\"id\":\"4036456b-5419-4d58-99ef-7f31c51e8707\",\"type\":\"BasicTicker\"}},\"id\":\"87e8016c-d51d-4ce0-b029-ff2446278b8d\",\"type\":\"Grid\"},{\"attributes\":{\"dh\":{\"field\":\"dh\",\"units\":\"data\"},\"dw\":{\"field\":\"dw\",\"units\":\"data\"},\"image\":{\"field\":\"image\"},\"x\":{\"field\":\"x\"},\"y\":{\"field\":\"y\"}},\"id\":\"03c0bfde-e1d3-4fdb-b845-6ae8129163e6\",\"type\":\"ImageRGBA\"},{\"attributes\":{\"plot\":{\"id\":\"f0e6cad4-90f6-47e3-8d68-2d6ebac6ad4e\",\"subtype\":\"Figure\",\"type\":\"Plot\"}},\"id\":\"f2a42b65-5e68-4407-a8f0-282c10036ece\",\"type\":\"ResizeTool\"},{\"attributes\":{\"data_source\":{\"id\":\"86e1cd8d-25b3-48f8-8935-683201d42280\",\"type\":\"ColumnDataSource\"},\"glyph\":{\"id\":\"34bd52bd-468b-49ea-8b83-d8c14b1d2d81\",\"type\":\"Line\"},\"hover_glyph\":null,\"nonselection_glyph\":{\"id\":\"629b2e7e-7a3c-420b-b616-40f01af43836\",\"type\":\"Line\"},\"selection_glyph\":null},\"id\":\"66032908-5f31-45d1-9d69-c14052da76b9\",\"type\":\"GlyphRenderer\"},{\"attributes\":{\"data_source\":{\"id\":\"7538636b-0483-49e5-a35e-c6a9acecd2d9\",\"type\":\"ColumnDataSource\"},\"glyph\":{\"id\":\"03c0bfde-e1d3-4fdb-b845-6ae8129163e6\",\"type\":\"ImageRGBA\"},\"hover_glyph\":null,\"nonselection_glyph\":{\"id\":\"9f3cbdf6-3bf1-49e0-9b0a-59255ac4a5cb\",\"type\":\"ImageRGBA\"},\"selection_glyph\":null},\"id\":\"6f9fed5f-748b-4fdc-a8df-580536cf663c\",\"type\":\"GlyphRenderer\"},{\"attributes\":{\"plot\":{\"id\":\"3e5a3c1a-c243-49d4-a3af-38966e49afe1\",\"subtype\":\"Figure\",\"type\":\"Plot\"}},\"id\":\"f6760882-cd1c-49d2-a97b-13f7487de1a0\",\"type\":\"PanTool\"},{\"attributes\":{\"below\":[{\"id\":\"032dd91a-139f-4fd7-a5f1-9cff91661a6c\",\"type\":\"LinearAxis\"}],\"left\":[{\"id\":\"66d2cf31-9f19-4f17-a91b-f8baad333c19\",\"type\":\"LinearAxis\"}],\"plot_height\":400,\"plot_width\":400,\"renderers\":[{\"id\":\"032dd91a-139f-4fd7-a5f1-9cff91661a6c\",\"type\":\"LinearAxis\"},{\"id\":\"691db03b-2a04-406a-86d7-04a4093208dd\",\"type\":\"Grid\"},{\"id\":\"66d2cf31-9f19-4f17-a91b-f8baad333c19\",\"type\":\"LinearAxis\"},{\"id\":\"ad4f2050-bb97-4575-b551-d76449715ca8\",\"type\":\"Grid\"},{\"id\":\"ea49e87c-fbf9-40be-bebd-b185cee844a8\",\"type\":\"BoxAnnotation\"},{\"id\":\"f313c721-24dc-450f-bb24-1ed5f26a98ed\",\"type\":\"GlyphRenderer\"}],\"tool_events\":{\"id\":\"abf3fd9d-8277-4166-96db-c6a77ac468a2\",\"type\":\"ToolEvents\"},\"tools\":[{\"id\":\"87aa4900-f8a6-438c-86d8-51a9e90eb9bc\",\"type\":\"PanTool\"},{\"id\":\"9d88d9cc-3ff3-4d1c-b4ec-7ef0bb2fb38d\",\"type\":\"WheelZoomTool\"},{\"id\":\"a273cac2-8e82-473f-acf0-915cd4388dea\",\"type\":\"BoxZoomTool\"},{\"id\":\"f5b26b53-6721-4dc8-a233-f57d48fc4fa8\",\"type\":\"PreviewSaveTool\"},{\"id\":\"f2a42b65-5e68-4407-a8f0-282c10036ece\",\"type\":\"ResizeTool\"},{\"id\":\"1e3adae5-450e-422a-994d-985161ef6b9b\",\"type\":\"ResetTool\"},{\"id\":\"f9600868-c01a-4ef1-b21b-71a9f51d833d\",\"type\":\"HelpTool\"}],\"x_range\":{\"id\":\"9e50eb2a-9f40-4beb-b3a9-01d520bea8d4\",\"type\":\"DataRange1d\"},\"y_range\":{\"id\":\"3cd1dec1-b367-4b58-bfdf-529eeba7038e\",\"type\":\"DataRange1d\"}},\"id\":\"f0e6cad4-90f6-47e3-8d68-2d6ebac6ad4e\",\"subtype\":\"Figure\",\"type\":\"Plot\"},{\"attributes\":{},\"id\":\"78c5cf24-a115-40a2-9790-91c5c9396316\",\"type\":\"BasicTickFormatter\"},{\"attributes\":{},\"id\":\"91515fbd-3204-478d-bab8-a297b9b6cc8c\",\"type\":\"BasicTicker\"},{\"attributes\":{\"formatter\":{\"id\":\"765a116f-b5bb-44db-9b76-60c88e8636af\",\"type\":\"BasicTickFormatter\"},\"plot\":{\"id\":\"621031ee-f074-4190-a6f7-53d1963b0a73\",\"subtype\":\"Figure\",\"type\":\"Plot\"},\"ticker\":{\"id\":\"b683cd3c-8e57-45da-8191-b4185fbb420e\",\"type\":\"BasicTicker\"}},\"id\":\"a0602d80-5c35-449e-8790-00773f9d002d\",\"type\":\"LinearAxis\"},{\"attributes\":{\"dimension\":1,\"plot\":{\"id\":\"621031ee-f074-4190-a6f7-53d1963b0a73\",\"subtype\":\"Figure\",\"type\":\"Plot\"},\"ticker\":{\"id\":\"c76c1c02-c38a-4e03-a8b3-4ce8c07b2858\",\"type\":\"BasicTicker\"}},\"id\":\"547f4ac0-4e95-4f1b-bba6-d7251afa5b24\",\"type\":\"Grid\"},{\"attributes\":{\"callback\":null,\"column_names\":[\"y\",\"size\",\"x\"],\"data\":{\"size\":[10,15,20,25,30],\"x\":[1,2,3,4,5],\"y\":[6,7,2,4,5]}},\"id\":\"20e0f3aa-c71a-45b5-acd9-12ddbc8428d4\",\"type\":\"ColumnDataSource\"},{\"attributes\":{\"bottom_units\":\"screen\",\"fill_alpha\":{\"value\":0.5},\"fill_color\":{\"value\":\"lightgrey\"},\"left_units\":\"screen\",\"level\":\"overlay\",\"line_alpha\":{\"value\":1.0},\"line_color\":{\"value\":\"black\"},\"line_dash\":[4,4],\"line_width\":{\"value\":2},\"plot\":null,\"render_mode\":\"css\",\"right_units\":\"screen\",\"top_units\":\"screen\"},\"id\":\"72e6326f-6d72-4bdd-8a78-aefc6bfc1344\",\"type\":\"BoxAnnotation\"},{\"attributes\":{},\"id\":\"fded8a0f-c574-4736-98bb-2c9df584d74f\",\"type\":\"BasicTicker\"},{\"attributes\":{\"callback\":null},\"id\":\"914e0391-a6b0-4bae-a398-542359ff9bd8\",\"type\":\"DataRange1d\"},{\"attributes\":{\"plot\":{\"id\":\"621031ee-f074-4190-a6f7-53d1963b0a73\",\"subtype\":\"Figure\",\"type\":\"Plot\"}},\"id\":\"2ab85b89-f8af-4482-8719-aafe37f6bc3d\",\"type\":\"HelpTool\"},{\"attributes\":{},\"id\":\"66c4ce04-a69d-448a-b1ec-37926d4a6837\",\"type\":\"ToolEvents\"},{\"attributes\":{\"plot\":{\"id\":\"3e5a3c1a-c243-49d4-a3af-38966e49afe1\",\"subtype\":\"Figure\",\"type\":\"Plot\"},\"ticker\":{\"id\":\"fe3dc54e-61e0-40ad-95e8-d43a704d5afe\",\"type\":\"BasicTicker\"}},\"id\":\"2e88b296-dba2-4adf-b49c-528abd267a06\",\"type\":\"Grid\"},{\"attributes\":{\"fill_alpha\":{\"value\":0.5},\"fill_color\":{\"value\":\"orange\"},\"line_color\":{\"value\":\"navy\"},\"size\":{\"units\":\"screen\",\"value\":15},\"x\":{\"field\":\"x\"},\"y\":{\"field\":\"y\"}},\"id\":\"f495170b-19a5-4a46-aa88-9e75628a5737\",\"type\":\"Circle\"},{\"attributes\":{\"overlay\":{\"id\":\"19cd7924-102c-4fd2-9aea-7f63b1dc97c4\",\"type\":\"BoxAnnotation\"},\"plot\":{\"id\":\"3e5a3c1a-c243-49d4-a3af-38966e49afe1\",\"subtype\":\"Figure\",\"type\":\"Plot\"}},\"id\":\"c05a1fc5-09c0-497c-8940-f93a011225ee\",\"type\":\"BoxZoomTool\"},{\"attributes\":{\"fill_alpha\":{\"value\":0.6},\"fill_color\":{\"value\":\"firebrick\"},\"line_alpha\":{\"value\":0.6},\"line_color\":{\"value\":\"firebrick\"},\"size\":{\"field\":\"size\",\"units\":\"screen\"},\"x\":{\"field\":\"x\"},\"y\":{\"field\":\"y\"}},\"id\":\"7382ca3d-60f7-4505-8fed-7d3509d995bb\",\"type\":\"Square\"},{\"attributes\":{\"line_color\":{\"value\":\"#1f77b4\"},\"line_width\":{\"value\":2},\"x\":{\"field\":\"x\"},\"y\":{\"field\":\"y\"}},\"id\":\"34bd52bd-468b-49ea-8b83-d8c14b1d2d81\",\"type\":\"Line\"},{\"attributes\":{\"formatter\":{\"id\":\"b80c4776-5956-4e55-879b-7176ff10308d\",\"type\":\"BasicTickFormatter\"},\"plot\":{\"id\":\"49a1c2be-bb4e-456b-b01a-14a5a9448c68\",\"subtype\":\"Figure\",\"type\":\"Plot\"},\"ticker\":{\"id\":\"4036456b-5419-4d58-99ef-7f31c51e8707\",\"type\":\"BasicTicker\"}},\"id\":\"0427b429-f214-4aeb-b263-cd637215fd1e\",\"type\":\"LinearAxis\"},{\"attributes\":{},\"id\":\"b80c4776-5956-4e55-879b-7176ff10308d\",\"type\":\"BasicTickFormatter\"},{\"attributes\":{\"bottom_units\":\"screen\",\"fill_alpha\":{\"value\":0.5},\"fill_color\":{\"value\":\"lightgrey\"},\"left_units\":\"screen\",\"level\":\"overlay\",\"line_alpha\":{\"value\":1.0},\"line_color\":{\"value\":\"black\"},\"line_dash\":[4,4],\"line_width\":{\"value\":2},\"plot\":null,\"render_mode\":\"css\",\"right_units\":\"screen\",\"top_units\":\"screen\"},\"id\":\"ef34c2a7-43f8-4491-911c-7c4af893bacf\",\"type\":\"BoxAnnotation\"},{\"attributes\":{\"overlay\":{\"id\":\"72e6326f-6d72-4bdd-8a78-aefc6bfc1344\",\"type\":\"BoxAnnotation\"},\"plot\":{\"id\":\"49a1c2be-bb4e-456b-b01a-14a5a9448c68\",\"subtype\":\"Figure\",\"type\":\"Plot\"}},\"id\":\"c34b087f-3016-4d0b-be0f-8456f08c81d6\",\"type\":\"BoxZoomTool\"},{\"attributes\":{\"formatter\":{\"id\":\"78c5cf24-a115-40a2-9790-91c5c9396316\",\"type\":\"BasicTickFormatter\"},\"plot\":{\"id\":\"3e5a3c1a-c243-49d4-a3af-38966e49afe1\",\"subtype\":\"Figure\",\"type\":\"Plot\"},\"ticker\":{\"id\":\"76a9e6cc-128e-4ab6-b2db-28812c0d6d0a\",\"type\":\"BasicTicker\"}},\"id\":\"a1e709fc-5378-440b-b25f-1365384fc8b3\",\"type\":\"LinearAxis\"},{\"attributes\":{},\"id\":\"b683cd3c-8e57-45da-8191-b4185fbb420e\",\"type\":\"BasicTicker\"},{\"attributes\":{\"below\":[{\"id\":\"0427b429-f214-4aeb-b263-cd637215fd1e\",\"type\":\"LinearAxis\"}],\"left\":[{\"id\":\"d2300692-f9f6-4d65-a1f5-de4131a4dfed\",\"type\":\"LinearAxis\"}],\"plot_height\":400,\"plot_width\":400,\"renderers\":[{\"id\":\"0427b429-f214-4aeb-b263-cd637215fd1e\",\"type\":\"LinearAxis\"},{\"id\":\"87e8016c-d51d-4ce0-b029-ff2446278b8d\",\"type\":\"Grid\"},{\"id\":\"d2300692-f9f6-4d65-a1f5-de4131a4dfed\",\"type\":\"LinearAxis\"},{\"id\":\"3d336c10-8b18-4b46-b243-b3f643eae2f6\",\"type\":\"Grid\"},{\"id\":\"72e6326f-6d72-4bdd-8a78-aefc6bfc1344\",\"type\":\"BoxAnnotation\"},{\"id\":\"cab09057-afa1-4fb8-a5f1-7f07e82d2dee\",\"type\":\"GlyphRenderer\"}],\"tool_events\":{\"id\":\"66c4ce04-a69d-448a-b1ec-37926d4a6837\",\"type\":\"ToolEvents\"},\"tools\":[{\"id\":\"f621ae55-245f-41b2-90ea-ca7d35ba63dd\",\"type\":\"PanTool\"},{\"id\":\"f9edc46a-6d55-4c89-bbb8-44d63f99c7e1\",\"type\":\"WheelZoomTool\"},{\"id\":\"c34b087f-3016-4d0b-be0f-8456f08c81d6\",\"type\":\"BoxZoomTool\"},{\"id\":\"5d436bf7-7e6f-4bf9-8e11-a70d110348ed\",\"type\":\"PreviewSaveTool\"},{\"id\":\"87f2135e-b56c-4b9b-9df8-dc879550aff3\",\"type\":\"ResizeTool\"},{\"id\":\"b2a41fa0-da0d-49d1-8925-151e1f379f9a\",\"type\":\"ResetTool\"},{\"id\":\"f7e9cebe-96fe-4d6e-9fd3-82b45c2d1a10\",\"type\":\"HelpTool\"}],\"x_range\":{\"id\":\"f79fb207-5c72-42ea-a5f4-0c3a9f8d188e\",\"type\":\"DataRange1d\"},\"y_range\":{\"id\":\"3a06e36f-b862-4674-9b67-230eeab4d21a\",\"type\":\"DataRange1d\"}},\"id\":\"49a1c2be-bb4e-456b-b01a-14a5a9448c68\",\"subtype\":\"Figure\",\"type\":\"Plot\"},{\"attributes\":{},\"id\":\"4036456b-5419-4d58-99ef-7f31c51e8707\",\"type\":\"BasicTicker\"},{\"attributes\":{\"plot\":{\"id\":\"3e5a3c1a-c243-49d4-a3af-38966e49afe1\",\"subtype\":\"Figure\",\"type\":\"Plot\"}},\"id\":\"2fd06599-0758-431e-a422-281497bd97d6\",\"type\":\"PreviewSaveTool\"},{\"attributes\":{},\"id\":\"b34d29f7-d647-4962-b50b-fcfeaa416bf3\",\"type\":\"ToolEvents\"},{\"attributes\":{\"formatter\":{\"id\":\"699c70fa-b01e-46e5-abe2-68ffe267b65b\",\"type\":\"BasicTickFormatter\"},\"plot\":{\"id\":\"f0e6cad4-90f6-47e3-8d68-2d6ebac6ad4e\",\"subtype\":\"Figure\",\"type\":\"Plot\"},\"ticker\":{\"id\":\"fded8a0f-c574-4736-98bb-2c9df584d74f\",\"type\":\"BasicTicker\"}},\"id\":\"66d2cf31-9f19-4f17-a91b-f8baad333c19\",\"type\":\"LinearAxis\"},{\"attributes\":{\"callback\":null,\"column_names\":[\"y\",\"x\"],\"data\":{\"x\":[1,2,3,4,5],\"y\":[6,7,2,4,5]}},\"id\":\"d2eecf15-46ed-4865-8d9b-8194f674701a\",\"type\":\"ColumnDataSource\"},{\"attributes\":{\"overlay\":{\"id\":\"ea49e87c-fbf9-40be-bebd-b185cee844a8\",\"type\":\"BoxAnnotation\"},\"plot\":{\"id\":\"f0e6cad4-90f6-47e3-8d68-2d6ebac6ad4e\",\"subtype\":\"Figure\",\"type\":\"Plot\"}},\"id\":\"a273cac2-8e82-473f-acf0-915cd4388dea\",\"type\":\"BoxZoomTool\"},{\"attributes\":{\"plot\":{\"id\":\"3e5a3c1a-c243-49d4-a3af-38966e49afe1\",\"subtype\":\"Figure\",\"type\":\"Plot\"}},\"id\":\"f4c8a1d6-6e6a-4e94-8e7b-5d6b302f5365\",\"type\":\"WheelZoomTool\"},{\"attributes\":{\"callback\":null,\"end\":10},\"id\":\"f8c62726-ea36-4456-a1c2-87c1b9b87c4c\",\"type\":\"Range1d\"},{\"attributes\":{\"plot\":{\"id\":\"621031ee-f074-4190-a6f7-53d1963b0a73\",\"subtype\":\"Figure\",\"type\":\"Plot\"},\"ticker\":{\"id\":\"b683cd3c-8e57-45da-8191-b4185fbb420e\",\"type\":\"BasicTicker\"}},\"id\":\"a553f045-9a7f-47be-95f8-e2c6c45ba23d\",\"type\":\"Grid\"},{\"attributes\":{\"plot\":{\"id\":\"f0e6cad4-90f6-47e3-8d68-2d6ebac6ad4e\",\"subtype\":\"Figure\",\"type\":\"Plot\"}},\"id\":\"87aa4900-f8a6-438c-86d8-51a9e90eb9bc\",\"type\":\"PanTool\"},{\"attributes\":{\"bottom_units\":\"screen\",\"fill_alpha\":{\"value\":0.5},\"fill_color\":{\"value\":\"lightgrey\"},\"left_units\":\"screen\",\"level\":\"overlay\",\"line_alpha\":{\"value\":1.0},\"line_color\":{\"value\":\"black\"},\"line_dash\":[4,4],\"line_width\":{\"value\":2},\"plot\":null,\"render_mode\":\"css\",\"right_units\":\"screen\",\"top_units\":\"screen\"},\"id\":\"ea49e87c-fbf9-40be-bebd-b185cee844a8\",\"type\":\"BoxAnnotation\"},{\"attributes\":{\"callback\":null,\"end\":10},\"id\":\"b059fe21-9bf2-4284-ab2c-55f091b828e1\",\"type\":\"Range1d\"},{\"attributes\":{\"plot\":{\"id\":\"49a1c2be-bb4e-456b-b01a-14a5a9448c68\",\"subtype\":\"Figure\",\"type\":\"Plot\"}},\"id\":\"5d436bf7-7e6f-4bf9-8e11-a70d110348ed\",\"type\":\"PreviewSaveTool\"},{\"attributes\":{\"plot\":{\"id\":\"3e5a3c1a-c243-49d4-a3af-38966e49afe1\",\"subtype\":\"Figure\",\"type\":\"Plot\"}},\"id\":\"881f842d-9fce-4094-b61c-878c4f810dba\",\"type\":\"HelpTool\"},{\"attributes\":{\"below\":[{\"id\":\"a0602d80-5c35-449e-8790-00773f9d002d\",\"type\":\"LinearAxis\"}],\"left\":[{\"id\":\"92698b14-7cad-479f-bd37-ae13ed8cda7d\",\"type\":\"LinearAxis\"}],\"renderers\":[{\"id\":\"a0602d80-5c35-449e-8790-00773f9d002d\",\"type\":\"LinearAxis\"},{\"id\":\"a553f045-9a7f-47be-95f8-e2c6c45ba23d\",\"type\":\"Grid\"},{\"id\":\"92698b14-7cad-479f-bd37-ae13ed8cda7d\",\"type\":\"LinearAxis\"},{\"id\":\"547f4ac0-4e95-4f1b-bba6-d7251afa5b24\",\"type\":\"Grid\"},{\"id\":\"ef34c2a7-43f8-4491-911c-7c4af893bacf\",\"type\":\"BoxAnnotation\"},{\"id\":\"6f9fed5f-748b-4fdc-a8df-580536cf663c\",\"type\":\"GlyphRenderer\"}],\"tool_events\":{\"id\":\"c8f3a5bb-5193-4c87-9d47-394b1ad3e5a2\",\"type\":\"ToolEvents\"},\"tools\":[{\"id\":\"e4f33789-ccad-47c3-b9e6-e2569886917e\",\"type\":\"PanTool\"},{\"id\":\"81520f1e-6aa4-480c-bc7a-a7d4b41f2a93\",\"type\":\"WheelZoomTool\"},{\"id\":\"6746e8d3-0049-447f-8dda-fcaa7130b922\",\"type\":\"BoxZoomTool\"},{\"id\":\"d1f7fe75-aec0-4fef-8e63-09e49c79ae55\",\"type\":\"PreviewSaveTool\"},{\"id\":\"f447e14a-f40d-4a99-9fc0-1f31564ac6bd\",\"type\":\"ResizeTool\"},{\"id\":\"2f8cbd53-1c1d-4654-b659-952f20a31a92\",\"type\":\"ResetTool\"},{\"id\":\"2ab85b89-f8af-4482-8719-aafe37f6bc3d\",\"type\":\"HelpTool\"}],\"x_range\":{\"id\":\"b059fe21-9bf2-4284-ab2c-55f091b828e1\",\"type\":\"Range1d\"},\"y_range\":{\"id\":\"f8c62726-ea36-4456-a1c2-87c1b9b87c4c\",\"type\":\"Range1d\"}},\"id\":\"621031ee-f074-4190-a6f7-53d1963b0a73\",\"subtype\":\"Figure\",\"type\":\"Plot\"},{\"attributes\":{\"plot\":{\"id\":\"621031ee-f074-4190-a6f7-53d1963b0a73\",\"subtype\":\"Figure\",\"type\":\"Plot\"}},\"id\":\"f447e14a-f40d-4a99-9fc0-1f31564ac6bd\",\"type\":\"ResizeTool\"},{\"attributes\":{\"bottom_units\":\"screen\",\"fill_alpha\":{\"value\":0.5},\"fill_color\":{\"value\":\"lightgrey\"},\"left_units\":\"screen\",\"level\":\"overlay\",\"line_alpha\":{\"value\":1.0},\"line_color\":{\"value\":\"black\"},\"line_dash\":[4,4],\"line_width\":{\"value\":2},\"plot\":null,\"render_mode\":\"css\",\"right_units\":\"screen\",\"top_units\":\"screen\"},\"id\":\"19cd7924-102c-4fd2-9aea-7f63b1dc97c4\",\"type\":\"BoxAnnotation\"},{\"attributes\":{\"callback\":null},\"id\":\"3a06e36f-b862-4674-9b67-230eeab4d21a\",\"type\":\"DataRange1d\"},{\"attributes\":{\"callback\":null},\"id\":\"9e50eb2a-9f40-4beb-b3a9-01d520bea8d4\",\"type\":\"DataRange1d\"},{\"attributes\":{\"formatter\":{\"id\":\"2e950af9-6583-45e3-9d8d-7d82477e941a\",\"type\":\"BasicTickFormatter\"},\"plot\":{\"id\":\"49a1c2be-bb4e-456b-b01a-14a5a9448c68\",\"subtype\":\"Figure\",\"type\":\"Plot\"},\"ticker\":{\"id\":\"91515fbd-3204-478d-bab8-a297b9b6cc8c\",\"type\":\"BasicTicker\"}},\"id\":\"d2300692-f9f6-4d65-a1f5-de4131a4dfed\",\"type\":\"LinearAxis\"},{\"attributes\":{\"plot\":{\"id\":\"49a1c2be-bb4e-456b-b01a-14a5a9448c68\",\"subtype\":\"Figure\",\"type\":\"Plot\"}},\"id\":\"f9edc46a-6d55-4c89-bbb8-44d63f99c7e1\",\"type\":\"WheelZoomTool\"},{\"attributes\":{\"callback\":null},\"id\":\"f79fb207-5c72-42ea-a5f4-0c3a9f8d188e\",\"type\":\"DataRange1d\"},{\"attributes\":{},\"id\":\"765a116f-b5bb-44db-9b76-60c88e8636af\",\"type\":\"BasicTickFormatter\"},{\"attributes\":{\"plot\":{\"id\":\"49a1c2be-bb4e-456b-b01a-14a5a9448c68\",\"subtype\":\"Figure\",\"type\":\"Plot\"}},\"id\":\"b2a41fa0-da0d-49d1-8925-151e1f379f9a\",\"type\":\"ResetTool\"},{\"attributes\":{},\"id\":\"6edba640-7b42-42a1-be94-373b56345ae6\",\"type\":\"BasicTickFormatter\"},{\"attributes\":{},\"id\":\"abf3fd9d-8277-4166-96db-c6a77ac468a2\",\"type\":\"ToolEvents\"},{\"attributes\":{},\"id\":\"2e950af9-6583-45e3-9d8d-7d82477e941a\",\"type\":\"BasicTickFormatter\"}],\"root_ids\":[\"f0e6cad4-90f6-47e3-8d68-2d6ebac6ad4e\",\"49a1c2be-bb4e-456b-b01a-14a5a9448c68\",\"3e5a3c1a-c243-49d4-a3af-38966e49afe1\",\"621031ee-f074-4190-a6f7-53d1963b0a73\"]},\"title\":\"Bokeh Application\",\"version\":\"0.11.1\"}};\n",
       "            var render_items = [{\"docid\":\"0053981b-dfe2-421b-88c9-d5a4f3f702fd\",\"elementid\":\"782fba75-9359-4b8b-982a-b040b4c63d11\",\"modelid\":\"621031ee-f074-4190-a6f7-53d1963b0a73\",\"notebook_comms_target\":\"c829d01b-14a6-46a1-b684-9f3a53492c61\"}];\n",
       "            \n",
       "            Bokeh.embed.embed_items(docs_json, render_items);\n",
       "        });\n",
       "      },\n",
       "      function(Bokeh) {\n",
       "      }\n",
       "    ];\n",
       "  \n",
       "    function run_inline_js() {\n",
       "      for (var i = 0; i < inline_js.length; i++) {\n",
       "        inline_js[i](window.Bokeh);\n",
       "      }\n",
       "    }\n",
       "  \n",
       "    if (window._bokeh_is_loading === 0) {\n",
       "      console.log(\"Bokeh: BokehJS loaded, going straight to plotting\");\n",
       "      run_inline_js();\n",
       "    } else {\n",
       "      load_libs(js_urls, function() {\n",
       "        console.log(\"Bokeh: BokehJS plotting callback run at\", now());\n",
       "        run_inline_js();\n",
       "      });\n",
       "    }\n",
       "  }(this));\n",
       "</script>"
      ]
     },
     "metadata": {},
     "output_type": "display_data"
    },
    {
     "data": {
      "text/html": [
       "<p><code>&lt;Bokeh Notebook handle for <strong>In[8]</strong>&gt;</code></p>"
      ],
      "text/plain": [
       "<bokeh.io._CommsHandle at 0x111dca4e0>"
      ]
     },
     "execution_count": 8,
     "metadata": {},
     "output_type": "execute_result"
    }
   ],
   "source": [
    "from __future__ import division\n",
    "import numpy as np\n",
    "\n",
    "# set up some data\n",
    "N = 20\n",
    "img = np.empty((N,N), dtype=np.uint32)\n",
    "view = img.view(dtype=np.uint8).reshape((N, N, 4))\n",
    "for i in range(N):\n",
    "    for j in range(N):\n",
    "        view[i, j, 0] = int(i/N*255) # red\n",
    "        view[i, j, 1] = 158          # green\n",
    "        view[i, j, 2] = int(j/N*255) # blue\n",
    "        view[i, j, 3] = 255          # alpha\n",
    "        \n",
    "# create a new plot (with a fixed range) using figure\n",
    "p = figure(x_range=[0,10], y_range=[0,10])\n",
    "\n",
    "# add an RGBA image renderer\n",
    "p.image_rgba(image=[img], x=[0], y=[0], dw=[10], dh=[10])\n",
    "\n",
    "show(p) # show the results"
   ]
  },
  {
   "cell_type": "markdown",
   "metadata": {},
   "source": [
    "# Other Kinds of Glyphs\n",
    "\n",
    "Bokeh supports many other kinds of glyphs. You can click on the User Guide links below to see how to create plots with these glyphs using the [`bokeh.plotting`](http://bokeh.pydata.org/en/latest/docs/user_guide/plotting.html) interface.\n",
    "\n",
    "* [Rectangles and Ovals](http://bokeh.pydata.org/en/latest/docs/user_guide/plotting.html#rectangles-and-ovals)\n",
    "* [Segments and Rays](http://bokeh.pydata.org/en/latest/docs/user_guide/plotting.html#segments-and-rays)\n",
    "* [Wedges and Arcs](http://bokeh.pydata.org/en/latest/docs/user_guide/plotting.html#wedges-and-arcs)\n",
    "* [Specialized Curves](http://bokeh.pydata.org/en/latest/docs/user_guide/plotting.html#specialized-curves)\n"
   ]
  },
  {
   "cell_type": "code",
   "execution_count": 9,
   "metadata": {
    "collapsed": true
   },
   "outputs": [],
   "source": [
    "# EXERCISE: Plot some of the other glyph types, following the examples in the User Guide. \n",
    "\n"
   ]
  },
  {
   "cell_type": "markdown",
   "metadata": {},
   "source": [
    "# Plots with Multiple Glyphs \n",
    "\n",
    "It is possible to combine more than one glyph on a single figure. You just need to call multiple glyph methods on one figure object:"
   ]
  },
  {
   "cell_type": "code",
   "execution_count": 10,
   "metadata": {
    "collapsed": false
   },
   "outputs": [
    {
     "data": {
      "text/html": [
       "\n",
       "\n",
       "    <div class=\"plotdiv\" id=\"8df4c550-2218-4af6-82d9-d8ade061f47f\"></div>\n",
       "<script type=\"text/javascript\">\n",
       "  \n",
       "  (function(global) {\n",
       "    function now() {\n",
       "      return new Date();\n",
       "    }\n",
       "  \n",
       "    if (typeof (window._bokeh_onload_callbacks) === \"undefined\") {\n",
       "      window._bokeh_onload_callbacks = [];\n",
       "    }\n",
       "  \n",
       "    function run_callbacks() {\n",
       "      window._bokeh_onload_callbacks.forEach(function(callback) { callback() });\n",
       "      delete window._bokeh_onload_callbacks\n",
       "      console.info(\"Bokeh: all callbacks have finished\");\n",
       "    }\n",
       "  \n",
       "    function load_libs(js_urls, callback) {\n",
       "      window._bokeh_onload_callbacks.push(callback);\n",
       "      if (window._bokeh_is_loading > 0) {\n",
       "        console.log(\"Bokeh: BokehJS is being loaded, scheduling callback at\", now());\n",
       "        return null;\n",
       "      }\n",
       "      if (js_urls == null || js_urls.length === 0) {\n",
       "        run_callbacks();\n",
       "        return null;\n",
       "      }\n",
       "      console.log(\"Bokeh: BokehJS not loaded, scheduling load and callback at\", now());\n",
       "      window._bokeh_is_loading = js_urls.length;\n",
       "      for (var i = 0; i < js_urls.length; i++) {\n",
       "        var url = js_urls[i];\n",
       "        var s = document.createElement('script');\n",
       "        s.src = url;\n",
       "        s.async = false;\n",
       "        s.onreadystatechange = s.onload = function() {\n",
       "          window._bokeh_is_loading--;\n",
       "          if (window._bokeh_is_loading === 0) {\n",
       "            console.log(\"Bokeh: all BokehJS libraries loaded\");\n",
       "            run_callbacks()\n",
       "          }\n",
       "        };\n",
       "        s.onerror = function() {\n",
       "          console.warn(\"failed to load library \" + url);\n",
       "        };\n",
       "        console.log(\"Bokeh: injecting script tag for BokehJS library: \", url);\n",
       "        document.getElementsByTagName(\"head\")[0].appendChild(s);\n",
       "      }\n",
       "    };var element = document.getElementById(\"8df4c550-2218-4af6-82d9-d8ade061f47f\");\n",
       "    if (element == null) {\n",
       "      console.log(\"Bokeh: ERROR: autoload.js configured with elementid '8df4c550-2218-4af6-82d9-d8ade061f47f' but no matching script tag was found. \")\n",
       "      return false;\n",
       "    }\n",
       "  \n",
       "    var js_urls = [];\n",
       "  \n",
       "    var inline_js = [\n",
       "      function(Bokeh) {\n",
       "        Bokeh.$(function() {\n",
       "            var docs_json = {\"41c8a267-7935-4f03-8b31-1b83ac03af1b\":{\"roots\":{\"references\":[{\"attributes\":{\"plot\":{\"id\":\"e491e76b-0e4e-4da8-91a8-02fabefab90c\",\"subtype\":\"Figure\",\"type\":\"Plot\"}},\"id\":\"0bd8ef09-5f2c-4d3f-a44d-e516ff17c9fa\",\"type\":\"PreviewSaveTool\"},{\"attributes\":{\"plot\":{\"id\":\"e491e76b-0e4e-4da8-91a8-02fabefab90c\",\"subtype\":\"Figure\",\"type\":\"Plot\"}},\"id\":\"48d7f13a-1594-4819-aa94-7e95221b2aa7\",\"type\":\"ResetTool\"},{\"attributes\":{\"below\":[{\"id\":\"b7798bdf-943a-4a74-a894-376531837dfd\",\"type\":\"LinearAxis\"}],\"left\":[{\"id\":\"a1e709fc-5378-440b-b25f-1365384fc8b3\",\"type\":\"LinearAxis\"}],\"plot_height\":400,\"plot_width\":400,\"renderers\":[{\"id\":\"b7798bdf-943a-4a74-a894-376531837dfd\",\"type\":\"LinearAxis\"},{\"id\":\"2e88b296-dba2-4adf-b49c-528abd267a06\",\"type\":\"Grid\"},{\"id\":\"a1e709fc-5378-440b-b25f-1365384fc8b3\",\"type\":\"LinearAxis\"},{\"id\":\"6adadde5-162d-4c8f-9306-f9e2dbd4f266\",\"type\":\"Grid\"},{\"id\":\"19cd7924-102c-4fd2-9aea-7f63b1dc97c4\",\"type\":\"BoxAnnotation\"},{\"id\":\"66032908-5f31-45d1-9d69-c14052da76b9\",\"type\":\"GlyphRenderer\"}],\"title\":\"My Line Plot\",\"tool_events\":{\"id\":\"b34d29f7-d647-4962-b50b-fcfeaa416bf3\",\"type\":\"ToolEvents\"},\"tools\":[{\"id\":\"f6760882-cd1c-49d2-a97b-13f7487de1a0\",\"type\":\"PanTool\"},{\"id\":\"f4c8a1d6-6e6a-4e94-8e7b-5d6b302f5365\",\"type\":\"WheelZoomTool\"},{\"id\":\"c05a1fc5-09c0-497c-8940-f93a011225ee\",\"type\":\"BoxZoomTool\"},{\"id\":\"2fd06599-0758-431e-a422-281497bd97d6\",\"type\":\"PreviewSaveTool\"},{\"id\":\"7848d577-4154-4c1c-b904-5a2041ac4c12\",\"type\":\"ResizeTool\"},{\"id\":\"51639c5b-259d-4417-a467-5d08aecd9840\",\"type\":\"ResetTool\"},{\"id\":\"881f842d-9fce-4094-b61c-878c4f810dba\",\"type\":\"HelpTool\"}],\"x_range\":{\"id\":\"914e0391-a6b0-4bae-a398-542359ff9bd8\",\"type\":\"DataRange1d\"},\"y_range\":{\"id\":\"dd7cb98c-6867-4998-b594-8ffbc803fd61\",\"type\":\"DataRange1d\"}},\"id\":\"3e5a3c1a-c243-49d4-a3af-38966e49afe1\",\"subtype\":\"Figure\",\"type\":\"Plot\"},{\"attributes\":{\"plot\":{\"id\":\"621031ee-f074-4190-a6f7-53d1963b0a73\",\"subtype\":\"Figure\",\"type\":\"Plot\"}},\"id\":\"81520f1e-6aa4-480c-bc7a-a7d4b41f2a93\",\"type\":\"WheelZoomTool\"},{\"attributes\":{\"data_source\":{\"id\":\"d2eecf15-46ed-4865-8d9b-8194f674701a\",\"type\":\"ColumnDataSource\"},\"glyph\":{\"id\":\"f495170b-19a5-4a46-aa88-9e75628a5737\",\"type\":\"Circle\"},\"hover_glyph\":null,\"nonselection_glyph\":{\"id\":\"ab0594a9-3127-4ec9-9b2c-d42d40ae34e3\",\"type\":\"Circle\"},\"selection_glyph\":null},\"id\":\"f313c721-24dc-450f-bb24-1ed5f26a98ed\",\"type\":\"GlyphRenderer\"},{\"attributes\":{},\"id\":\"699c70fa-b01e-46e5-abe2-68ffe267b65b\",\"type\":\"BasicTickFormatter\"},{\"attributes\":{},\"id\":\"c76c1c02-c38a-4e03-a8b3-4ce8c07b2858\",\"type\":\"BasicTicker\"},{\"attributes\":{\"fill_color\":{\"value\":\"white\"},\"line_color\":{\"value\":\"#1f77b4\"},\"size\":{\"units\":\"screen\",\"value\":8},\"x\":{\"field\":\"x\"},\"y\":{\"field\":\"y\"}},\"id\":\"735f0f02-a7ff-4935-81d6-ac84c4c49d22\",\"type\":\"Circle\"},{\"attributes\":{\"dimension\":1,\"plot\":{\"id\":\"3e5a3c1a-c243-49d4-a3af-38966e49afe1\",\"subtype\":\"Figure\",\"type\":\"Plot\"},\"ticker\":{\"id\":\"76a9e6cc-128e-4ab6-b2db-28812c0d6d0a\",\"type\":\"BasicTicker\"}},\"id\":\"6adadde5-162d-4c8f-9306-f9e2dbd4f266\",\"type\":\"Grid\"},{\"attributes\":{\"dimension\":1,\"plot\":{\"id\":\"49a1c2be-bb4e-456b-b01a-14a5a9448c68\",\"subtype\":\"Figure\",\"type\":\"Plot\"},\"ticker\":{\"id\":\"91515fbd-3204-478d-bab8-a297b9b6cc8c\",\"type\":\"BasicTicker\"}},\"id\":\"3d336c10-8b18-4b46-b243-b3f643eae2f6\",\"type\":\"Grid\"},{\"attributes\":{\"plot\":{\"id\":\"49a1c2be-bb4e-456b-b01a-14a5a9448c68\",\"subtype\":\"Figure\",\"type\":\"Plot\"}},\"id\":\"87f2135e-b56c-4b9b-9df8-dc879550aff3\",\"type\":\"ResizeTool\"},{\"attributes\":{\"plot\":{\"id\":\"f0e6cad4-90f6-47e3-8d68-2d6ebac6ad4e\",\"subtype\":\"Figure\",\"type\":\"Plot\"}},\"id\":\"f5b26b53-6721-4dc8-a233-f57d48fc4fa8\",\"type\":\"PreviewSaveTool\"},{\"attributes\":{\"line_alpha\":{\"value\":0.1},\"line_color\":{\"value\":\"#1f77b4\"},\"line_width\":{\"value\":2},\"x\":{\"field\":\"x\"},\"y\":{\"field\":\"y\"}},\"id\":\"394a1e79-a362-420a-92b9-55d960e0e272\",\"type\":\"Line\"},{\"attributes\":{\"plot\":{\"id\":\"f0e6cad4-90f6-47e3-8d68-2d6ebac6ad4e\",\"subtype\":\"Figure\",\"type\":\"Plot\"}},\"id\":\"9d88d9cc-3ff3-4d1c-b4ec-7ef0bb2fb38d\",\"type\":\"WheelZoomTool\"},{\"attributes\":{\"overlay\":{\"id\":\"ef34c2a7-43f8-4491-911c-7c4af893bacf\",\"type\":\"BoxAnnotation\"},\"plot\":{\"id\":\"621031ee-f074-4190-a6f7-53d1963b0a73\",\"subtype\":\"Figure\",\"type\":\"Plot\"}},\"id\":\"6746e8d3-0049-447f-8dda-fcaa7130b922\",\"type\":\"BoxZoomTool\"},{\"attributes\":{\"callback\":null},\"id\":\"dd7cb98c-6867-4998-b594-8ffbc803fd61\",\"type\":\"DataRange1d\"},{\"attributes\":{\"overlay\":{\"id\":\"72e6326f-6d72-4bdd-8a78-aefc6bfc1344\",\"type\":\"BoxAnnotation\"},\"plot\":{\"id\":\"49a1c2be-bb4e-456b-b01a-14a5a9448c68\",\"subtype\":\"Figure\",\"type\":\"Plot\"}},\"id\":\"c34b087f-3016-4d0b-be0f-8456f08c81d6\",\"type\":\"BoxZoomTool\"},{\"attributes\":{\"callback\":null,\"column_names\":[\"y\",\"x\"],\"data\":{\"x\":[1,2,3,4,5],\"y\":[6,7,8,7,3]}},\"id\":\"bfd41956-7c11-4a66-a5e1-765524a0c1bb\",\"type\":\"ColumnDataSource\"},{\"attributes\":{},\"id\":\"76a9e6cc-128e-4ab6-b2db-28812c0d6d0a\",\"type\":\"BasicTicker\"},{\"attributes\":{\"formatter\":{\"id\":\"882c1d93-15dc-4d34-94d5-f5ba1d464262\",\"type\":\"BasicTickFormatter\"},\"plot\":{\"id\":\"e491e76b-0e4e-4da8-91a8-02fabefab90c\",\"subtype\":\"Figure\",\"type\":\"Plot\"},\"ticker\":{\"id\":\"1dd0a48b-1a24-48b5-8025-40179fdf457e\",\"type\":\"BasicTicker\"}},\"id\":\"5459be11-e8e1-485f-883b-3472450bbec2\",\"type\":\"LinearAxis\"},{\"attributes\":{\"plot\":{\"id\":\"621031ee-f074-4190-a6f7-53d1963b0a73\",\"subtype\":\"Figure\",\"type\":\"Plot\"}},\"id\":\"d1f7fe75-aec0-4fef-8e63-09e49c79ae55\",\"type\":\"PreviewSaveTool\"},{\"attributes\":{},\"id\":\"1dd0a48b-1a24-48b5-8025-40179fdf457e\",\"type\":\"BasicTicker\"},{\"attributes\":{\"plot\":{\"id\":\"621031ee-f074-4190-a6f7-53d1963b0a73\",\"subtype\":\"Figure\",\"type\":\"Plot\"}},\"id\":\"e4f33789-ccad-47c3-b9e6-e2569886917e\",\"type\":\"PanTool\"},{\"attributes\":{\"below\":[{\"id\":\"5459be11-e8e1-485f-883b-3472450bbec2\",\"type\":\"LinearAxis\"}],\"left\":[{\"id\":\"eca30089-2f06-4c86-a231-c91dd31950f5\",\"type\":\"LinearAxis\"}],\"plot_height\":400,\"plot_width\":400,\"renderers\":[{\"id\":\"5459be11-e8e1-485f-883b-3472450bbec2\",\"type\":\"LinearAxis\"},{\"id\":\"c0927c2f-1237-45ef-8502-d054204ed163\",\"type\":\"Grid\"},{\"id\":\"eca30089-2f06-4c86-a231-c91dd31950f5\",\"type\":\"LinearAxis\"},{\"id\":\"f5170695-7188-4141-bd1a-719e5c246410\",\"type\":\"Grid\"},{\"id\":\"97ac7e2d-7aa9-4fb1-925d-12eff991e33d\",\"type\":\"BoxAnnotation\"},{\"id\":\"60775fc0-70bb-46b9-89cb-8cc15db3ab51\",\"type\":\"GlyphRenderer\"},{\"id\":\"0224055d-c08d-4efb-853e-ea00637efdee\",\"type\":\"GlyphRenderer\"}],\"tool_events\":{\"id\":\"7650664a-e045-466e-a4c5-b401db5ad67c\",\"type\":\"ToolEvents\"},\"tools\":[{\"id\":\"735f04e9-7411-4c2c-96ed-9a3cb1c6ecae\",\"type\":\"PanTool\"},{\"id\":\"fe1db271-55d0-4bd8-a046-73e6e5127322\",\"type\":\"WheelZoomTool\"},{\"id\":\"709fa794-5ec4-43d9-a373-ebc83676e6ee\",\"type\":\"BoxZoomTool\"},{\"id\":\"0bd8ef09-5f2c-4d3f-a44d-e516ff17c9fa\",\"type\":\"PreviewSaveTool\"},{\"id\":\"dad2d768-fb37-4567-8031-7db3345138e5\",\"type\":\"ResizeTool\"},{\"id\":\"48d7f13a-1594-4819-aa94-7e95221b2aa7\",\"type\":\"ResetTool\"},{\"id\":\"473dd0b1-f98e-45ac-89a1-7ab8e84bc8b7\",\"type\":\"HelpTool\"}],\"x_range\":{\"id\":\"894bad31-6ae3-4136-8557-a9012ed922eb\",\"type\":\"DataRange1d\"},\"y_range\":{\"id\":\"b6243889-0596-4e21-aac9-b0c71834af50\",\"type\":\"DataRange1d\"}},\"id\":\"e491e76b-0e4e-4da8-91a8-02fabefab90c\",\"subtype\":\"Figure\",\"type\":\"Plot\"},{\"attributes\":{\"plot\":{\"id\":\"49a1c2be-bb4e-456b-b01a-14a5a9448c68\",\"subtype\":\"Figure\",\"type\":\"Plot\"}},\"id\":\"f7e9cebe-96fe-4d6e-9fd3-82b45c2d1a10\",\"type\":\"HelpTool\"},{\"attributes\":{\"plot\":{\"id\":\"f0e6cad4-90f6-47e3-8d68-2d6ebac6ad4e\",\"subtype\":\"Figure\",\"type\":\"Plot\"}},\"id\":\"1e3adae5-450e-422a-994d-985161ef6b9b\",\"type\":\"ResetTool\"},{\"attributes\":{\"formatter\":{\"id\":\"6edba640-7b42-42a1-be94-373b56345ae6\",\"type\":\"BasicTickFormatter\"},\"plot\":{\"id\":\"f0e6cad4-90f6-47e3-8d68-2d6ebac6ad4e\",\"subtype\":\"Figure\",\"type\":\"Plot\"},\"ticker\":{\"id\":\"fa608bba-9040-45ca-b8c1-5ce6e3b131d3\",\"type\":\"BasicTicker\"}},\"id\":\"032dd91a-139f-4fd7-a5f1-9cff91661a6c\",\"type\":\"LinearAxis\"},{\"attributes\":{\"plot\":{\"id\":\"f0e6cad4-90f6-47e3-8d68-2d6ebac6ad4e\",\"subtype\":\"Figure\",\"type\":\"Plot\"},\"ticker\":{\"id\":\"fa608bba-9040-45ca-b8c1-5ce6e3b131d3\",\"type\":\"BasicTicker\"}},\"id\":\"691db03b-2a04-406a-86d7-04a4093208dd\",\"type\":\"Grid\"},{\"attributes\":{},\"id\":\"fa608bba-9040-45ca-b8c1-5ce6e3b131d3\",\"type\":\"BasicTicker\"},{\"attributes\":{\"callback\":null,\"column_names\":[\"dh\",\"y\",\"image\",\"x\",\"dw\"],\"data\":{\"dh\":[10],\"dw\":[10],\"image\":[[[4278230528,4279016960,4279868928,4280720896,4281572864,4282359296,4283211264,4284063232,4284915200,4285701632,4286553600,4287405568,4288257536,4289043968,4289895936,4290747904,4291599872,4292386304,4293238272,4294090240],[4278230540,4279016972,4279868940,4280720908,4281572876,4282359308,4283211276,4284063244,4284915212,4285701644,4286553612,4287405580,4288257548,4289043980,4289895948,4290747916,4291599884,4292386316,4293238284,4294090252],[4278230553,4279016985,4279868953,4280720921,4281572889,4282359321,4283211289,4284063257,4284915225,4285701657,4286553625,4287405593,4288257561,4289043993,4289895961,4290747929,4291599897,4292386329,4293238297,4294090265],[4278230566,4279016998,4279868966,4280720934,4281572902,4282359334,4283211302,4284063270,4284915238,4285701670,4286553638,4287405606,4288257574,4289044006,4289895974,4290747942,4291599910,4292386342,4293238310,4294090278],[4278230579,4279017011,4279868979,4280720947,4281572915,4282359347,4283211315,4284063283,4284915251,4285701683,4286553651,4287405619,4288257587,4289044019,4289895987,4290747955,4291599923,4292386355,4293238323,4294090291],[4278230591,4279017023,4279868991,4280720959,4281572927,4282359359,4283211327,4284063295,4284915263,4285701695,4286553663,4287405631,4288257599,4289044031,4289895999,4290747967,4291599935,4292386367,4293238335,4294090303],[4278230604,4279017036,4279869004,4280720972,4281572940,4282359372,4283211340,4284063308,4284915276,4285701708,4286553676,4287405644,4288257612,4289044044,4289896012,4290747980,4291599948,4292386380,4293238348,4294090316],[4278230617,4279017049,4279869017,4280720985,4281572953,4282359385,4283211353,4284063321,4284915289,4285701721,4286553689,4287405657,4288257625,4289044057,4289896025,4290747993,4291599961,4292386393,4293238361,4294090329],[4278230630,4279017062,4279869030,4280720998,4281572966,4282359398,4283211366,4284063334,4284915302,4285701734,4286553702,4287405670,4288257638,4289044070,4289896038,4290748006,4291599974,4292386406,4293238374,4294090342],[4278230642,4279017074,4279869042,4280721010,4281572978,4282359410,4283211378,4284063346,4284915314,4285701746,4286553714,4287405682,4288257650,4289044082,4289896050,4290748018,4291599986,4292386418,4293238386,4294090354],[4278230655,4279017087,4279869055,4280721023,4281572991,4282359423,4283211391,4284063359,4284915327,4285701759,4286553727,4287405695,4288257663,4289044095,4289896063,4290748031,4291599999,4292386431,4293238399,4294090367],[4278230668,4279017100,4279869068,4280721036,4281573004,4282359436,4283211404,4284063372,4284915340,4285701772,4286553740,4287405708,4288257676,4289044108,4289896076,4290748044,4291600012,4292386444,4293238412,4294090380],[4278230681,4279017113,4279869081,4280721049,4281573017,4282359449,4283211417,4284063385,4284915353,4285701785,4286553753,4287405721,4288257689,4289044121,4289896089,4290748057,4291600025,4292386457,4293238425,4294090393],[4278230693,4279017125,4279869093,4280721061,4281573029,4282359461,4283211429,4284063397,4284915365,4285701797,4286553765,4287405733,4288257701,4289044133,4289896101,4290748069,4291600037,4292386469,4293238437,4294090405],[4278230706,4279017138,4279869106,4280721074,4281573042,4282359474,4283211442,4284063410,4284915378,4285701810,4286553778,4287405746,4288257714,4289044146,4289896114,4290748082,4291600050,4292386482,4293238450,4294090418],[4278230719,4279017151,4279869119,4280721087,4281573055,4282359487,4283211455,4284063423,4284915391,4285701823,4286553791,4287405759,4288257727,4289044159,4289896127,4290748095,4291600063,4292386495,4293238463,4294090431],[4278230732,4279017164,4279869132,4280721100,4281573068,4282359500,4283211468,4284063436,4284915404,4285701836,4286553804,4287405772,4288257740,4289044172,4289896140,4290748108,4291600076,4292386508,4293238476,4294090444],[4278230744,4279017176,4279869144,4280721112,4281573080,4282359512,4283211480,4284063448,4284915416,4285701848,4286553816,4287405784,4288257752,4289044184,4289896152,4290748120,4291600088,4292386520,4293238488,4294090456],[4278230757,4279017189,4279869157,4280721125,4281573093,4282359525,4283211493,4284063461,4284915429,4285701861,4286553829,4287405797,4288257765,4289044197,4289896165,4290748133,4291600101,4292386533,4293238501,4294090469],[4278230770,4279017202,4279869170,4280721138,4281573106,4282359538,4283211506,4284063474,4284915442,4285701874,4286553842,4287405810,4288257778,4289044210,4289896178,4290748146,4291600114,4292386546,4293238514,4294090482]]],\"x\":[0],\"y\":[0]}},\"id\":\"7538636b-0483-49e5-a35e-c6a9acecd2d9\",\"type\":\"ColumnDataSource\"},{\"attributes\":{},\"id\":\"b683cd3c-8e57-45da-8191-b4185fbb420e\",\"type\":\"BasicTicker\"},{\"attributes\":{\"data_source\":{\"id\":\"20e0f3aa-c71a-45b5-acd9-12ddbc8428d4\",\"type\":\"ColumnDataSource\"},\"glyph\":{\"id\":\"7382ca3d-60f7-4505-8fed-7d3509d995bb\",\"type\":\"Square\"},\"hover_glyph\":null,\"nonselection_glyph\":{\"id\":\"855f63d5-739a-44fd-b4f7-220e9fc8a2c2\",\"type\":\"Square\"},\"selection_glyph\":null},\"id\":\"cab09057-afa1-4fb8-a5f1-7f07e82d2dee\",\"type\":\"GlyphRenderer\"},{\"attributes\":{\"line_alpha\":{\"value\":0.1},\"line_color\":{\"value\":\"#1f77b4\"},\"line_width\":{\"value\":2},\"x\":{\"field\":\"x\"},\"y\":{\"field\":\"y\"}},\"id\":\"629b2e7e-7a3c-420b-b616-40f01af43836\",\"type\":\"Line\"},{\"attributes\":{},\"id\":\"91d9a4a0-d196-4413-a025-c9dff73f246c\",\"type\":\"BasicTickFormatter\"},{\"attributes\":{\"plot\":{\"id\":\"3e5a3c1a-c243-49d4-a3af-38966e49afe1\",\"subtype\":\"Figure\",\"type\":\"Plot\"}},\"id\":\"51639c5b-259d-4417-a467-5d08aecd9840\",\"type\":\"ResetTool\"},{\"attributes\":{\"data_source\":{\"id\":\"bfd41956-7c11-4a66-a5e1-765524a0c1bb\",\"type\":\"ColumnDataSource\"},\"glyph\":{\"id\":\"735f0f02-a7ff-4935-81d6-ac84c4c49d22\",\"type\":\"Circle\"},\"hover_glyph\":null,\"nonselection_glyph\":{\"id\":\"0a14a4d3-29a6-4cd9-ae7e-b8d0f94268a0\",\"type\":\"Circle\"},\"selection_glyph\":null},\"id\":\"0224055d-c08d-4efb-853e-ea00637efdee\",\"type\":\"GlyphRenderer\"},{\"attributes\":{\"plot\":{\"id\":\"49a1c2be-bb4e-456b-b01a-14a5a9448c68\",\"subtype\":\"Figure\",\"type\":\"Plot\"}},\"id\":\"5d436bf7-7e6f-4bf9-8e11-a70d110348ed\",\"type\":\"PreviewSaveTool\"},{\"attributes\":{\"formatter\":{\"id\":\"da351d9f-746c-470e-8f4f-9644677b9889\",\"type\":\"BasicTickFormatter\"},\"plot\":{\"id\":\"3e5a3c1a-c243-49d4-a3af-38966e49afe1\",\"subtype\":\"Figure\",\"type\":\"Plot\"},\"ticker\":{\"id\":\"fe3dc54e-61e0-40ad-95e8-d43a704d5afe\",\"type\":\"BasicTicker\"}},\"id\":\"b7798bdf-943a-4a74-a894-376531837dfd\",\"type\":\"LinearAxis\"},{\"attributes\":{},\"id\":\"882c1d93-15dc-4d34-94d5-f5ba1d464262\",\"type\":\"BasicTickFormatter\"},{\"attributes\":{\"callback\":null},\"id\":\"3cd1dec1-b367-4b58-bfdf-529eeba7038e\",\"type\":\"DataRange1d\"},{\"attributes\":{\"plot\":{\"id\":\"49a1c2be-bb4e-456b-b01a-14a5a9448c68\",\"subtype\":\"Figure\",\"type\":\"Plot\"},\"ticker\":{\"id\":\"4036456b-5419-4d58-99ef-7f31c51e8707\",\"type\":\"BasicTicker\"}},\"id\":\"87e8016c-d51d-4ce0-b029-ff2446278b8d\",\"type\":\"Grid\"},{\"attributes\":{\"dimension\":1,\"plot\":{\"id\":\"f0e6cad4-90f6-47e3-8d68-2d6ebac6ad4e\",\"subtype\":\"Figure\",\"type\":\"Plot\"},\"ticker\":{\"id\":\"fded8a0f-c574-4736-98bb-2c9df584d74f\",\"type\":\"BasicTicker\"}},\"id\":\"ad4f2050-bb97-4575-b551-d76449715ca8\",\"type\":\"Grid\"},{\"attributes\":{},\"id\":\"fe3dc54e-61e0-40ad-95e8-d43a704d5afe\",\"type\":\"BasicTicker\"},{\"attributes\":{\"plot\":{\"id\":\"621031ee-f074-4190-a6f7-53d1963b0a73\",\"subtype\":\"Figure\",\"type\":\"Plot\"}},\"id\":\"2f8cbd53-1c1d-4654-b659-952f20a31a92\",\"type\":\"ResetTool\"},{\"attributes\":{\"dh\":{\"field\":\"dh\",\"units\":\"data\"},\"dw\":{\"field\":\"dw\",\"units\":\"data\"},\"image\":{\"field\":\"image\"},\"x\":{\"field\":\"x\"},\"y\":{\"field\":\"y\"}},\"id\":\"03c0bfde-e1d3-4fdb-b845-6ae8129163e6\",\"type\":\"ImageRGBA\"},{\"attributes\":{\"formatter\":{\"id\":\"91d9a4a0-d196-4413-a025-c9dff73f246c\",\"type\":\"BasicTickFormatter\"},\"plot\":{\"id\":\"621031ee-f074-4190-a6f7-53d1963b0a73\",\"subtype\":\"Figure\",\"type\":\"Plot\"},\"ticker\":{\"id\":\"c76c1c02-c38a-4e03-a8b3-4ce8c07b2858\",\"type\":\"BasicTicker\"}},\"id\":\"92698b14-7cad-479f-bd37-ae13ed8cda7d\",\"type\":\"LinearAxis\"},{\"attributes\":{},\"id\":\"da351d9f-746c-470e-8f4f-9644677b9889\",\"type\":\"BasicTickFormatter\"},{\"attributes\":{\"plot\":{\"id\":\"3e5a3c1a-c243-49d4-a3af-38966e49afe1\",\"subtype\":\"Figure\",\"type\":\"Plot\"}},\"id\":\"881f842d-9fce-4094-b61c-878c4f810dba\",\"type\":\"HelpTool\"},{\"attributes\":{\"plot\":{\"id\":\"f0e6cad4-90f6-47e3-8d68-2d6ebac6ad4e\",\"subtype\":\"Figure\",\"type\":\"Plot\"}},\"id\":\"f9600868-c01a-4ef1-b21b-71a9f51d833d\",\"type\":\"HelpTool\"},{\"attributes\":{\"callback\":null,\"column_names\":[\"y\",\"x\"],\"data\":{\"x\":[1,2,3,4,5],\"y\":[6,7,2,4,5]}},\"id\":\"86e1cd8d-25b3-48f8-8935-683201d42280\",\"type\":\"ColumnDataSource\"},{\"attributes\":{\"line_color\":{\"value\":\"#1f77b4\"},\"line_width\":{\"value\":2},\"x\":{\"field\":\"x\"},\"y\":{\"field\":\"y\"}},\"id\":\"34bd52bd-468b-49ea-8b83-d8c14b1d2d81\",\"type\":\"Line\"},{\"attributes\":{},\"id\":\"c8f3a5bb-5193-4c87-9d47-394b1ad3e5a2\",\"type\":\"ToolEvents\"},{\"attributes\":{\"fill_alpha\":{\"value\":0.1},\"fill_color\":{\"value\":\"#1f77b4\"},\"line_alpha\":{\"value\":0.1},\"line_color\":{\"value\":\"#1f77b4\"},\"size\":{\"field\":\"size\",\"units\":\"screen\"},\"x\":{\"field\":\"x\"},\"y\":{\"field\":\"y\"}},\"id\":\"855f63d5-739a-44fd-b4f7-220e9fc8a2c2\",\"type\":\"Square\"},{\"attributes\":{\"fill_alpha\":{\"value\":0.1},\"fill_color\":{\"value\":\"#1f77b4\"},\"line_alpha\":{\"value\":0.1},\"line_color\":{\"value\":\"#1f77b4\"},\"size\":{\"units\":\"screen\",\"value\":15},\"x\":{\"field\":\"x\"},\"y\":{\"field\":\"y\"}},\"id\":\"ab0594a9-3127-4ec9-9b2c-d42d40ae34e3\",\"type\":\"Circle\"},{\"attributes\":{\"formatter\":{\"id\":\"9cd05b51-7fea-411c-82fc-461b3a20624a\",\"type\":\"BasicTickFormatter\"},\"plot\":{\"id\":\"e491e76b-0e4e-4da8-91a8-02fabefab90c\",\"subtype\":\"Figure\",\"type\":\"Plot\"},\"ticker\":{\"id\":\"fdf52d6d-3640-4954-a436-9bbf17c5c166\",\"type\":\"BasicTicker\"}},\"id\":\"eca30089-2f06-4c86-a231-c91dd31950f5\",\"type\":\"LinearAxis\"},{\"attributes\":{\"plot\":{\"id\":\"621031ee-f074-4190-a6f7-53d1963b0a73\",\"subtype\":\"Figure\",\"type\":\"Plot\"}},\"id\":\"f447e14a-f40d-4a99-9fc0-1f31564ac6bd\",\"type\":\"ResizeTool\"},{\"attributes\":{\"plot\":{\"id\":\"f0e6cad4-90f6-47e3-8d68-2d6ebac6ad4e\",\"subtype\":\"Figure\",\"type\":\"Plot\"}},\"id\":\"f2a42b65-5e68-4407-a8f0-282c10036ece\",\"type\":\"ResizeTool\"},{\"attributes\":{\"callback\":null},\"id\":\"f79fb207-5c72-42ea-a5f4-0c3a9f8d188e\",\"type\":\"DataRange1d\"},{\"attributes\":{\"data_source\":{\"id\":\"7538636b-0483-49e5-a35e-c6a9acecd2d9\",\"type\":\"ColumnDataSource\"},\"glyph\":{\"id\":\"03c0bfde-e1d3-4fdb-b845-6ae8129163e6\",\"type\":\"ImageRGBA\"},\"hover_glyph\":null,\"nonselection_glyph\":{\"id\":\"9f3cbdf6-3bf1-49e0-9b0a-59255ac4a5cb\",\"type\":\"ImageRGBA\"},\"selection_glyph\":null},\"id\":\"6f9fed5f-748b-4fdc-a8df-580536cf663c\",\"type\":\"GlyphRenderer\"},{\"attributes\":{\"plot\":{\"id\":\"e491e76b-0e4e-4da8-91a8-02fabefab90c\",\"subtype\":\"Figure\",\"type\":\"Plot\"}},\"id\":\"fe1db271-55d0-4bd8-a046-73e6e5127322\",\"type\":\"WheelZoomTool\"},{\"attributes\":{\"plot\":{\"id\":\"3e5a3c1a-c243-49d4-a3af-38966e49afe1\",\"subtype\":\"Figure\",\"type\":\"Plot\"}},\"id\":\"f6760882-cd1c-49d2-a97b-13f7487de1a0\",\"type\":\"PanTool\"},{\"attributes\":{\"below\":[{\"id\":\"032dd91a-139f-4fd7-a5f1-9cff91661a6c\",\"type\":\"LinearAxis\"}],\"left\":[{\"id\":\"66d2cf31-9f19-4f17-a91b-f8baad333c19\",\"type\":\"LinearAxis\"}],\"plot_height\":400,\"plot_width\":400,\"renderers\":[{\"id\":\"032dd91a-139f-4fd7-a5f1-9cff91661a6c\",\"type\":\"LinearAxis\"},{\"id\":\"691db03b-2a04-406a-86d7-04a4093208dd\",\"type\":\"Grid\"},{\"id\":\"66d2cf31-9f19-4f17-a91b-f8baad333c19\",\"type\":\"LinearAxis\"},{\"id\":\"ad4f2050-bb97-4575-b551-d76449715ca8\",\"type\":\"Grid\"},{\"id\":\"ea49e87c-fbf9-40be-bebd-b185cee844a8\",\"type\":\"BoxAnnotation\"},{\"id\":\"f313c721-24dc-450f-bb24-1ed5f26a98ed\",\"type\":\"GlyphRenderer\"}],\"tool_events\":{\"id\":\"abf3fd9d-8277-4166-96db-c6a77ac468a2\",\"type\":\"ToolEvents\"},\"tools\":[{\"id\":\"87aa4900-f8a6-438c-86d8-51a9e90eb9bc\",\"type\":\"PanTool\"},{\"id\":\"9d88d9cc-3ff3-4d1c-b4ec-7ef0bb2fb38d\",\"type\":\"WheelZoomTool\"},{\"id\":\"a273cac2-8e82-473f-acf0-915cd4388dea\",\"type\":\"BoxZoomTool\"},{\"id\":\"f5b26b53-6721-4dc8-a233-f57d48fc4fa8\",\"type\":\"PreviewSaveTool\"},{\"id\":\"f2a42b65-5e68-4407-a8f0-282c10036ece\",\"type\":\"ResizeTool\"},{\"id\":\"1e3adae5-450e-422a-994d-985161ef6b9b\",\"type\":\"ResetTool\"},{\"id\":\"f9600868-c01a-4ef1-b21b-71a9f51d833d\",\"type\":\"HelpTool\"}],\"x_range\":{\"id\":\"9e50eb2a-9f40-4beb-b3a9-01d520bea8d4\",\"type\":\"DataRange1d\"},\"y_range\":{\"id\":\"3cd1dec1-b367-4b58-bfdf-529eeba7038e\",\"type\":\"DataRange1d\"}},\"id\":\"f0e6cad4-90f6-47e3-8d68-2d6ebac6ad4e\",\"subtype\":\"Figure\",\"type\":\"Plot\"},{\"attributes\":{},\"id\":\"78c5cf24-a115-40a2-9790-91c5c9396316\",\"type\":\"BasicTickFormatter\"},{\"attributes\":{},\"id\":\"91515fbd-3204-478d-bab8-a297b9b6cc8c\",\"type\":\"BasicTicker\"},{\"attributes\":{\"formatter\":{\"id\":\"765a116f-b5bb-44db-9b76-60c88e8636af\",\"type\":\"BasicTickFormatter\"},\"plot\":{\"id\":\"621031ee-f074-4190-a6f7-53d1963b0a73\",\"subtype\":\"Figure\",\"type\":\"Plot\"},\"ticker\":{\"id\":\"b683cd3c-8e57-45da-8191-b4185fbb420e\",\"type\":\"BasicTicker\"}},\"id\":\"a0602d80-5c35-449e-8790-00773f9d002d\",\"type\":\"LinearAxis\"},{\"attributes\":{\"callback\":null,\"column_names\":[\"y\",\"size\",\"x\"],\"data\":{\"size\":[10,15,20,25,30],\"x\":[1,2,3,4,5],\"y\":[6,7,2,4,5]}},\"id\":\"20e0f3aa-c71a-45b5-acd9-12ddbc8428d4\",\"type\":\"ColumnDataSource\"},{\"attributes\":{\"bottom_units\":\"screen\",\"fill_alpha\":{\"value\":0.5},\"fill_color\":{\"value\":\"lightgrey\"},\"left_units\":\"screen\",\"level\":\"overlay\",\"line_alpha\":{\"value\":1.0},\"line_color\":{\"value\":\"black\"},\"line_dash\":[4,4],\"line_width\":{\"value\":2},\"plot\":null,\"render_mode\":\"css\",\"right_units\":\"screen\",\"top_units\":\"screen\"},\"id\":\"72e6326f-6d72-4bdd-8a78-aefc6bfc1344\",\"type\":\"BoxAnnotation\"},{\"attributes\":{},\"id\":\"fded8a0f-c574-4736-98bb-2c9df584d74f\",\"type\":\"BasicTicker\"},{\"attributes\":{\"data_source\":{\"id\":\"ed9148ce-f446-427f-b47a-297d767c268f\",\"type\":\"ColumnDataSource\"},\"glyph\":{\"id\":\"e3fc3686-12ae-49fc-aca3-b9bf8a560507\",\"type\":\"Line\"},\"hover_glyph\":null,\"nonselection_glyph\":{\"id\":\"394a1e79-a362-420a-92b9-55d960e0e272\",\"type\":\"Line\"},\"selection_glyph\":null},\"id\":\"60775fc0-70bb-46b9-89cb-8cc15db3ab51\",\"type\":\"GlyphRenderer\"},{\"attributes\":{\"callback\":null},\"id\":\"914e0391-a6b0-4bae-a398-542359ff9bd8\",\"type\":\"DataRange1d\"},{\"attributes\":{},\"id\":\"4036456b-5419-4d58-99ef-7f31c51e8707\",\"type\":\"BasicTicker\"},{\"attributes\":{\"data_source\":{\"id\":\"86e1cd8d-25b3-48f8-8935-683201d42280\",\"type\":\"ColumnDataSource\"},\"glyph\":{\"id\":\"34bd52bd-468b-49ea-8b83-d8c14b1d2d81\",\"type\":\"Line\"},\"hover_glyph\":null,\"nonselection_glyph\":{\"id\":\"629b2e7e-7a3c-420b-b616-40f01af43836\",\"type\":\"Line\"},\"selection_glyph\":null},\"id\":\"66032908-5f31-45d1-9d69-c14052da76b9\",\"type\":\"GlyphRenderer\"},{\"attributes\":{\"fill_alpha\":{\"value\":0.1},\"fill_color\":{\"value\":\"#1f77b4\"},\"line_alpha\":{\"value\":0.1},\"line_color\":{\"value\":\"#1f77b4\"},\"size\":{\"units\":\"screen\",\"value\":8},\"x\":{\"field\":\"x\"},\"y\":{\"field\":\"y\"}},\"id\":\"0a14a4d3-29a6-4cd9-ae7e-b8d0f94268a0\",\"type\":\"Circle\"},{\"attributes\":{\"line_color\":{\"value\":\"#1f77b4\"},\"line_width\":{\"value\":2},\"x\":{\"field\":\"x\"},\"y\":{\"field\":\"y\"}},\"id\":\"e3fc3686-12ae-49fc-aca3-b9bf8a560507\",\"type\":\"Line\"},{\"attributes\":{},\"id\":\"66c4ce04-a69d-448a-b1ec-37926d4a6837\",\"type\":\"ToolEvents\"},{\"attributes\":{\"plot\":{\"id\":\"621031ee-f074-4190-a6f7-53d1963b0a73\",\"subtype\":\"Figure\",\"type\":\"Plot\"},\"ticker\":{\"id\":\"b683cd3c-8e57-45da-8191-b4185fbb420e\",\"type\":\"BasicTicker\"}},\"id\":\"a553f045-9a7f-47be-95f8-e2c6c45ba23d\",\"type\":\"Grid\"},{\"attributes\":{\"plot\":{\"id\":\"3e5a3c1a-c243-49d4-a3af-38966e49afe1\",\"subtype\":\"Figure\",\"type\":\"Plot\"},\"ticker\":{\"id\":\"fe3dc54e-61e0-40ad-95e8-d43a704d5afe\",\"type\":\"BasicTicker\"}},\"id\":\"2e88b296-dba2-4adf-b49c-528abd267a06\",\"type\":\"Grid\"},{\"attributes\":{\"fill_alpha\":{\"value\":0.5},\"fill_color\":{\"value\":\"orange\"},\"line_color\":{\"value\":\"navy\"},\"size\":{\"units\":\"screen\",\"value\":15},\"x\":{\"field\":\"x\"},\"y\":{\"field\":\"y\"}},\"id\":\"f495170b-19a5-4a46-aa88-9e75628a5737\",\"type\":\"Circle\"},{\"attributes\":{\"plot\":{\"id\":\"e491e76b-0e4e-4da8-91a8-02fabefab90c\",\"subtype\":\"Figure\",\"type\":\"Plot\"}},\"id\":\"dad2d768-fb37-4567-8031-7db3345138e5\",\"type\":\"ResizeTool\"},{\"attributes\":{},\"id\":\"9cd05b51-7fea-411c-82fc-461b3a20624a\",\"type\":\"BasicTickFormatter\"},{\"attributes\":{\"fill_alpha\":{\"value\":0.6},\"fill_color\":{\"value\":\"firebrick\"},\"line_alpha\":{\"value\":0.6},\"line_color\":{\"value\":\"firebrick\"},\"size\":{\"field\":\"size\",\"units\":\"screen\"},\"x\":{\"field\":\"x\"},\"y\":{\"field\":\"y\"}},\"id\":\"7382ca3d-60f7-4505-8fed-7d3509d995bb\",\"type\":\"Square\"},{\"attributes\":{\"plot\":{\"id\":\"3e5a3c1a-c243-49d4-a3af-38966e49afe1\",\"subtype\":\"Figure\",\"type\":\"Plot\"}},\"id\":\"7848d577-4154-4c1c-b904-5a2041ac4c12\",\"type\":\"ResizeTool\"},{\"attributes\":{\"plot\":{\"id\":\"49a1c2be-bb4e-456b-b01a-14a5a9448c68\",\"subtype\":\"Figure\",\"type\":\"Plot\"}},\"id\":\"f9edc46a-6d55-4c89-bbb8-44d63f99c7e1\",\"type\":\"WheelZoomTool\"},{\"attributes\":{},\"id\":\"b80c4776-5956-4e55-879b-7176ff10308d\",\"type\":\"BasicTickFormatter\"},{\"attributes\":{\"bottom_units\":\"screen\",\"fill_alpha\":{\"value\":0.5},\"fill_color\":{\"value\":\"lightgrey\"},\"left_units\":\"screen\",\"level\":\"overlay\",\"line_alpha\":{\"value\":1.0},\"line_color\":{\"value\":\"black\"},\"line_dash\":[4,4],\"line_width\":{\"value\":2},\"plot\":null,\"render_mode\":\"css\",\"right_units\":\"screen\",\"top_units\":\"screen\"},\"id\":\"ef34c2a7-43f8-4491-911c-7c4af893bacf\",\"type\":\"BoxAnnotation\"},{\"attributes\":{\"overlay\":{\"id\":\"19cd7924-102c-4fd2-9aea-7f63b1dc97c4\",\"type\":\"BoxAnnotation\"},\"plot\":{\"id\":\"3e5a3c1a-c243-49d4-a3af-38966e49afe1\",\"subtype\":\"Figure\",\"type\":\"Plot\"}},\"id\":\"c05a1fc5-09c0-497c-8940-f93a011225ee\",\"type\":\"BoxZoomTool\"},{\"attributes\":{\"formatter\":{\"id\":\"78c5cf24-a115-40a2-9790-91c5c9396316\",\"type\":\"BasicTickFormatter\"},\"plot\":{\"id\":\"3e5a3c1a-c243-49d4-a3af-38966e49afe1\",\"subtype\":\"Figure\",\"type\":\"Plot\"},\"ticker\":{\"id\":\"76a9e6cc-128e-4ab6-b2db-28812c0d6d0a\",\"type\":\"BasicTicker\"}},\"id\":\"a1e709fc-5378-440b-b25f-1365384fc8b3\",\"type\":\"LinearAxis\"},{\"attributes\":{\"plot\":{\"id\":\"e491e76b-0e4e-4da8-91a8-02fabefab90c\",\"subtype\":\"Figure\",\"type\":\"Plot\"}},\"id\":\"735f04e9-7411-4c2c-96ed-9a3cb1c6ecae\",\"type\":\"PanTool\"},{\"attributes\":{\"callback\":null,\"column_names\":[\"y\",\"x\"],\"data\":{\"x\":[1,2,3,4,5],\"y\":[6,7,8,7,3]}},\"id\":\"ed9148ce-f446-427f-b47a-297d767c268f\",\"type\":\"ColumnDataSource\"},{\"attributes\":{\"below\":[{\"id\":\"0427b429-f214-4aeb-b263-cd637215fd1e\",\"type\":\"LinearAxis\"}],\"left\":[{\"id\":\"d2300692-f9f6-4d65-a1f5-de4131a4dfed\",\"type\":\"LinearAxis\"}],\"plot_height\":400,\"plot_width\":400,\"renderers\":[{\"id\":\"0427b429-f214-4aeb-b263-cd637215fd1e\",\"type\":\"LinearAxis\"},{\"id\":\"87e8016c-d51d-4ce0-b029-ff2446278b8d\",\"type\":\"Grid\"},{\"id\":\"d2300692-f9f6-4d65-a1f5-de4131a4dfed\",\"type\":\"LinearAxis\"},{\"id\":\"3d336c10-8b18-4b46-b243-b3f643eae2f6\",\"type\":\"Grid\"},{\"id\":\"72e6326f-6d72-4bdd-8a78-aefc6bfc1344\",\"type\":\"BoxAnnotation\"},{\"id\":\"cab09057-afa1-4fb8-a5f1-7f07e82d2dee\",\"type\":\"GlyphRenderer\"}],\"tool_events\":{\"id\":\"66c4ce04-a69d-448a-b1ec-37926d4a6837\",\"type\":\"ToolEvents\"},\"tools\":[{\"id\":\"f621ae55-245f-41b2-90ea-ca7d35ba63dd\",\"type\":\"PanTool\"},{\"id\":\"f9edc46a-6d55-4c89-bbb8-44d63f99c7e1\",\"type\":\"WheelZoomTool\"},{\"id\":\"c34b087f-3016-4d0b-be0f-8456f08c81d6\",\"type\":\"BoxZoomTool\"},{\"id\":\"5d436bf7-7e6f-4bf9-8e11-a70d110348ed\",\"type\":\"PreviewSaveTool\"},{\"id\":\"87f2135e-b56c-4b9b-9df8-dc879550aff3\",\"type\":\"ResizeTool\"},{\"id\":\"b2a41fa0-da0d-49d1-8925-151e1f379f9a\",\"type\":\"ResetTool\"},{\"id\":\"f7e9cebe-96fe-4d6e-9fd3-82b45c2d1a10\",\"type\":\"HelpTool\"}],\"x_range\":{\"id\":\"f79fb207-5c72-42ea-a5f4-0c3a9f8d188e\",\"type\":\"DataRange1d\"},\"y_range\":{\"id\":\"3a06e36f-b862-4674-9b67-230eeab4d21a\",\"type\":\"DataRange1d\"}},\"id\":\"49a1c2be-bb4e-456b-b01a-14a5a9448c68\",\"subtype\":\"Figure\",\"type\":\"Plot\"},{\"attributes\":{\"callback\":null},\"id\":\"894bad31-6ae3-4136-8557-a9012ed922eb\",\"type\":\"DataRange1d\"},{\"attributes\":{\"bottom_units\":\"screen\",\"fill_alpha\":{\"value\":0.5},\"fill_color\":{\"value\":\"lightgrey\"},\"left_units\":\"screen\",\"level\":\"overlay\",\"line_alpha\":{\"value\":1.0},\"line_color\":{\"value\":\"black\"},\"line_dash\":[4,4],\"line_width\":{\"value\":2},\"plot\":null,\"render_mode\":\"css\",\"right_units\":\"screen\",\"top_units\":\"screen\"},\"id\":\"97ac7e2d-7aa9-4fb1-925d-12eff991e33d\",\"type\":\"BoxAnnotation\"},{\"attributes\":{\"plot\":{\"id\":\"621031ee-f074-4190-a6f7-53d1963b0a73\",\"subtype\":\"Figure\",\"type\":\"Plot\"}},\"id\":\"2ab85b89-f8af-4482-8719-aafe37f6bc3d\",\"type\":\"HelpTool\"},{\"attributes\":{\"plot\":{\"id\":\"3e5a3c1a-c243-49d4-a3af-38966e49afe1\",\"subtype\":\"Figure\",\"type\":\"Plot\"}},\"id\":\"2fd06599-0758-431e-a422-281497bd97d6\",\"type\":\"PreviewSaveTool\"},{\"attributes\":{},\"id\":\"b34d29f7-d647-4962-b50b-fcfeaa416bf3\",\"type\":\"ToolEvents\"},{\"attributes\":{\"formatter\":{\"id\":\"699c70fa-b01e-46e5-abe2-68ffe267b65b\",\"type\":\"BasicTickFormatter\"},\"plot\":{\"id\":\"f0e6cad4-90f6-47e3-8d68-2d6ebac6ad4e\",\"subtype\":\"Figure\",\"type\":\"Plot\"},\"ticker\":{\"id\":\"fded8a0f-c574-4736-98bb-2c9df584d74f\",\"type\":\"BasicTicker\"}},\"id\":\"66d2cf31-9f19-4f17-a91b-f8baad333c19\",\"type\":\"LinearAxis\"},{\"attributes\":{\"callback\":null,\"column_names\":[\"y\",\"x\"],\"data\":{\"x\":[1,2,3,4,5],\"y\":[6,7,2,4,5]}},\"id\":\"d2eecf15-46ed-4865-8d9b-8194f674701a\",\"type\":\"ColumnDataSource\"},{\"attributes\":{\"plot\":{\"id\":\"e491e76b-0e4e-4da8-91a8-02fabefab90c\",\"subtype\":\"Figure\",\"type\":\"Plot\"},\"ticker\":{\"id\":\"1dd0a48b-1a24-48b5-8025-40179fdf457e\",\"type\":\"BasicTicker\"}},\"id\":\"c0927c2f-1237-45ef-8502-d054204ed163\",\"type\":\"Grid\"},{\"attributes\":{\"overlay\":{\"id\":\"ea49e87c-fbf9-40be-bebd-b185cee844a8\",\"type\":\"BoxAnnotation\"},\"plot\":{\"id\":\"f0e6cad4-90f6-47e3-8d68-2d6ebac6ad4e\",\"subtype\":\"Figure\",\"type\":\"Plot\"}},\"id\":\"a273cac2-8e82-473f-acf0-915cd4388dea\",\"type\":\"BoxZoomTool\"},{\"attributes\":{},\"id\":\"fdf52d6d-3640-4954-a436-9bbf17c5c166\",\"type\":\"BasicTicker\"},{\"attributes\":{\"plot\":{\"id\":\"49a1c2be-bb4e-456b-b01a-14a5a9448c68\",\"subtype\":\"Figure\",\"type\":\"Plot\"}},\"id\":\"b2a41fa0-da0d-49d1-8925-151e1f379f9a\",\"type\":\"ResetTool\"},{\"attributes\":{\"plot\":{\"id\":\"3e5a3c1a-c243-49d4-a3af-38966e49afe1\",\"subtype\":\"Figure\",\"type\":\"Plot\"}},\"id\":\"f4c8a1d6-6e6a-4e94-8e7b-5d6b302f5365\",\"type\":\"WheelZoomTool\"},{\"attributes\":{\"callback\":null,\"end\":10},\"id\":\"f8c62726-ea36-4456-a1c2-87c1b9b87c4c\",\"type\":\"Range1d\"},{\"attributes\":{\"callback\":null},\"id\":\"b6243889-0596-4e21-aac9-b0c71834af50\",\"type\":\"DataRange1d\"},{\"attributes\":{\"plot\":{\"id\":\"f0e6cad4-90f6-47e3-8d68-2d6ebac6ad4e\",\"subtype\":\"Figure\",\"type\":\"Plot\"}},\"id\":\"87aa4900-f8a6-438c-86d8-51a9e90eb9bc\",\"type\":\"PanTool\"},{\"attributes\":{\"plot\":{\"id\":\"e491e76b-0e4e-4da8-91a8-02fabefab90c\",\"subtype\":\"Figure\",\"type\":\"Plot\"}},\"id\":\"473dd0b1-f98e-45ac-89a1-7ab8e84bc8b7\",\"type\":\"HelpTool\"},{\"attributes\":{},\"id\":\"765a116f-b5bb-44db-9b76-60c88e8636af\",\"type\":\"BasicTickFormatter\"},{\"attributes\":{\"bottom_units\":\"screen\",\"fill_alpha\":{\"value\":0.5},\"fill_color\":{\"value\":\"lightgrey\"},\"left_units\":\"screen\",\"level\":\"overlay\",\"line_alpha\":{\"value\":1.0},\"line_color\":{\"value\":\"black\"},\"line_dash\":[4,4],\"line_width\":{\"value\":2},\"plot\":null,\"render_mode\":\"css\",\"right_units\":\"screen\",\"top_units\":\"screen\"},\"id\":\"ea49e87c-fbf9-40be-bebd-b185cee844a8\",\"type\":\"BoxAnnotation\"},{\"attributes\":{\"callback\":null,\"end\":10},\"id\":\"b059fe21-9bf2-4284-ab2c-55f091b828e1\",\"type\":\"Range1d\"},{\"attributes\":{\"dimension\":1,\"plot\":{\"id\":\"621031ee-f074-4190-a6f7-53d1963b0a73\",\"subtype\":\"Figure\",\"type\":\"Plot\"},\"ticker\":{\"id\":\"c76c1c02-c38a-4e03-a8b3-4ce8c07b2858\",\"type\":\"BasicTicker\"}},\"id\":\"547f4ac0-4e95-4f1b-bba6-d7251afa5b24\",\"type\":\"Grid\"},{\"attributes\":{\"plot\":{\"id\":\"49a1c2be-bb4e-456b-b01a-14a5a9448c68\",\"subtype\":\"Figure\",\"type\":\"Plot\"}},\"id\":\"f621ae55-245f-41b2-90ea-ca7d35ba63dd\",\"type\":\"PanTool\"},{\"attributes\":{\"dh\":{\"field\":\"dh\",\"units\":\"data\"},\"dw\":{\"field\":\"dw\",\"units\":\"data\"},\"image\":{\"field\":\"image\"},\"x\":{\"field\":\"x\"},\"y\":{\"field\":\"y\"}},\"id\":\"9f3cbdf6-3bf1-49e0-9b0a-59255ac4a5cb\",\"type\":\"ImageRGBA\"},{\"attributes\":{\"below\":[{\"id\":\"a0602d80-5c35-449e-8790-00773f9d002d\",\"type\":\"LinearAxis\"}],\"left\":[{\"id\":\"92698b14-7cad-479f-bd37-ae13ed8cda7d\",\"type\":\"LinearAxis\"}],\"renderers\":[{\"id\":\"a0602d80-5c35-449e-8790-00773f9d002d\",\"type\":\"LinearAxis\"},{\"id\":\"a553f045-9a7f-47be-95f8-e2c6c45ba23d\",\"type\":\"Grid\"},{\"id\":\"92698b14-7cad-479f-bd37-ae13ed8cda7d\",\"type\":\"LinearAxis\"},{\"id\":\"547f4ac0-4e95-4f1b-bba6-d7251afa5b24\",\"type\":\"Grid\"},{\"id\":\"ef34c2a7-43f8-4491-911c-7c4af893bacf\",\"type\":\"BoxAnnotation\"},{\"id\":\"6f9fed5f-748b-4fdc-a8df-580536cf663c\",\"type\":\"GlyphRenderer\"}],\"tool_events\":{\"id\":\"c8f3a5bb-5193-4c87-9d47-394b1ad3e5a2\",\"type\":\"ToolEvents\"},\"tools\":[{\"id\":\"e4f33789-ccad-47c3-b9e6-e2569886917e\",\"type\":\"PanTool\"},{\"id\":\"81520f1e-6aa4-480c-bc7a-a7d4b41f2a93\",\"type\":\"WheelZoomTool\"},{\"id\":\"6746e8d3-0049-447f-8dda-fcaa7130b922\",\"type\":\"BoxZoomTool\"},{\"id\":\"d1f7fe75-aec0-4fef-8e63-09e49c79ae55\",\"type\":\"PreviewSaveTool\"},{\"id\":\"f447e14a-f40d-4a99-9fc0-1f31564ac6bd\",\"type\":\"ResizeTool\"},{\"id\":\"2f8cbd53-1c1d-4654-b659-952f20a31a92\",\"type\":\"ResetTool\"},{\"id\":\"2ab85b89-f8af-4482-8719-aafe37f6bc3d\",\"type\":\"HelpTool\"}],\"x_range\":{\"id\":\"b059fe21-9bf2-4284-ab2c-55f091b828e1\",\"type\":\"Range1d\"},\"y_range\":{\"id\":\"f8c62726-ea36-4456-a1c2-87c1b9b87c4c\",\"type\":\"Range1d\"}},\"id\":\"621031ee-f074-4190-a6f7-53d1963b0a73\",\"subtype\":\"Figure\",\"type\":\"Plot\"},{\"attributes\":{},\"id\":\"7650664a-e045-466e-a4c5-b401db5ad67c\",\"type\":\"ToolEvents\"},{\"attributes\":{\"bottom_units\":\"screen\",\"fill_alpha\":{\"value\":0.5},\"fill_color\":{\"value\":\"lightgrey\"},\"left_units\":\"screen\",\"level\":\"overlay\",\"line_alpha\":{\"value\":1.0},\"line_color\":{\"value\":\"black\"},\"line_dash\":[4,4],\"line_width\":{\"value\":2},\"plot\":null,\"render_mode\":\"css\",\"right_units\":\"screen\",\"top_units\":\"screen\"},\"id\":\"19cd7924-102c-4fd2-9aea-7f63b1dc97c4\",\"type\":\"BoxAnnotation\"},{\"attributes\":{\"callback\":null},\"id\":\"3a06e36f-b862-4674-9b67-230eeab4d21a\",\"type\":\"DataRange1d\"},{\"attributes\":{\"callback\":null},\"id\":\"9e50eb2a-9f40-4beb-b3a9-01d520bea8d4\",\"type\":\"DataRange1d\"},{\"attributes\":{\"formatter\":{\"id\":\"2e950af9-6583-45e3-9d8d-7d82477e941a\",\"type\":\"BasicTickFormatter\"},\"plot\":{\"id\":\"49a1c2be-bb4e-456b-b01a-14a5a9448c68\",\"subtype\":\"Figure\",\"type\":\"Plot\"},\"ticker\":{\"id\":\"91515fbd-3204-478d-bab8-a297b9b6cc8c\",\"type\":\"BasicTicker\"}},\"id\":\"d2300692-f9f6-4d65-a1f5-de4131a4dfed\",\"type\":\"LinearAxis\"},{\"attributes\":{\"formatter\":{\"id\":\"b80c4776-5956-4e55-879b-7176ff10308d\",\"type\":\"BasicTickFormatter\"},\"plot\":{\"id\":\"49a1c2be-bb4e-456b-b01a-14a5a9448c68\",\"subtype\":\"Figure\",\"type\":\"Plot\"},\"ticker\":{\"id\":\"4036456b-5419-4d58-99ef-7f31c51e8707\",\"type\":\"BasicTicker\"}},\"id\":\"0427b429-f214-4aeb-b263-cd637215fd1e\",\"type\":\"LinearAxis\"},{\"attributes\":{\"dimension\":1,\"plot\":{\"id\":\"e491e76b-0e4e-4da8-91a8-02fabefab90c\",\"subtype\":\"Figure\",\"type\":\"Plot\"},\"ticker\":{\"id\":\"fdf52d6d-3640-4954-a436-9bbf17c5c166\",\"type\":\"BasicTicker\"}},\"id\":\"f5170695-7188-4141-bd1a-719e5c246410\",\"type\":\"Grid\"},{\"attributes\":{\"overlay\":{\"id\":\"97ac7e2d-7aa9-4fb1-925d-12eff991e33d\",\"type\":\"BoxAnnotation\"},\"plot\":{\"id\":\"e491e76b-0e4e-4da8-91a8-02fabefab90c\",\"subtype\":\"Figure\",\"type\":\"Plot\"}},\"id\":\"709fa794-5ec4-43d9-a373-ebc83676e6ee\",\"type\":\"BoxZoomTool\"},{\"attributes\":{},\"id\":\"6edba640-7b42-42a1-be94-373b56345ae6\",\"type\":\"BasicTickFormatter\"},{\"attributes\":{},\"id\":\"abf3fd9d-8277-4166-96db-c6a77ac468a2\",\"type\":\"ToolEvents\"},{\"attributes\":{},\"id\":\"2e950af9-6583-45e3-9d8d-7d82477e941a\",\"type\":\"BasicTickFormatter\"}],\"root_ids\":[\"f0e6cad4-90f6-47e3-8d68-2d6ebac6ad4e\",\"49a1c2be-bb4e-456b-b01a-14a5a9448c68\",\"3e5a3c1a-c243-49d4-a3af-38966e49afe1\",\"621031ee-f074-4190-a6f7-53d1963b0a73\",\"e491e76b-0e4e-4da8-91a8-02fabefab90c\"]},\"title\":\"Bokeh Application\",\"version\":\"0.11.1\"}};\n",
       "            var render_items = [{\"docid\":\"41c8a267-7935-4f03-8b31-1b83ac03af1b\",\"elementid\":\"8df4c550-2218-4af6-82d9-d8ade061f47f\",\"modelid\":\"e491e76b-0e4e-4da8-91a8-02fabefab90c\",\"notebook_comms_target\":\"c4775c80-bf7a-4801-a595-d0a8d03bdee7\"}];\n",
       "            \n",
       "            Bokeh.embed.embed_items(docs_json, render_items);\n",
       "        });\n",
       "      },\n",
       "      function(Bokeh) {\n",
       "      }\n",
       "    ];\n",
       "  \n",
       "    function run_inline_js() {\n",
       "      for (var i = 0; i < inline_js.length; i++) {\n",
       "        inline_js[i](window.Bokeh);\n",
       "      }\n",
       "    }\n",
       "  \n",
       "    if (window._bokeh_is_loading === 0) {\n",
       "      console.log(\"Bokeh: BokehJS loaded, going straight to plotting\");\n",
       "      run_inline_js();\n",
       "    } else {\n",
       "      load_libs(js_urls, function() {\n",
       "        console.log(\"Bokeh: BokehJS plotting callback run at\", now());\n",
       "        run_inline_js();\n",
       "      });\n",
       "    }\n",
       "  }(this));\n",
       "</script>"
      ]
     },
     "metadata": {},
     "output_type": "display_data"
    },
    {
     "data": {
      "text/html": [
       "<p><code>&lt;Bokeh Notebook handle for <strong>In[10]</strong>&gt;</code></p>"
      ],
      "text/plain": [
       "<bokeh.io._CommsHandle at 0x111de9390>"
      ]
     },
     "execution_count": 10,
     "metadata": {},
     "output_type": "execute_result"
    }
   ],
   "source": [
    "# set up some data\n",
    "x = [1, 2, 3, 4, 5]\n",
    "y = [6, 7, 8, 7, 3]\n",
    "\n",
    "# create a new plot with figure\n",
    "p = figure(plot_width=400, plot_height=400)\n",
    "\n",
    "# add both a line and circles on the same plot\n",
    "p.line(x, y, line_width=2)\n",
    "p.circle(x, y, fill_color=\"white\", size=8)\n",
    "\n",
    "show(p) # show the results"
   ]
  },
  {
   "cell_type": "code",
   "execution_count": 11,
   "metadata": {
    "collapsed": true
   },
   "outputs": [],
   "source": [
    "# EXERCISE: create your own plot combining multiple glyphs together\n",
    "\n"
   ]
  },
  {
   "cell_type": "code",
   "execution_count": null,
   "metadata": {
    "collapsed": true
   },
   "outputs": [],
   "source": []
  },
  {
   "cell_type": "code",
   "execution_count": null,
   "metadata": {
    "collapsed": true
   },
   "outputs": [],
   "source": []
  }
 ],
 "metadata": {
  "kernelspec": {
   "display_name": "Python 3",
   "language": "python",
   "name": "python3"
  },
  "language_info": {
   "codemirror_mode": {
    "name": "ipython",
    "version": 3
   },
   "file_extension": ".py",
   "mimetype": "text/x-python",
   "name": "python",
   "nbconvert_exporter": "python",
   "pygments_lexer": "ipython3",
   "version": "3.5.1"
  }
 },
 "nbformat": 4,
 "nbformat_minor": 0
}
